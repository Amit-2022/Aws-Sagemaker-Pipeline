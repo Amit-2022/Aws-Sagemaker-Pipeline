{
 "cells": [
  {
   "cell_type": "markdown",
   "metadata": {},
   "source": [
    "# Problem: Predicting Airplane Delays\n",
    "\n",
    "The multi-fold goals of this notebook are:\n",
    "- Process and create a dataset from downloaded ZIP files\n",
    "- Exploratory data analysis (EDA)\n",
    "- Establish a baseline model\n",
    "- Move from a simple model to an ensemble model\n",
    "- Hyperparameter optimization\n",
    "- Check feature importance\n",
    "\n",
    "## Introduction to business scenario\n",
    "You work for a travel booking website that is working to improve the customer experience for flights that were delayed. The company wants to create a feature to let customers know if the flight will be delayed due to weather when the customers are booking the flight to or from the busiest airports for domestic travel in the US. \n",
    "\n",
    "You are tasked with solving part of this problem by leveraging machine learning to identify whether the flight will be delayed due to weather. You have been given access to the a dataset of on-time performance of domestic flights operated by large air carriers. You can use this data to train a machine learning model to predict if the flight is going to be delayed for the busiest airports.\n",
    "\n",
    "## About this dataset\n",
    "This dataset contains scheduled and actual departure and arrival times reported by certified US air carriers that account for at least 1% of domestic scheduled passenger revenues. The data was collected by the Office of Airline Information, Bureau of Transportation Statistics (BTS). The dataset contains date, time, origin, destination, airline, distance, and delay status of flights for flights between 2013 and 2018.\n",
    "\n",
    "### Features\n",
    "For more information about features in the dataset, see [On-time delay dataset features](https://www.transtats.bts.gov/Fields.asp?gnoyr_VQ=FGJ).\n",
    "\n",
    "### Dataset attributions  \n",
    "Website: https://www.transtats.bts.gov/\n",
    "\n",
    "Dataset(s) used in this lab were compiled by the Office of Airline Information, Bureau of Transportation Statistics (BTS), Airline On-Time Performance Data, available at https://www.transtats.bts.gov/DatabaseInfo.asp?DB_ID=120&DB_URL=Mode_ID=1&Mode_Desc=Aviation&Subject_ID2=0."
   ]
  },
  {
   "cell_type": "markdown",
   "metadata": {},
   "source": [
    "# Step 1: Problem formulation and data collection\n",
    "\n",
    "Start this project off by writing a few sentences below that summarize the business problem and the business goal you're trying to achieve in this scenario. Include a business metric you would like your team to aspire toward. With that information defined, clearly write out the machine learning problem statement. Finally, add a comment or two about the type of machine learning this represents. \n",
    "\n",
    "#### <span style=\"color: blue;\">Project presentation: Include a summary of these details in your project presentations.</span>\n",
    "\n",
    "### 1. Determine if and why ML is an appropriate solution to deploy."
   ]
  },
  {
   "cell_type": "code",
   "execution_count": null,
   "metadata": {},
   "outputs": [],
   "source": [
    "# Write your answer here"
   ]
  },
  {
   "cell_type": "markdown",
   "metadata": {},
   "source": [
    "### 2. Formulate the business problem, success metrics, and desired ML output."
   ]
  },
  {
   "cell_type": "code",
   "execution_count": null,
   "metadata": {},
   "outputs": [],
   "source": [
    "# Write your answer here"
   ]
  },
  {
   "cell_type": "markdown",
   "metadata": {},
   "source": [
    "### 3. Identify the type of ML problem you’re dealing with."
   ]
  },
  {
   "cell_type": "code",
   "execution_count": null,
   "metadata": {},
   "outputs": [],
   "source": [
    "# Write your answer here"
   ]
  },
  {
   "cell_type": "markdown",
   "metadata": {},
   "source": [
    "### 4. Analyze the appropriateness of the data you’re working with."
   ]
  },
  {
   "cell_type": "code",
   "execution_count": null,
   "metadata": {},
   "outputs": [],
   "source": [
    "# Write your answer here"
   ]
  },
  {
   "cell_type": "markdown",
   "metadata": {},
   "source": [
    "### Setup\n",
    "\n",
    "Now that we have decided where to focus our energy, let's set things up so you can start working on solving the problem.\n",
    "\n",
    "**Note:** This notebook was created and tested on an `ml.m4.xlarge` notebook instance. "
   ]
  },
  {
   "cell_type": "code",
   "execution_count": 2,
   "metadata": {},
   "outputs": [],
   "source": [
    "import os\n",
    "from pathlib2 import Path\n",
    "from zipfile import ZipFile\n",
    "import time\n",
    "\n",
    "import pandas as pd\n",
    "import numpy as np\n",
    "import subprocess\n",
    "\n",
    "import matplotlib.pyplot as plt\n",
    "import seaborn as sns\n",
    "\n",
    "sns.set()\n",
    "\n",
    "import warnings\n",
    "warnings.filterwarnings('ignore')\n",
    "\n",
    "%matplotlib inline"
   ]
  },
  {
   "cell_type": "markdown",
   "metadata": {},
   "source": [
    "# Step 2: Data preprocessing and visualization  \n",
    "In this data preprocessing phase, you should take the opportunity to explore and visualize your data to better understand it. First, import the necessary libraries and read the data into a Pandas dataframe. After that, explore your data. Look for the shape of the dataset and explore your columns and the types of columns you're working with (numerical, categorical). Consider performing basic statistics on the features to get a sense of feature means and ranges. Take a close look at your target column and determine its distribution.\n",
    "\n",
    "### Specific questions to consider\n",
    "1. What can you deduce from the basic statistics you ran on the features? \n",
    "\n",
    "2. What can you deduce from the distributions of the target classes?\n",
    "\n",
    "3. Is there anything else you deduced from exploring the data?\n",
    "\n",
    "#### <span style=\"color: blue;\">Project presentation: Include a summary of your answers to these and other similar questions in your project presentations.</span>"
   ]
  },
  {
   "cell_type": "markdown",
   "metadata": {},
   "source": [
    "Start by bringing in the dataset from an Amazon S3 public bucket to this notebook environment."
   ]
  },
  {
   "cell_type": "code",
   "execution_count": 3,
   "metadata": {},
   "outputs": [
    {
     "name": "stdout",
     "output_type": "stream",
     "text": [
      "File already downloaded!\n"
     ]
    }
   ],
   "source": [
    "# Check whether the file is already in the desired path or if it needs to be downloaded\n",
    "\n",
    "base_path = '/home/ec2-user/SageMaker/project/data/FlightDelays/'\n",
    "csv_base_path = '/home/ec2-user/SageMaker/project/data/csvFlightDelays/'\n",
    "file_path = 'On_Time_Reporting_Carrier_On_Time_Performance_1987_present_2014_1.zip'\n",
    "\n",
    "if not os.path.isfile(base_path + file_path):\n",
    "    subprocess.run(['mkdir', '-p', base_path])\n",
    "    subprocess.run(['mkdir', '-p', csv_base_path])\n",
    "    subprocess.run(['aws', 's3', 'cp', \n",
    "                    's3://aws-tc-largeobjects/ILT-TF-200-MLDWTS/flight_delay_project/csvFlightData-5/', \n",
    "                    base_path,'--recursive'])\n",
    "else:\n",
    "    print('File already downloaded!')"
   ]
  },
  {
   "cell_type": "code",
   "execution_count": 4,
   "metadata": {},
   "outputs": [
    {
     "data": {
      "text/plain": [
       "60"
      ]
     },
     "execution_count": 4,
     "metadata": {},
     "output_type": "execute_result"
    }
   ],
   "source": [
    "zip_files = [str(file) for file in list(Path(base_path).iterdir()) if '.zip' in str(file)]\n",
    "len(zip_files)"
   ]
  },
  {
   "cell_type": "markdown",
   "metadata": {},
   "source": [
    "#### Extract CSV files from ZIP files"
   ]
  },
  {
   "cell_type": "code",
   "execution_count": 5,
   "metadata": {
    "scrolled": true
   },
   "outputs": [
    {
     "name": "stdout",
     "output_type": "stream",
     "text": [
      "Extracting /home/ec2-user/SageMaker/project/data/FlightDelays/On_Time_Reporting_Carrier_On_Time_Performance_1987_present_2014_8.zip \n",
      "Extracting /home/ec2-user/SageMaker/project/data/FlightDelays/On_Time_Reporting_Carrier_On_Time_Performance_1987_present_2014_1.zip \n",
      "Extracting /home/ec2-user/SageMaker/project/data/FlightDelays/On_Time_Reporting_Carrier_On_Time_Performance_1987_present_2014_4.zip \n",
      "Extracting /home/ec2-user/SageMaker/project/data/FlightDelays/On_Time_Reporting_Carrier_On_Time_Performance_1987_present_2014_2.zip \n",
      "Extracting /home/ec2-user/SageMaker/project/data/FlightDelays/On_Time_Reporting_Carrier_On_Time_Performance_1987_present_2016_7.zip \n",
      "Extracting /home/ec2-user/SageMaker/project/data/FlightDelays/On_Time_Reporting_Carrier_On_Time_Performance_1987_present_2014_5.zip \n",
      "Extracting /home/ec2-user/SageMaker/project/data/FlightDelays/On_Time_Reporting_Carrier_On_Time_Performance_1987_present_2016_11.zip \n",
      "Extracting /home/ec2-user/SageMaker/project/data/FlightDelays/On_Time_Reporting_Carrier_On_Time_Performance_1987_present_2015_5.zip \n",
      "Extracting /home/ec2-user/SageMaker/project/data/FlightDelays/On_Time_Reporting_Carrier_On_Time_Performance_1987_present_2015_6.zip \n",
      "Extracting /home/ec2-user/SageMaker/project/data/FlightDelays/On_Time_Reporting_Carrier_On_Time_Performance_1987_present_2014_7.zip \n",
      "Extracting /home/ec2-user/SageMaker/project/data/FlightDelays/On_Time_Reporting_Carrier_On_Time_Performance_1987_present_2015_4.zip \n",
      "Extracting /home/ec2-user/SageMaker/project/data/FlightDelays/On_Time_Reporting_Carrier_On_Time_Performance_1987_present_2017_2.zip \n",
      "Extracting /home/ec2-user/SageMaker/project/data/FlightDelays/On_Time_Reporting_Carrier_On_Time_Performance_1987_present_2015_9.zip \n",
      "Extracting /home/ec2-user/SageMaker/project/data/FlightDelays/On_Time_Reporting_Carrier_On_Time_Performance_1987_present_2016_12.zip \n",
      "Extracting /home/ec2-user/SageMaker/project/data/FlightDelays/On_Time_Reporting_Carrier_On_Time_Performance_1987_present_2016_2.zip \n",
      "Extracting /home/ec2-user/SageMaker/project/data/FlightDelays/On_Time_Reporting_Carrier_On_Time_Performance_1987_present_2015_12.zip \n",
      "Extracting /home/ec2-user/SageMaker/project/data/FlightDelays/On_Time_Reporting_Carrier_On_Time_Performance_1987_present_2016_6.zip \n",
      "Extracting /home/ec2-user/SageMaker/project/data/FlightDelays/On_Time_Reporting_Carrier_On_Time_Performance_1987_present_2018_1.zip \n",
      "Extracting /home/ec2-user/SageMaker/project/data/FlightDelays/On_Time_Reporting_Carrier_On_Time_Performance_1987_present_2015_2.zip \n",
      "Extracting /home/ec2-user/SageMaker/project/data/FlightDelays/On_Time_Reporting_Carrier_On_Time_Performance_1987_present_2017_12.zip \n",
      "Extracting /home/ec2-user/SageMaker/project/data/FlightDelays/On_Time_Reporting_Carrier_On_Time_Performance_1987_present_2018_5.zip \n",
      "Extracting /home/ec2-user/SageMaker/project/data/FlightDelays/On_Time_Reporting_Carrier_On_Time_Performance_1987_present_2017_7.zip \n",
      "Extracting /home/ec2-user/SageMaker/project/data/FlightDelays/On_Time_Reporting_Carrier_On_Time_Performance_1987_present_2014_3.zip \n",
      "Extracting /home/ec2-user/SageMaker/project/data/FlightDelays/On_Time_Reporting_Carrier_On_Time_Performance_1987_present_2015_10.zip \n",
      "Extracting /home/ec2-user/SageMaker/project/data/FlightDelays/On_Time_Reporting_Carrier_On_Time_Performance_1987_present_2014_6.zip \n",
      "Extracting /home/ec2-user/SageMaker/project/data/FlightDelays/On_Time_Reporting_Carrier_On_Time_Performance_1987_present_2017_3.zip \n",
      "Extracting /home/ec2-user/SageMaker/project/data/FlightDelays/On_Time_Reporting_Carrier_On_Time_Performance_1987_present_2018_8.zip \n",
      "Extracting /home/ec2-user/SageMaker/project/data/FlightDelays/On_Time_Reporting_Carrier_On_Time_Performance_1987_present_2018_11.zip \n",
      "Extracting /home/ec2-user/SageMaker/project/data/FlightDelays/On_Time_Reporting_Carrier_On_Time_Performance_1987_present_2017_5.zip \n",
      "Extracting /home/ec2-user/SageMaker/project/data/FlightDelays/On_Time_Reporting_Carrier_On_Time_Performance_1987_present_2017_1.zip \n",
      "Extracting /home/ec2-user/SageMaker/project/data/FlightDelays/On_Time_Reporting_Carrier_On_Time_Performance_1987_present_2015_7.zip \n",
      "Extracting /home/ec2-user/SageMaker/project/data/FlightDelays/On_Time_Reporting_Carrier_On_Time_Performance_1987_present_2016_10.zip \n",
      "Extracting /home/ec2-user/SageMaker/project/data/FlightDelays/On_Time_Reporting_Carrier_On_Time_Performance_1987_present_2018_2.zip \n",
      "Extracting /home/ec2-user/SageMaker/project/data/FlightDelays/On_Time_Reporting_Carrier_On_Time_Performance_1987_present_2018_9.zip \n",
      "Extracting /home/ec2-user/SageMaker/project/data/FlightDelays/On_Time_Reporting_Carrier_On_Time_Performance_1987_present_2017_9.zip \n",
      "Extracting /home/ec2-user/SageMaker/project/data/FlightDelays/On_Time_Reporting_Carrier_On_Time_Performance_1987_present_2017_11.zip \n",
      "Extracting /home/ec2-user/SageMaker/project/data/FlightDelays/On_Time_Reporting_Carrier_On_Time_Performance_1987_present_2016_5.zip \n",
      "Extracting /home/ec2-user/SageMaker/project/data/FlightDelays/On_Time_Reporting_Carrier_On_Time_Performance_1987_present_2018_7.zip \n",
      "Extracting /home/ec2-user/SageMaker/project/data/FlightDelays/On_Time_Reporting_Carrier_On_Time_Performance_1987_present_2017_6.zip \n",
      "Extracting /home/ec2-user/SageMaker/project/data/FlightDelays/On_Time_Reporting_Carrier_On_Time_Performance_1987_present_2015_1.zip \n",
      "Extracting /home/ec2-user/SageMaker/project/data/FlightDelays/On_Time_Reporting_Carrier_On_Time_Performance_1987_present_2016_8.zip \n",
      "Extracting /home/ec2-user/SageMaker/project/data/FlightDelays/On_Time_Reporting_Carrier_On_Time_Performance_1987_present_2018_12.zip \n",
      "Extracting /home/ec2-user/SageMaker/project/data/FlightDelays/On_Time_Reporting_Carrier_On_Time_Performance_1987_present_2015_8.zip \n",
      "Extracting /home/ec2-user/SageMaker/project/data/FlightDelays/On_Time_Reporting_Carrier_On_Time_Performance_1987_present_2016_1.zip \n",
      "Extracting /home/ec2-user/SageMaker/project/data/FlightDelays/On_Time_Reporting_Carrier_On_Time_Performance_1987_present_2014_12.zip \n",
      "Extracting /home/ec2-user/SageMaker/project/data/FlightDelays/On_Time_Reporting_Carrier_On_Time_Performance_1987_present_2016_4.zip \n",
      "Extracting /home/ec2-user/SageMaker/project/data/FlightDelays/On_Time_Reporting_Carrier_On_Time_Performance_1987_present_2016_3.zip \n",
      "Extracting /home/ec2-user/SageMaker/project/data/FlightDelays/On_Time_Reporting_Carrier_On_Time_Performance_1987_present_2018_3.zip \n",
      "Extracting /home/ec2-user/SageMaker/project/data/FlightDelays/On_Time_Reporting_Carrier_On_Time_Performance_1987_present_2018_6.zip \n",
      "Extracting /home/ec2-user/SageMaker/project/data/FlightDelays/On_Time_Reporting_Carrier_On_Time_Performance_1987_present_2017_4.zip \n",
      "Extracting /home/ec2-user/SageMaker/project/data/FlightDelays/On_Time_Reporting_Carrier_On_Time_Performance_1987_present_2014_10.zip \n",
      "Extracting /home/ec2-user/SageMaker/project/data/FlightDelays/On_Time_Reporting_Carrier_On_Time_Performance_1987_present_2015_3.zip \n",
      "Extracting /home/ec2-user/SageMaker/project/data/FlightDelays/On_Time_Reporting_Carrier_On_Time_Performance_1987_present_2017_8.zip \n",
      "Extracting /home/ec2-user/SageMaker/project/data/FlightDelays/On_Time_Reporting_Carrier_On_Time_Performance_1987_present_2017_10.zip \n",
      "Extracting /home/ec2-user/SageMaker/project/data/FlightDelays/On_Time_Reporting_Carrier_On_Time_Performance_1987_present_2014_11.zip \n",
      "Extracting /home/ec2-user/SageMaker/project/data/FlightDelays/On_Time_Reporting_Carrier_On_Time_Performance_1987_present_2016_9.zip \n",
      "Extracting /home/ec2-user/SageMaker/project/data/FlightDelays/On_Time_Reporting_Carrier_On_Time_Performance_1987_present_2018_4.zip \n",
      "Extracting /home/ec2-user/SageMaker/project/data/FlightDelays/On_Time_Reporting_Carrier_On_Time_Performance_1987_present_2018_10.zip \n",
      "Extracting /home/ec2-user/SageMaker/project/data/FlightDelays/On_Time_Reporting_Carrier_On_Time_Performance_1987_present_2015_11.zip \n",
      "Extracting /home/ec2-user/SageMaker/project/data/FlightDelays/On_Time_Reporting_Carrier_On_Time_Performance_1987_present_2014_9.zip \n",
      "Files Extracted\n"
     ]
    }
   ],
   "source": [
    "def zip2csv(zipFile_name , file_path = '/home/ec2-user/SageMaker/project/data/csvFlightDelays'):\n",
    "    \"\"\"\n",
    "    Extract csv from zip files\n",
    "    zipFile_name: name of the zip file\n",
    "    file_path : name of the folder to store csv\n",
    "    \"\"\"\n",
    "    try:\n",
    "        with ZipFile(zipFile_name, 'r') as z: \n",
    "            print(f'Extracting {zipFile_name} ') \n",
    "            z.extractall(path=file_path) \n",
    "    except:\n",
    "        print(f'zip2csv failed for {zipFile_name}')\n",
    "\n",
    "for file in zip_files:\n",
    "    zip2csv(file)\n",
    "\n",
    "print(\"Files Extracted\")"
   ]
  },
  {
   "cell_type": "code",
   "execution_count": 6,
   "metadata": {},
   "outputs": [
    {
     "data": {
      "text/plain": [
       "60"
      ]
     },
     "execution_count": 6,
     "metadata": {},
     "output_type": "execute_result"
    }
   ],
   "source": [
    "csv_files = [str(file) for file in list(Path(csv_base_path).iterdir()) if '.csv' in str(file)]\n",
    "len(csv_files)"
   ]
  },
  {
   "cell_type": "markdown",
   "metadata": {},
   "source": [
    "Before loading the CSV file, read the HTML file from the extracted folder. This HTML file includes the background and more information on the features included in the dataset."
   ]
  },
  {
   "cell_type": "code",
   "execution_count": 7,
   "metadata": {},
   "outputs": [
    {
     "data": {
      "text/html": [
       "\n",
       "        <iframe\n",
       "            width=\"1000\"\n",
       "            height=\"600\"\n",
       "            src=\"./data/csvFlightDelays/readme.html\"\n",
       "            frameborder=\"0\"\n",
       "            allowfullscreen\n",
       "        ></iframe>\n",
       "        "
      ],
      "text/plain": [
       "<IPython.lib.display.IFrame at 0x7f6888465b38>"
      ]
     },
     "execution_count": 7,
     "metadata": {},
     "output_type": "execute_result"
    }
   ],
   "source": [
    "from IPython.display import IFrame\n",
    "\n",
    "IFrame(src=\"./data/csvFlightDelays/readme.html\", width=1000, height=600)"
   ]
  },
  {
   "cell_type": "markdown",
   "metadata": {},
   "source": [
    "#### Load sample CSV\n",
    "\n",
    "Before combining all the CSV files, get a sense of the data from a single CSV file. Using Pandas, read the `On_Time_Reporting_Carrier_On_Time_Performance_(1987_present)_2018_9.csv` file first. You can use the Python built-in `read_csv` function ([documentation](https://pandas.pydata.org/pandas-docs/stable/reference/api/pandas.read_csv.html))."
   ]
  },
  {
   "cell_type": "code",
   "execution_count": 8,
   "metadata": {},
   "outputs": [],
   "source": [
    "df_temp = pd.read_csv('./data/csvFlightDelays/On_Time_Reporting_Carrier_On_Time_Performance_(1987_present)_2018_9.csv')# **ENTER YOUR CODE HERE**"
   ]
  },
  {
   "cell_type": "markdown",
   "metadata": {},
   "source": [
    "**Question**: Print the row and column length in the dataset, and print the column names.\n",
    "\n",
    "**Hint**: Use the `<dataframe>.shape` function to view the rows and columns of a dataframe and `<dataframe>.columns` to view the column names."
   ]
  },
  {
   "cell_type": "code",
   "execution_count": 9,
   "metadata": {},
   "outputs": [
    {
     "name": "stdout",
     "output_type": "stream",
     "text": [
      "Rows and columns in one csv file is (585749, 110)\n"
     ]
    }
   ],
   "source": [
    "df_shape = df_temp.shape# **ENTER YOUR CODE HERE**\n",
    "print(f'Rows and columns in one csv file is {df_shape}')"
   ]
  },
  {
   "cell_type": "markdown",
   "metadata": {},
   "source": [
    "**Question**: Print the first 10 rows of the dataset.  \n",
    "\n",
    "**Hint**: Use the built-in Pandas function `head(x)` to print `x` number of rows."
   ]
  },
  {
   "cell_type": "code",
   "execution_count": 10,
   "metadata": {
    "scrolled": false
   },
   "outputs": [
    {
     "data": {
      "text/html": [
       "<div>\n",
       "<style scoped>\n",
       "    .dataframe tbody tr th:only-of-type {\n",
       "        vertical-align: middle;\n",
       "    }\n",
       "\n",
       "    .dataframe tbody tr th {\n",
       "        vertical-align: top;\n",
       "    }\n",
       "\n",
       "    .dataframe thead th {\n",
       "        text-align: right;\n",
       "    }\n",
       "</style>\n",
       "<table border=\"1\" class=\"dataframe\">\n",
       "  <thead>\n",
       "    <tr style=\"text-align: right;\">\n",
       "      <th></th>\n",
       "      <th>Year</th>\n",
       "      <th>Quarter</th>\n",
       "      <th>Month</th>\n",
       "      <th>DayofMonth</th>\n",
       "      <th>DayOfWeek</th>\n",
       "      <th>FlightDate</th>\n",
       "      <th>Reporting_Airline</th>\n",
       "      <th>DOT_ID_Reporting_Airline</th>\n",
       "      <th>IATA_CODE_Reporting_Airline</th>\n",
       "      <th>Tail_Number</th>\n",
       "      <th>...</th>\n",
       "      <th>Div4TailNum</th>\n",
       "      <th>Div5Airport</th>\n",
       "      <th>Div5AirportID</th>\n",
       "      <th>Div5AirportSeqID</th>\n",
       "      <th>Div5WheelsOn</th>\n",
       "      <th>Div5TotalGTime</th>\n",
       "      <th>Div5LongestGTime</th>\n",
       "      <th>Div5WheelsOff</th>\n",
       "      <th>Div5TailNum</th>\n",
       "      <th>Unnamed: 109</th>\n",
       "    </tr>\n",
       "  </thead>\n",
       "  <tbody>\n",
       "    <tr>\n",
       "      <th>0</th>\n",
       "      <td>2018</td>\n",
       "      <td>3</td>\n",
       "      <td>9</td>\n",
       "      <td>3</td>\n",
       "      <td>1</td>\n",
       "      <td>2018-09-03</td>\n",
       "      <td>9E</td>\n",
       "      <td>20363</td>\n",
       "      <td>9E</td>\n",
       "      <td>N908XJ</td>\n",
       "      <td>...</td>\n",
       "      <td>NaN</td>\n",
       "      <td>NaN</td>\n",
       "      <td>NaN</td>\n",
       "      <td>NaN</td>\n",
       "      <td>NaN</td>\n",
       "      <td>NaN</td>\n",
       "      <td>NaN</td>\n",
       "      <td>NaN</td>\n",
       "      <td>NaN</td>\n",
       "      <td>NaN</td>\n",
       "    </tr>\n",
       "    <tr>\n",
       "      <th>1</th>\n",
       "      <td>2018</td>\n",
       "      <td>3</td>\n",
       "      <td>9</td>\n",
       "      <td>9</td>\n",
       "      <td>7</td>\n",
       "      <td>2018-09-09</td>\n",
       "      <td>9E</td>\n",
       "      <td>20363</td>\n",
       "      <td>9E</td>\n",
       "      <td>N315PQ</td>\n",
       "      <td>...</td>\n",
       "      <td>NaN</td>\n",
       "      <td>NaN</td>\n",
       "      <td>NaN</td>\n",
       "      <td>NaN</td>\n",
       "      <td>NaN</td>\n",
       "      <td>NaN</td>\n",
       "      <td>NaN</td>\n",
       "      <td>NaN</td>\n",
       "      <td>NaN</td>\n",
       "      <td>NaN</td>\n",
       "    </tr>\n",
       "    <tr>\n",
       "      <th>2</th>\n",
       "      <td>2018</td>\n",
       "      <td>3</td>\n",
       "      <td>9</td>\n",
       "      <td>10</td>\n",
       "      <td>1</td>\n",
       "      <td>2018-09-10</td>\n",
       "      <td>9E</td>\n",
       "      <td>20363</td>\n",
       "      <td>9E</td>\n",
       "      <td>N582CA</td>\n",
       "      <td>...</td>\n",
       "      <td>NaN</td>\n",
       "      <td>NaN</td>\n",
       "      <td>NaN</td>\n",
       "      <td>NaN</td>\n",
       "      <td>NaN</td>\n",
       "      <td>NaN</td>\n",
       "      <td>NaN</td>\n",
       "      <td>NaN</td>\n",
       "      <td>NaN</td>\n",
       "      <td>NaN</td>\n",
       "    </tr>\n",
       "    <tr>\n",
       "      <th>3</th>\n",
       "      <td>2018</td>\n",
       "      <td>3</td>\n",
       "      <td>9</td>\n",
       "      <td>13</td>\n",
       "      <td>4</td>\n",
       "      <td>2018-09-13</td>\n",
       "      <td>9E</td>\n",
       "      <td>20363</td>\n",
       "      <td>9E</td>\n",
       "      <td>N292PQ</td>\n",
       "      <td>...</td>\n",
       "      <td>NaN</td>\n",
       "      <td>NaN</td>\n",
       "      <td>NaN</td>\n",
       "      <td>NaN</td>\n",
       "      <td>NaN</td>\n",
       "      <td>NaN</td>\n",
       "      <td>NaN</td>\n",
       "      <td>NaN</td>\n",
       "      <td>NaN</td>\n",
       "      <td>NaN</td>\n",
       "    </tr>\n",
       "    <tr>\n",
       "      <th>4</th>\n",
       "      <td>2018</td>\n",
       "      <td>3</td>\n",
       "      <td>9</td>\n",
       "      <td>14</td>\n",
       "      <td>5</td>\n",
       "      <td>2018-09-14</td>\n",
       "      <td>9E</td>\n",
       "      <td>20363</td>\n",
       "      <td>9E</td>\n",
       "      <td>N600LR</td>\n",
       "      <td>...</td>\n",
       "      <td>NaN</td>\n",
       "      <td>NaN</td>\n",
       "      <td>NaN</td>\n",
       "      <td>NaN</td>\n",
       "      <td>NaN</td>\n",
       "      <td>NaN</td>\n",
       "      <td>NaN</td>\n",
       "      <td>NaN</td>\n",
       "      <td>NaN</td>\n",
       "      <td>NaN</td>\n",
       "    </tr>\n",
       "    <tr>\n",
       "      <th>5</th>\n",
       "      <td>2018</td>\n",
       "      <td>3</td>\n",
       "      <td>9</td>\n",
       "      <td>16</td>\n",
       "      <td>7</td>\n",
       "      <td>2018-09-16</td>\n",
       "      <td>9E</td>\n",
       "      <td>20363</td>\n",
       "      <td>9E</td>\n",
       "      <td>N316PQ</td>\n",
       "      <td>...</td>\n",
       "      <td>NaN</td>\n",
       "      <td>NaN</td>\n",
       "      <td>NaN</td>\n",
       "      <td>NaN</td>\n",
       "      <td>NaN</td>\n",
       "      <td>NaN</td>\n",
       "      <td>NaN</td>\n",
       "      <td>NaN</td>\n",
       "      <td>NaN</td>\n",
       "      <td>NaN</td>\n",
       "    </tr>\n",
       "    <tr>\n",
       "      <th>6</th>\n",
       "      <td>2018</td>\n",
       "      <td>3</td>\n",
       "      <td>9</td>\n",
       "      <td>17</td>\n",
       "      <td>1</td>\n",
       "      <td>2018-09-17</td>\n",
       "      <td>9E</td>\n",
       "      <td>20363</td>\n",
       "      <td>9E</td>\n",
       "      <td>N916XJ</td>\n",
       "      <td>...</td>\n",
       "      <td>NaN</td>\n",
       "      <td>NaN</td>\n",
       "      <td>NaN</td>\n",
       "      <td>NaN</td>\n",
       "      <td>NaN</td>\n",
       "      <td>NaN</td>\n",
       "      <td>NaN</td>\n",
       "      <td>NaN</td>\n",
       "      <td>NaN</td>\n",
       "      <td>NaN</td>\n",
       "    </tr>\n",
       "    <tr>\n",
       "      <th>7</th>\n",
       "      <td>2018</td>\n",
       "      <td>3</td>\n",
       "      <td>9</td>\n",
       "      <td>20</td>\n",
       "      <td>4</td>\n",
       "      <td>2018-09-20</td>\n",
       "      <td>9E</td>\n",
       "      <td>20363</td>\n",
       "      <td>9E</td>\n",
       "      <td>N371CA</td>\n",
       "      <td>...</td>\n",
       "      <td>NaN</td>\n",
       "      <td>NaN</td>\n",
       "      <td>NaN</td>\n",
       "      <td>NaN</td>\n",
       "      <td>NaN</td>\n",
       "      <td>NaN</td>\n",
       "      <td>NaN</td>\n",
       "      <td>NaN</td>\n",
       "      <td>NaN</td>\n",
       "      <td>NaN</td>\n",
       "    </tr>\n",
       "    <tr>\n",
       "      <th>8</th>\n",
       "      <td>2018</td>\n",
       "      <td>3</td>\n",
       "      <td>9</td>\n",
       "      <td>21</td>\n",
       "      <td>5</td>\n",
       "      <td>2018-09-21</td>\n",
       "      <td>9E</td>\n",
       "      <td>20363</td>\n",
       "      <td>9E</td>\n",
       "      <td>N601LR</td>\n",
       "      <td>...</td>\n",
       "      <td>NaN</td>\n",
       "      <td>NaN</td>\n",
       "      <td>NaN</td>\n",
       "      <td>NaN</td>\n",
       "      <td>NaN</td>\n",
       "      <td>NaN</td>\n",
       "      <td>NaN</td>\n",
       "      <td>NaN</td>\n",
       "      <td>NaN</td>\n",
       "      <td>NaN</td>\n",
       "    </tr>\n",
       "    <tr>\n",
       "      <th>9</th>\n",
       "      <td>2018</td>\n",
       "      <td>3</td>\n",
       "      <td>9</td>\n",
       "      <td>23</td>\n",
       "      <td>7</td>\n",
       "      <td>2018-09-23</td>\n",
       "      <td>9E</td>\n",
       "      <td>20363</td>\n",
       "      <td>9E</td>\n",
       "      <td>N906XJ</td>\n",
       "      <td>...</td>\n",
       "      <td>NaN</td>\n",
       "      <td>NaN</td>\n",
       "      <td>NaN</td>\n",
       "      <td>NaN</td>\n",
       "      <td>NaN</td>\n",
       "      <td>NaN</td>\n",
       "      <td>NaN</td>\n",
       "      <td>NaN</td>\n",
       "      <td>NaN</td>\n",
       "      <td>NaN</td>\n",
       "    </tr>\n",
       "  </tbody>\n",
       "</table>\n",
       "<p>10 rows × 110 columns</p>\n",
       "</div>"
      ],
      "text/plain": [
       "   Year  Quarter  Month  DayofMonth  DayOfWeek  FlightDate Reporting_Airline  \\\n",
       "0  2018        3      9           3          1  2018-09-03                9E   \n",
       "1  2018        3      9           9          7  2018-09-09                9E   \n",
       "2  2018        3      9          10          1  2018-09-10                9E   \n",
       "3  2018        3      9          13          4  2018-09-13                9E   \n",
       "4  2018        3      9          14          5  2018-09-14                9E   \n",
       "5  2018        3      9          16          7  2018-09-16                9E   \n",
       "6  2018        3      9          17          1  2018-09-17                9E   \n",
       "7  2018        3      9          20          4  2018-09-20                9E   \n",
       "8  2018        3      9          21          5  2018-09-21                9E   \n",
       "9  2018        3      9          23          7  2018-09-23                9E   \n",
       "\n",
       "   DOT_ID_Reporting_Airline IATA_CODE_Reporting_Airline Tail_Number  ...  \\\n",
       "0                     20363                          9E      N908XJ  ...   \n",
       "1                     20363                          9E      N315PQ  ...   \n",
       "2                     20363                          9E      N582CA  ...   \n",
       "3                     20363                          9E      N292PQ  ...   \n",
       "4                     20363                          9E      N600LR  ...   \n",
       "5                     20363                          9E      N316PQ  ...   \n",
       "6                     20363                          9E      N916XJ  ...   \n",
       "7                     20363                          9E      N371CA  ...   \n",
       "8                     20363                          9E      N601LR  ...   \n",
       "9                     20363                          9E      N906XJ  ...   \n",
       "\n",
       "   Div4TailNum  Div5Airport  Div5AirportID  Div5AirportSeqID Div5WheelsOn  \\\n",
       "0          NaN          NaN            NaN               NaN          NaN   \n",
       "1          NaN          NaN            NaN               NaN          NaN   \n",
       "2          NaN          NaN            NaN               NaN          NaN   \n",
       "3          NaN          NaN            NaN               NaN          NaN   \n",
       "4          NaN          NaN            NaN               NaN          NaN   \n",
       "5          NaN          NaN            NaN               NaN          NaN   \n",
       "6          NaN          NaN            NaN               NaN          NaN   \n",
       "7          NaN          NaN            NaN               NaN          NaN   \n",
       "8          NaN          NaN            NaN               NaN          NaN   \n",
       "9          NaN          NaN            NaN               NaN          NaN   \n",
       "\n",
       "  Div5TotalGTime Div5LongestGTime  Div5WheelsOff Div5TailNum  Unnamed: 109  \n",
       "0            NaN              NaN            NaN         NaN           NaN  \n",
       "1            NaN              NaN            NaN         NaN           NaN  \n",
       "2            NaN              NaN            NaN         NaN           NaN  \n",
       "3            NaN              NaN            NaN         NaN           NaN  \n",
       "4            NaN              NaN            NaN         NaN           NaN  \n",
       "5            NaN              NaN            NaN         NaN           NaN  \n",
       "6            NaN              NaN            NaN         NaN           NaN  \n",
       "7            NaN              NaN            NaN         NaN           NaN  \n",
       "8            NaN              NaN            NaN         NaN           NaN  \n",
       "9            NaN              NaN            NaN         NaN           NaN  \n",
       "\n",
       "[10 rows x 110 columns]"
      ]
     },
     "execution_count": 10,
     "metadata": {},
     "output_type": "execute_result"
    }
   ],
   "source": [
    "# Enter your code here\n",
    "df_temp.head(10)"
   ]
  },
  {
   "cell_type": "markdown",
   "metadata": {},
   "source": [
    "**Question**: Print all the columns in the dataset. Use `<dataframe>.columns` to view the column names."
   ]
  },
  {
   "cell_type": "code",
   "execution_count": 11,
   "metadata": {},
   "outputs": [
    {
     "name": "stdout",
     "output_type": "stream",
     "text": [
      "The column names are :\n",
      "#########\n",
      "Year\n",
      "Quarter\n",
      "Month\n",
      "DayofMonth\n",
      "DayOfWeek\n",
      "FlightDate\n",
      "Reporting_Airline\n",
      "DOT_ID_Reporting_Airline\n",
      "IATA_CODE_Reporting_Airline\n",
      "Tail_Number\n",
      "Flight_Number_Reporting_Airline\n",
      "OriginAirportID\n",
      "OriginAirportSeqID\n",
      "OriginCityMarketID\n",
      "Origin\n",
      "OriginCityName\n",
      "OriginState\n",
      "OriginStateFips\n",
      "OriginStateName\n",
      "OriginWac\n",
      "DestAirportID\n",
      "DestAirportSeqID\n",
      "DestCityMarketID\n",
      "Dest\n",
      "DestCityName\n",
      "DestState\n",
      "DestStateFips\n",
      "DestStateName\n",
      "DestWac\n",
      "CRSDepTime\n",
      "DepTime\n",
      "DepDelay\n",
      "DepDelayMinutes\n",
      "DepDel15\n",
      "DepartureDelayGroups\n",
      "DepTimeBlk\n",
      "TaxiOut\n",
      "WheelsOff\n",
      "WheelsOn\n",
      "TaxiIn\n",
      "CRSArrTime\n",
      "ArrTime\n",
      "ArrDelay\n",
      "ArrDelayMinutes\n",
      "ArrDel15\n",
      "ArrivalDelayGroups\n",
      "ArrTimeBlk\n",
      "Cancelled\n",
      "CancellationCode\n",
      "Diverted\n",
      "CRSElapsedTime\n",
      "ActualElapsedTime\n",
      "AirTime\n",
      "Flights\n",
      "Distance\n",
      "DistanceGroup\n",
      "CarrierDelay\n",
      "WeatherDelay\n",
      "NASDelay\n",
      "SecurityDelay\n",
      "LateAircraftDelay\n",
      "FirstDepTime\n",
      "TotalAddGTime\n",
      "LongestAddGTime\n",
      "DivAirportLandings\n",
      "DivReachedDest\n",
      "DivActualElapsedTime\n",
      "DivArrDelay\n",
      "DivDistance\n",
      "Div1Airport\n",
      "Div1AirportID\n",
      "Div1AirportSeqID\n",
      "Div1WheelsOn\n",
      "Div1TotalGTime\n",
      "Div1LongestGTime\n",
      "Div1WheelsOff\n",
      "Div1TailNum\n",
      "Div2Airport\n",
      "Div2AirportID\n",
      "Div2AirportSeqID\n",
      "Div2WheelsOn\n",
      "Div2TotalGTime\n",
      "Div2LongestGTime\n",
      "Div2WheelsOff\n",
      "Div2TailNum\n",
      "Div3Airport\n",
      "Div3AirportID\n",
      "Div3AirportSeqID\n",
      "Div3WheelsOn\n",
      "Div3TotalGTime\n",
      "Div3LongestGTime\n",
      "Div3WheelsOff\n",
      "Div3TailNum\n",
      "Div4Airport\n",
      "Div4AirportID\n",
      "Div4AirportSeqID\n",
      "Div4WheelsOn\n",
      "Div4TotalGTime\n",
      "Div4LongestGTime\n",
      "Div4WheelsOff\n",
      "Div4TailNum\n",
      "Div5Airport\n",
      "Div5AirportID\n",
      "Div5AirportSeqID\n",
      "Div5WheelsOn\n",
      "Div5TotalGTime\n",
      "Div5LongestGTime\n",
      "Div5WheelsOff\n",
      "Div5TailNum\n",
      "Unnamed: 109\n"
     ]
    }
   ],
   "source": [
    "print(f'The column names are :')\n",
    "print('#########')\n",
    "for col in df_temp.columns:# **ENTER YOUR CODE HERE**\n",
    "    print(col)"
   ]
  },
  {
   "cell_type": "markdown",
   "metadata": {},
   "source": [
    "**Question**: Print all the columns in the dataset that contain the word 'Del'. This will help you see how many columns have delay data in them.\n",
    "\n",
    "**Hint**: You can use a Python list comprehension to include values that pass certain `if` statement criteria.\n",
    "\n",
    "For example: `[x for x in [1,2,3,4,5] if x > 2]`  \n",
    "\n",
    "**Hint**: You can use the `in` keyword ([documentation](https://www.w3schools.com/python/ref_keyword_in.asp)) to check if the value is in a list or not. \n",
    "\n",
    "For example: `5 in [1,2,3,4,5]`"
   ]
  },
  {
   "cell_type": "code",
   "execution_count": 12,
   "metadata": {},
   "outputs": [
    {
     "data": {
      "text/plain": [
       "['DepDelay',\n",
       " 'DepDelayMinutes',\n",
       " 'DepDel15',\n",
       " 'DepartureDelayGroups',\n",
       " 'ArrDelay',\n",
       " 'ArrDelayMinutes',\n",
       " 'ArrDel15',\n",
       " 'ArrivalDelayGroups',\n",
       " 'CarrierDelay',\n",
       " 'WeatherDelay',\n",
       " 'NASDelay',\n",
       " 'SecurityDelay',\n",
       " 'LateAircraftDelay',\n",
       " 'DivArrDelay']"
      ]
     },
     "execution_count": 12,
     "metadata": {},
     "output_type": "execute_result"
    }
   ],
   "source": [
    "# Enter your code here\n",
    "[del_col for del_col in df_temp.columns if 'Del' in del_col]"
   ]
  },
  {
   "cell_type": "markdown",
   "metadata": {},
   "source": [
    "Here are some more questions to help you find out more about your dataset.\n",
    "\n",
    "**Questions**   \n",
    "1. How many rows and columns does the dataset have?   \n",
    "2. How many years are included in the dataset?   \n",
    "3. What is the date range for the dataset?   \n",
    "4. Which airlines are included in the dataset?   \n",
    "5. Which origin and destination airports are covered?"
   ]
  },
  {
   "cell_type": "code",
   "execution_count": 13,
   "metadata": {},
   "outputs": [
    {
     "data": {
      "text/plain": [
       "585749"
      ]
     },
     "execution_count": 13,
     "metadata": {},
     "output_type": "execute_result"
    }
   ],
   "source": [
    "df_temp.shape[0]"
   ]
  },
  {
   "cell_type": "code",
   "execution_count": 14,
   "metadata": {},
   "outputs": [
    {
     "data": {
      "text/plain": [
       "array([2018])"
      ]
     },
     "execution_count": 14,
     "metadata": {},
     "output_type": "execute_result"
    }
   ],
   "source": [
    "df_temp.Year.unique()"
   ]
  },
  {
   "cell_type": "code",
   "execution_count": 15,
   "metadata": {},
   "outputs": [
    {
     "name": "stdout",
     "output_type": "stream",
     "text": [
      "The years in this dataset are:  [2018]\n"
     ]
    }
   ],
   "source": [
    "print(\"The years in this dataset are: \", df_temp.Year.unique())"
   ]
  },
  {
   "cell_type": "code",
   "execution_count": 16,
   "metadata": {},
   "outputs": [
    {
     "data": {
      "text/plain": [
       "array([9])"
      ]
     },
     "execution_count": 16,
     "metadata": {},
     "output_type": "execute_result"
    }
   ],
   "source": [
    "df_temp.Month.unique()"
   ]
  },
  {
   "cell_type": "code",
   "execution_count": 17,
   "metadata": {},
   "outputs": [
    {
     "data": {
      "text/plain": [
       "'2018-09-01'"
      ]
     },
     "execution_count": 17,
     "metadata": {},
     "output_type": "execute_result"
    }
   ],
   "source": [
    "min(df_temp.FlightDate)"
   ]
  },
  {
   "cell_type": "code",
   "execution_count": 18,
   "metadata": {},
   "outputs": [
    {
     "data": {
      "text/plain": [
       "array(['9E', 'B6', 'WN', 'YV', 'YX', 'EV', 'AA', 'AS', 'DL', 'HA', 'UA',\n",
       "       'F9', 'G4', 'MQ', 'NK', 'OH', 'OO'], dtype=object)"
      ]
     },
     "execution_count": 18,
     "metadata": {},
     "output_type": "execute_result"
    }
   ],
   "source": [
    "df_temp.Reporting_Airline.unique()"
   ]
  },
  {
   "cell_type": "code",
   "execution_count": 19,
   "metadata": {},
   "outputs": [
    {
     "data": {
      "text/plain": [
       "array(['DFW', 'LGA', 'MSN', 'MSP', 'ATL', 'BDL', 'VLD', 'JFK', 'RDU',\n",
       "       'CHS', 'DTW', 'GRB', 'PVD', 'SHV', 'FNT', 'PIT', 'RIC', 'RST',\n",
       "       'RSW', 'CVG', 'LIT', 'ORD', 'JAX', 'TRI', 'BOS', 'CWA', 'DCA',\n",
       "       'CHO', 'AVP', 'IND', 'GRR', 'BTR', 'MEM', 'TUL', 'CLE', 'STL',\n",
       "       'BTV', 'OMA', 'MGM', 'TVC', 'SAV', 'GSP', 'EWR', 'OAJ', 'BNA',\n",
       "       'MCI', 'TLH', 'ROC', 'LEX', 'PWM', 'BUF', 'AGS', 'CLT', 'GSO',\n",
       "       'BWI', 'SAT', 'PHL', 'TYS', 'ACK', 'DSM', 'GNV', 'AVL', 'BGR',\n",
       "       'MHT', 'ILM', 'MOT', 'IAH', 'SBN', 'SYR', 'ORF', 'MKE', 'XNA',\n",
       "       'MSY', 'PBI', 'ABE', 'HPN', 'EVV', 'ALB', 'LNK', 'AUS', 'PHF',\n",
       "       'CHA', 'GTR', 'BMI', 'BQK', 'CID', 'CAK', 'ATW', 'ABY', 'CAE',\n",
       "       'SRQ', 'MLI', 'BHM', 'IAD', 'CSG', 'CMH', 'MCO', 'MBS', 'FLL',\n",
       "       'SDF', 'TPA', 'MVY', 'LAS', 'LGB', 'SFO', 'SAN', 'LAX', 'RNO',\n",
       "       'PDX', 'ANC', 'ABQ', 'SLC', 'DEN', 'PHX', 'OAK', 'SMF', 'SJU',\n",
       "       'SEA', 'HOU', 'STX', 'BUR', 'SWF', 'SJC', 'DAB', 'BQN', 'PSE',\n",
       "       'ORH', 'HYA', 'STT', 'ONT', 'HRL', 'ICT', 'ISP', 'LBB', 'MAF',\n",
       "       'MDW', 'OKC', 'PNS', 'SNA', 'TUS', 'AMA', 'BOI', 'CRP', 'DAL',\n",
       "       'ECP', 'ELP', 'GEG', 'LFT', 'MFE', 'MDT', 'JAN', 'COS', 'MOB',\n",
       "       'VPS', 'MTJ', 'DRO', 'GPT', 'BFL', 'MRY', 'SBA', 'PSP', 'FSD',\n",
       "       'BRO', 'RAP', 'COU', 'STS', 'PIA', 'FAT', 'SBP', 'FSM', 'HSV',\n",
       "       'BIS', 'DAY', 'BZN', 'MIA', 'EYW', 'MYR', 'HHH', 'GJT', 'FAR',\n",
       "       'SGF', 'HOB', 'CLL', 'LRD', 'AEX', 'ERI', 'MLU', 'LCH', 'ROA',\n",
       "       'LAW', 'MHK', 'GRK', 'SAF', 'GRI', 'JLN', 'ROW', 'FWA', 'CRW',\n",
       "       'LAN', 'OGG', 'HNL', 'KOA', 'EGE', 'LIH', 'MLB', 'JAC', 'FAI',\n",
       "       'RDM', 'ADQ', 'BET', 'BRW', 'SCC', 'KTN', 'YAK', 'CDV', 'JNU',\n",
       "       'SIT', 'PSG', 'WRG', 'OME', 'OTZ', 'ADK', 'FCA', 'FAY', 'PSC',\n",
       "       'BIL', 'MSO', 'ITO', 'PPG', 'MFR', 'EUG', 'GUM', 'SPN', 'DLH',\n",
       "       'TTN', 'BKG', 'SFB', 'PIE', 'PGD', 'AZA', 'SMX', 'RFD', 'SCK',\n",
       "       'OWB', 'HTS', 'BLV', 'IAG', 'USA', 'GFK', 'BLI', 'ELM', 'PBG',\n",
       "       'LCK', 'GTF', 'OGD', 'IDA', 'PVU', 'TOL', 'PSM', 'CKB', 'HGR',\n",
       "       'SPI', 'STC', 'ACT', 'TYR', 'ABI', 'AZO', 'CMI', 'BPT', 'GCK',\n",
       "       'MQT', 'ALO', 'TXK', 'SPS', 'SWO', 'DBQ', 'SUX', 'SJT', 'GGG',\n",
       "       'LSE', 'LBE', 'ACY', 'LYH', 'PGV', 'HVN', 'EWN', 'DHN', 'PIH',\n",
       "       'IMT', 'WYS', 'CPR', 'SCE', 'HLN', 'SUN', 'ISN', 'CMX', 'EAU',\n",
       "       'LWB', 'SHD', 'LBF', 'HYS', 'SLN', 'EAR', 'VEL', 'CNY', 'GCC',\n",
       "       'RKS', 'PUB', 'LBL', 'MKG', 'PAH', 'CGI', 'UIN', 'BFF', 'DVL',\n",
       "       'JMS', 'LAR', 'SGU', 'PRC', 'ASE', 'RDD', 'ACV', 'OTH', 'COD',\n",
       "       'LWS', 'ABR', 'APN', 'ESC', 'PLN', 'BJI', 'BRD', 'BTM', 'CDC',\n",
       "       'CIU', 'EKO', 'TWF', 'HIB', 'BGM', 'RHI', 'ITH', 'INL', 'FLG',\n",
       "       'YUM', 'MEI', 'PIB', 'HDN'], dtype=object)"
      ]
     },
     "execution_count": 19,
     "metadata": {},
     "output_type": "execute_result"
    }
   ],
   "source": [
    "df_temp.Origin.unique()"
   ]
  },
  {
   "cell_type": "code",
   "execution_count": 20,
   "metadata": {},
   "outputs": [
    {
     "data": {
      "text/plain": [
       "array(['CVG', 'PWM', 'RDU', 'MSP', 'MSN', 'SHV', 'CLT', 'PIT', 'RIC',\n",
       "       'IAH', 'ATL', 'JFK', 'DCA', 'DTW', 'LGA', 'TYS', 'PVD', 'FNT',\n",
       "       'LIT', 'BUF', 'ORD', 'TRI', 'IND', 'BGR', 'AVP', 'BWI', 'LEX',\n",
       "       'BDL', 'GRR', 'CWA', 'TUL', 'MEM', 'AGS', 'EWR', 'MGM', 'PHL',\n",
       "       'SYR', 'OMA', 'STL', 'TVC', 'ORF', 'CLE', 'ABY', 'BOS', 'OAJ',\n",
       "       'TLH', 'BTR', 'SAT', 'JAX', 'BNA', 'CHO', 'VLD', 'ROC', 'DFW',\n",
       "       'GNV', 'ACK', 'PBI', 'CHS', 'GRB', 'MOT', 'MKE', 'DSM', 'ILM',\n",
       "       'GSO', 'MCI', 'SBN', 'BTV', 'MVY', 'XNA', 'RST', 'EVV', 'HPN',\n",
       "       'RSW', 'MDT', 'ROA', 'GSP', 'MCO', 'CSG', 'SAV', 'PHF', 'ALB',\n",
       "       'CHA', 'ABE', 'BMI', 'MSY', 'IAD', 'GTR', 'CID', 'CAK', 'ATW',\n",
       "       'AUS', 'BQK', 'MLI', 'CAE', 'CMH', 'AVL', 'MBS', 'FLL', 'SDF',\n",
       "       'TPA', 'LNK', 'SRQ', 'MHT', 'BHM', 'LAS', 'SFO', 'SAN', 'RNO',\n",
       "       'LGB', 'ANC', 'PDX', 'SJU', 'ABQ', 'SLC', 'DEN', 'LAX', 'PHX',\n",
       "       'OAK', 'SMF', 'SEA', 'STX', 'BUR', 'DAB', 'SJC', 'SWF', 'HOU',\n",
       "       'BQN', 'PSE', 'ORH', 'HYA', 'STT', 'ONT', 'DAL', 'ECP', 'ELP',\n",
       "       'HRL', 'MAF', 'MDW', 'OKC', 'PNS', 'SNA', 'AMA', 'BOI', 'GEG',\n",
       "       'ICT', 'LBB', 'TUS', 'ISP', 'CRP', 'MFE', 'LFT', 'VPS', 'JAN',\n",
       "       'COS', 'MOB', 'DRO', 'GPT', 'BFL', 'COU', 'SBP', 'MTJ', 'SBA',\n",
       "       'PSP', 'FSD', 'FSM', 'BRO', 'PIA', 'STS', 'FAT', 'RAP', 'MRY',\n",
       "       'HSV', 'BIS', 'DAY', 'BZN', 'MIA', 'EYW', 'MYR', 'HHH', 'GJT',\n",
       "       'FAR', 'MLU', 'LRD', 'CLL', 'LCH', 'FWA', 'GRK', 'SGF', 'HOB',\n",
       "       'LAW', 'MHK', 'SAF', 'JLN', 'ROW', 'GRI', 'AEX', 'CRW', 'LAN',\n",
       "       'ERI', 'HNL', 'KOA', 'OGG', 'EGE', 'LIH', 'JAC', 'MLB', 'RDM',\n",
       "       'BET', 'ADQ', 'BRW', 'SCC', 'FAI', 'JNU', 'CDV', 'YAK', 'SIT',\n",
       "       'KTN', 'WRG', 'PSG', 'OME', 'OTZ', 'ADK', 'FCA', 'BIL', 'PSC',\n",
       "       'FAY', 'MSO', 'ITO', 'PPG', 'MFR', 'DLH', 'EUG', 'GUM', 'SPN',\n",
       "       'TTN', 'BKG', 'AZA', 'SFB', 'LCK', 'BLI', 'SCK', 'PIE', 'RFD',\n",
       "       'PVU', 'PBG', 'BLV', 'PGD', 'SPI', 'USA', 'TOL', 'IDA', 'ELM',\n",
       "       'HTS', 'HGR', 'SMX', 'OGD', 'GFK', 'STC', 'GTF', 'IAG', 'CKB',\n",
       "       'OWB', 'PSM', 'ABI', 'TYR', 'ALO', 'SUX', 'AZO', 'ACT', 'CMI',\n",
       "       'BPT', 'TXK', 'SWO', 'SPS', 'DBQ', 'SJT', 'GGG', 'LSE', 'MQT',\n",
       "       'GCK', 'LBE', 'ACY', 'LYH', 'PGV', 'HVN', 'EWN', 'DHN', 'PIH',\n",
       "       'WYS', 'SCE', 'IMT', 'HLN', 'ASE', 'SUN', 'ISN', 'EAR', 'SGU',\n",
       "       'VEL', 'SHD', 'LWB', 'MKG', 'SLN', 'HYS', 'BFF', 'PUB', 'LBL',\n",
       "       'CMX', 'EAU', 'PAH', 'UIN', 'RKS', 'CGI', 'CNY', 'JMS', 'DVL',\n",
       "       'LAR', 'GCC', 'LBF', 'PRC', 'RDD', 'ACV', 'OTH', 'COD', 'LWS',\n",
       "       'ABR', 'APN', 'PLN', 'BJI', 'CPR', 'BRD', 'BTM', 'CDC', 'CIU',\n",
       "       'ESC', 'EKO', 'ITH', 'HIB', 'BGM', 'TWF', 'RHI', 'INL', 'FLG',\n",
       "       'YUM', 'MEI', 'PIB', 'HDN'], dtype=object)"
      ]
     },
     "execution_count": 20,
     "metadata": {},
     "output_type": "execute_result"
    }
   ],
   "source": [
    "df_temp.Dest.unique()"
   ]
  },
  {
   "cell_type": "code",
   "execution_count": 21,
   "metadata": {},
   "outputs": [
    {
     "name": "stdout",
     "output_type": "stream",
     "text": [
      "The #rows and #columns are  585749  and  110\n",
      "The years in this dataset are:  [2018]\n",
      "The months covered in this dataset are:  [9]\n",
      "The date range for data is : 2018-09-01  to  2018-09-30\n",
      "The airlines covered in this dataset are:  ['9E', 'B6', 'WN', 'YV', 'YX', 'EV', 'AA', 'AS', 'DL', 'HA', 'UA', 'F9', 'G4', 'MQ', 'NK', 'OH', 'OO']\n",
      "The Origin airports covered are:  ['DFW', 'LGA', 'MSN', 'MSP', 'ATL', 'BDL', 'VLD', 'JFK', 'RDU', 'CHS', 'DTW', 'GRB', 'PVD', 'SHV', 'FNT', 'PIT', 'RIC', 'RST', 'RSW', 'CVG', 'LIT', 'ORD', 'JAX', 'TRI', 'BOS', 'CWA', 'DCA', 'CHO', 'AVP', 'IND', 'GRR', 'BTR', 'MEM', 'TUL', 'CLE', 'STL', 'BTV', 'OMA', 'MGM', 'TVC', 'SAV', 'GSP', 'EWR', 'OAJ', 'BNA', 'MCI', 'TLH', 'ROC', 'LEX', 'PWM', 'BUF', 'AGS', 'CLT', 'GSO', 'BWI', 'SAT', 'PHL', 'TYS', 'ACK', 'DSM', 'GNV', 'AVL', 'BGR', 'MHT', 'ILM', 'MOT', 'IAH', 'SBN', 'SYR', 'ORF', 'MKE', 'XNA', 'MSY', 'PBI', 'ABE', 'HPN', 'EVV', 'ALB', 'LNK', 'AUS', 'PHF', 'CHA', 'GTR', 'BMI', 'BQK', 'CID', 'CAK', 'ATW', 'ABY', 'CAE', 'SRQ', 'MLI', 'BHM', 'IAD', 'CSG', 'CMH', 'MCO', 'MBS', 'FLL', 'SDF', 'TPA', 'MVY', 'LAS', 'LGB', 'SFO', 'SAN', 'LAX', 'RNO', 'PDX', 'ANC', 'ABQ', 'SLC', 'DEN', 'PHX', 'OAK', 'SMF', 'SJU', 'SEA', 'HOU', 'STX', 'BUR', 'SWF', 'SJC', 'DAB', 'BQN', 'PSE', 'ORH', 'HYA', 'STT', 'ONT', 'HRL', 'ICT', 'ISP', 'LBB', 'MAF', 'MDW', 'OKC', 'PNS', 'SNA', 'TUS', 'AMA', 'BOI', 'CRP', 'DAL', 'ECP', 'ELP', 'GEG', 'LFT', 'MFE', 'MDT', 'JAN', 'COS', 'MOB', 'VPS', 'MTJ', 'DRO', 'GPT', 'BFL', 'MRY', 'SBA', 'PSP', 'FSD', 'BRO', 'RAP', 'COU', 'STS', 'PIA', 'FAT', 'SBP', 'FSM', 'HSV', 'BIS', 'DAY', 'BZN', 'MIA', 'EYW', 'MYR', 'HHH', 'GJT', 'FAR', 'SGF', 'HOB', 'CLL', 'LRD', 'AEX', 'ERI', 'MLU', 'LCH', 'ROA', 'LAW', 'MHK', 'GRK', 'SAF', 'GRI', 'JLN', 'ROW', 'FWA', 'CRW', 'LAN', 'OGG', 'HNL', 'KOA', 'EGE', 'LIH', 'MLB', 'JAC', 'FAI', 'RDM', 'ADQ', 'BET', 'BRW', 'SCC', 'KTN', 'YAK', 'CDV', 'JNU', 'SIT', 'PSG', 'WRG', 'OME', 'OTZ', 'ADK', 'FCA', 'FAY', 'PSC', 'BIL', 'MSO', 'ITO', 'PPG', 'MFR', 'EUG', 'GUM', 'SPN', 'DLH', 'TTN', 'BKG', 'SFB', 'PIE', 'PGD', 'AZA', 'SMX', 'RFD', 'SCK', 'OWB', 'HTS', 'BLV', 'IAG', 'USA', 'GFK', 'BLI', 'ELM', 'PBG', 'LCK', 'GTF', 'OGD', 'IDA', 'PVU', 'TOL', 'PSM', 'CKB', 'HGR', 'SPI', 'STC', 'ACT', 'TYR', 'ABI', 'AZO', 'CMI', 'BPT', 'GCK', 'MQT', 'ALO', 'TXK', 'SPS', 'SWO', 'DBQ', 'SUX', 'SJT', 'GGG', 'LSE', 'LBE', 'ACY', 'LYH', 'PGV', 'HVN', 'EWN', 'DHN', 'PIH', 'IMT', 'WYS', 'CPR', 'SCE', 'HLN', 'SUN', 'ISN', 'CMX', 'EAU', 'LWB', 'SHD', 'LBF', 'HYS', 'SLN', 'EAR', 'VEL', 'CNY', 'GCC', 'RKS', 'PUB', 'LBL', 'MKG', 'PAH', 'CGI', 'UIN', 'BFF', 'DVL', 'JMS', 'LAR', 'SGU', 'PRC', 'ASE', 'RDD', 'ACV', 'OTH', 'COD', 'LWS', 'ABR', 'APN', 'ESC', 'PLN', 'BJI', 'BRD', 'BTM', 'CDC', 'CIU', 'EKO', 'TWF', 'HIB', 'BGM', 'RHI', 'ITH', 'INL', 'FLG', 'YUM', 'MEI', 'PIB', 'HDN']\n",
      "The Destination airports covered are:  ['CVG', 'PWM', 'RDU', 'MSP', 'MSN', 'SHV', 'CLT', 'PIT', 'RIC', 'IAH', 'ATL', 'JFK', 'DCA', 'DTW', 'LGA', 'TYS', 'PVD', 'FNT', 'LIT', 'BUF', 'ORD', 'TRI', 'IND', 'BGR', 'AVP', 'BWI', 'LEX', 'BDL', 'GRR', 'CWA', 'TUL', 'MEM', 'AGS', 'EWR', 'MGM', 'PHL', 'SYR', 'OMA', 'STL', 'TVC', 'ORF', 'CLE', 'ABY', 'BOS', 'OAJ', 'TLH', 'BTR', 'SAT', 'JAX', 'BNA', 'CHO', 'VLD', 'ROC', 'DFW', 'GNV', 'ACK', 'PBI', 'CHS', 'GRB', 'MOT', 'MKE', 'DSM', 'ILM', 'GSO', 'MCI', 'SBN', 'BTV', 'MVY', 'XNA', 'RST', 'EVV', 'HPN', 'RSW', 'MDT', 'ROA', 'GSP', 'MCO', 'CSG', 'SAV', 'PHF', 'ALB', 'CHA', 'ABE', 'BMI', 'MSY', 'IAD', 'GTR', 'CID', 'CAK', 'ATW', 'AUS', 'BQK', 'MLI', 'CAE', 'CMH', 'AVL', 'MBS', 'FLL', 'SDF', 'TPA', 'LNK', 'SRQ', 'MHT', 'BHM', 'LAS', 'SFO', 'SAN', 'RNO', 'LGB', 'ANC', 'PDX', 'SJU', 'ABQ', 'SLC', 'DEN', 'LAX', 'PHX', 'OAK', 'SMF', 'SEA', 'STX', 'BUR', 'DAB', 'SJC', 'SWF', 'HOU', 'BQN', 'PSE', 'ORH', 'HYA', 'STT', 'ONT', 'DAL', 'ECP', 'ELP', 'HRL', 'MAF', 'MDW', 'OKC', 'PNS', 'SNA', 'AMA', 'BOI', 'GEG', 'ICT', 'LBB', 'TUS', 'ISP', 'CRP', 'MFE', 'LFT', 'VPS', 'JAN', 'COS', 'MOB', 'DRO', 'GPT', 'BFL', 'COU', 'SBP', 'MTJ', 'SBA', 'PSP', 'FSD', 'FSM', 'BRO', 'PIA', 'STS', 'FAT', 'RAP', 'MRY', 'HSV', 'BIS', 'DAY', 'BZN', 'MIA', 'EYW', 'MYR', 'HHH', 'GJT', 'FAR', 'MLU', 'LRD', 'CLL', 'LCH', 'FWA', 'GRK', 'SGF', 'HOB', 'LAW', 'MHK', 'SAF', 'JLN', 'ROW', 'GRI', 'AEX', 'CRW', 'LAN', 'ERI', 'HNL', 'KOA', 'OGG', 'EGE', 'LIH', 'JAC', 'MLB', 'RDM', 'BET', 'ADQ', 'BRW', 'SCC', 'FAI', 'JNU', 'CDV', 'YAK', 'SIT', 'KTN', 'WRG', 'PSG', 'OME', 'OTZ', 'ADK', 'FCA', 'BIL', 'PSC', 'FAY', 'MSO', 'ITO', 'PPG', 'MFR', 'DLH', 'EUG', 'GUM', 'SPN', 'TTN', 'BKG', 'AZA', 'SFB', 'LCK', 'BLI', 'SCK', 'PIE', 'RFD', 'PVU', 'PBG', 'BLV', 'PGD', 'SPI', 'USA', 'TOL', 'IDA', 'ELM', 'HTS', 'HGR', 'SMX', 'OGD', 'GFK', 'STC', 'GTF', 'IAG', 'CKB', 'OWB', 'PSM', 'ABI', 'TYR', 'ALO', 'SUX', 'AZO', 'ACT', 'CMI', 'BPT', 'TXK', 'SWO', 'SPS', 'DBQ', 'SJT', 'GGG', 'LSE', 'MQT', 'GCK', 'LBE', 'ACY', 'LYH', 'PGV', 'HVN', 'EWN', 'DHN', 'PIH', 'WYS', 'SCE', 'IMT', 'HLN', 'ASE', 'SUN', 'ISN', 'EAR', 'SGU', 'VEL', 'SHD', 'LWB', 'MKG', 'SLN', 'HYS', 'BFF', 'PUB', 'LBL', 'CMX', 'EAU', 'PAH', 'UIN', 'RKS', 'CGI', 'CNY', 'JMS', 'DVL', 'LAR', 'GCC', 'LBF', 'PRC', 'RDD', 'ACV', 'OTH', 'COD', 'LWS', 'ABR', 'APN', 'PLN', 'BJI', 'CPR', 'BRD', 'BTM', 'CDC', 'CIU', 'ESC', 'EKO', 'ITH', 'HIB', 'BGM', 'TWF', 'RHI', 'INL', 'FLG', 'YUM', 'MEI', 'PIB', 'HDN']\n"
     ]
    }
   ],
   "source": [
    "print(\"The #rows and #columns are \", df_temp.shape[0] , \" and \", df_temp.shape[1])\n",
    "print(\"The years in this dataset are: \", df_temp.Year.unique())\n",
    "print(\"The months covered in this dataset are: \", df_temp.Month.unique())\n",
    "print(\"The date range for data is :\" , min(df_temp.FlightDate), \" to \", max(df_temp.FlightDate))\n",
    "print(\"The airlines covered in this dataset are: \", list(df_temp.Reporting_Airline.unique()))\n",
    "print(\"The Origin airports covered are: \", list(df_temp.Origin.unique()))\n",
    "print(\"The Destination airports covered are: \", list(df_temp.Dest.unique()))"
   ]
  },
  {
   "cell_type": "markdown",
   "metadata": {},
   "source": [
    "**Question**: What is the count of all the origin and destination airports?\n",
    "\n",
    "**Hint**: You can use the Pandas `values_count` function ([documentation](https://pandas.pydata.org/pandas-docs/stable/reference/api/pandas.Series.value_counts.html)) to find out the values for each airport using the columns `Origin` and `Dest`."
   ]
  },
  {
   "cell_type": "code",
   "execution_count": 22,
   "metadata": {},
   "outputs": [
    {
     "data": {
      "text/plain": [
       "ATL    31525\n",
       "ORD    28257\n",
       "DFW    22802\n",
       "DEN    19807\n",
       "CLT    19655\n",
       "       ...  \n",
       "HGR        8\n",
       "OGD        8\n",
       "PPG        8\n",
       "STC        5\n",
       "HYA        4\n",
       "Name: Origin, Length: 346, dtype: int64"
      ]
     },
     "execution_count": 22,
     "metadata": {},
     "output_type": "execute_result"
    }
   ],
   "source": [
    "df_temp['Origin'].value_counts()"
   ]
  },
  {
   "cell_type": "code",
   "execution_count": 23,
   "metadata": {},
   "outputs": [
    {
     "data": {
      "text/html": [
       "<div>\n",
       "<style scoped>\n",
       "    .dataframe tbody tr th:only-of-type {\n",
       "        vertical-align: middle;\n",
       "    }\n",
       "\n",
       "    .dataframe tbody tr th {\n",
       "        vertical-align: top;\n",
       "    }\n",
       "\n",
       "    .dataframe thead th {\n",
       "        text-align: right;\n",
       "    }\n",
       "</style>\n",
       "<table border=\"1\" class=\"dataframe\">\n",
       "  <thead>\n",
       "    <tr style=\"text-align: right;\">\n",
       "      <th></th>\n",
       "      <th>Origin</th>\n",
       "      <th>Destination</th>\n",
       "    </tr>\n",
       "  </thead>\n",
       "  <tbody>\n",
       "    <tr>\n",
       "      <th>ABE</th>\n",
       "      <td>303</td>\n",
       "      <td>303</td>\n",
       "    </tr>\n",
       "    <tr>\n",
       "      <th>ABI</th>\n",
       "      <td>169</td>\n",
       "      <td>169</td>\n",
       "    </tr>\n",
       "    <tr>\n",
       "      <th>ABQ</th>\n",
       "      <td>2077</td>\n",
       "      <td>2076</td>\n",
       "    </tr>\n",
       "    <tr>\n",
       "      <th>ABR</th>\n",
       "      <td>60</td>\n",
       "      <td>60</td>\n",
       "    </tr>\n",
       "    <tr>\n",
       "      <th>ABY</th>\n",
       "      <td>79</td>\n",
       "      <td>79</td>\n",
       "    </tr>\n",
       "    <tr>\n",
       "      <th>...</th>\n",
       "      <td>...</td>\n",
       "      <td>...</td>\n",
       "    </tr>\n",
       "    <tr>\n",
       "      <th>WRG</th>\n",
       "      <td>60</td>\n",
       "      <td>60</td>\n",
       "    </tr>\n",
       "    <tr>\n",
       "      <th>WYS</th>\n",
       "      <td>52</td>\n",
       "      <td>52</td>\n",
       "    </tr>\n",
       "    <tr>\n",
       "      <th>XNA</th>\n",
       "      <td>1004</td>\n",
       "      <td>1004</td>\n",
       "    </tr>\n",
       "    <tr>\n",
       "      <th>YAK</th>\n",
       "      <td>60</td>\n",
       "      <td>60</td>\n",
       "    </tr>\n",
       "    <tr>\n",
       "      <th>YUM</th>\n",
       "      <td>96</td>\n",
       "      <td>96</td>\n",
       "    </tr>\n",
       "  </tbody>\n",
       "</table>\n",
       "<p>346 rows × 2 columns</p>\n",
       "</div>"
      ],
      "text/plain": [
       "     Origin  Destination\n",
       "ABE     303          303\n",
       "ABI     169          169\n",
       "ABQ    2077         2076\n",
       "ABR      60           60\n",
       "ABY      79           79\n",
       "..      ...          ...\n",
       "WRG      60           60\n",
       "WYS      52           52\n",
       "XNA    1004         1004\n",
       "YAK      60           60\n",
       "YUM      96           96\n",
       "\n",
       "[346 rows x 2 columns]"
      ]
     },
     "execution_count": 23,
     "metadata": {},
     "output_type": "execute_result"
    }
   ],
   "source": [
    "counts = pd.DataFrame({'Origin':df_temp['Origin'].value_counts(), 'Destination':df_temp['Dest'].value_counts()})\n",
    "counts"
   ]
  },
  {
   "cell_type": "markdown",
   "metadata": {},
   "source": [
    "**Question**: Print the top 15 origin and destination airports based on number of flights in the dataset.\n",
    "\n",
    "**Hint**: You can use the Pandas `sort_values` function ([documentation](https://pandas.pydata.org/pandas-docs/stable/reference/api/pandas.DataFrame.sort_values.html))."
   ]
  },
  {
   "cell_type": "code",
   "execution_count": 24,
   "metadata": {},
   "outputs": [
    {
     "data": {
      "text/html": [
       "<div>\n",
       "<style scoped>\n",
       "    .dataframe tbody tr th:only-of-type {\n",
       "        vertical-align: middle;\n",
       "    }\n",
       "\n",
       "    .dataframe tbody tr th {\n",
       "        vertical-align: top;\n",
       "    }\n",
       "\n",
       "    .dataframe thead th {\n",
       "        text-align: right;\n",
       "    }\n",
       "</style>\n",
       "<table border=\"1\" class=\"dataframe\">\n",
       "  <thead>\n",
       "    <tr style=\"text-align: right;\">\n",
       "      <th></th>\n",
       "      <th>Origin</th>\n",
       "      <th>Destination</th>\n",
       "    </tr>\n",
       "  </thead>\n",
       "  <tbody>\n",
       "    <tr>\n",
       "      <th>ATL</th>\n",
       "      <td>31525</td>\n",
       "      <td>31521</td>\n",
       "    </tr>\n",
       "    <tr>\n",
       "      <th>ORD</th>\n",
       "      <td>28257</td>\n",
       "      <td>28250</td>\n",
       "    </tr>\n",
       "    <tr>\n",
       "      <th>DFW</th>\n",
       "      <td>22802</td>\n",
       "      <td>22795</td>\n",
       "    </tr>\n",
       "    <tr>\n",
       "      <th>DEN</th>\n",
       "      <td>19807</td>\n",
       "      <td>19807</td>\n",
       "    </tr>\n",
       "    <tr>\n",
       "      <th>CLT</th>\n",
       "      <td>19655</td>\n",
       "      <td>19654</td>\n",
       "    </tr>\n",
       "    <tr>\n",
       "      <th>LAX</th>\n",
       "      <td>17875</td>\n",
       "      <td>17873</td>\n",
       "    </tr>\n",
       "    <tr>\n",
       "      <th>SFO</th>\n",
       "      <td>14332</td>\n",
       "      <td>14348</td>\n",
       "    </tr>\n",
       "    <tr>\n",
       "      <th>IAH</th>\n",
       "      <td>14210</td>\n",
       "      <td>14203</td>\n",
       "    </tr>\n",
       "    <tr>\n",
       "      <th>LGA</th>\n",
       "      <td>13850</td>\n",
       "      <td>13850</td>\n",
       "    </tr>\n",
       "    <tr>\n",
       "      <th>MSP</th>\n",
       "      <td>13349</td>\n",
       "      <td>13347</td>\n",
       "    </tr>\n",
       "    <tr>\n",
       "      <th>LAS</th>\n",
       "      <td>13318</td>\n",
       "      <td>13322</td>\n",
       "    </tr>\n",
       "    <tr>\n",
       "      <th>PHX</th>\n",
       "      <td>13126</td>\n",
       "      <td>13128</td>\n",
       "    </tr>\n",
       "    <tr>\n",
       "      <th>DTW</th>\n",
       "      <td>12725</td>\n",
       "      <td>12724</td>\n",
       "    </tr>\n",
       "    <tr>\n",
       "      <th>BOS</th>\n",
       "      <td>12223</td>\n",
       "      <td>12227</td>\n",
       "    </tr>\n",
       "    <tr>\n",
       "      <th>SEA</th>\n",
       "      <td>11872</td>\n",
       "      <td>11877</td>\n",
       "    </tr>\n",
       "  </tbody>\n",
       "</table>\n",
       "</div>"
      ],
      "text/plain": [
       "     Origin  Destination\n",
       "ATL   31525        31521\n",
       "ORD   28257        28250\n",
       "DFW   22802        22795\n",
       "DEN   19807        19807\n",
       "CLT   19655        19654\n",
       "LAX   17875        17873\n",
       "SFO   14332        14348\n",
       "IAH   14210        14203\n",
       "LGA   13850        13850\n",
       "MSP   13349        13347\n",
       "LAS   13318        13322\n",
       "PHX   13126        13128\n",
       "DTW   12725        12724\n",
       "BOS   12223        12227\n",
       "SEA   11872        11877"
      ]
     },
     "execution_count": 24,
     "metadata": {},
     "output_type": "execute_result"
    }
   ],
   "source": [
    "counts.sort_values(by='Origin',ascending=False).head(15 )# Enter your code here"
   ]
  },
  {
   "cell_type": "markdown",
   "metadata": {},
   "source": [
    "**Question**: Given all the information about a flight trip, can you predict if it would be delayed?"
   ]
  },
  {
   "cell_type": "code",
   "execution_count": null,
   "metadata": {},
   "outputs": [],
   "source": [
    "# Enter your answer here\n",
    "# ArrDel15 and DepDel15 can help on that"
   ]
  },
  {
   "cell_type": "markdown",
   "metadata": {},
   "source": [
    "Now, assume you are traveling from San Francisco to Los Angeles on a work trip. You want to have an ideas if your flight will be delayed, given a set of features, so that you can manage your reservations in Los Angeles better. How many features from this dataset would you know before your flight?\n",
    "\n",
    "Columns such as `DepDelay`, `ArrDelay`, `CarrierDelay`, `WeatherDelay`, `NASDelay`, `SecurityDelay`, `LateAircraftDelay`, and `DivArrDelay` contain information about a delay. But this delay could have occured at the origin or destination. If there were a sudden weather delay 10 minutes before landing, this data would not be helpful in managing your Los Angeles reservations.\n",
    "\n",
    "So to simplify the problem statement, consider the following columns to predict an arrival delay:<br>\n",
    "\n",
    "`Year`, `Quarter`, `Month`, `DayofMonth`, `DayOfWeek`, `FlightDate`, `Reporting_Airline`, `Origin`, `OriginState`, `Dest`, `DestState`, `CRSDepTime`, `DepDelayMinutes`, `DepartureDelayGroups`, `Cancelled`, `Diverted`, `Distance`, `DistanceGroup`, `ArrDelay`, `ArrDelayMinutes`, `ArrDel15`, `AirTime`\n",
    "\n",
    "You will also filter the source and destination airports to be:\n",
    "- Top airports: ATL, ORD, DFW, DEN, CLT, LAX, IAH, PHX, SFO\n",
    "- Top 5 airlines: UA, OO, WN, AA, DL\n",
    "\n",
    "This should help in reducing the size of data across the CSV files to be combined."
   ]
  },
  {
   "cell_type": "markdown",
   "metadata": {},
   "source": [
    "#### Combine all CSV files\n",
    "\n",
    "**Hint**:  \n",
    "First, create an empy dataframe that you will use to copy your individual dataframes from each file. Then, for each file in the `csv_files` list:\n",
    "\n",
    "1. Read the CSV file into a dataframe  \n",
    "2. Filter the columns based on the `filter_cols` variable\n",
    "\n",
    "```\n",
    "        columns = ['col1', 'col2']\n",
    "        df_filter = df[columns]\n",
    "```\n",
    "\n",
    "3. Keep only the subset_vals in each of the subset_cols. Use the `isin` Pandas function ([documentation](https://pandas.pydata.org/pandas-docs/stable/reference/api/pandas.DataFrame.isin.html)) to check if the `val` is in the dataframe column and then choose the rows that include it.\n",
    "\n",
    "```\n",
    "        df_eg[df_eg['col1'].isin('5')]\n",
    "```\n",
    "\n",
    "4. Concatenate the dataframe with the empty dataframe "
   ]
  },
  {
   "cell_type": "code",
   "execution_count": 25,
   "metadata": {},
   "outputs": [],
   "source": [
    "def combine_csv(csv_files, filter_cols, subset_cols, subset_vals, file_name = 'data/combined_files.csv'):\n",
    "    \"\"\"\n",
    "    Combine csv files into one Data Frame\n",
    "    csv_files: list of csv file paths\n",
    "    filter_cols: list of columns to filter\n",
    "    subset_cols: list of columns to subset rows\n",
    "    subset_vals: list of list of values to subset rows\n",
    "    \"\"\"\n",
    "    # Create an empty dataframe\n",
    "    df = pd.DataFrame()# Enter your code here \n",
    "    \n",
    "    for file in csv_files:\n",
    "        # Read the CSV file into a dataframe\n",
    "        df_temp = pd.read_csv(file)# Enter your code here\n",
    "        \n",
    "        # Filter the columns based on the filter_cols variable\n",
    "        # e.g. columns = ['col1', 'col2']\n",
    "        # df_filter = df[columns]\n",
    "        df_temp = df_temp[filter_cols]# Enter your code here\n",
    "        \n",
    "        # Keep only the subset_vals in each of the subset_cols\n",
    "        # HINT: Use the `isin` function to check if the val is in dataframe column\n",
    "        # and then choose the rows that include it\n",
    "        # e.g. df[df['col1'].isin('5')]\n",
    "        for col, val in zip(subset_cols,subset_vals):\n",
    "            df_temp = df_temp[df_temp[col].isin(val)] # Enter your code here     \n",
    "        \n",
    "        # Use Pandas concatenate `pd.concat` to concatenate the main dataframe with the dataframe for each file\n",
    "        df = pd.concat([df, df_temp], axis=0)\n",
    "    \n",
    "        \n",
    "    df.to_csv(file_name, index=False)\n",
    "    print(f'Combined csv stored at {file_name}')"
   ]
  },
  {
   "cell_type": "code",
   "execution_count": 26,
   "metadata": {},
   "outputs": [],
   "source": [
    "#cols is the list of columns to predict Arrival Delay \n",
    "cols = ['Year','Quarter','Month','DayofMonth','DayOfWeek','FlightDate',\n",
    "        'Reporting_Airline','Origin','OriginState','Dest','DestState',\n",
    "        'CRSDepTime','Cancelled','Diverted','Distance','DistanceGroup',\n",
    "        'ArrDelay','ArrDelayMinutes','ArrDel15','AirTime']\n",
    "\n",
    "subset_cols = ['Origin', 'Dest', 'Reporting_Airline']\n",
    "\n",
    "# subset_vals is a list collection of the top origin and destination airports and top 5 airlines\n",
    "subset_vals = [['ATL', 'ORD', 'DFW', 'DEN', 'CLT', 'LAX', 'IAH', 'PHX', 'SFO'], \n",
    "               ['ATL', 'ORD', 'DFW', 'DEN', 'CLT', 'LAX', 'IAH', 'PHX', 'SFO'], \n",
    "               ['UA', 'OO', 'WN', 'AA', 'DL']]"
   ]
  },
  {
   "cell_type": "markdown",
   "metadata": {},
   "source": [
    "Use the function above to merge all the different files into a single file that you can read easily. \n",
    "\n",
    "**Note**: This will take 5-7 minutes to complete."
   ]
  },
  {
   "cell_type": "code",
   "execution_count": 27,
   "metadata": {},
   "outputs": [
    {
     "name": "stdout",
     "output_type": "stream",
     "text": [
      "Combined csv stored at data/combined_files.csv\n",
      "csv's merged in 4.86 minutes\n"
     ]
    }
   ],
   "source": [
    "start = time.time()\n",
    "combine_csv(csv_files, cols, subset_cols, subset_vals)\n",
    "print(f'csv\\'s merged in {round((time.time() - start)/60,2)} minutes')"
   ]
  },
  {
   "cell_type": "markdown",
   "metadata": {},
   "source": [
    "#### Load dataset\n",
    "\n",
    "Load the combined dataset."
   ]
  },
  {
   "cell_type": "code",
   "execution_count": 28,
   "metadata": {},
   "outputs": [],
   "source": [
    "data = pd.read_csv('data/combined_files.csv')# Enter your code here to read the combined csv file."
   ]
  },
  {
   "cell_type": "markdown",
   "metadata": {},
   "source": [
    "Print the first 5 records."
   ]
  },
  {
   "cell_type": "code",
   "execution_count": 29,
   "metadata": {},
   "outputs": [
    {
     "data": {
      "text/html": [
       "<div>\n",
       "<style scoped>\n",
       "    .dataframe tbody tr th:only-of-type {\n",
       "        vertical-align: middle;\n",
       "    }\n",
       "\n",
       "    .dataframe tbody tr th {\n",
       "        vertical-align: top;\n",
       "    }\n",
       "\n",
       "    .dataframe thead th {\n",
       "        text-align: right;\n",
       "    }\n",
       "</style>\n",
       "<table border=\"1\" class=\"dataframe\">\n",
       "  <thead>\n",
       "    <tr style=\"text-align: right;\">\n",
       "      <th></th>\n",
       "      <th>Year</th>\n",
       "      <th>Quarter</th>\n",
       "      <th>Month</th>\n",
       "      <th>DayofMonth</th>\n",
       "      <th>DayOfWeek</th>\n",
       "      <th>FlightDate</th>\n",
       "      <th>Reporting_Airline</th>\n",
       "      <th>Origin</th>\n",
       "      <th>OriginState</th>\n",
       "      <th>Dest</th>\n",
       "      <th>DestState</th>\n",
       "      <th>CRSDepTime</th>\n",
       "      <th>Cancelled</th>\n",
       "      <th>Diverted</th>\n",
       "      <th>Distance</th>\n",
       "      <th>DistanceGroup</th>\n",
       "      <th>ArrDelay</th>\n",
       "      <th>ArrDelayMinutes</th>\n",
       "      <th>ArrDel15</th>\n",
       "      <th>AirTime</th>\n",
       "    </tr>\n",
       "  </thead>\n",
       "  <tbody>\n",
       "    <tr>\n",
       "      <th>0</th>\n",
       "      <td>2016</td>\n",
       "      <td>1</td>\n",
       "      <td>3</td>\n",
       "      <td>2</td>\n",
       "      <td>3</td>\n",
       "      <td>2016-03-02</td>\n",
       "      <td>UA</td>\n",
       "      <td>IAH</td>\n",
       "      <td>TX</td>\n",
       "      <td>ORD</td>\n",
       "      <td>IL</td>\n",
       "      <td>2134</td>\n",
       "      <td>0.0</td>\n",
       "      <td>0.0</td>\n",
       "      <td>925.0</td>\n",
       "      <td>4</td>\n",
       "      <td>-21.0</td>\n",
       "      <td>0.0</td>\n",
       "      <td>0.0</td>\n",
       "      <td>115.0</td>\n",
       "    </tr>\n",
       "    <tr>\n",
       "      <th>1</th>\n",
       "      <td>2016</td>\n",
       "      <td>1</td>\n",
       "      <td>3</td>\n",
       "      <td>2</td>\n",
       "      <td>3</td>\n",
       "      <td>2016-03-02</td>\n",
       "      <td>UA</td>\n",
       "      <td>IAH</td>\n",
       "      <td>TX</td>\n",
       "      <td>ORD</td>\n",
       "      <td>IL</td>\n",
       "      <td>1445</td>\n",
       "      <td>0.0</td>\n",
       "      <td>0.0</td>\n",
       "      <td>925.0</td>\n",
       "      <td>4</td>\n",
       "      <td>-16.0</td>\n",
       "      <td>0.0</td>\n",
       "      <td>0.0</td>\n",
       "      <td>117.0</td>\n",
       "    </tr>\n",
       "    <tr>\n",
       "      <th>2</th>\n",
       "      <td>2016</td>\n",
       "      <td>1</td>\n",
       "      <td>3</td>\n",
       "      <td>2</td>\n",
       "      <td>3</td>\n",
       "      <td>2016-03-02</td>\n",
       "      <td>UA</td>\n",
       "      <td>IAH</td>\n",
       "      <td>TX</td>\n",
       "      <td>LAX</td>\n",
       "      <td>CA</td>\n",
       "      <td>1932</td>\n",
       "      <td>0.0</td>\n",
       "      <td>0.0</td>\n",
       "      <td>1379.0</td>\n",
       "      <td>6</td>\n",
       "      <td>-19.0</td>\n",
       "      <td>0.0</td>\n",
       "      <td>0.0</td>\n",
       "      <td>187.0</td>\n",
       "    </tr>\n",
       "    <tr>\n",
       "      <th>3</th>\n",
       "      <td>2016</td>\n",
       "      <td>1</td>\n",
       "      <td>3</td>\n",
       "      <td>2</td>\n",
       "      <td>3</td>\n",
       "      <td>2016-03-02</td>\n",
       "      <td>UA</td>\n",
       "      <td>PHX</td>\n",
       "      <td>AZ</td>\n",
       "      <td>IAH</td>\n",
       "      <td>TX</td>\n",
       "      <td>1440</td>\n",
       "      <td>0.0</td>\n",
       "      <td>0.0</td>\n",
       "      <td>1009.0</td>\n",
       "      <td>5</td>\n",
       "      <td>-2.0</td>\n",
       "      <td>0.0</td>\n",
       "      <td>0.0</td>\n",
       "      <td>124.0</td>\n",
       "    </tr>\n",
       "    <tr>\n",
       "      <th>4</th>\n",
       "      <td>2016</td>\n",
       "      <td>1</td>\n",
       "      <td>3</td>\n",
       "      <td>2</td>\n",
       "      <td>3</td>\n",
       "      <td>2016-03-02</td>\n",
       "      <td>UA</td>\n",
       "      <td>IAH</td>\n",
       "      <td>TX</td>\n",
       "      <td>PHX</td>\n",
       "      <td>AZ</td>\n",
       "      <td>1530</td>\n",
       "      <td>0.0</td>\n",
       "      <td>0.0</td>\n",
       "      <td>1009.0</td>\n",
       "      <td>5</td>\n",
       "      <td>-23.0</td>\n",
       "      <td>0.0</td>\n",
       "      <td>0.0</td>\n",
       "      <td>142.0</td>\n",
       "    </tr>\n",
       "  </tbody>\n",
       "</table>\n",
       "</div>"
      ],
      "text/plain": [
       "   Year  Quarter  Month  DayofMonth  DayOfWeek  FlightDate Reporting_Airline  \\\n",
       "0  2016        1      3           2          3  2016-03-02                UA   \n",
       "1  2016        1      3           2          3  2016-03-02                UA   \n",
       "2  2016        1      3           2          3  2016-03-02                UA   \n",
       "3  2016        1      3           2          3  2016-03-02                UA   \n",
       "4  2016        1      3           2          3  2016-03-02                UA   \n",
       "\n",
       "  Origin OriginState Dest DestState  CRSDepTime  Cancelled  Diverted  \\\n",
       "0    IAH          TX  ORD        IL        2134        0.0       0.0   \n",
       "1    IAH          TX  ORD        IL        1445        0.0       0.0   \n",
       "2    IAH          TX  LAX        CA        1932        0.0       0.0   \n",
       "3    PHX          AZ  IAH        TX        1440        0.0       0.0   \n",
       "4    IAH          TX  PHX        AZ        1530        0.0       0.0   \n",
       "\n",
       "   Distance  DistanceGroup  ArrDelay  ArrDelayMinutes  ArrDel15  AirTime  \n",
       "0     925.0              4     -21.0              0.0       0.0    115.0  \n",
       "1     925.0              4     -16.0              0.0       0.0    117.0  \n",
       "2    1379.0              6     -19.0              0.0       0.0    187.0  \n",
       "3    1009.0              5      -2.0              0.0       0.0    124.0  \n",
       "4    1009.0              5     -23.0              0.0       0.0    142.0  "
      ]
     },
     "execution_count": 29,
     "metadata": {},
     "output_type": "execute_result"
    }
   ],
   "source": [
    "# Enter your code here \n",
    "data.head(5)"
   ]
  },
  {
   "cell_type": "markdown",
   "metadata": {},
   "source": [
    "Here are some more questions to help you find out more about your dataset.\n",
    "\n",
    "**Questions**   \n",
    "1. How many rows and columns does the dataset have?   \n",
    "2. How many years are included in the dataset?   \n",
    "3. What is the date range for the dataset?   \n",
    "4. Which airlines are included in the dataset?   \n",
    "5. Which origin and destination airports are covered?"
   ]
  },
  {
   "cell_type": "code",
   "execution_count": 31,
   "metadata": {},
   "outputs": [
    {
     "data": {
      "text/plain": [
       "20"
      ]
     },
     "execution_count": 31,
     "metadata": {},
     "output_type": "execute_result"
    }
   ],
   "source": [
    "data.shape[1]"
   ]
  },
  {
   "cell_type": "code",
   "execution_count": 34,
   "metadata": {},
   "outputs": [
    {
     "data": {
      "text/plain": [
       "array([2016, 2018, 2015, 2017, 2014])"
      ]
     },
     "execution_count": 34,
     "metadata": {},
     "output_type": "execute_result"
    }
   ],
   "source": [
    "data.Year.unique()"
   ]
  },
  {
   "cell_type": "code",
   "execution_count": 37,
   "metadata": {},
   "outputs": [
    {
     "data": {
      "text/plain": [
       "array([ 3,  8, 10,  9,  7,  5, 12,  1, 11,  2,  6,  4])"
      ]
     },
     "execution_count": 37,
     "metadata": {},
     "output_type": "execute_result"
    }
   ],
   "source": [
    "data.Month.unique()"
   ]
  },
  {
   "cell_type": "code",
   "execution_count": 39,
   "metadata": {},
   "outputs": [
    {
     "data": {
      "text/plain": [
       "0          2016-03-02\n",
       "1          2016-03-02\n",
       "2          2016-03-02\n",
       "3          2016-03-02\n",
       "4          2016-03-02\n",
       "              ...    \n",
       "1658125    2018-02-11\n",
       "1658126    2018-02-11\n",
       "1658127    2018-02-11\n",
       "1658128    2018-02-11\n",
       "1658129    2018-02-11\n",
       "Name: FlightDate, Length: 1658130, dtype: object"
      ]
     },
     "execution_count": 39,
     "metadata": {},
     "output_type": "execute_result"
    }
   ],
   "source": [
    "data.FlightDate"
   ]
  },
  {
   "cell_type": "code",
   "execution_count": 43,
   "metadata": {},
   "outputs": [
    {
     "data": {
      "text/plain": [
       "array(['UA', 'WN', 'AA', 'DL', 'OO'], dtype=object)"
      ]
     },
     "execution_count": 43,
     "metadata": {},
     "output_type": "execute_result"
    }
   ],
   "source": [
    "data.Reporting_Airline.unique()"
   ]
  },
  {
   "cell_type": "code",
   "execution_count": null,
   "metadata": {},
   "outputs": [],
   "source": []
  },
  {
   "cell_type": "code",
   "execution_count": 44,
   "metadata": {},
   "outputs": [
    {
     "name": "stdout",
     "output_type": "stream",
     "text": [
      "The #rows and #columns are  1658130  and  20\n",
      "The years in this dataset are:  [2016, 2018, 2015, 2017, 2014]\n",
      "The months covered in this dataset are:  [1, 2, 3, 4, 5, 6, 7, 8, 9, 10, 11, 12]\n",
      "The date range for data is : 2014-01-01  to  2018-12-31\n",
      "The airlines covered in this dataset are:  ['UA', 'WN', 'AA', 'DL', 'OO']\n",
      "The Origin airports covered are:  ['IAH', 'PHX', 'LAX', 'DEN', 'SFO', 'ORD', 'DFW', 'ATL', 'CLT']\n",
      "The Destination airports covered are:  ['ORD', 'LAX', 'IAH', 'PHX', 'SFO', 'ATL', 'DEN', 'DFW', 'CLT']\n"
     ]
    }
   ],
   "source": [
    "print(\"The #rows and #columns are \", data.shape[0] , \" and \", data.shape[1])\n",
    "print(\"The years in this dataset are: \", list(data.Year.unique()))\n",
    "print(\"The months covered in this dataset are: \", sorted(list(data.Month.unique())))\n",
    "print(\"The date range for data is :\" , min(data.FlightDate), \" to \", max(data.FlightDate))\n",
    "print(\"The airlines covered in this dataset are: \", list(data.Reporting_Airline.unique()))\n",
    "print(\"The Origin airports covered are: \", list(data.Origin.unique()))\n",
    "print(\"The Destination airports covered are: \", list(data.Dest.unique()))"
   ]
  },
  {
   "cell_type": "markdown",
   "metadata": {},
   "source": [
    "Let's define our **target column : is_delay** (1 - if arrival time delayed more than 15 minutes, 0 - otherwise). Use the `rename` method to rename the column from `ArrDel15` to `is_delay`.\n",
    "\n",
    "**Hint**: You can use the Pandas `rename` function ([documentation](https://pandas.pydata.org/pandas-docs/stable/reference/api/pandas.DataFrame.rename.html)).\n",
    "\n",
    "For example:\n",
    "```\n",
    "df.rename(columns={'col1':'column1'}, inplace=True)\n",
    "```"
   ]
  },
  {
   "cell_type": "code",
   "execution_count": 48,
   "metadata": {},
   "outputs": [],
   "source": [
    "data.rename(columns={'ArrDel15':'is_delay'}, inplace=True) # Enter your code here"
   ]
  },
  {
   "cell_type": "markdown",
   "metadata": {},
   "source": [
    "Look for nulls across columns. You can use the `isnull()` function ([documentation](https://pandas.pydata.org/pandas-docs/version/0.17.0/generated/pandas.isnull.html)).\n",
    "\n",
    "**Hint**: `isnull()` detects whether the particular value is null or not and gives you a boolean (True or False) in its place. Use the `sum(axis=0)` function to sum up the number of columns."
   ]
  },
  {
   "cell_type": "code",
   "execution_count": 55,
   "metadata": {},
   "outputs": [
    {
     "data": {
      "text/plain": [
       "Year                     0\n",
       "Quarter                  0\n",
       "Month                    0\n",
       "DayofMonth               0\n",
       "DayOfWeek                0\n",
       "FlightDate               0\n",
       "Reporting_Airline        0\n",
       "Origin                   0\n",
       "OriginState              0\n",
       "Dest                     0\n",
       "DestState                0\n",
       "CRSDepTime               0\n",
       "Cancelled                0\n",
       "Diverted                 0\n",
       "Distance                 0\n",
       "DistanceGroup            0\n",
       "ArrDelay             22540\n",
       "ArrDelayMinutes      22540\n",
       "is_delay             22540\n",
       "AirTime              22540\n",
       "dtype: int64"
      ]
     },
     "execution_count": 55,
     "metadata": {},
     "output_type": "execute_result"
    }
   ],
   "source": [
    "# Enter your code here\n",
    "data.isnull().sum(axis=0)"
   ]
  },
  {
   "cell_type": "markdown",
   "metadata": {},
   "source": [
    "The arrival delay details and airtime are missing for 22540 out of 1658130 rows, which is 1.3%. You can either remove or impute these rows. The documentation does not mention anything about missing rows.\n",
    "\n",
    "**Hint**: Use the `~` operator to choose the values that aren't null from the `isnull()` output.\n",
    "\n",
    "For example:\n",
    "```\n",
    "null_eg = df_eg[~df_eg['column_name'].isnull()]\n",
    "```"
   ]
  },
  {
   "cell_type": "code",
   "execution_count": 57,
   "metadata": {},
   "outputs": [
    {
     "data": {
      "text/plain": [
       "Year                 0\n",
       "Quarter              0\n",
       "Month                0\n",
       "DayofMonth           0\n",
       "DayOfWeek            0\n",
       "FlightDate           0\n",
       "Reporting_Airline    0\n",
       "Origin               0\n",
       "OriginState          0\n",
       "Dest                 0\n",
       "DestState            0\n",
       "CRSDepTime           0\n",
       "Cancelled            0\n",
       "Diverted             0\n",
       "Distance             0\n",
       "DistanceGroup        0\n",
       "ArrDelay             0\n",
       "ArrDelayMinutes      0\n",
       "is_delay             0\n",
       "AirTime              0\n",
       "dtype: int64"
      ]
     },
     "execution_count": 57,
     "metadata": {},
     "output_type": "execute_result"
    }
   ],
   "source": [
    "### Remove null columns\n",
    "data = data[~data.is_delay.isnull()]\n",
    "data.isnull().sum(axis = 0)"
   ]
  },
  {
   "cell_type": "markdown",
   "metadata": {},
   "source": [
    "Get the hour of the day in 24-hour time format from CRSDepTime."
   ]
  },
  {
   "cell_type": "code",
   "execution_count": 61,
   "metadata": {},
   "outputs": [],
   "source": [
    "data['DepHourofDay'] = (data['CRSDepTime']//100)"
   ]
  },
  {
   "cell_type": "markdown",
   "metadata": {},
   "source": [
    "## **The ML problem statement**\n",
    "- Given a set of features, can you predict if a flight is going to be delayed more than 15 minutes?\n",
    "- Because the target variable takes only 0/1 value, you could use a classification algorithm. \n",
    "\n",
    "Before jumping to modeling, it is always a good practice to look at feature distribution, correlations, etc.\n",
    "- This will give an idea of any non-linearity/patterns in the data.\n",
    "    - Linear models: Add power/exponential/interaction features\n",
    "    - Try a non-linear model\n",
    "- Data imbalance \n",
    "    - Choose metrics that will not give biased model performance (accuracy. vs AUC)\n",
    "    - Use weighted/custom loss functions\n",
    "- Missing data\n",
    "    - Do imputation based on simple statistics - mean, median, mode (numerical variables) frequent class (categorical variables)\n",
    "    - Clustering based imputation (KNNs to predict column value)\n",
    "    - Drop column"
   ]
  },
  {
   "cell_type": "markdown",
   "metadata": {},
   "source": [
    "### Data exploration\n",
    "\n",
    "#### Check class delay vs. no delay\n",
    "\n",
    "**Hint**: Use a `groupby` plot ([documentation](https://pandas.pydata.org/pandas-docs/stable/reference/api/pandas.DataFrame.groupby.html)) with a `bar` plot ([documentation](https://matplotlib.org/tutorials/introductory/pyplot.html)) to plot the frequency vs. distribution of the class."
   ]
  },
  {
   "cell_type": "code",
   "execution_count": 64,
   "metadata": {},
   "outputs": [
    {
     "data": {
      "image/png": "[encoded data removed]",
      "text/plain": [
       "<Figure size 432x288 with 1 Axes>"
      ]
     },
     "metadata": {
      "needs_background": "light"
     },
     "output_type": "display_data"
    }
   ],
   "source": [
    "(data.groupby('is_delay').size()/len(data) ).plot(kind='bar')# Enter your code here\n",
    "plt.ylabel('Frequency')\n",
    "plt.title('Distribution of classes')\n",
    "plt.show()"
   ]
  },
  {
   "cell_type": "markdown",
   "metadata": {},
   "source": [
    "**Question**: What can you deduce from the bar plot about the ratio of delay vs. no delay?"
   ]
  },
  {
   "cell_type": "code",
   "execution_count": null,
   "metadata": {},
   "outputs": [],
   "source": [
    "# Enter your answer here\n",
    "\n",
    "# delay is 25%"
   ]
  },
  {
   "cell_type": "markdown",
   "metadata": {},
   "source": [
    "**Questions**: \n",
    "\n",
    "- Which months have the most delays?\n",
    "- What time of the day has the most delays?\n",
    "- What day of the week has the most delays?\n",
    "- Which airline has the most delays?\n",
    "- Which origin and destination airports have the most delays?\n",
    "- Is flight distance a factor in the delays?"
   ]
  },
  {
   "cell_type": "code",
   "execution_count": 65,
   "metadata": {},
   "outputs": [
    {
     "data": {
      "image/png": "[encoded data removed]",
      "text/plain": [
       "<Figure size 1440x1440 with 6 Axes>"
      ]
     },
     "metadata": {
      "needs_background": "light"
     },
     "output_type": "display_data"
    }
   ],
   "source": [
    "viz_columns = ['Month', 'DepHourofDay', 'DayOfWeek', 'Reporting_Airline', 'Origin', 'Dest']\n",
    "fig, axes = plt.subplots(3, 2, figsize=(20,20), squeeze=False)\n",
    "# fig.autofmt_xdate(rotation=90)\n",
    "\n",
    "for idx, column in enumerate(viz_columns):\n",
    "    ax = axes[idx//2, idx%2]\n",
    "    temp = data.groupby(column)['is_delay'].value_counts(normalize=True).rename('percentage').\\\n",
    "    mul(100).reset_index().sort_values(column)\n",
    "    sns.barplot(x=column, y=\"percentage\", hue=\"is_delay\", data=temp, ax=ax)\n",
    "    plt.ylabel('% delay/no-delay')\n",
    "    \n",
    "\n",
    "plt.show()"
   ]
  },
  {
   "cell_type": "code",
   "execution_count": 66,
   "metadata": {},
   "outputs": [
    {
     "data": {
      "image/png": "[encoded data removed]",
      "text/plain": [
       "<Figure size 360x360 with 1 Axes>"
      ]
     },
     "metadata": {
      "needs_background": "light"
     },
     "output_type": "display_data"
    }
   ],
   "source": [
    "sns.lmplot( x=\"is_delay\", y=\"Distance\", data=data, fit_reg=False, hue='is_delay', legend=False)\n",
    "plt.legend(loc='center')\n",
    "plt.xlabel('is_delay')\n",
    "plt.ylabel('Distance')\n",
    "plt.show()"
   ]
  },
  {
   "cell_type": "code",
   "execution_count": null,
   "metadata": {},
   "outputs": [],
   "source": [
    "# Enter your answers here\n",
    "\n",
    "#  % delay is high in May, June, July, August and December.\n",
    "#  % delays are higher at night than during the day. There are no flights departing at 3AM!\n",
    "#  Sunday(1), Wednesday(4), Saturday(7) have relatively higher delays than other days.\n",
    "#  Airline WN has the highest % delays compared to others.\n",
    "#  Flights with SFO as a destination have higher delays than others.\n",
    "#  Flights with ORD as a origin have higher delays than others."
   ]
  },
  {
   "cell_type": "markdown",
   "metadata": {},
   "source": [
    "### Features\n",
    "\n",
    "Look at all the columns and what their specific types are."
   ]
  },
  {
   "cell_type": "code",
   "execution_count": 67,
   "metadata": {},
   "outputs": [
    {
     "data": {
      "text/plain": [
       "Index(['Year', 'Quarter', 'Month', 'DayofMonth', 'DayOfWeek', 'FlightDate',\n",
       "       'Reporting_Airline', 'Origin', 'OriginState', 'Dest', 'DestState',\n",
       "       'CRSDepTime', 'Cancelled', 'Diverted', 'Distance', 'DistanceGroup',\n",
       "       'ArrDelay', 'ArrDelayMinutes', 'is_delay', 'AirTime', 'DepHourofDay'],\n",
       "      dtype='object')"
      ]
     },
     "execution_count": 67,
     "metadata": {},
     "output_type": "execute_result"
    }
   ],
   "source": [
    "data.columns"
   ]
  },
  {
   "cell_type": "markdown",
   "metadata": {},
   "source": [
    "Filtering the required columns:\n",
    "- Date is redundant, because you have Year, Quarter, Month, DayofMonth, and DayOfWeek to describe the date.\n",
    "- Use Origin and Dest codes instead of OriginState and DestState.\n",
    "- Because you are just classifying whether the flight is delayed or not, you don't need TotalDelayMinutes, DepDelayMinutes, and ArrDelayMinutes.\n",
    "\n",
    "Treat DepHourofDay as a categorical variable because it doesn't have any quantitative relation with the target.\n",
    "- If you had to do a one-hot encoding of it, it would result in 23 more columns.\n",
    "- Other alternatives to handling categorical variables include hash encoding, regularized mean encoding, and bucketizing the values, among others.\n",
    "- Just split into buckets here.\n",
    "\n",
    "**Hint**: To change a column type to category, use the `astype` function ([documentation](https://pandas.pydata.org/pandas-docs/stable/reference/api/pandas.DataFrame.astype.html))."
   ]
  },
  {
   "cell_type": "code",
   "execution_count": 68,
   "metadata": {},
   "outputs": [],
   "source": [
    "data_orig = data.copy()\n",
    "data = data[[ 'Quarter', 'Month', 'DayofMonth', 'DayOfWeek', \n",
    "       'Reporting_Airline', 'Origin', 'Dest','Distance','DepHourofDay', 'is_delay']]\n",
    "categorical_columns  = ['Quarter', 'Month', 'DayofMonth', 'DayOfWeek', \n",
    "       'Reporting_Airline', 'Origin', 'Dest', 'DepHourofDay', 'is_delay']\n",
    "for c in categorical_columns:\n",
    "    data[c] = data[c].astype('category')# Enter your code here"
   ]
  },
  {
   "cell_type": "markdown",
   "metadata": {},
   "source": [
    "To use one-hot encoding, use the Pandas `get_dummies` function for the categorical columns that you selected above. Then, you can concatenate those generated features to your original dataset using the Pandas `concat` function. For encoding categorical variables, you can also use *dummy encoding* by using a keyword `drop_first=True`. For more information on dummy encoding, see https://en.wikiversity.org/wiki/Dummy_variable_(statistics).\n",
    "\n",
    "For example:\n",
    "```\n",
    "pd.get_dummies(df[['column1','columns2']], drop_first=True)\n",
    "```"
   ]
  },
  {
   "cell_type": "code",
   "execution_count": 71,
   "metadata": {},
   "outputs": [],
   "source": [
    "data_dummies = pd.get_dummies(data[categorical_columns], drop_first=True) # Enter your code here\n",
    "data = pd.concat([data, data_dummies], axis = 1)\n",
    "categorical_columns.remove('is_delay')\n",
    "data.drop(categorical_columns,axis=1, inplace=True)"
   ]
  },
  {
   "cell_type": "markdown",
   "metadata": {},
   "source": [
    "Check the length of the dataset and the new columnms."
   ]
  },
  {
   "cell_type": "code",
   "execution_count": 72,
   "metadata": {},
   "outputs": [
    {
     "data": {
      "text/plain": [
       "1635590"
      ]
     },
     "execution_count": 72,
     "metadata": {},
     "output_type": "execute_result"
    }
   ],
   "source": [
    "# Enter your code here\n",
    "len(data)"
   ]
  },
  {
   "cell_type": "code",
   "execution_count": 73,
   "metadata": {},
   "outputs": [
    {
     "data": {
      "text/plain": [
       "Index(['Distance', 'is_delay', 'Quarter_2', 'Quarter_3', 'Quarter_4',\n",
       "       'Month_2', 'Month_3', 'Month_4', 'Month_5', 'Month_6', 'Month_7',\n",
       "       'Month_8', 'Month_9', 'Month_10', 'Month_11', 'Month_12',\n",
       "       'DayofMonth_2', 'DayofMonth_3', 'DayofMonth_4', 'DayofMonth_5',\n",
       "       'DayofMonth_6', 'DayofMonth_7', 'DayofMonth_8', 'DayofMonth_9',\n",
       "       'DayofMonth_10', 'DayofMonth_11', 'DayofMonth_12', 'DayofMonth_13',\n",
       "       'DayofMonth_14', 'DayofMonth_15', 'DayofMonth_16', 'DayofMonth_17',\n",
       "       'DayofMonth_18', 'DayofMonth_19', 'DayofMonth_20', 'DayofMonth_21',\n",
       "       'DayofMonth_22', 'DayofMonth_23', 'DayofMonth_24', 'DayofMonth_25',\n",
       "       'DayofMonth_26', 'DayofMonth_27', 'DayofMonth_28', 'DayofMonth_29',\n",
       "       'DayofMonth_30', 'DayofMonth_31', 'DayOfWeek_2', 'DayOfWeek_3',\n",
       "       'DayOfWeek_4', 'DayOfWeek_5', 'DayOfWeek_6', 'DayOfWeek_7',\n",
       "       'Reporting_Airline_DL', 'Reporting_Airline_OO', 'Reporting_Airline_UA',\n",
       "       'Reporting_Airline_WN', 'Origin_CLT', 'Origin_DEN', 'Origin_DFW',\n",
       "       'Origin_IAH', 'Origin_LAX', 'Origin_ORD', 'Origin_PHX', 'Origin_SFO',\n",
       "       'Dest_CLT', 'Dest_DEN', 'Dest_DFW', 'Dest_IAH', 'Dest_LAX', 'Dest_ORD',\n",
       "       'Dest_PHX', 'Dest_SFO', 'DepHourofDay_1', 'DepHourofDay_2',\n",
       "       'DepHourofDay_4', 'DepHourofDay_5', 'DepHourofDay_6', 'DepHourofDay_7',\n",
       "       'DepHourofDay_8', 'DepHourofDay_9', 'DepHourofDay_10',\n",
       "       'DepHourofDay_11', 'DepHourofDay_12', 'DepHourofDay_13',\n",
       "       'DepHourofDay_14', 'DepHourofDay_15', 'DepHourofDay_16',\n",
       "       'DepHourofDay_17', 'DepHourofDay_18', 'DepHourofDay_19',\n",
       "       'DepHourofDay_20', 'DepHourofDay_21', 'DepHourofDay_22',\n",
       "       'DepHourofDay_23', 'is_delay_1.0'],\n",
       "      dtype='object')"
      ]
     },
     "execution_count": 73,
     "metadata": {},
     "output_type": "execute_result"
    }
   ],
   "source": [
    "# Enter your code here\n",
    "\n",
    "data.columns"
   ]
  },
  {
   "cell_type": "markdown",
   "metadata": {},
   "source": [
    "**Sample Answer:** \n",
    "```\n",
    "Index(['Distance', 'is_delay', 'Quarter_2', 'Quarter_3', 'Quarter_4',\n",
    "       'Month_2', 'Month_3', 'Month_4', 'Month_5', 'Month_6', 'Month_7',\n",
    "       'Month_8', 'Month_9', 'Month_10', 'Month_11', 'Month_12',\n",
    "       'DayofMonth_2', 'DayofMonth_3', 'DayofMonth_4', 'DayofMonth_5',\n",
    "       'DayofMonth_6', 'DayofMonth_7', 'DayofMonth_8', 'DayofMonth_9',\n",
    "       'DayofMonth_10', 'DayofMonth_11', 'DayofMonth_12', 'DayofMonth_13',\n",
    "       'DayofMonth_14', 'DayofMonth_15', 'DayofMonth_16', 'DayofMonth_17',\n",
    "       'DayofMonth_18', 'DayofMonth_19', 'DayofMonth_20', 'DayofMonth_21',\n",
    "       'DayofMonth_22', 'DayofMonth_23', 'DayofMonth_24', 'DayofMonth_25',\n",
    "       'DayofMonth_26', 'DayofMonth_27', 'DayofMonth_28', 'DayofMonth_29',\n",
    "       'DayofMonth_30', 'DayofMonth_31', 'DayOfWeek_2', 'DayOfWeek_3',\n",
    "       'DayOfWeek_4', 'DayOfWeek_5', 'DayOfWeek_6', 'DayOfWeek_7',\n",
    "       'Reporting_Airline_DL', 'Reporting_Airline_OO', 'Reporting_Airline_UA',\n",
    "       'Reporting_Airline_WN', 'Origin_CLT', 'Origin_DEN', 'Origin_DFW',\n",
    "       'Origin_IAH', 'Origin_LAX', 'Origin_ORD', 'Origin_PHX', 'Origin_SFO',\n",
    "       'Dest_CLT', 'Dest_DEN', 'Dest_DFW', 'Dest_IAH', 'Dest_LAX', 'Dest_ORD',\n",
    "       'Dest_PHX', 'Dest_SFO'],\n",
    "      dtype='object')\n",
    "```"
   ]
  },
  {
   "cell_type": "markdown",
   "metadata": {},
   "source": [
    "Now you are ready to do model training. Before splitting the data, rename the column `is_delay` to `target`.\n",
    "\n",
    "**Hint**: You can use the Pandas `rename` function ([documentation](https://pandas.pydata.org/pandas-docs/stable/reference/api/pandas.DataFrame.rename.html))."
   ]
  },
  {
   "cell_type": "code",
   "execution_count": 74,
   "metadata": {},
   "outputs": [],
   "source": [
    "data.rename(columns = {'is_delay':'target'}, inplace=True )# Enter your code here"
   ]
  },
  {
   "cell_type": "code",
   "execution_count": 75,
   "metadata": {},
   "outputs": [
    {
     "data": {
      "text/html": [
       "<div>\n",
       "<style scoped>\n",
       "    .dataframe tbody tr th:only-of-type {\n",
       "        vertical-align: middle;\n",
       "    }\n",
       "\n",
       "    .dataframe tbody tr th {\n",
       "        vertical-align: top;\n",
       "    }\n",
       "\n",
       "    .dataframe thead th {\n",
       "        text-align: right;\n",
       "    }\n",
       "</style>\n",
       "<table border=\"1\" class=\"dataframe\">\n",
       "  <thead>\n",
       "    <tr style=\"text-align: right;\">\n",
       "      <th></th>\n",
       "      <th>Distance</th>\n",
       "      <th>target</th>\n",
       "      <th>Quarter_2</th>\n",
       "      <th>Quarter_3</th>\n",
       "      <th>Quarter_4</th>\n",
       "      <th>Month_2</th>\n",
       "      <th>Month_3</th>\n",
       "      <th>Month_4</th>\n",
       "      <th>Month_5</th>\n",
       "      <th>Month_6</th>\n",
       "      <th>...</th>\n",
       "      <th>DepHourofDay_15</th>\n",
       "      <th>DepHourofDay_16</th>\n",
       "      <th>DepHourofDay_17</th>\n",
       "      <th>DepHourofDay_18</th>\n",
       "      <th>DepHourofDay_19</th>\n",
       "      <th>DepHourofDay_20</th>\n",
       "      <th>DepHourofDay_21</th>\n",
       "      <th>DepHourofDay_22</th>\n",
       "      <th>DepHourofDay_23</th>\n",
       "      <th>is_delay_1.0</th>\n",
       "    </tr>\n",
       "  </thead>\n",
       "  <tbody>\n",
       "    <tr>\n",
       "      <th>0</th>\n",
       "      <td>925.0</td>\n",
       "      <td>0.0</td>\n",
       "      <td>0</td>\n",
       "      <td>0</td>\n",
       "      <td>0</td>\n",
       "      <td>0</td>\n",
       "      <td>1</td>\n",
       "      <td>0</td>\n",
       "      <td>0</td>\n",
       "      <td>0</td>\n",
       "      <td>...</td>\n",
       "      <td>0</td>\n",
       "      <td>0</td>\n",
       "      <td>0</td>\n",
       "      <td>0</td>\n",
       "      <td>0</td>\n",
       "      <td>0</td>\n",
       "      <td>1</td>\n",
       "      <td>0</td>\n",
       "      <td>0</td>\n",
       "      <td>0</td>\n",
       "    </tr>\n",
       "    <tr>\n",
       "      <th>1</th>\n",
       "      <td>925.0</td>\n",
       "      <td>0.0</td>\n",
       "      <td>0</td>\n",
       "      <td>0</td>\n",
       "      <td>0</td>\n",
       "      <td>0</td>\n",
       "      <td>1</td>\n",
       "      <td>0</td>\n",
       "      <td>0</td>\n",
       "      <td>0</td>\n",
       "      <td>...</td>\n",
       "      <td>0</td>\n",
       "      <td>0</td>\n",
       "      <td>0</td>\n",
       "      <td>0</td>\n",
       "      <td>0</td>\n",
       "      <td>0</td>\n",
       "      <td>0</td>\n",
       "      <td>0</td>\n",
       "      <td>0</td>\n",
       "      <td>0</td>\n",
       "    </tr>\n",
       "    <tr>\n",
       "      <th>2</th>\n",
       "      <td>1379.0</td>\n",
       "      <td>0.0</td>\n",
       "      <td>0</td>\n",
       "      <td>0</td>\n",
       "      <td>0</td>\n",
       "      <td>0</td>\n",
       "      <td>1</td>\n",
       "      <td>0</td>\n",
       "      <td>0</td>\n",
       "      <td>0</td>\n",
       "      <td>...</td>\n",
       "      <td>0</td>\n",
       "      <td>0</td>\n",
       "      <td>0</td>\n",
       "      <td>0</td>\n",
       "      <td>1</td>\n",
       "      <td>0</td>\n",
       "      <td>0</td>\n",
       "      <td>0</td>\n",
       "      <td>0</td>\n",
       "      <td>0</td>\n",
       "    </tr>\n",
       "    <tr>\n",
       "      <th>3</th>\n",
       "      <td>1009.0</td>\n",
       "      <td>0.0</td>\n",
       "      <td>0</td>\n",
       "      <td>0</td>\n",
       "      <td>0</td>\n",
       "      <td>0</td>\n",
       "      <td>1</td>\n",
       "      <td>0</td>\n",
       "      <td>0</td>\n",
       "      <td>0</td>\n",
       "      <td>...</td>\n",
       "      <td>0</td>\n",
       "      <td>0</td>\n",
       "      <td>0</td>\n",
       "      <td>0</td>\n",
       "      <td>0</td>\n",
       "      <td>0</td>\n",
       "      <td>0</td>\n",
       "      <td>0</td>\n",
       "      <td>0</td>\n",
       "      <td>0</td>\n",
       "    </tr>\n",
       "    <tr>\n",
       "      <th>4</th>\n",
       "      <td>1009.0</td>\n",
       "      <td>0.0</td>\n",
       "      <td>0</td>\n",
       "      <td>0</td>\n",
       "      <td>0</td>\n",
       "      <td>0</td>\n",
       "      <td>1</td>\n",
       "      <td>0</td>\n",
       "      <td>0</td>\n",
       "      <td>0</td>\n",
       "      <td>...</td>\n",
       "      <td>1</td>\n",
       "      <td>0</td>\n",
       "      <td>0</td>\n",
       "      <td>0</td>\n",
       "      <td>0</td>\n",
       "      <td>0</td>\n",
       "      <td>0</td>\n",
       "      <td>0</td>\n",
       "      <td>0</td>\n",
       "      <td>0</td>\n",
       "    </tr>\n",
       "    <tr>\n",
       "      <th>...</th>\n",
       "      <td>...</td>\n",
       "      <td>...</td>\n",
       "      <td>...</td>\n",
       "      <td>...</td>\n",
       "      <td>...</td>\n",
       "      <td>...</td>\n",
       "      <td>...</td>\n",
       "      <td>...</td>\n",
       "      <td>...</td>\n",
       "      <td>...</td>\n",
       "      <td>...</td>\n",
       "      <td>...</td>\n",
       "      <td>...</td>\n",
       "      <td>...</td>\n",
       "      <td>...</td>\n",
       "      <td>...</td>\n",
       "      <td>...</td>\n",
       "      <td>...</td>\n",
       "      <td>...</td>\n",
       "      <td>...</td>\n",
       "      <td>...</td>\n",
       "    </tr>\n",
       "    <tr>\n",
       "      <th>1658125</th>\n",
       "      <td>1744.0</td>\n",
       "      <td>1.0</td>\n",
       "      <td>0</td>\n",
       "      <td>0</td>\n",
       "      <td>0</td>\n",
       "      <td>1</td>\n",
       "      <td>0</td>\n",
       "      <td>0</td>\n",
       "      <td>0</td>\n",
       "      <td>0</td>\n",
       "      <td>...</td>\n",
       "      <td>0</td>\n",
       "      <td>0</td>\n",
       "      <td>0</td>\n",
       "      <td>0</td>\n",
       "      <td>0</td>\n",
       "      <td>0</td>\n",
       "      <td>0</td>\n",
       "      <td>0</td>\n",
       "      <td>0</td>\n",
       "      <td>1</td>\n",
       "    </tr>\n",
       "    <tr>\n",
       "      <th>1658126</th>\n",
       "      <td>925.0</td>\n",
       "      <td>1.0</td>\n",
       "      <td>0</td>\n",
       "      <td>0</td>\n",
       "      <td>0</td>\n",
       "      <td>1</td>\n",
       "      <td>0</td>\n",
       "      <td>0</td>\n",
       "      <td>0</td>\n",
       "      <td>0</td>\n",
       "      <td>...</td>\n",
       "      <td>0</td>\n",
       "      <td>0</td>\n",
       "      <td>0</td>\n",
       "      <td>0</td>\n",
       "      <td>0</td>\n",
       "      <td>0</td>\n",
       "      <td>0</td>\n",
       "      <td>0</td>\n",
       "      <td>0</td>\n",
       "      <td>1</td>\n",
       "    </tr>\n",
       "    <tr>\n",
       "      <th>1658127</th>\n",
       "      <td>337.0</td>\n",
       "      <td>1.0</td>\n",
       "      <td>0</td>\n",
       "      <td>0</td>\n",
       "      <td>0</td>\n",
       "      <td>1</td>\n",
       "      <td>0</td>\n",
       "      <td>0</td>\n",
       "      <td>0</td>\n",
       "      <td>0</td>\n",
       "      <td>...</td>\n",
       "      <td>0</td>\n",
       "      <td>1</td>\n",
       "      <td>0</td>\n",
       "      <td>0</td>\n",
       "      <td>0</td>\n",
       "      <td>0</td>\n",
       "      <td>0</td>\n",
       "      <td>0</td>\n",
       "      <td>0</td>\n",
       "      <td>1</td>\n",
       "    </tr>\n",
       "    <tr>\n",
       "      <th>1658128</th>\n",
       "      <td>888.0</td>\n",
       "      <td>1.0</td>\n",
       "      <td>0</td>\n",
       "      <td>0</td>\n",
       "      <td>0</td>\n",
       "      <td>1</td>\n",
       "      <td>0</td>\n",
       "      <td>0</td>\n",
       "      <td>0</td>\n",
       "      <td>0</td>\n",
       "      <td>...</td>\n",
       "      <td>0</td>\n",
       "      <td>1</td>\n",
       "      <td>0</td>\n",
       "      <td>0</td>\n",
       "      <td>0</td>\n",
       "      <td>0</td>\n",
       "      <td>0</td>\n",
       "      <td>0</td>\n",
       "      <td>0</td>\n",
       "      <td>1</td>\n",
       "    </tr>\n",
       "    <tr>\n",
       "      <th>1658129</th>\n",
       "      <td>862.0</td>\n",
       "      <td>0.0</td>\n",
       "      <td>0</td>\n",
       "      <td>0</td>\n",
       "      <td>0</td>\n",
       "      <td>1</td>\n",
       "      <td>0</td>\n",
       "      <td>0</td>\n",
       "      <td>0</td>\n",
       "      <td>0</td>\n",
       "      <td>...</td>\n",
       "      <td>0</td>\n",
       "      <td>0</td>\n",
       "      <td>0</td>\n",
       "      <td>0</td>\n",
       "      <td>0</td>\n",
       "      <td>0</td>\n",
       "      <td>1</td>\n",
       "      <td>0</td>\n",
       "      <td>0</td>\n",
       "      <td>0</td>\n",
       "    </tr>\n",
       "  </tbody>\n",
       "</table>\n",
       "<p>1635590 rows × 95 columns</p>\n",
       "</div>"
      ],
      "text/plain": [
       "         Distance target  Quarter_2  Quarter_3  Quarter_4  Month_2  Month_3  \\\n",
       "0           925.0    0.0          0          0          0        0        1   \n",
       "1           925.0    0.0          0          0          0        0        1   \n",
       "2          1379.0    0.0          0          0          0        0        1   \n",
       "3          1009.0    0.0          0          0          0        0        1   \n",
       "4          1009.0    0.0          0          0          0        0        1   \n",
       "...           ...    ...        ...        ...        ...      ...      ...   \n",
       "1658125    1744.0    1.0          0          0          0        1        0   \n",
       "1658126     925.0    1.0          0          0          0        1        0   \n",
       "1658127     337.0    1.0          0          0          0        1        0   \n",
       "1658128     888.0    1.0          0          0          0        1        0   \n",
       "1658129     862.0    0.0          0          0          0        1        0   \n",
       "\n",
       "         Month_4  Month_5  Month_6  ...  DepHourofDay_15  DepHourofDay_16  \\\n",
       "0              0        0        0  ...                0                0   \n",
       "1              0        0        0  ...                0                0   \n",
       "2              0        0        0  ...                0                0   \n",
       "3              0        0        0  ...                0                0   \n",
       "4              0        0        0  ...                1                0   \n",
       "...          ...      ...      ...  ...              ...              ...   \n",
       "1658125        0        0        0  ...                0                0   \n",
       "1658126        0        0        0  ...                0                0   \n",
       "1658127        0        0        0  ...                0                1   \n",
       "1658128        0        0        0  ...                0                1   \n",
       "1658129        0        0        0  ...                0                0   \n",
       "\n",
       "         DepHourofDay_17  DepHourofDay_18  DepHourofDay_19  DepHourofDay_20  \\\n",
       "0                      0                0                0                0   \n",
       "1                      0                0                0                0   \n",
       "2                      0                0                1                0   \n",
       "3                      0                0                0                0   \n",
       "4                      0                0                0                0   \n",
       "...                  ...              ...              ...              ...   \n",
       "1658125                0                0                0                0   \n",
       "1658126                0                0                0                0   \n",
       "1658127                0                0                0                0   \n",
       "1658128                0                0                0                0   \n",
       "1658129                0                0                0                0   \n",
       "\n",
       "         DepHourofDay_21  DepHourofDay_22  DepHourofDay_23  is_delay_1.0  \n",
       "0                      1                0                0             0  \n",
       "1                      0                0                0             0  \n",
       "2                      0                0                0             0  \n",
       "3                      0                0                0             0  \n",
       "4                      0                0                0             0  \n",
       "...                  ...              ...              ...           ...  \n",
       "1658125                0                0                0             1  \n",
       "1658126                0                0                0             1  \n",
       "1658127                0                0                0             1  \n",
       "1658128                0                0                0             1  \n",
       "1658129                1                0                0             0  \n",
       "\n",
       "[1635590 rows x 95 columns]"
      ]
     },
     "execution_count": 75,
     "metadata": {},
     "output_type": "execute_result"
    }
   ],
   "source": [
    "data"
   ]
  },
  {
   "cell_type": "markdown",
   "metadata": {},
   "source": [
    "## <span style=\"color:red\"> End of Lab 2 </span>\n",
    "\n",
    "Save the project file to your local computer. Follow these steps:\n",
    "\n",
    "1. At the top of the page, click the **File** menu. \n",
    "\n",
    "1. Select **Download as**, and click **Notebook(.ipynb)**.  \n",
    "\n",
    "This downloads the current notebook to the default download folder on your computer."
   ]
  },
  {
   "cell_type": "markdown",
   "metadata": {},
   "source": [
    "# Step 3: Model training and evaluation\n",
    "\n",
    "There are some preliminary steps that you must include when converting the dataset from a dataframe to a format that a machine learning algorithm can use. For Amazon SageMaker, here are the steps you need to take:\n",
    "\n",
    "1. Split the data into `train_data`, `validation_data`, and `test_data` using `sklearn.model_selection.train_test_split`.  \n",
    "2. Convert the dataset to an appropriate file format that the Amazon SageMaker training job can use. This can be either a CSV file or record protobuf. For more information, see [Common Data Formats for Training](https://docs.aws.amazon.com/sagemaker/latest/dg/cdf-training.html).  \n",
    "3. Upload the data to your Amazon S3 bucket. If you have not created one before, see [Create a Bucket](https://docs.aws.amazon.com/AmazonS3/latest/gsg/CreatingABucket.html).  \n",
    "\n",
    "Use the following cells to complete these steps. Insert and delete cells where needed.\n",
    "\n",
    "#### <span style=\"color: blue;\">Project presentation: Take note of the key decisions you've made in this phase in your project presentation.</span>"
   ]
  },
  {
   "cell_type": "markdown",
   "metadata": {},
   "source": [
    "### Train test split"
   ]
  },
  {
   "cell_type": "code",
   "execution_count": 79,
   "metadata": {},
   "outputs": [],
   "source": [
    "from sklearn.model_selection import train_test_split\n",
    "\n",
    "def create_training_sets(data):\n",
    "    \"\"\"\n",
    "    Convert data frame to train, validation and test\n",
    "    params:\n",
    "        data: The dataframe with the dataset to be split\n",
    "    Returns:\n",
    "        train_features: Training feature dataset\n",
    "        test_features: Test feature dataset \n",
    "        train_labels: Labels for the training dataset\n",
    "        test_labels: Labels for the test dataset\n",
    "        val_features: Validation feature dataset\n",
    "        val_labels: Labels for the validation dataset\n",
    "    \"\"\"\n",
    "    # Extract the target variable from the dataframe and convert the type to float32\n",
    "    ys = np.array(data['target']).astype(\"float32\") # Enter your code here\n",
    "    \n",
    "    # Drop all the unwanted columns including the target column\n",
    "    drop_list = ['target']# Enter your code here\n",
    "    \n",
    "    # Drop the columns from the drop_list and convert the data into a NumPy array of type float32\n",
    "    xs = np.array(data.drop(drop_list, axis=1)).astype(\"float32\")# Enter your code here\n",
    "    \n",
    "    np.random.seed(0)\n",
    "\n",
    "    # Use the sklearn function train_test_split to split the dataset in the ratio train 80% and test 20%\n",
    "    # Example: train_test_split(x, y, test_size=0.3)\n",
    "    train_features, test_features, train_labels, test_labels = train_test_split(xs, ys, test_size=0.2)# Enter your code here\n",
    "    \n",
    "    # Use the sklearn function again to split the test dataset into 50% validation and 50% test\n",
    "    val_features, test_features, val_labels, test_labels = train_test_split(test_features, test_labels, test_size=0.5)# Enter your code here\n",
    "    \n",
    "    \n",
    "    return train_features, test_features, train_labels, test_labels, val_features, val_labels"
   ]
  },
  {
   "cell_type": "code",
   "execution_count": 81,
   "metadata": {},
   "outputs": [
    {
     "name": "stdout",
     "output_type": "stream",
     "text": [
      "Length of train_features is: (1308472, 94)\n",
      "Length of train_labels is: (1308472,)\n",
      "Length of val_features is: (163559, 94)\n",
      "Length of val_labels is: (163559,)\n",
      "Length of test_features is: (163559, 94)\n",
      "Length of test_labels is: (163559,)\n"
     ]
    }
   ],
   "source": [
    "# Use the function to create your datasets\n",
    "train_features, test_features, train_labels, test_labels, val_features, val_labels = create_training_sets(data)\n",
    "\n",
    "print(f\"Length of train_features is: {train_features.shape}\")\n",
    "print(f\"Length of train_labels is: {train_labels.shape}\")\n",
    "print(f\"Length of val_features is: {val_features.shape}\")\n",
    "print(f\"Length of val_labels is: {val_labels.shape}\")\n",
    "print(f\"Length of test_features is: {test_features.shape}\")\n",
    "print(f\"Length of test_labels is: {test_labels.shape}\")"
   ]
  },
  {
   "cell_type": "markdown",
   "metadata": {},
   "source": [
    "**Sample answer**\n",
    "```\n",
    "Length of train_features is: (1308472, 71)\n",
    "Length of train_labels is: (1308472,)\n",
    "Length of val_features is: (163559, 71)\n",
    "Length of val_labels is: (163559,)\n",
    "Length of test_features is: (163559, 71)\n",
    "Length of test_labels is: (163559,)\n",
    "```"
   ]
  },
  {
   "cell_type": "markdown",
   "metadata": {},
   "source": [
    "### Baseline classification model"
   ]
  },
  {
   "cell_type": "code",
   "execution_count": 82,
   "metadata": {},
   "outputs": [],
   "source": [
    "import sagemaker\n",
    "from sagemaker.predictor import CSVSerializer\n",
    "from sagemaker.amazon.amazon_estimator import RecordSet\n",
    "import boto3\n",
    "\n",
    "num_classes = len(pd.unique(train_labels)) # Enter your code here\n",
    "\n",
    "# Instantiate the LinearLearner estimator object with 1 ml.m4.xlarge\n",
    "classifier_estimator = sagemaker.LinearLearner(role=sagemaker.get_execution_role(),\n",
    "                                               instance_count=1,\n",
    "                                               instance_type='ml.m4.xlarge',\n",
    "                                               predictor_type='binary_classifier',\n",
    "                                              binary_classifier_model_selection_criteria='cross_entropy_loss')"
   ]
  },
  {
   "cell_type": "markdown",
   "metadata": {},
   "source": [
    "### Sample Code\n",
    "```\n",
    "num_classes = len(pd.unique(train_labels))\n",
    "classifier_estimator = sagemaker.LinearLearner(role=sagemaker.get_execution_role(),\n",
    "                                              instance_count=1,\n",
    "                                              instance_type='ml.m4.xlarge',\n",
    "                                              predictor_type='binary_classifier',\n",
    "                                             binary_classifier_model_selection_criteria = 'cross_entropy_loss')\n",
    "                                              \n",
    "```"
   ]
  },
  {
   "cell_type": "markdown",
   "metadata": {},
   "source": [
    "Linear learner accepts training data in protobuf or CSV content types, and accepts inference requests in protobuf, CSV, or JSON content types. Training data has features and ground-truth labels, while the data in an inference request has only features.\n",
    "\n",
    "In a production pipeline, it is recommended to convert the data to the Amazon SageMaker protobuf format and store it in Amazon S3. However, to get up and running quickly, AWS provides the convenient method `record_set` for converting and uploading when the dataset is small enough to fit in local memory. It accepts NumPy arrays like the ones you already have, so let's use it here. The `RecordSet` object will keep track of the temporary Amazon S3 location of your data. Use the `estimator.record_set` function to create train, validation, and test records. Then, use the `estimator.fit` function to start your training job."
   ]
  },
  {
   "cell_type": "code",
   "execution_count": 83,
   "metadata": {},
   "outputs": [],
   "source": [
    "### Create train, val, test records\n",
    "train_records = classifier_estimator.record_set(train_features,train_labels, channel='train')# Enter your code here\n",
    "val_records = classifier_estimator.record_set(val_features,val_labels, channel='validation')# Enter your code here\n",
    "test_records = classifier_estimator.record_set(test_features,test_labels, channel='test')# Enter your code here"
   ]
  },
  {
   "cell_type": "markdown",
   "metadata": {},
   "source": [
    "Now, train your model on the dataset that you just uplaoded.\n",
    "\n",
    "### Sample code\n",
    "```\n",
    "linear.fit([train_records,val_records,test_records])\n",
    "```"
   ]
  },
  {
   "cell_type": "code",
   "execution_count": 84,
   "metadata": {},
   "outputs": [
    {
     "name": "stdout",
     "output_type": "stream",
     "text": [
      "2022-11-10 10:38:05 Starting - Starting the training job...ProfilerReport-1668076684: InProgress\n",
      "...\n",
      "2022-11-10 10:38:49 Starting - Preparing the instances for training.........\n",
      "2022-11-10 10:40:32 Downloading - Downloading input data.........\n",
      "2022-11-10 10:41:58 Training - Training image download completed. Training in progress..\u001b[34mDocker entrypoint called with argument(s): train\u001b[0m\n",
      "\u001b[34mRunning default environment configuration script\u001b[0m\n",
      "\u001b[34m[11/10/2022 10:42:00 INFO 140517880678208] Reading default configuration from /opt/amazon/lib/python3.7/site-packages/algorithm/resources/default-input.json: {'mini_batch_size': '1000', 'epochs': '15', 'feature_dim': 'auto', 'use_bias': 'true', 'binary_classifier_model_selection_criteria': 'accuracy', 'f_beta': '1.0', 'target_recall': '0.8', 'target_precision': '0.8', 'num_models': 'auto', 'num_calibration_samples': '10000000', 'init_method': 'uniform', 'init_scale': '0.07', 'init_sigma': '0.01', 'init_bias': '0.0', 'optimizer': 'auto', 'loss': 'auto', 'margin': '1.0', 'quantile': '0.5', 'loss_insensitivity': '0.01', 'huber_delta': '1.0', 'num_classes': '1', 'accuracy_top_k': '3', 'wd': 'auto', 'l1': 'auto', 'momentum': 'auto', 'learning_rate': 'auto', 'beta_1': 'auto', 'beta_2': 'auto', 'bias_lr_mult': 'auto', 'bias_wd_mult': 'auto', 'use_lr_scheduler': 'true', 'lr_scheduler_step': 'auto', 'lr_scheduler_factor': 'auto', 'lr_scheduler_minimum_lr': 'auto', 'positive_example_weight_mult': '1.0', 'balance_multiclass_weights': 'false', 'normalize_data': 'true', 'normalize_label': 'auto', 'unbias_data': 'auto', 'unbias_label': 'auto', 'num_point_for_scaler': '10000', '_kvstore': 'auto', '_num_gpus': 'auto', '_num_kv_servers': 'auto', '_log_level': 'info', '_tuning_objective_metric': '', 'early_stopping_patience': '3', 'early_stopping_tolerance': '0.001', '_enable_profiler': 'false'}\u001b[0m\n",
      "\u001b[34m[11/10/2022 10:42:00 INFO 140517880678208] Merging with provided configuration from /opt/ml/input/config/hyperparameters.json: {'binary_classifier_model_selection_criteria': 'cross_entropy_loss', 'feature_dim': '94', 'mini_batch_size': '1000', 'predictor_type': 'binary_classifier'}\u001b[0m\n",
      "\u001b[34m[11/10/2022 10:42:00 INFO 140517880678208] Final configuration: {'mini_batch_size': '1000', 'epochs': '15', 'feature_dim': '94', 'use_bias': 'true', 'binary_classifier_model_selection_criteria': 'cross_entropy_loss', 'f_beta': '1.0', 'target_recall': '0.8', 'target_precision': '0.8', 'num_models': 'auto', 'num_calibration_samples': '10000000', 'init_method': 'uniform', 'init_scale': '0.07', 'init_sigma': '0.01', 'init_bias': '0.0', 'optimizer': 'auto', 'loss': 'auto', 'margin': '1.0', 'quantile': '0.5', 'loss_insensitivity': '0.01', 'huber_delta': '1.0', 'num_classes': '1', 'accuracy_top_k': '3', 'wd': 'auto', 'l1': 'auto', 'momentum': 'auto', 'learning_rate': 'auto', 'beta_1': 'auto', 'beta_2': 'auto', 'bias_lr_mult': 'auto', 'bias_wd_mult': 'auto', 'use_lr_scheduler': 'true', 'lr_scheduler_step': 'auto', 'lr_scheduler_factor': 'auto', 'lr_scheduler_minimum_lr': 'auto', 'positive_example_weight_mult': '1.0', 'balance_multiclass_weights': 'false', 'normalize_data': 'true', 'normalize_label': 'auto', 'unbias_data': 'auto', 'unbias_label': 'auto', 'num_point_for_scaler': '10000', '_kvstore': 'auto', '_num_gpus': 'auto', '_num_kv_servers': 'auto', '_log_level': 'info', '_tuning_objective_metric': '', 'early_stopping_patience': '3', 'early_stopping_tolerance': '0.001', '_enable_profiler': 'false', 'predictor_type': 'binary_classifier'}\u001b[0m\n",
      "\u001b[34m[11/10/2022 10:42:03 WARNING 140517880678208] Loggers have already been setup.\u001b[0m\n",
      "\u001b[34m[11/10/2022 10:42:03 INFO 140517880678208] Final configuration: {'mini_batch_size': '1000', 'epochs': '15', 'feature_dim': '94', 'use_bias': 'true', 'binary_classifier_model_selection_criteria': 'cross_entropy_loss', 'f_beta': '1.0', 'target_recall': '0.8', 'target_precision': '0.8', 'num_models': 'auto', 'num_calibration_samples': '10000000', 'init_method': 'uniform', 'init_scale': '0.07', 'init_sigma': '0.01', 'init_bias': '0.0', 'optimizer': 'auto', 'loss': 'auto', 'margin': '1.0', 'quantile': '0.5', 'loss_insensitivity': '0.01', 'huber_delta': '1.0', 'num_classes': '1', 'accuracy_top_k': '3', 'wd': 'auto', 'l1': 'auto', 'momentum': 'auto', 'learning_rate': 'auto', 'beta_1': 'auto', 'beta_2': 'auto', 'bias_lr_mult': 'auto', 'bias_wd_mult': 'auto', 'use_lr_scheduler': 'true', 'lr_scheduler_step': 'auto', 'lr_scheduler_factor': 'auto', 'lr_scheduler_minimum_lr': 'auto', 'positive_example_weight_mult': '1.0', 'balance_multiclass_weights': 'false', 'normalize_data': 'true', 'normalize_label': 'auto', 'unbias_data': 'auto', 'unbias_label': 'auto', 'num_point_for_scaler': '10000', '_kvstore': 'auto', '_num_gpus': 'auto', '_num_kv_servers': 'auto', '_log_level': 'info', '_tuning_objective_metric': '', 'early_stopping_patience': '3', 'early_stopping_tolerance': '0.001', '_enable_profiler': 'false', 'predictor_type': 'binary_classifier'}\u001b[0m\n",
      "\u001b[34m[11/10/2022 10:42:03 WARNING 140517880678208] Loggers have already been setup.\u001b[0m\n",
      "\u001b[34mProcess 1 is a worker.\u001b[0m\n",
      "\u001b[34m[11/10/2022 10:42:03 INFO 140517880678208] Using default worker.\u001b[0m\n",
      "\u001b[34m[11/10/2022 10:42:03 INFO 140517880678208] Checkpoint loading and saving are disabled.\u001b[0m\n",
      "\u001b[34m[2022-11-10 10:42:03.769] [tensorio] [warning] TensorIO is already initialized; ignoring the initialization routine.\u001b[0m\n",
      "\u001b[34m[2022-11-10 10:42:03.783] [tensorio] [warning] TensorIO is already initialized; ignoring the initialization routine.\u001b[0m\n",
      "\u001b[34m[2022-11-10 10:42:03.842] [tensorio] [info] epoch_stats={\"data_pipeline\": \"/opt/ml/input/data/train\", \"epoch\": 0, \"duration\": 77, \"num_examples\": 1, \"num_bytes\": 424000}\u001b[0m\n",
      "\u001b[34m[11/10/2022 10:42:03 INFO 140517880678208] Create Store: local\u001b[0m\n",
      "\u001b[34m[2022-11-10 10:42:03.966] [tensorio] [info] epoch_stats={\"data_pipeline\": \"/opt/ml/input/data/train\", \"epoch\": 1, \"duration\": 122, \"num_examples\": 11, \"num_bytes\": 4664000}\u001b[0m\n",
      "\u001b[34m[11/10/2022 10:42:03 INFO 140517880678208] Scaler algorithm parameters\n",
      " <algorithm.scaler.ScalerAlgorithmStable object at 0x7fcc54029610>\u001b[0m\n",
      "\u001b[34m[11/10/2022 10:42:03 INFO 140517880678208] Scaling model computed with parameters:\n",
      " {'stdev_label': None, 'stdev_weight': \u001b[0m\n",
      "\u001b[34m[5.36217773e+02 4.33431745e-01 4.43107873e-01 4.34679300e-01\n",
      " 2.49391168e-01 2.77796388e-01 2.69738793e-01 2.78746367e-01\n",
      " 2.81568438e-01 2.85398692e-01 2.89794385e-01 2.80900300e-01\n",
      " 2.82897890e-01 2.75469542e-01 2.75055945e-01 1.83088198e-01\n",
      " 1.70587227e-01 1.75030023e-01 1.72330439e-01 1.72577858e-01\n",
      " 1.86742321e-01 1.80526271e-01 1.81695953e-01 1.65750965e-01\n",
      " 1.75758064e-01 1.63928628e-01 1.77682936e-01 1.83319062e-01\n",
      " 1.75515771e-01 1.81229144e-01 1.79347843e-01 1.75030008e-01\n",
      " 1.80526271e-01 1.85381815e-01 1.80526286e-01 1.80291310e-01\n",
      " 1.81928858e-01 1.80055961e-01 1.79111108e-01 1.75273076e-01\n",
      " 1.70587212e-01 1.84925735e-01 1.78398669e-01 1.77921891e-01\n",
      " 1.36844590e-01 3.49236548e-01 3.58137459e-01 3.56536001e-01\n",
      " 3.61644477e-01 3.26338470e-01 3.49050164e-01 3.67949694e-01\n",
      " 2.38662109e-01 4.59555209e-01 3.12889725e-01 2.39663526e-01\n",
      " 3.18472624e-01 3.28541577e-01 2.73809969e-01 3.54558468e-01\n",
      " 3.41723591e-01 2.97314644e-01 3.27285826e-01 2.39829883e-01\n",
      " 3.18582594e-01 3.27390760e-01 2.66302764e-01 3.60075116e-01\n",
      " 3.39476466e-01 3.00121188e-01 3.29581529e-01 5.55099621e-02\n",
      " 1.00000000e+00 1.00000000e+00 1.60750702e-01 2.30622604e-01\n",
      " 2.52368927e-01 2.52368867e-01 2.43615851e-01 2.49549076e-01\n",
      " 2.34086946e-01 2.42143616e-01 2.35964686e-01 2.42799386e-01\n",
      " 2.37486824e-01 2.35624701e-01 2.51589864e-01 2.17192546e-01\n",
      " 2.22210348e-01 1.90094188e-01 1.61817789e-01 1.67038977e-01\n",
      " 1.08477026e-01 4.08852935e-01]\u001b[0m\n",
      "\u001b[34m<NDArray 94 @cpu(0)>, 'mean_label': None, 'mean_weight': \u001b[0m\n",
      "\u001b[34m[1.01837140e+03 2.50727296e-01 2.68363684e-01 2.52909124e-01\n",
      " 6.66363686e-02 8.42727274e-02 7.90000036e-02 8.49091038e-02\n",
      " 8.68181959e-02 8.94545540e-02 9.25454646e-02 8.63636509e-02\n",
      " 8.77272710e-02 8.27272832e-02 8.24545547e-02 3.47272754e-02\n",
      " 3.00000049e-02 3.16363648e-02 3.06363646e-02 3.07272729e-02\n",
      " 3.61818224e-02 3.37272733e-02 3.41818221e-02 2.82727294e-02\n",
      " 3.19090933e-02 2.76363660e-02 3.26363631e-02 3.48181874e-02\n",
      " 3.18181887e-02 3.39999981e-02 3.32727283e-02 3.16363685e-02\n",
      " 3.37272733e-02 3.56363729e-02 3.37272733e-02 3.36363688e-02\n",
      " 3.42727266e-02 3.35454568e-02 3.31818201e-02 3.17272767e-02\n",
      " 3.00000012e-02 3.54545489e-02 3.29090953e-02 3.27272750e-02\n",
      " 1.90909114e-02 1.42181844e-01 1.51090920e-01 1.49454564e-01\n",
      " 1.54727280e-01 1.21181838e-01 1.42000005e-01 1.61454558e-01\n",
      " 6.06363676e-02 3.03000003e-01 1.10000007e-01 6.11818247e-02\n",
      " 1.14545457e-01 1.23090923e-01 8.16363692e-02 1.47454560e-01\n",
      " 1.35000005e-01 9.80000049e-02 1.22000001e-01 6.12727292e-02\n",
      " 1.14636377e-01 1.22090921e-01 7.68181831e-02 1.53090909e-01\n",
      " 1.32909104e-01 1.00090913e-01 1.24000005e-01 3.09090922e-03\n",
      " 0.00000000e+00 0.00000000e+00 2.65454575e-02 5.63636385e-02\n",
      " 6.83636516e-02 6.83636367e-02 6.33636415e-02 6.67272806e-02\n",
      " 5.81818260e-02 6.25454634e-02 5.91818281e-02 6.29091039e-02\n",
      " 6.00000061e-02 5.90000115e-02 6.79090917e-02 4.96363714e-02\n",
      " 5.20909093e-02 3.75454575e-02 2.69090943e-02 2.87272781e-02\n",
      " 1.19090918e-02 2.12181836e-01]\u001b[0m\n",
      "\u001b[34m<NDArray 94 @cpu(0)>}\u001b[0m\n",
      "\u001b[34m[11/10/2022 10:42:04 INFO 140517880678208] nvidia-smi: took 0.037 seconds to run.\u001b[0m\n",
      "\u001b[34m[11/10/2022 10:42:04 INFO 140517880678208] nvidia-smi identified 0 GPUs.\u001b[0m\n",
      "\u001b[34m[11/10/2022 10:42:04 INFO 140517880678208] Number of GPUs being used: 0\u001b[0m\n",
      "\u001b[34m#metrics {\"StartTime\": 1668076924.0900264, \"EndTime\": 1668076924.090065, \"Dimensions\": {\"Algorithm\": \"Linear Learner\", \"Host\": \"algo-1\", \"Operation\": \"training\", \"Meta\": \"init_train_data_iter\"}, \"Metrics\": {\"Total Records Seen\": {\"sum\": 12000.0, \"count\": 1, \"min\": 12000, \"max\": 12000}, \"Total Batches Seen\": {\"sum\": 12.0, \"count\": 1, \"min\": 12, \"max\": 12}, \"Max Records Seen Between Resets\": {\"sum\": 11000.0, \"count\": 1, \"min\": 11000, \"max\": 11000}, \"Max Batches Seen Between Resets\": {\"sum\": 11.0, \"count\": 1, \"min\": 11, \"max\": 11}, \"Reset Count\": {\"sum\": 2.0, \"count\": 1, \"min\": 2, \"max\": 2}, \"Number of Records Since Last Reset\": {\"sum\": 0.0, \"count\": 1, \"min\": 0, \"max\": 0}, \"Number of Batches Since Last Reset\": {\"sum\": 0.0, \"count\": 1, \"min\": 0, \"max\": 0}}}\u001b[0m\n",
      "\u001b[34m[2022-11-10 10:42:50.622] [tensorio] [info] epoch_stats={\"data_pipeline\": \"/opt/ml/input/data/train\", \"epoch\": 3, \"duration\": 46531, \"num_examples\": 1309, \"num_bytes\": 554792128}\u001b[0m\n",
      "\u001b[34m#metrics {\"StartTime\": 1668076970.6224518, \"EndTime\": 1668076970.6225646, \"Dimensions\": {\"Algorithm\": \"Linear Learner\", \"Host\": \"algo-1\", \"Operation\": \"training\", \"epoch\": 0, \"model\": 0}, \"Metrics\": {\"train_binary_classification_cross_entropy_objective\": {\"sum\": 0.13048665270382476, \"count\": 1, \"min\": 0.13048665270382476, \"max\": 0.13048665270382476}}}\u001b[0m\n",
      "\u001b[34m#metrics {\"StartTime\": 1668076970.6226652, \"EndTime\": 1668076970.6226819, \"Dimensions\": {\"Algorithm\": \"Linear Learner\", \"Host\": \"algo-1\", \"Operation\": \"training\", \"epoch\": 0, \"model\": 1}, \"Metrics\": {\"train_binary_classification_cross_entropy_objective\": {\"sum\": 0.10859749003798225, \"count\": 1, \"min\": 0.10859749003798225, \"max\": 0.10859749003798225}}}\u001b[0m\n",
      "\u001b[34m#metrics {\"StartTime\": 1668076970.6227467, \"EndTime\": 1668076970.622765, \"Dimensions\": {\"Algorithm\": \"Linear Learner\", \"Host\": \"algo-1\", \"Operation\": \"training\", \"epoch\": 0, \"model\": 2}, \"Metrics\": {\"train_binary_classification_cross_entropy_objective\": {\"sum\": 0.1341874728042416, \"count\": 1, \"min\": 0.1341874728042416, \"max\": 0.1341874728042416}}}\u001b[0m\n",
      "\u001b[34m#metrics {\"StartTime\": 1668076970.622832, \"EndTime\": 1668076970.6228507, \"Dimensions\": {\"Algorithm\": \"Linear Learner\", \"Host\": \"algo-1\", \"Operation\": \"training\", \"epoch\": 0, \"model\": 3}, \"Metrics\": {\"train_binary_classification_cross_entropy_objective\": {\"sum\": 0.1110169120097379, \"count\": 1, \"min\": 0.1110169120097379, \"max\": 0.1110169120097379}}}\u001b[0m\n",
      "\u001b[34m#metrics {\"StartTime\": 1668076970.622893, \"EndTime\": 1668076970.6229095, \"Dimensions\": {\"Algorithm\": \"Linear Learner\", \"Host\": \"algo-1\", \"Operation\": \"training\", \"epoch\": 0, \"model\": 4}, \"Metrics\": {\"train_binary_classification_cross_entropy_objective\": {\"sum\": 0.007577106573530658, \"count\": 1, \"min\": 0.007577106573530658, \"max\": 0.007577106573530658}}}\u001b[0m\n",
      "\u001b[34m#metrics {\"StartTime\": 1668076970.622968, \"EndTime\": 1668076970.6229866, \"Dimensions\": {\"Algorithm\": \"Linear Learner\", \"Host\": \"algo-1\", \"Operation\": \"training\", \"epoch\": 0, \"model\": 5}, \"Metrics\": {\"train_binary_classification_cross_entropy_objective\": {\"sum\": 0.00713682098563658, \"count\": 1, \"min\": 0.00713682098563658, \"max\": 0.00713682098563658}}}\u001b[0m\n",
      "\u001b[34m#metrics {\"StartTime\": 1668076970.6230414, \"EndTime\": 1668076970.623058, \"Dimensions\": {\"Algorithm\": \"Linear Learner\", \"Host\": \"algo-1\", \"Operation\": \"training\", \"epoch\": 0, \"model\": 6}, \"Metrics\": {\"train_binary_classification_cross_entropy_objective\": {\"sum\": 0.007730772200983234, \"count\": 1, \"min\": 0.007730772200983234, \"max\": 0.007730772200983234}}}\u001b[0m\n",
      "\u001b[34m#metrics {\"StartTime\": 1668076970.6231234, \"EndTime\": 1668076970.6231513, \"Dimensions\": {\"Algorithm\": \"Linear Learner\", \"Host\": \"algo-1\", \"Operation\": \"training\", \"epoch\": 0, \"model\": 7}, \"Metrics\": {\"train_binary_classification_cross_entropy_objective\": {\"sum\": 0.007554044811094937, \"count\": 1, \"min\": 0.007554044811094937, \"max\": 0.007554044811094937}}}\u001b[0m\n",
      "\u001b[34m#metrics {\"StartTime\": 1668076970.6232097, \"EndTime\": 1668076970.6232271, \"Dimensions\": {\"Algorithm\": \"Linear Learner\", \"Host\": \"algo-1\", \"Operation\": \"training\", \"epoch\": 0, \"model\": 8}, \"Metrics\": {\"train_binary_classification_cross_entropy_objective\": {\"sum\": 0.1368063812314188, \"count\": 1, \"min\": 0.1368063812314188, \"max\": 0.1368063812314188}}}\u001b[0m\n",
      "\u001b[34m#metrics {\"StartTime\": 1668076970.6233094, \"EndTime\": 1668076970.6233287, \"Dimensions\": {\"Algorithm\": \"Linear Learner\", \"Host\": \"algo-1\", \"Operation\": \"training\", \"epoch\": 0, \"model\": 9}, \"Metrics\": {\"train_binary_classification_cross_entropy_objective\": {\"sum\": 0.11355636399966132, \"count\": 1, \"min\": 0.11355636399966132, \"max\": 0.11355636399966132}}}\u001b[0m\n",
      "\u001b[34m#metrics {\"StartTime\": 1668076970.6233828, \"EndTime\": 1668076970.6234004, \"Dimensions\": {\"Algorithm\": \"Linear Learner\", \"Host\": \"algo-1\", \"Operation\": \"training\", \"epoch\": 0, \"model\": 10}, \"Metrics\": {\"train_binary_classification_cross_entropy_objective\": {\"sum\": 0.14530629675978915, \"count\": 1, \"min\": 0.14530629675978915, \"max\": 0.14530629675978915}}}\u001b[0m\n",
      "\u001b[34m#metrics {\"StartTime\": 1668076970.623463, \"EndTime\": 1668076970.6234798, \"Dimensions\": {\"Algorithm\": \"Linear Learner\", \"Host\": \"algo-1\", \"Operation\": \"training\", \"epoch\": 0, \"model\": 11}, \"Metrics\": {\"train_binary_classification_cross_entropy_objective\": {\"sum\": 0.11277925609302812, \"count\": 1, \"min\": 0.11277925609302812, \"max\": 0.11277925609302812}}}\u001b[0m\n",
      "\u001b[34m#metrics {\"StartTime\": 1668076970.623532, \"EndTime\": 1668076970.6235495, \"Dimensions\": {\"Algorithm\": \"Linear Learner\", \"Host\": \"algo-1\", \"Operation\": \"training\", \"epoch\": 0, \"model\": 12}, \"Metrics\": {\"train_binary_classification_cross_entropy_objective\": {\"sum\": 0.028349819960579593, \"count\": 1, \"min\": 0.028349819960579593, \"max\": 0.028349819960579593}}}\u001b[0m\n",
      "\u001b[34m#metrics {\"StartTime\": 1668076970.6236022, \"EndTime\": 1668076970.6236198, \"Dimensions\": {\"Algorithm\": \"Linear Learner\", \"Host\": \"algo-1\", \"Operation\": \"training\", \"epoch\": 0, \"model\": 13}, \"Metrics\": {\"train_binary_classification_cross_entropy_objective\": {\"sum\": 0.028443119407793798, \"count\": 1, \"min\": 0.028443119407793798, \"max\": 0.028443119407793798}}}\u001b[0m\n",
      "\u001b[34m#metrics {\"StartTime\": 1668076970.6236737, \"EndTime\": 1668076970.6236916, \"Dimensions\": {\"Algorithm\": \"Linear Learner\", \"Host\": \"algo-1\", \"Operation\": \"training\", \"epoch\": 0, \"model\": 14}, \"Metrics\": {\"train_binary_classification_cross_entropy_objective\": {\"sum\": 0.028704056573570322, \"count\": 1, \"min\": 0.028704056573570322, \"max\": 0.028704056573570322}}}\u001b[0m\n",
      "\u001b[34m#metrics {\"StartTime\": 1668076970.623744, \"EndTime\": 1668076970.623761, \"Dimensions\": {\"Algorithm\": \"Linear Learner\", \"Host\": \"algo-1\", \"Operation\": \"training\", \"epoch\": 0, \"model\": 15}, \"Metrics\": {\"train_binary_classification_cross_entropy_objective\": {\"sum\": 0.028908400343098772, \"count\": 1, \"min\": 0.028908400343098772, \"max\": 0.028908400343098772}}}\u001b[0m\n",
      "\u001b[34m#metrics {\"StartTime\": 1668076970.623825, \"EndTime\": 1668076970.6238434, \"Dimensions\": {\"Algorithm\": \"Linear Learner\", \"Host\": \"algo-1\", \"Operation\": \"training\", \"epoch\": 0, \"model\": 16}, \"Metrics\": {\"train_binary_classification_cross_entropy_objective\": {\"sum\": 0.3871338182968466, \"count\": 1, \"min\": 0.3871338182968466, \"max\": 0.3871338182968466}}}\u001b[0m\n",
      "\u001b[34m#metrics {\"StartTime\": 1668076970.6238933, \"EndTime\": 1668076970.6239107, \"Dimensions\": {\"Algorithm\": \"Linear Learner\", \"Host\": \"algo-1\", \"Operation\": \"training\", \"epoch\": 0, \"model\": 17}, \"Metrics\": {\"train_binary_classification_cross_entropy_objective\": {\"sum\": 0.3858744538100123, \"count\": 1, \"min\": 0.3858744538100123, \"max\": 0.3858744538100123}}}\u001b[0m\n",
      "\u001b[34m#metrics {\"StartTime\": 1668076970.6239526, \"EndTime\": 1668076970.6239686, \"Dimensions\": {\"Algorithm\": \"Linear Learner\", \"Host\": \"algo-1\", \"Operation\": \"training\", \"epoch\": 0, \"model\": 18}, \"Metrics\": {\"train_binary_classification_cross_entropy_objective\": {\"sum\": 0.3858937477088485, \"count\": 1, \"min\": 0.3858937477088485, \"max\": 0.3858937477088485}}}\u001b[0m\n",
      "\u001b[34m#metrics {\"StartTime\": 1668076970.624015, \"EndTime\": 1668076970.6240325, \"Dimensions\": {\"Algorithm\": \"Linear Learner\", \"Host\": \"algo-1\", \"Operation\": \"training\", \"epoch\": 0, \"model\": 19}, \"Metrics\": {\"train_binary_classification_cross_entropy_objective\": {\"sum\": 0.3882016363814701, \"count\": 1, \"min\": 0.3882016363814701, \"max\": 0.3882016363814701}}}\u001b[0m\n",
      "\u001b[34m#metrics {\"StartTime\": 1668076970.6240916, \"EndTime\": 1668076970.6241083, \"Dimensions\": {\"Algorithm\": \"Linear Learner\", \"Host\": \"algo-1\", \"Operation\": \"training\", \"epoch\": 0, \"model\": 20}, \"Metrics\": {\"train_binary_classification_cross_entropy_objective\": {\"sum\": 0.3844657335193879, \"count\": 1, \"min\": 0.3844657335193879, \"max\": 0.3844657335193879}}}\u001b[0m\n",
      "\u001b[34m#metrics {\"StartTime\": 1668076970.62416, \"EndTime\": 1668076970.6241767, \"Dimensions\": {\"Algorithm\": \"Linear Learner\", \"Host\": \"algo-1\", \"Operation\": \"training\", \"epoch\": 0, \"model\": 21}, \"Metrics\": {\"train_binary_classification_cross_entropy_objective\": {\"sum\": 0.38574896289230487, \"count\": 1, \"min\": 0.38574896289230487, \"max\": 0.38574896289230487}}}\u001b[0m\n",
      "\u001b[34m#metrics {\"StartTime\": 1668076970.6242378, \"EndTime\": 1668076970.6242545, \"Dimensions\": {\"Algorithm\": \"Linear Learner\", \"Host\": \"algo-1\", \"Operation\": \"training\", \"epoch\": 0, \"model\": 22}, \"Metrics\": {\"train_binary_classification_cross_entropy_objective\": {\"sum\": 0.38450105278645086, \"count\": 1, \"min\": 0.38450105278645086, \"max\": 0.38450105278645086}}}\u001b[0m\n",
      "\u001b[34m#metrics {\"StartTime\": 1668076970.6242988, \"EndTime\": 1668076970.6243134, \"Dimensions\": {\"Algorithm\": \"Linear Learner\", \"Host\": \"algo-1\", \"Operation\": \"training\", \"epoch\": 0, \"model\": 23}, \"Metrics\": {\"train_binary_classification_cross_entropy_objective\": {\"sum\": 0.38571750951177847, \"count\": 1, \"min\": 0.38571750951177847, \"max\": 0.38571750951177847}}}\u001b[0m\n",
      "\u001b[34m#metrics {\"StartTime\": 1668076970.6243691, \"EndTime\": 1668076970.624386, \"Dimensions\": {\"Algorithm\": \"Linear Learner\", \"Host\": \"algo-1\", \"Operation\": \"training\", \"epoch\": 0, \"model\": 24}, \"Metrics\": {\"train_binary_classification_cross_entropy_objective\": {\"sum\": 0.5137090403938877, \"count\": 1, \"min\": 0.5137090403938877, \"max\": 0.5137090403938877}}}\u001b[0m\n",
      "\u001b[34m#metrics {\"StartTime\": 1668076970.624434, \"EndTime\": 1668076970.6244502, \"Dimensions\": {\"Algorithm\": \"Linear Learner\", \"Host\": \"algo-1\", \"Operation\": \"training\", \"epoch\": 0, \"model\": 25}, \"Metrics\": {\"train_binary_classification_cross_entropy_objective\": {\"sum\": 0.5137559019316227, \"count\": 1, \"min\": 0.5137559019316227, \"max\": 0.5137559019316227}}}\u001b[0m\n",
      "\u001b[34m#metrics {\"StartTime\": 1668076970.6245031, \"EndTime\": 1668076970.6245208, \"Dimensions\": {\"Algorithm\": \"Linear Learner\", \"Host\": \"algo-1\", \"Operation\": \"training\", \"epoch\": 0, \"model\": 26}, \"Metrics\": {\"train_binary_classification_cross_entropy_objective\": {\"sum\": 0.5136950921341549, \"count\": 1, \"min\": 0.5136950921341549, \"max\": 0.5136950921341549}}}\u001b[0m\n",
      "\u001b[34m#metrics {\"StartTime\": 1668076970.6245747, \"EndTime\": 1668076970.6245918, \"Dimensions\": {\"Algorithm\": \"Linear Learner\", \"Host\": \"algo-1\", \"Operation\": \"training\", \"epoch\": 0, \"model\": 27}, \"Metrics\": {\"train_binary_classification_cross_entropy_objective\": {\"sum\": 0.5137226056206846, \"count\": 1, \"min\": 0.5137226056206846, \"max\": 0.5137226056206846}}}\u001b[0m\n",
      "\u001b[34m#metrics {\"StartTime\": 1668076970.624646, \"EndTime\": 1668076970.6246626, \"Dimensions\": {\"Algorithm\": \"Linear Learner\", \"Host\": \"algo-1\", \"Operation\": \"training\", \"epoch\": 0, \"model\": 28}, \"Metrics\": {\"train_binary_classification_cross_entropy_objective\": {\"sum\": 0.5140185467081333, \"count\": 1, \"min\": 0.5140185467081333, \"max\": 0.5140185467081333}}}\u001b[0m\n",
      "\u001b[34m#metrics {\"StartTime\": 1668076970.6247141, \"EndTime\": 1668076970.6247294, \"Dimensions\": {\"Algorithm\": \"Linear Learner\", \"Host\": \"algo-1\", \"Operation\": \"training\", \"epoch\": 0, \"model\": 29}, \"Metrics\": {\"train_binary_classification_cross_entropy_objective\": {\"sum\": 0.5146776394625322, \"count\": 1, \"min\": 0.5146776394625322, \"max\": 0.5146776394625322}}}\u001b[0m\n",
      "\u001b[34m#metrics {\"StartTime\": 1668076970.624762, \"EndTime\": 1668076970.6247752, \"Dimensions\": {\"Algorithm\": \"Linear Learner\", \"Host\": \"algo-1\", \"Operation\": \"training\", \"epoch\": 0, \"model\": 30}, \"Metrics\": {\"train_binary_classification_cross_entropy_objective\": {\"sum\": 0.5140608431614867, \"count\": 1, \"min\": 0.5140608431614867, \"max\": 0.5140608431614867}}}\u001b[0m\n",
      "\u001b[34m#metrics {\"StartTime\": 1668076970.6248257, \"EndTime\": 1668076970.6248417, \"Dimensions\": {\"Algorithm\": \"Linear Learner\", \"Host\": \"algo-1\", \"Operation\": \"training\", \"epoch\": 0, \"model\": 31}, \"Metrics\": {\"train_binary_classification_cross_entropy_objective\": {\"sum\": 0.5146463947121156, \"count\": 1, \"min\": 0.5146463947121156, \"max\": 0.5146463947121156}}}\u001b[0m\n",
      "\u001b[34m[11/10/2022 10:42:50 INFO 140517880678208] #quality_metric: host=algo-1, epoch=0, train binary_classification_cross_entropy_objective <loss>=0.13048665270382476\u001b[0m\n",
      "\u001b[34m[2022-11-10 10:42:50.653] [tensorio] [info] epoch_stats={\"data_pipeline\": \"/opt/ml/input/data/validation\", \"epoch\": 0, \"duration\": 46883, \"num_examples\": 1, \"num_bytes\": 424000}\u001b[0m\n",
      "\u001b[34m[2022-11-10 10:42:55.152] [tensorio] [info] epoch_stats={\"data_pipeline\": \"/opt/ml/input/data/validation\", \"epoch\": 2, \"duration\": 4499, \"num_examples\": 164, \"num_bytes\": 69349016}\u001b[0m\n",
      "\u001b[34m#metrics {\"StartTime\": 1668076975.1602683, \"EndTime\": 1668076975.1603227, \"Dimensions\": {\"Algorithm\": \"Linear Learner\", \"Host\": \"algo-1\", \"Operation\": \"training\", \"epoch\": 0, \"model\": 0}, \"Metrics\": {\"validation_binary_classification_cross_entropy_objective\": {\"sum\": 0.04447681953007049, \"count\": 1, \"min\": 0.04447681953007049, \"max\": 0.04447681953007049}}}\u001b[0m\n",
      "\u001b[34m#metrics {\"StartTime\": 1668076975.1604025, \"EndTime\": 1668076975.1604183, \"Dimensions\": {\"Algorithm\": \"Linear Learner\", \"Host\": \"algo-1\", \"Operation\": \"training\", \"epoch\": 0, \"model\": 1}, \"Metrics\": {\"validation_binary_classification_cross_entropy_objective\": {\"sum\": 0.02121131982031876, \"count\": 1, \"min\": 0.02121131982031876, \"max\": 0.02121131982031876}}}\u001b[0m\n",
      "\u001b[34m#metrics {\"StartTime\": 1668076975.1604564, \"EndTime\": 1668076975.1604664, \"Dimensions\": {\"Algorithm\": \"Linear Learner\", \"Host\": \"algo-1\", \"Operation\": \"training\", \"epoch\": 0, \"model\": 2}, \"Metrics\": {\"validation_binary_classification_cross_entropy_objective\": {\"sum\": 0.04569758841445359, \"count\": 1, \"min\": 0.04569758841445359, \"max\": 0.04569758841445359}}}\u001b[0m\n",
      "\u001b[34m#metrics {\"StartTime\": 1668076975.1604965, \"EndTime\": 1668076975.1605043, \"Dimensions\": {\"Algorithm\": \"Linear Learner\", \"Host\": \"algo-1\", \"Operation\": \"training\", \"epoch\": 0, \"model\": 3}, \"Metrics\": {\"validation_binary_classification_cross_entropy_objective\": {\"sum\": 0.021640379148301626, \"count\": 1, \"min\": 0.021640379148301626, \"max\": 0.021640379148301626}}}\u001b[0m\n",
      "\u001b[34m#metrics {\"StartTime\": 1668076975.160532, \"EndTime\": 1668076975.1605399, \"Dimensions\": {\"Algorithm\": \"Linear Learner\", \"Host\": \"algo-1\", \"Operation\": \"training\", \"epoch\": 0, \"model\": 4}, \"Metrics\": {\"validation_binary_classification_cross_entropy_objective\": {\"sum\": 0.0006883015252696658, \"count\": 1, \"min\": 0.0006883015252696658, \"max\": 0.0006883015252696658}}}\u001b[0m\n",
      "\u001b[34m#metrics {\"StartTime\": 1668076975.160579, \"EndTime\": 1668076975.1605945, \"Dimensions\": {\"Algorithm\": \"Linear Learner\", \"Host\": \"algo-1\", \"Operation\": \"training\", \"epoch\": 0, \"model\": 5}, \"Metrics\": {\"validation_binary_classification_cross_entropy_objective\": {\"sum\": 0.0005335977464661594, \"count\": 1, \"min\": 0.0005335977464661594, \"max\": 0.0005335977464661594}}}\u001b[0m\n",
      "\u001b[34m#metrics {\"StartTime\": 1668076975.1606412, \"EndTime\": 1668076975.1606572, \"Dimensions\": {\"Algorithm\": \"Linear Learner\", \"Host\": \"algo-1\", \"Operation\": \"training\", \"epoch\": 0, \"model\": 6}, \"Metrics\": {\"validation_binary_classification_cross_entropy_objective\": {\"sum\": 0.0006942490115545381, \"count\": 1, \"min\": 0.0006942490115545381, \"max\": 0.0006942490115545381}}}\u001b[0m\n",
      "\u001b[34m#metrics {\"StartTime\": 1668076975.1607165, \"EndTime\": 1668076975.1607342, \"Dimensions\": {\"Algorithm\": \"Linear Learner\", \"Host\": \"algo-1\", \"Operation\": \"training\", \"epoch\": 0, \"model\": 7}, \"Metrics\": {\"validation_binary_classification_cross_entropy_objective\": {\"sum\": 0.0005389053757469021, \"count\": 1, \"min\": 0.0005389053757469021, \"max\": 0.0005389053757469021}}}\u001b[0m\n",
      "\u001b[34m#metrics {\"StartTime\": 1668076975.1607907, \"EndTime\": 1668076975.1608067, \"Dimensions\": {\"Algorithm\": \"Linear Learner\", \"Host\": \"algo-1\", \"Operation\": \"training\", \"epoch\": 0, \"model\": 8}, \"Metrics\": {\"validation_binary_classification_cross_entropy_objective\": {\"sum\": 0.052352958193473055, \"count\": 1, \"min\": 0.052352958193473055, \"max\": 0.052352958193473055}}}\u001b[0m\n",
      "\u001b[34m#metrics {\"StartTime\": 1668076975.1608622, \"EndTime\": 1668076975.1608782, \"Dimensions\": {\"Algorithm\": \"Linear Learner\", \"Host\": \"algo-1\", \"Operation\": \"training\", \"epoch\": 0, \"model\": 9}, \"Metrics\": {\"validation_binary_classification_cross_entropy_objective\": {\"sum\": 0.031845740466627206, \"count\": 1, \"min\": 0.031845740466627206, \"max\": 0.031845740466627206}}}\u001b[0m\n",
      "\u001b[34m#metrics {\"StartTime\": 1668076975.1609337, \"EndTime\": 1668076975.1609511, \"Dimensions\": {\"Algorithm\": \"Linear Learner\", \"Host\": \"algo-1\", \"Operation\": \"training\", \"epoch\": 0, \"model\": 10}, \"Metrics\": {\"validation_binary_classification_cross_entropy_objective\": {\"sum\": 0.055019468875726625, \"count\": 1, \"min\": 0.055019468875726625, \"max\": 0.055019468875726625}}}\u001b[0m\n",
      "\u001b[34m#metrics {\"StartTime\": 1668076975.1610057, \"EndTime\": 1668076975.161017, \"Dimensions\": {\"Algorithm\": \"Linear Learner\", \"Host\": \"algo-1\", \"Operation\": \"training\", \"epoch\": 0, \"model\": 11}, \"Metrics\": {\"validation_binary_classification_cross_entropy_objective\": {\"sum\": 0.03173641345728623, \"count\": 1, \"min\": 0.03173641345728623, \"max\": 0.03173641345728623}}}\u001b[0m\n",
      "\u001b[34m#metrics {\"StartTime\": 1668076975.1610456, \"EndTime\": 1668076975.1610534, \"Dimensions\": {\"Algorithm\": \"Linear Learner\", \"Host\": \"algo-1\", \"Operation\": \"training\", \"epoch\": 0, \"model\": 12}, \"Metrics\": {\"validation_binary_classification_cross_entropy_objective\": {\"sum\": 0.02368427290115383, \"count\": 1, \"min\": 0.02368427290115383, \"max\": 0.02368427290115383}}}\u001b[0m\n",
      "\u001b[34m#metrics {\"StartTime\": 1668076975.1611018, \"EndTime\": 1668076975.1611176, \"Dimensions\": {\"Algorithm\": \"Linear Learner\", \"Host\": \"algo-1\", \"Operation\": \"training\", \"epoch\": 0, \"model\": 13}, \"Metrics\": {\"validation_binary_classification_cross_entropy_objective\": {\"sum\": 0.023883936212897788, \"count\": 1, \"min\": 0.023883936212897788, \"max\": 0.023883936212897788}}}\u001b[0m\n",
      "\u001b[34m#metrics {\"StartTime\": 1668076975.161172, \"EndTime\": 1668076975.1611881, \"Dimensions\": {\"Algorithm\": \"Linear Learner\", \"Host\": \"algo-1\", \"Operation\": \"training\", \"epoch\": 0, \"model\": 14}, \"Metrics\": {\"validation_binary_classification_cross_entropy_objective\": {\"sum\": 0.023677999958618166, \"count\": 1, \"min\": 0.023677999958618166, \"max\": 0.023677999958618166}}}\u001b[0m\n",
      "\u001b[34m#metrics {\"StartTime\": 1668076975.1612387, \"EndTime\": 1668076975.1612556, \"Dimensions\": {\"Algorithm\": \"Linear Learner\", \"Host\": \"algo-1\", \"Operation\": \"training\", \"epoch\": 0, \"model\": 15}, \"Metrics\": {\"validation_binary_classification_cross_entropy_objective\": {\"sum\": 0.0239306010314491, \"count\": 1, \"min\": 0.0239306010314491, \"max\": 0.0239306010314491}}}\u001b[0m\n",
      "\u001b[34m#metrics {\"StartTime\": 1668076975.1613228, \"EndTime\": 1668076975.1613417, \"Dimensions\": {\"Algorithm\": \"Linear Learner\", \"Host\": \"algo-1\", \"Operation\": \"training\", \"epoch\": 0, \"model\": 16}, \"Metrics\": {\"validation_binary_classification_cross_entropy_objective\": {\"sum\": 0.381280673898639, \"count\": 1, \"min\": 0.381280673898639, \"max\": 0.381280673898639}}}\u001b[0m\n",
      "\u001b[34m#metrics {\"StartTime\": 1668076975.161399, \"EndTime\": 1668076975.1614165, \"Dimensions\": {\"Algorithm\": \"Linear Learner\", \"Host\": \"algo-1\", \"Operation\": \"training\", \"epoch\": 0, \"model\": 17}, \"Metrics\": {\"validation_binary_classification_cross_entropy_objective\": {\"sum\": 0.3820103173434954, \"count\": 1, \"min\": 0.3820103173434954, \"max\": 0.3820103173434954}}}\u001b[0m\n",
      "\u001b[34m#metrics {\"StartTime\": 1668076975.161485, \"EndTime\": 1668076975.1615033, \"Dimensions\": {\"Algorithm\": \"Linear Learner\", \"Host\": \"algo-1\", \"Operation\": \"training\", \"epoch\": 0, \"model\": 18}, \"Metrics\": {\"validation_binary_classification_cross_entropy_objective\": {\"sum\": 0.3813098027281535, \"count\": 1, \"min\": 0.3813098027281535, \"max\": 0.3813098027281535}}}\u001b[0m\n",
      "\u001b[34m#metrics {\"StartTime\": 1668076975.1615608, \"EndTime\": 1668076975.1615777, \"Dimensions\": {\"Algorithm\": \"Linear Learner\", \"Host\": \"algo-1\", \"Operation\": \"training\", \"epoch\": 0, \"model\": 19}, \"Metrics\": {\"validation_binary_classification_cross_entropy_objective\": {\"sum\": 0.3816955448671415, \"count\": 1, \"min\": 0.3816955448671415, \"max\": 0.3816955448671415}}}\u001b[0m\n",
      "\u001b[34m#metrics {\"StartTime\": 1668076975.1616442, \"EndTime\": 1668076975.1616633, \"Dimensions\": {\"Algorithm\": \"Linear Learner\", \"Host\": \"algo-1\", \"Operation\": \"training\", \"epoch\": 0, \"model\": 20}, \"Metrics\": {\"validation_binary_classification_cross_entropy_objective\": {\"sum\": 0.38138222532447436, \"count\": 1, \"min\": 0.38138222532447436, \"max\": 0.38138222532447436}}}\u001b[0m\n",
      "\u001b[34m#metrics {\"StartTime\": 1668076975.1617177, \"EndTime\": 1668076975.1617348, \"Dimensions\": {\"Algorithm\": \"Linear Learner\", \"Host\": \"algo-1\", \"Operation\": \"training\", \"epoch\": 0, \"model\": 21}, \"Metrics\": {\"validation_binary_classification_cross_entropy_objective\": {\"sum\": 0.3730971995515392, \"count\": 1, \"min\": 0.3730971995515392, \"max\": 0.3730971995515392}}}\u001b[0m\n",
      "\u001b[34m#metrics {\"StartTime\": 1668076975.1618028, \"EndTime\": 1668076975.161821, \"Dimensions\": {\"Algorithm\": \"Linear Learner\", \"Host\": \"algo-1\", \"Operation\": \"training\", \"epoch\": 0, \"model\": 22}, \"Metrics\": {\"validation_binary_classification_cross_entropy_objective\": {\"sum\": 0.38142253420536154, \"count\": 1, \"min\": 0.38142253420536154, \"max\": 0.38142253420536154}}}\u001b[0m\n",
      "\u001b[34m#metrics {\"StartTime\": 1668076975.1618807, \"EndTime\": 1668076975.1618989, \"Dimensions\": {\"Algorithm\": \"Linear Learner\", \"Host\": \"algo-1\", \"Operation\": \"training\", \"epoch\": 0, \"model\": 23}, \"Metrics\": {\"validation_binary_classification_cross_entropy_objective\": {\"sum\": 0.3735721192039145, \"count\": 1, \"min\": 0.3735721192039145, \"max\": 0.3735721192039145}}}\u001b[0m\n",
      "\u001b[34m#metrics {\"StartTime\": 1668076975.1619701, \"EndTime\": 1668076975.161989, \"Dimensions\": {\"Algorithm\": \"Linear Learner\", \"Host\": \"algo-1\", \"Operation\": \"training\", \"epoch\": 0, \"model\": 24}, \"Metrics\": {\"validation_binary_classification_cross_entropy_objective\": {\"sum\": 0.5111893416026838, \"count\": 1, \"min\": 0.5111893416026838, \"max\": 0.5111893416026838}}}\u001b[0m\n",
      "\u001b[34m#metrics {\"StartTime\": 1668076975.1620543, \"EndTime\": 1668076975.1620734, \"Dimensions\": {\"Algorithm\": \"Linear Learner\", \"Host\": \"algo-1\", \"Operation\": \"training\", \"epoch\": 0, \"model\": 25}, \"Metrics\": {\"validation_binary_classification_cross_entropy_objective\": {\"sum\": 0.5114770183677865, \"count\": 1, \"min\": 0.5114770183677865, \"max\": 0.5114770183677865}}}\u001b[0m\n",
      "\u001b[34m#metrics {\"StartTime\": 1668076975.162127, \"EndTime\": 1668076975.1621444, \"Dimensions\": {\"Algorithm\": \"Linear Learner\", \"Host\": \"algo-1\", \"Operation\": \"training\", \"epoch\": 0, \"model\": 26}, \"Metrics\": {\"validation_binary_classification_cross_entropy_objective\": {\"sum\": 0.5114634202742779, \"count\": 1, \"min\": 0.5114634202742779, \"max\": 0.5114634202742779}}}\u001b[0m\n",
      "\u001b[34m#metrics {\"StartTime\": 1668076975.1622062, \"EndTime\": 1668076975.162224, \"Dimensions\": {\"Algorithm\": \"Linear Learner\", \"Host\": \"algo-1\", \"Operation\": \"training\", \"epoch\": 0, \"model\": 27}, \"Metrics\": {\"validation_binary_classification_cross_entropy_objective\": {\"sum\": 0.5112760371687357, \"count\": 1, \"min\": 0.5112760371687357, \"max\": 0.5112760371687357}}}\u001b[0m\n",
      "\u001b[34m#metrics {\"StartTime\": 1668076975.162281, \"EndTime\": 1668076975.1622984, \"Dimensions\": {\"Algorithm\": \"Linear Learner\", \"Host\": \"algo-1\", \"Operation\": \"training\", \"epoch\": 0, \"model\": 28}, \"Metrics\": {\"validation_binary_classification_cross_entropy_objective\": {\"sum\": 0.5120707090518201, \"count\": 1, \"min\": 0.5120707090518201, \"max\": 0.5120707090518201}}}\u001b[0m\n",
      "\u001b[34m#metrics {\"StartTime\": 1668076975.1623645, \"EndTime\": 1668076975.1623838, \"Dimensions\": {\"Algorithm\": \"Linear Learner\", \"Host\": \"algo-1\", \"Operation\": \"training\", \"epoch\": 0, \"model\": 29}, \"Metrics\": {\"validation_binary_classification_cross_entropy_objective\": {\"sum\": 0.5099103949990786, \"count\": 1, \"min\": 0.5099103949990786, \"max\": 0.5099103949990786}}}\u001b[0m\n",
      "\u001b[34m#metrics {\"StartTime\": 1668076975.1624393, \"EndTime\": 1668076975.1624568, \"Dimensions\": {\"Algorithm\": \"Linear Learner\", \"Host\": \"algo-1\", \"Operation\": \"training\", \"epoch\": 0, \"model\": 30}, \"Metrics\": {\"validation_binary_classification_cross_entropy_objective\": {\"sum\": 0.5119412707030605, \"count\": 1, \"min\": 0.5119412707030605, \"max\": 0.5119412707030605}}}\u001b[0m\n",
      "\u001b[34m#metrics {\"StartTime\": 1668076975.1625202, \"EndTime\": 1668076975.1625385, \"Dimensions\": {\"Algorithm\": \"Linear Learner\", \"Host\": \"algo-1\", \"Operation\": \"training\", \"epoch\": 0, \"model\": 31}, \"Metrics\": {\"validation_binary_classification_cross_entropy_objective\": {\"sum\": 0.5114066159221047, \"count\": 1, \"min\": 0.5114066159221047, \"max\": 0.5114066159221047}}}\u001b[0m\n",
      "\u001b[34m[11/10/2022 10:42:55 INFO 140517880678208] #quality_metric: host=algo-1, epoch=0, validation binary_classification_cross_entropy_objective <loss>=0.04447681953007049\u001b[0m\n",
      "\u001b[34m[11/10/2022 10:42:55 INFO 140517880678208] #early_stopping_criteria_metric: host=algo-1, epoch=0, criteria=binary_classification_cross_entropy_objective, value=0.0005335977464661594\u001b[0m\n",
      "\u001b[34m[11/10/2022 10:42:55 INFO 140517880678208] Epoch 0: Loss improved. Updating best model\u001b[0m\n",
      "\u001b[34m[11/10/2022 10:42:55 INFO 140517880678208] Saving model for epoch: 0\u001b[0m\n",
      "\u001b[34m[11/10/2022 10:42:55 INFO 140517880678208] Saved checkpoint to \"/tmp/tmpk58zt2dp/mx-mod-0000.params\"\u001b[0m\n",
      "\u001b[34m[11/10/2022 10:42:55 INFO 140517880678208] #progress_metric: host=algo-1, completed 6.666666666666667 % of epochs\u001b[0m\n",
      "\u001b[34m#metrics {\"StartTime\": 1668076924.0903523, \"EndTime\": 1668076975.1704633, \"Dimensions\": {\"Algorithm\": \"Linear Learner\", \"Host\": \"algo-1\", \"Operation\": \"training\", \"epoch\": 0, \"Meta\": \"training_data_iter\"}, \"Metrics\": {\"Total Records Seen\": {\"sum\": 1320472.0, \"count\": 1, \"min\": 1320472, \"max\": 1320472}, \"Total Batches Seen\": {\"sum\": 1321.0, \"count\": 1, \"min\": 1321, \"max\": 1321}, \"Max Records Seen Between Resets\": {\"sum\": 1308472.0, \"count\": 1, \"min\": 1308472, \"max\": 1308472}, \"Max Batches Seen Between Resets\": {\"sum\": 1309.0, \"count\": 1, \"min\": 1309, \"max\": 1309}, \"Reset Count\": {\"sum\": 3.0, \"count\": 1, \"min\": 3, \"max\": 3}, \"Number of Records Since Last Reset\": {\"sum\": 1308472.0, \"count\": 1, \"min\": 1308472, \"max\": 1308472}, \"Number of Batches Since Last Reset\": {\"sum\": 1309.0, \"count\": 1, \"min\": 1309, \"max\": 1309}}}\u001b[0m\n",
      "\u001b[34m[11/10/2022 10:42:55 INFO 140517880678208] #throughput_metric: host=algo-1, train throughput=25616.0004348643 records/second\u001b[0m\n",
      "\u001b[34m[2022-11-10 10:43:40.403] [tensorio] [info] epoch_stats={\"data_pipeline\": \"/opt/ml/input/data/train\", \"epoch\": 5, \"duration\": 45232, \"num_examples\": 1309, \"num_bytes\": 554792128}\u001b[0m\n",
      "\u001b[34m#metrics {\"StartTime\": 1668077020.4034858, \"EndTime\": 1668077020.4035816, \"Dimensions\": {\"Algorithm\": \"Linear Learner\", \"Host\": \"algo-1\", \"Operation\": \"training\", \"epoch\": 1, \"model\": 0}, \"Metrics\": {\"train_binary_classification_cross_entropy_objective\": {\"sum\": 0.033550886795790553, \"count\": 1, \"min\": 0.033550886795790553, \"max\": 0.033550886795790553}}}\u001b[0m\n",
      "\u001b[34m#metrics {\"StartTime\": 1668077020.4036806, \"EndTime\": 1668077020.4037032, \"Dimensions\": {\"Algorithm\": \"Linear Learner\", \"Host\": \"algo-1\", \"Operation\": \"training\", \"epoch\": 1, \"model\": 1}, \"Metrics\": {\"train_binary_classification_cross_entropy_objective\": {\"sum\": 0.011910910187875823, \"count\": 1, \"min\": 0.011910910187875823, \"max\": 0.011910910187875823}}}\u001b[0m\n",
      "\u001b[34m#metrics {\"StartTime\": 1668077020.4037611, \"EndTime\": 1668077020.403781, \"Dimensions\": {\"Algorithm\": \"Linear Learner\", \"Host\": \"algo-1\", \"Operation\": \"training\", \"epoch\": 1, \"model\": 2}, \"Metrics\": {\"train_binary_classification_cross_entropy_objective\": {\"sum\": 0.034452737765939226, \"count\": 1, \"min\": 0.034452737765939226, \"max\": 0.034452737765939226}}}\u001b[0m\n",
      "\u001b[34m#metrics {\"StartTime\": 1668077020.403841, \"EndTime\": 1668077020.4038606, \"Dimensions\": {\"Algorithm\": \"Linear Learner\", \"Host\": \"algo-1\", \"Operation\": \"training\", \"epoch\": 1, \"model\": 3}, \"Metrics\": {\"train_binary_classification_cross_entropy_objective\": {\"sum\": 0.012142485531462806, \"count\": 1, \"min\": 0.012142485531462806, \"max\": 0.012142485531462806}}}\u001b[0m\n",
      "\u001b[34m#metrics {\"StartTime\": 1668077020.4039166, \"EndTime\": 1668077020.403936, \"Dimensions\": {\"Algorithm\": \"Linear Learner\", \"Host\": \"algo-1\", \"Operation\": \"training\", \"epoch\": 1, \"model\": 4}, \"Metrics\": {\"train_binary_classification_cross_entropy_objective\": {\"sum\": 0.000598800689300995, \"count\": 1, \"min\": 0.000598800689300995, \"max\": 0.000598800689300995}}}\u001b[0m\n",
      "\u001b[34m#metrics {\"StartTime\": 1668077020.403993, \"EndTime\": 1668077020.4040115, \"Dimensions\": {\"Algorithm\": \"Linear Learner\", \"Host\": \"algo-1\", \"Operation\": \"training\", \"epoch\": 1, \"model\": 5}, \"Metrics\": {\"train_binary_classification_cross_entropy_objective\": {\"sum\": 0.0005014078799373148, \"count\": 1, \"min\": 0.0005014078799373148, \"max\": 0.0005014078799373148}}}\u001b[0m\n",
      "\u001b[34m#metrics {\"StartTime\": 1668077020.4040725, \"EndTime\": 1668077020.404091, \"Dimensions\": {\"Algorithm\": \"Linear Learner\", \"Host\": \"algo-1\", \"Operation\": \"training\", \"epoch\": 1, \"model\": 6}, \"Metrics\": {\"train_binary_classification_cross_entropy_objective\": {\"sum\": 0.000602582509091141, \"count\": 1, \"min\": 0.000602582509091141, \"max\": 0.000602582509091141}}}\u001b[0m\n",
      "\u001b[34m#metrics {\"StartTime\": 1668077020.4041574, \"EndTime\": 1668077020.4041753, \"Dimensions\": {\"Algorithm\": \"Linear Learner\", \"Host\": \"algo-1\", \"Operation\": \"training\", \"epoch\": 1, \"model\": 7}, \"Metrics\": {\"train_binary_classification_cross_entropy_objective\": {\"sum\": 0.0005027616115839474, \"count\": 1, \"min\": 0.0005027616115839474, \"max\": 0.0005027616115839474}}}\u001b[0m\n",
      "\u001b[34m#metrics {\"StartTime\": 1668077020.4042416, \"EndTime\": 1668077020.40426, \"Dimensions\": {\"Algorithm\": \"Linear Learner\", \"Host\": \"algo-1\", \"Operation\": \"training\", \"epoch\": 1, \"model\": 8}, \"Metrics\": {\"train_binary_classification_cross_entropy_objective\": {\"sum\": 0.042401709574078204, \"count\": 1, \"min\": 0.042401709574078204, \"max\": 0.042401709574078204}}}\u001b[0m\n",
      "\u001b[34m#metrics {\"StartTime\": 1668077020.4042988, \"EndTime\": 1668077020.4043086, \"Dimensions\": {\"Algorithm\": \"Linear Learner\", \"Host\": \"algo-1\", \"Operation\": \"training\", \"epoch\": 1, \"model\": 9}, \"Metrics\": {\"train_binary_classification_cross_entropy_objective\": {\"sum\": 0.026122017403990484, \"count\": 1, \"min\": 0.026122017403990484, \"max\": 0.026122017403990484}}}\u001b[0m\n",
      "\u001b[34m#metrics {\"StartTime\": 1668077020.404349, \"EndTime\": 1668077020.4043655, \"Dimensions\": {\"Algorithm\": \"Linear Learner\", \"Host\": \"algo-1\", \"Operation\": \"training\", \"epoch\": 1, \"model\": 10}, \"Metrics\": {\"train_binary_classification_cross_entropy_objective\": {\"sum\": 0.04429746834874518, \"count\": 1, \"min\": 0.04429746834874518, \"max\": 0.04429746834874518}}}\u001b[0m\n",
      "\u001b[34m#metrics {\"StartTime\": 1668077020.4044216, \"EndTime\": 1668077020.4044402, \"Dimensions\": {\"Algorithm\": \"Linear Learner\", \"Host\": \"algo-1\", \"Operation\": \"training\", \"epoch\": 1, \"model\": 11}, \"Metrics\": {\"train_binary_classification_cross_entropy_objective\": {\"sum\": 0.026081549594890816, \"count\": 1, \"min\": 0.026081549594890816, \"max\": 0.026081549594890816}}}\u001b[0m\n",
      "\u001b[34m#metrics {\"StartTime\": 1668077020.4044955, \"EndTime\": 1668077020.4045117, \"Dimensions\": {\"Algorithm\": \"Linear Learner\", \"Host\": \"algo-1\", \"Operation\": \"training\", \"epoch\": 1, \"model\": 12}, \"Metrics\": {\"train_binary_classification_cross_entropy_objective\": {\"sum\": 0.023784968591975875, \"count\": 1, \"min\": 0.023784968591975875, \"max\": 0.023784968591975875}}}\u001b[0m\n",
      "\u001b[34m#metrics {\"StartTime\": 1668077020.404563, \"EndTime\": 1668077020.404579, \"Dimensions\": {\"Algorithm\": \"Linear Learner\", \"Host\": \"algo-1\", \"Operation\": \"training\", \"epoch\": 1, \"model\": 13}, \"Metrics\": {\"train_binary_classification_cross_entropy_objective\": {\"sum\": 0.02397561432316398, \"count\": 1, \"min\": 0.02397561432316398, \"max\": 0.02397561432316398}}}\u001b[0m\n",
      "\u001b[34m#metrics {\"StartTime\": 1668077020.4046125, \"EndTime\": 1668077020.4046268, \"Dimensions\": {\"Algorithm\": \"Linear Learner\", \"Host\": \"algo-1\", \"Operation\": \"training\", \"epoch\": 1, \"model\": 14}, \"Metrics\": {\"train_binary_classification_cross_entropy_objective\": {\"sum\": 0.02378441431908797, \"count\": 1, \"min\": 0.02378441431908797, \"max\": 0.02378441431908797}}}\u001b[0m\n",
      "\u001b[34m#metrics {\"StartTime\": 1668077020.404677, \"EndTime\": 1668077020.4046934, \"Dimensions\": {\"Algorithm\": \"Linear Learner\", \"Host\": \"algo-1\", \"Operation\": \"training\", \"epoch\": 1, \"model\": 15}, \"Metrics\": {\"train_binary_classification_cross_entropy_objective\": {\"sum\": 0.023973446685604364, \"count\": 1, \"min\": 0.023973446685604364, \"max\": 0.023973446685604364}}}\u001b[0m\n",
      "\u001b[34m#metrics {\"StartTime\": 1668077020.4047403, \"EndTime\": 1668077020.4047513, \"Dimensions\": {\"Algorithm\": \"Linear Learner\", \"Host\": \"algo-1\", \"Operation\": \"training\", \"epoch\": 1, \"model\": 16}, \"Metrics\": {\"train_binary_classification_cross_entropy_objective\": {\"sum\": 0.3818435196249492, \"count\": 1, \"min\": 0.3818435196249492, \"max\": 0.3818435196249492}}}\u001b[0m\n",
      "\u001b[34m#metrics {\"StartTime\": 1668077020.4048011, \"EndTime\": 1668077020.4048173, \"Dimensions\": {\"Algorithm\": \"Linear Learner\", \"Host\": \"algo-1\", \"Operation\": \"training\", \"epoch\": 1, \"model\": 17}, \"Metrics\": {\"train_binary_classification_cross_entropy_objective\": {\"sum\": 0.3820216749932059, \"count\": 1, \"min\": 0.3820216749932059, \"max\": 0.3820216749932059}}}\u001b[0m\n",
      "\u001b[34m#metrics {\"StartTime\": 1668077020.4048798, \"EndTime\": 1668077020.4048975, \"Dimensions\": {\"Algorithm\": \"Linear Learner\", \"Host\": \"algo-1\", \"Operation\": \"training\", \"epoch\": 1, \"model\": 18}, \"Metrics\": {\"train_binary_classification_cross_entropy_objective\": {\"sum\": 0.3818447880409544, \"count\": 1, \"min\": 0.3818447880409544, \"max\": 0.3818447880409544}}}\u001b[0m\n",
      "\u001b[34m#metrics {\"StartTime\": 1668077020.404965, \"EndTime\": 1668077020.4049828, \"Dimensions\": {\"Algorithm\": \"Linear Learner\", \"Host\": \"algo-1\", \"Operation\": \"training\", \"epoch\": 1, \"model\": 19}, \"Metrics\": {\"train_binary_classification_cross_entropy_objective\": {\"sum\": 0.38201921172535747, \"count\": 1, \"min\": 0.38201921172535747, \"max\": 0.38201921172535747}}}\u001b[0m\n",
      "\u001b[34m#metrics {\"StartTime\": 1668077020.4050379, \"EndTime\": 1668077020.4050546, \"Dimensions\": {\"Algorithm\": \"Linear Learner\", \"Host\": \"algo-1\", \"Operation\": \"training\", \"epoch\": 1, \"model\": 20}, \"Metrics\": {\"train_binary_classification_cross_entropy_objective\": {\"sum\": 0.3824687143028329, \"count\": 1, \"min\": 0.3824687143028329, \"max\": 0.3824687143028329}}}\u001b[0m\n",
      "\u001b[34m#metrics {\"StartTime\": 1668077020.4051127, \"EndTime\": 1668077020.405131, \"Dimensions\": {\"Algorithm\": \"Linear Learner\", \"Host\": \"algo-1\", \"Operation\": \"training\", \"epoch\": 1, \"model\": 21}, \"Metrics\": {\"train_binary_classification_cross_entropy_objective\": {\"sum\": 0.3850971724950575, \"count\": 1, \"min\": 0.3850971724950575, \"max\": 0.3850971724950575}}}\u001b[0m\n",
      "\u001b[34m#metrics {\"StartTime\": 1668077020.4051843, \"EndTime\": 1668077020.4052012, \"Dimensions\": {\"Algorithm\": \"Linear Learner\", \"Host\": \"algo-1\", \"Operation\": \"training\", \"epoch\": 1, \"model\": 22}, \"Metrics\": {\"train_binary_classification_cross_entropy_objective\": {\"sum\": 0.3824683969713497, \"count\": 1, \"min\": 0.3824683969713497, \"max\": 0.3824683969713497}}}\u001b[0m\n",
      "\u001b[34m#metrics {\"StartTime\": 1668077020.4052567, \"EndTime\": 1668077020.4052734, \"Dimensions\": {\"Algorithm\": \"Linear Learner\", \"Host\": \"algo-1\", \"Operation\": \"training\", \"epoch\": 1, \"model\": 23}, \"Metrics\": {\"train_binary_classification_cross_entropy_objective\": {\"sum\": 0.38510312083299736, \"count\": 1, \"min\": 0.38510312083299736, \"max\": 0.38510312083299736}}}\u001b[0m\n",
      "\u001b[34m#metrics {\"StartTime\": 1668077020.405329, \"EndTime\": 1668077020.4053462, \"Dimensions\": {\"Algorithm\": \"Linear Learner\", \"Host\": \"algo-1\", \"Operation\": \"training\", \"epoch\": 1, \"model\": 24}, \"Metrics\": {\"train_binary_classification_cross_entropy_objective\": {\"sum\": 0.5123535932488398, \"count\": 1, \"min\": 0.5123535932488398, \"max\": 0.5123535932488398}}}\u001b[0m\n",
      "\u001b[34m#metrics {\"StartTime\": 1668077020.4053998, \"EndTime\": 1668077020.4054182, \"Dimensions\": {\"Algorithm\": \"Linear Learner\", \"Host\": \"algo-1\", \"Operation\": \"training\", \"epoch\": 1, \"model\": 25}, \"Metrics\": {\"train_binary_classification_cross_entropy_objective\": {\"sum\": 0.5124371713294167, \"count\": 1, \"min\": 0.5124371713294167, \"max\": 0.5124371713294167}}}\u001b[0m\n",
      "\u001b[34m#metrics {\"StartTime\": 1668077020.4054718, \"EndTime\": 1668077020.405489, \"Dimensions\": {\"Algorithm\": \"Linear Learner\", \"Host\": \"algo-1\", \"Operation\": \"training\", \"epoch\": 1, \"model\": 26}, \"Metrics\": {\"train_binary_classification_cross_entropy_objective\": {\"sum\": 0.5123531322420919, \"count\": 1, \"min\": 0.5123531322420919, \"max\": 0.5123531322420919}}}\u001b[0m\n",
      "\u001b[34m#metrics {\"StartTime\": 1668077020.4055295, \"EndTime\": 1668077020.4055393, \"Dimensions\": {\"Algorithm\": \"Linear Learner\", \"Host\": \"algo-1\", \"Operation\": \"training\", \"epoch\": 1, \"model\": 27}, \"Metrics\": {\"train_binary_classification_cross_entropy_objective\": {\"sum\": 0.5124357919722158, \"count\": 1, \"min\": 0.5124357919722158, \"max\": 0.5124357919722158}}}\u001b[0m\n",
      "\u001b[34m#metrics {\"StartTime\": 1668077020.4055905, \"EndTime\": 1668077020.405608, \"Dimensions\": {\"Algorithm\": \"Linear Learner\", \"Host\": \"algo-1\", \"Operation\": \"training\", \"epoch\": 1, \"model\": 28}, \"Metrics\": {\"train_binary_classification_cross_entropy_objective\": {\"sum\": 0.5126411457353411, \"count\": 1, \"min\": 0.5126411457353411, \"max\": 0.5126411457353411}}}\u001b[0m\n",
      "\u001b[34m#metrics {\"StartTime\": 1668077020.4056544, \"EndTime\": 1668077020.4056704, \"Dimensions\": {\"Algorithm\": \"Linear Learner\", \"Host\": \"algo-1\", \"Operation\": \"training\", \"epoch\": 1, \"model\": 29}, \"Metrics\": {\"train_binary_classification_cross_entropy_objective\": {\"sum\": 0.5142583677659341, \"count\": 1, \"min\": 0.5142583677659341, \"max\": 0.5142583677659341}}}\u001b[0m\n",
      "\u001b[34m#metrics {\"StartTime\": 1668077020.405724, \"EndTime\": 1668077020.4057415, \"Dimensions\": {\"Algorithm\": \"Linear Learner\", \"Host\": \"algo-1\", \"Operation\": \"training\", \"epoch\": 1, \"model\": 30}, \"Metrics\": {\"train_binary_classification_cross_entropy_objective\": {\"sum\": 0.5126406180938814, \"count\": 1, \"min\": 0.5126406180938814, \"max\": 0.5126406180938814}}}\u001b[0m\n",
      "\u001b[34m#metrics {\"StartTime\": 1668077020.4057987, \"EndTime\": 1668077020.4058151, \"Dimensions\": {\"Algorithm\": \"Linear Learner\", \"Host\": \"algo-1\", \"Operation\": \"training\", \"epoch\": 1, \"model\": 31}, \"Metrics\": {\"train_binary_classification_cross_entropy_objective\": {\"sum\": 0.5142502621758603, \"count\": 1, \"min\": 0.5142502621758603, \"max\": 0.5142502621758603}}}\u001b[0m\n",
      "\u001b[34m[11/10/2022 10:43:40 INFO 140517880678208] #quality_metric: host=algo-1, epoch=1, train binary_classification_cross_entropy_objective <loss>=0.033550886795790553\u001b[0m\n",
      "\u001b[34m[2022-11-10 10:43:44.566] [tensorio] [info] epoch_stats={\"data_pipeline\": \"/opt/ml/input/data/validation\", \"epoch\": 5, \"duration\": 4139, \"num_examples\": 164, \"num_bytes\": 69349016}\u001b[0m\n",
      "\u001b[34m#metrics {\"StartTime\": 1668077024.5749402, \"EndTime\": 1668077024.5749931, \"Dimensions\": {\"Algorithm\": \"Linear Learner\", \"Host\": \"algo-1\", \"Operation\": \"training\", \"epoch\": 1, \"model\": 0}, \"Metrics\": {\"validation_binary_classification_cross_entropy_objective\": {\"sum\": 0.027155868713779317, \"count\": 1, \"min\": 0.027155868713779317, \"max\": 0.027155868713779317}}}\u001b[0m\n",
      "\u001b[34m#metrics {\"StartTime\": 1668077024.5750787, \"EndTime\": 1668077024.575101, \"Dimensions\": {\"Algorithm\": \"Linear Learner\", \"Host\": \"algo-1\", \"Operation\": \"training\", \"epoch\": 1, \"model\": 1}, \"Metrics\": {\"validation_binary_classification_cross_entropy_objective\": {\"sum\": 0.006645596184294767, \"count\": 1, \"min\": 0.006645596184294767, \"max\": 0.006645596184294767}}}\u001b[0m\n",
      "\u001b[34m#metrics {\"StartTime\": 1668077024.5751696, \"EndTime\": 1668077024.5751896, \"Dimensions\": {\"Algorithm\": \"Linear Learner\", \"Host\": \"algo-1\", \"Operation\": \"training\", \"epoch\": 1, \"model\": 2}, \"Metrics\": {\"validation_binary_classification_cross_entropy_objective\": {\"sum\": 0.027874919831020653, \"count\": 1, \"min\": 0.027874919831020653, \"max\": 0.027874919831020653}}}\u001b[0m\n",
      "\u001b[34m#metrics {\"StartTime\": 1668077024.575275, \"EndTime\": 1668077024.575296, \"Dimensions\": {\"Algorithm\": \"Linear Learner\", \"Host\": \"algo-1\", \"Operation\": \"training\", \"epoch\": 1, \"model\": 3}, \"Metrics\": {\"validation_binary_classification_cross_entropy_objective\": {\"sum\": 0.006769209405037272, \"count\": 1, \"min\": 0.006769209405037272, \"max\": 0.006769209405037272}}}\u001b[0m\n",
      "\u001b[34m#metrics {\"StartTime\": 1668077024.575353, \"EndTime\": 1668077024.5753698, \"Dimensions\": {\"Algorithm\": \"Linear Learner\", \"Host\": \"algo-1\", \"Operation\": \"training\", \"epoch\": 1, \"model\": 4}, \"Metrics\": {\"validation_binary_classification_cross_entropy_objective\": {\"sum\": 0.0005511503003457983, \"count\": 1, \"min\": 0.0005511503003457983, \"max\": 0.0005511503003457983}}}\u001b[0m\n",
      "\u001b[34m#metrics {\"StartTime\": 1668077024.5754263, \"EndTime\": 1668077024.575444, \"Dimensions\": {\"Algorithm\": \"Linear Learner\", \"Host\": \"algo-1\", \"Operation\": \"training\", \"epoch\": 1, \"model\": 5}, \"Metrics\": {\"validation_binary_classification_cross_entropy_objective\": {\"sum\": 0.000493522429680674, \"count\": 1, \"min\": 0.000493522429680674, \"max\": 0.000493522429680674}}}\u001b[0m\n",
      "\u001b[34m#metrics {\"StartTime\": 1668077024.5754974, \"EndTime\": 1668077024.5755155, \"Dimensions\": {\"Algorithm\": \"Linear Learner\", \"Host\": \"algo-1\", \"Operation\": \"training\", \"epoch\": 1, \"model\": 6}, \"Metrics\": {\"validation_binary_classification_cross_entropy_objective\": {\"sum\": 0.000553676835369331, \"count\": 1, \"min\": 0.000553676835369331, \"max\": 0.000553676835369331}}}\u001b[0m\n",
      "\u001b[34m#metrics {\"StartTime\": 1668077024.5755727, \"EndTime\": 1668077024.5755847, \"Dimensions\": {\"Algorithm\": \"Linear Learner\", \"Host\": \"algo-1\", \"Operation\": \"training\", \"epoch\": 1, \"model\": 7}, \"Metrics\": {\"validation_binary_classification_cross_entropy_objective\": {\"sum\": 0.0004934933842646455, \"count\": 1, \"min\": 0.0004934933842646455, \"max\": 0.0004934933842646455}}}\u001b[0m\n",
      "\u001b[34m#metrics {\"StartTime\": 1668077024.5756257, \"EndTime\": 1668077024.5756426, \"Dimensions\": {\"Algorithm\": \"Linear Learner\", \"Host\": \"algo-1\", \"Operation\": \"training\", \"epoch\": 1, \"model\": 8}, \"Metrics\": {\"validation_binary_classification_cross_entropy_objective\": {\"sum\": 0.036673175857783985, \"count\": 1, \"min\": 0.036673175857783985, \"max\": 0.036673175857783985}}}\u001b[0m\n",
      "\u001b[34m#metrics {\"StartTime\": 1668077024.5756931, \"EndTime\": 1668077024.575704, \"Dimensions\": {\"Algorithm\": \"Linear Learner\", \"Host\": \"algo-1\", \"Operation\": \"training\", \"epoch\": 1, \"model\": 9}, \"Metrics\": {\"validation_binary_classification_cross_entropy_objective\": {\"sum\": 0.023943448559556952, \"count\": 1, \"min\": 0.023943448559556952, \"max\": 0.023943448559556952}}}\u001b[0m\n",
      "\u001b[34m#metrics {\"StartTime\": 1668077024.5757647, \"EndTime\": 1668077024.5757823, \"Dimensions\": {\"Algorithm\": \"Linear Learner\", \"Host\": \"algo-1\", \"Operation\": \"training\", \"epoch\": 1, \"model\": 10}, \"Metrics\": {\"validation_binary_classification_cross_entropy_objective\": {\"sum\": 0.038119941619859425, \"count\": 1, \"min\": 0.038119941619859425, \"max\": 0.038119941619859425}}}\u001b[0m\n",
      "\u001b[34m#metrics {\"StartTime\": 1668077024.5758429, \"EndTime\": 1668077024.5758603, \"Dimensions\": {\"Algorithm\": \"Linear Learner\", \"Host\": \"algo-1\", \"Operation\": \"training\", \"epoch\": 1, \"model\": 11}, \"Metrics\": {\"validation_binary_classification_cross_entropy_objective\": {\"sum\": 0.023936843723968846, \"count\": 1, \"min\": 0.023936843723968846, \"max\": 0.023936843723968846}}}\u001b[0m\n",
      "\u001b[34m#metrics {\"StartTime\": 1668077024.575929, \"EndTime\": 1668077024.5759473, \"Dimensions\": {\"Algorithm\": \"Linear Learner\", \"Host\": \"algo-1\", \"Operation\": \"training\", \"epoch\": 1, \"model\": 12}, \"Metrics\": {\"validation_binary_classification_cross_entropy_objective\": {\"sum\": 0.023729750249149674, \"count\": 1, \"min\": 0.023729750249149674, \"max\": 0.023729750249149674}}}\u001b[0m\n",
      "\u001b[34m#metrics {\"StartTime\": 1668077024.5760102, \"EndTime\": 1668077024.5760279, \"Dimensions\": {\"Algorithm\": \"Linear Learner\", \"Host\": \"algo-1\", \"Operation\": \"training\", \"epoch\": 1, \"model\": 13}, \"Metrics\": {\"validation_binary_classification_cross_entropy_objective\": {\"sum\": 0.024078673576598614, \"count\": 1, \"min\": 0.024078673576598614, \"max\": 0.024078673576598614}}}\u001b[0m\n",
      "\u001b[34m#metrics {\"StartTime\": 1668077024.5760822, \"EndTime\": 1668077024.5761, \"Dimensions\": {\"Algorithm\": \"Linear Learner\", \"Host\": \"algo-1\", \"Operation\": \"training\", \"epoch\": 1, \"model\": 14}, \"Metrics\": {\"validation_binary_classification_cross_entropy_objective\": {\"sum\": 0.02373003999159204, \"count\": 1, \"min\": 0.02373003999159204, \"max\": 0.02373003999159204}}}\u001b[0m\n",
      "\u001b[34m#metrics {\"StartTime\": 1668077024.5761666, \"EndTime\": 1668077024.5761857, \"Dimensions\": {\"Algorithm\": \"Linear Learner\", \"Host\": \"algo-1\", \"Operation\": \"training\", \"epoch\": 1, \"model\": 15}, \"Metrics\": {\"validation_binary_classification_cross_entropy_objective\": {\"sum\": 0.02409361697950826, \"count\": 1, \"min\": 0.02409361697950826, \"max\": 0.02409361697950826}}}\u001b[0m\n",
      "\u001b[34m#metrics {\"StartTime\": 1668077024.576242, \"EndTime\": 1668077024.5762594, \"Dimensions\": {\"Algorithm\": \"Linear Learner\", \"Host\": \"algo-1\", \"Operation\": \"training\", \"epoch\": 1, \"model\": 16}, \"Metrics\": {\"validation_binary_classification_cross_entropy_objective\": {\"sum\": 0.3811282796827497, \"count\": 1, \"min\": 0.3811282796827497, \"max\": 0.3811282796827497}}}\u001b[0m\n",
      "\u001b[34m#metrics {\"StartTime\": 1668077024.5763128, \"EndTime\": 1668077024.5763314, \"Dimensions\": {\"Algorithm\": \"Linear Learner\", \"Host\": \"algo-1\", \"Operation\": \"training\", \"epoch\": 1, \"model\": 17}, \"Metrics\": {\"validation_binary_classification_cross_entropy_objective\": {\"sum\": 0.38233875489720187, \"count\": 1, \"min\": 0.38233875489720187, \"max\": 0.38233875489720187}}}\u001b[0m\n",
      "\u001b[34m#metrics {\"StartTime\": 1668077024.5763876, \"EndTime\": 1668077024.5764058, \"Dimensions\": {\"Algorithm\": \"Linear Learner\", \"Host\": \"algo-1\", \"Operation\": \"training\", \"epoch\": 1, \"model\": 18}, \"Metrics\": {\"validation_binary_classification_cross_entropy_objective\": {\"sum\": 0.3811117001551356, \"count\": 1, \"min\": 0.3811117001551356, \"max\": 0.3811117001551356}}}\u001b[0m\n",
      "\u001b[34m#metrics {\"StartTime\": 1668077024.576461, \"EndTime\": 1668077024.5764794, \"Dimensions\": {\"Algorithm\": \"Linear Learner\", \"Host\": \"algo-1\", \"Operation\": \"training\", \"epoch\": 1, \"model\": 19}, \"Metrics\": {\"validation_binary_classification_cross_entropy_objective\": {\"sum\": 0.3820587985332319, \"count\": 1, \"min\": 0.3820587985332319, \"max\": 0.3820587985332319}}}\u001b[0m\n",
      "\u001b[34m#metrics {\"StartTime\": 1668077024.5765328, \"EndTime\": 1668077024.57655, \"Dimensions\": {\"Algorithm\": \"Linear Learner\", \"Host\": \"algo-1\", \"Operation\": \"training\", \"epoch\": 1, \"model\": 20}, \"Metrics\": {\"validation_binary_classification_cross_entropy_objective\": {\"sum\": 0.3825063758096156, \"count\": 1, \"min\": 0.3825063758096156, \"max\": 0.3825063758096156}}}\u001b[0m\n",
      "\u001b[34m#metrics {\"StartTime\": 1668077024.576614, \"EndTime\": 1668077024.576632, \"Dimensions\": {\"Algorithm\": \"Linear Learner\", \"Host\": \"algo-1\", \"Operation\": \"training\", \"epoch\": 1, \"model\": 21}, \"Metrics\": {\"validation_binary_classification_cross_entropy_objective\": {\"sum\": 0.3725525236889801, \"count\": 1, \"min\": 0.3725525236889801, \"max\": 0.3725525236889801}}}\u001b[0m\n",
      "\u001b[34m#metrics {\"StartTime\": 1668077024.576685, \"EndTime\": 1668077024.5767024, \"Dimensions\": {\"Algorithm\": \"Linear Learner\", \"Host\": \"algo-1\", \"Operation\": \"training\", \"epoch\": 1, \"model\": 22}, \"Metrics\": {\"validation_binary_classification_cross_entropy_objective\": {\"sum\": 0.3825221276482822, \"count\": 1, \"min\": 0.3825221276482822, \"max\": 0.3825221276482822}}}\u001b[0m\n",
      "\u001b[34m#metrics {\"StartTime\": 1668077024.5767562, \"EndTime\": 1668077024.576774, \"Dimensions\": {\"Algorithm\": \"Linear Learner\", \"Host\": \"algo-1\", \"Operation\": \"training\", \"epoch\": 1, \"model\": 23}, \"Metrics\": {\"validation_binary_classification_cross_entropy_objective\": {\"sum\": 0.3725846931931864, \"count\": 1, \"min\": 0.3725846931931864, \"max\": 0.3725846931931864}}}\u001b[0m\n",
      "\u001b[34m#metrics {\"StartTime\": 1668077024.5768366, \"EndTime\": 1668077024.5768545, \"Dimensions\": {\"Algorithm\": \"Linear Learner\", \"Host\": \"algo-1\", \"Operation\": \"training\", \"epoch\": 1, \"model\": 24}, \"Metrics\": {\"validation_binary_classification_cross_entropy_objective\": {\"sum\": 0.5114830530710391, \"count\": 1, \"min\": 0.5114830530710391, \"max\": 0.5114830530710391}}}\u001b[0m\n",
      "\u001b[34m#metrics {\"StartTime\": 1668077024.5769217, \"EndTime\": 1668077024.5769408, \"Dimensions\": {\"Algorithm\": \"Linear Learner\", \"Host\": \"algo-1\", \"Operation\": \"training\", \"epoch\": 1, \"model\": 25}, \"Metrics\": {\"validation_binary_classification_cross_entropy_objective\": {\"sum\": 0.511523271738309, \"count\": 1, \"min\": 0.511523271738309, \"max\": 0.511523271738309}}}\u001b[0m\n",
      "\u001b[34m#metrics {\"StartTime\": 1668077024.576996, \"EndTime\": 1668077024.577012, \"Dimensions\": {\"Algorithm\": \"Linear Learner\", \"Host\": \"algo-1\", \"Operation\": \"training\", \"epoch\": 1, \"model\": 26}, \"Metrics\": {\"validation_binary_classification_cross_entropy_objective\": {\"sum\": 0.5114930179907007, \"count\": 1, \"min\": 0.5114930179907007, \"max\": 0.5114930179907007}}}\u001b[0m\n",
      "\u001b[34m#metrics {\"StartTime\": 1668077024.5770519, \"EndTime\": 1668077024.5770688, \"Dimensions\": {\"Algorithm\": \"Linear Learner\", \"Host\": \"algo-1\", \"Operation\": \"training\", \"epoch\": 1, \"model\": 27}, \"Metrics\": {\"validation_binary_classification_cross_entropy_objective\": {\"sum\": 0.5115540309433924, \"count\": 1, \"min\": 0.5115540309433924, \"max\": 0.5115540309433924}}}\u001b[0m\n",
      "\u001b[34m#metrics {\"StartTime\": 1668077024.577116, \"EndTime\": 1668077024.5771308, \"Dimensions\": {\"Algorithm\": \"Linear Learner\", \"Host\": \"algo-1\", \"Operation\": \"training\", \"epoch\": 1, \"model\": 28}, \"Metrics\": {\"validation_binary_classification_cross_entropy_objective\": {\"sum\": 0.5115143197860271, \"count\": 1, \"min\": 0.5115143197860271, \"max\": 0.5115143197860271}}}\u001b[0m\n",
      "\u001b[34m#metrics {\"StartTime\": 1668077024.577193, \"EndTime\": 1668077024.5772119, \"Dimensions\": {\"Algorithm\": \"Linear Learner\", \"Host\": \"algo-1\", \"Operation\": \"training\", \"epoch\": 1, \"model\": 29}, \"Metrics\": {\"validation_binary_classification_cross_entropy_objective\": {\"sum\": 0.5131941189829865, \"count\": 1, \"min\": 0.5131941189829865, \"max\": 0.5131941189829865}}}\u001b[0m\n",
      "\u001b[34m#metrics {\"StartTime\": 1668077024.5772777, \"EndTime\": 1668077024.5772965, \"Dimensions\": {\"Algorithm\": \"Linear Learner\", \"Host\": \"algo-1\", \"Operation\": \"training\", \"epoch\": 1, \"model\": 30}, \"Metrics\": {\"validation_binary_classification_cross_entropy_objective\": {\"sum\": 0.5114634411717446, \"count\": 1, \"min\": 0.5114634411717446, \"max\": 0.5114634411717446}}}\u001b[0m\n",
      "\u001b[34m#metrics {\"StartTime\": 1668077024.577351, \"EndTime\": 1668077024.5773685, \"Dimensions\": {\"Algorithm\": \"Linear Learner\", \"Host\": \"algo-1\", \"Operation\": \"training\", \"epoch\": 1, \"model\": 31}, \"Metrics\": {\"validation_binary_classification_cross_entropy_objective\": {\"sum\": 0.5130646940683126, \"count\": 1, \"min\": 0.5130646940683126, \"max\": 0.5130646940683126}}}\u001b[0m\n",
      "\u001b[34m[11/10/2022 10:43:44 INFO 140517880678208] #quality_metric: host=algo-1, epoch=1, validation binary_classification_cross_entropy_objective <loss>=0.027155868713779317\u001b[0m\n",
      "\u001b[34m[11/10/2022 10:43:44 INFO 140517880678208] #early_stopping_criteria_metric: host=algo-1, epoch=1, criteria=binary_classification_cross_entropy_objective, value=0.0004934933842646455\u001b[0m\n",
      "\u001b[34m[11/10/2022 10:43:44 INFO 140517880678208] Epoch 1: Loss improved. Updating best model\u001b[0m\n",
      "\u001b[34m[11/10/2022 10:43:44 INFO 140517880678208] Saving model for epoch: 1\u001b[0m\n",
      "\u001b[34m[11/10/2022 10:43:44 INFO 140517880678208] Saved checkpoint to \"/tmp/tmpn9adnx1_/mx-mod-0000.params\"\u001b[0m\n",
      "\u001b[34m[11/10/2022 10:43:44 INFO 140517880678208] #progress_metric: host=algo-1, completed 13.333333333333334 % of epochs\u001b[0m\n",
      "\u001b[34m#metrics {\"StartTime\": 1668076975.171195, \"EndTime\": 1668077024.5842555, \"Dimensions\": {\"Algorithm\": \"Linear Learner\", \"Host\": \"algo-1\", \"Operation\": \"training\", \"epoch\": 1, \"Meta\": \"training_data_iter\"}, \"Metrics\": {\"Total Records Seen\": {\"sum\": 2628944.0, \"count\": 1, \"min\": 2628944, \"max\": 2628944}, \"Total Batches Seen\": {\"sum\": 2630.0, \"count\": 1, \"min\": 2630, \"max\": 2630}, \"Max Records Seen Between Resets\": {\"sum\": 1308472.0, \"count\": 1, \"min\": 1308472, \"max\": 1308472}, \"Max Batches Seen Between Resets\": {\"sum\": 1309.0, \"count\": 1, \"min\": 1309, \"max\": 1309}, \"Reset Count\": {\"sum\": 4.0, \"count\": 1, \"min\": 4, \"max\": 4}, \"Number of Records Since Last Reset\": {\"sum\": 1308472.0, \"count\": 1, \"min\": 1308472, \"max\": 1308472}, \"Number of Batches Since Last Reset\": {\"sum\": 1309.0, \"count\": 1, \"min\": 1309, \"max\": 1309}}}\u001b[0m\n",
      "\u001b[34m[11/10/2022 10:43:44 INFO 140517880678208] #throughput_metric: host=algo-1, train throughput=26480.21539549494 records/second\u001b[0m\n",
      "\u001b[34m[2022-11-10 10:44:30.100] [tensorio] [info] epoch_stats={\"data_pipeline\": \"/opt/ml/input/data/train\", \"epoch\": 7, \"duration\": 45516, \"num_examples\": 1309, \"num_bytes\": 554792128}\u001b[0m\n",
      "\u001b[34m#metrics {\"StartTime\": 1668077070.100937, \"EndTime\": 1668077070.1010218, \"Dimensions\": {\"Algorithm\": \"Linear Learner\", \"Host\": \"algo-1\", \"Operation\": \"training\", \"epoch\": 2, \"model\": 0}, \"Metrics\": {\"train_binary_classification_cross_entropy_objective\": {\"sum\": 0.024662392677517114, \"count\": 1, \"min\": 0.024662392677517114, \"max\": 0.024662392677517114}}}\u001b[0m\n",
      "\u001b[34m#metrics {\"StartTime\": 1668077070.1011062, \"EndTime\": 1668077070.1011226, \"Dimensions\": {\"Algorithm\": \"Linear Learner\", \"Host\": \"algo-1\", \"Operation\": \"training\", \"epoch\": 2, \"model\": 1}, \"Metrics\": {\"train_binary_classification_cross_entropy_objective\": {\"sum\": 0.004562792023387524, \"count\": 1, \"min\": 0.004562792023387524, \"max\": 0.004562792023387524}}}\u001b[0m\n",
      "\u001b[34m#metrics {\"StartTime\": 1668077070.1011665, \"EndTime\": 1668077070.1011784, \"Dimensions\": {\"Algorithm\": \"Linear Learner\", \"Host\": \"algo-1\", \"Operation\": \"training\", \"epoch\": 2, \"model\": 2}, \"Metrics\": {\"train_binary_classification_cross_entropy_objective\": {\"sum\": 0.025312139441113952, \"count\": 1, \"min\": 0.025312139441113952, \"max\": 0.025312139441113952}}}\u001b[0m\n",
      "\u001b[34m#metrics {\"StartTime\": 1668077070.1012235, \"EndTime\": 1668077070.1012342, \"Dimensions\": {\"Algorithm\": \"Linear Learner\", \"Host\": \"algo-1\", \"Operation\": \"training\", \"epoch\": 2, \"model\": 3}, \"Metrics\": {\"train_binary_classification_cross_entropy_objective\": {\"sum\": 0.00464537322502982, \"count\": 1, \"min\": 0.00464537322502982, \"max\": 0.00464537322502982}}}\u001b[0m\n",
      "\u001b[34m#metrics {\"StartTime\": 1668077070.1012776, \"EndTime\": 1668077070.1012893, \"Dimensions\": {\"Algorithm\": \"Linear Learner\", \"Host\": \"algo-1\", \"Operation\": \"training\", \"epoch\": 2, \"model\": 4}, \"Metrics\": {\"train_binary_classification_cross_entropy_objective\": {\"sum\": 0.0005359749788310186, \"count\": 1, \"min\": 0.0005359749788310186, \"max\": 0.0005359749788310186}}}\u001b[0m\n",
      "\u001b[34m#metrics {\"StartTime\": 1668077070.101341, \"EndTime\": 1668077070.1013534, \"Dimensions\": {\"Algorithm\": \"Linear Learner\", \"Host\": \"algo-1\", \"Operation\": \"training\", \"epoch\": 2, \"model\": 5}, \"Metrics\": {\"train_binary_classification_cross_entropy_objective\": {\"sum\": 0.0004936765673875079, \"count\": 1, \"min\": 0.0004936765673875079, \"max\": 0.0004936765673875079}}}\u001b[0m\n",
      "\u001b[34m#metrics {\"StartTime\": 1668077070.1014032, \"EndTime\": 1668077070.1014152, \"Dimensions\": {\"Algorithm\": \"Linear Learner\", \"Host\": \"algo-1\", \"Operation\": \"training\", \"epoch\": 2, \"model\": 6}, \"Metrics\": {\"train_binary_classification_cross_entropy_objective\": {\"sum\": 0.0005379856157968168, \"count\": 1, \"min\": 0.0005379856157968168, \"max\": 0.0005379856157968168}}}\u001b[0m\n",
      "\u001b[34m#metrics {\"StartTime\": 1668077070.1014566, \"EndTime\": 1668077070.1014674, \"Dimensions\": {\"Algorithm\": \"Linear Learner\", \"Host\": \"algo-1\", \"Operation\": \"training\", \"epoch\": 2, \"model\": 7}, \"Metrics\": {\"train_binary_classification_cross_entropy_objective\": {\"sum\": 0.0004936736536408783, \"count\": 1, \"min\": 0.0004936736536408783, \"max\": 0.0004936736536408783}}}\u001b[0m\n",
      "\u001b[34m#metrics {\"StartTime\": 1668077070.1015072, \"EndTime\": 1668077070.1015177, \"Dimensions\": {\"Algorithm\": \"Linear Learner\", \"Host\": \"algo-1\", \"Operation\": \"training\", \"epoch\": 2, \"model\": 8}, \"Metrics\": {\"train_binary_classification_cross_entropy_objective\": {\"sum\": 0.03451159846746229, \"count\": 1, \"min\": 0.03451159846746229, \"max\": 0.03451159846746229}}}\u001b[0m\n",
      "\u001b[34m#metrics {\"StartTime\": 1668077070.1015646, \"EndTime\": 1668077070.1015766, \"Dimensions\": {\"Algorithm\": \"Linear Learner\", \"Host\": \"algo-1\", \"Operation\": \"training\", \"epoch\": 2, \"model\": 9}, \"Metrics\": {\"train_binary_classification_cross_entropy_objective\": {\"sum\": 0.023795148064966232, \"count\": 1, \"min\": 0.023795148064966232, \"max\": 0.023795148064966232}}}\u001b[0m\n",
      "\u001b[34m#metrics {\"StartTime\": 1668077070.1016197, \"EndTime\": 1668077070.101631, \"Dimensions\": {\"Algorithm\": \"Linear Learner\", \"Host\": \"algo-1\", \"Operation\": \"training\", \"epoch\": 2, \"model\": 10}, \"Metrics\": {\"train_binary_classification_cross_entropy_objective\": {\"sum\": 0.0357817102995123, \"count\": 1, \"min\": 0.0357817102995123, \"max\": 0.0357817102995123}}}\u001b[0m\n",
      "\u001b[34m#metrics {\"StartTime\": 1668077070.1016793, \"EndTime\": 1668077070.1016915, \"Dimensions\": {\"Algorithm\": \"Linear Learner\", \"Host\": \"algo-1\", \"Operation\": \"training\", \"epoch\": 2, \"model\": 11}, \"Metrics\": {\"train_binary_classification_cross_entropy_objective\": {\"sum\": 0.02379372067699374, \"count\": 1, \"min\": 0.02379372067699374, \"max\": 0.02379372067699374}}}\u001b[0m\n",
      "\u001b[34m#metrics {\"StartTime\": 1668077070.1017382, \"EndTime\": 1668077070.1017492, \"Dimensions\": {\"Algorithm\": \"Linear Learner\", \"Host\": \"algo-1\", \"Operation\": \"training\", \"epoch\": 2, \"model\": 12}, \"Metrics\": {\"train_binary_classification_cross_entropy_objective\": {\"sum\": 0.023758510226503424, \"count\": 1, \"min\": 0.023758510226503424, \"max\": 0.023758510226503424}}}\u001b[0m\n",
      "\u001b[34m#metrics {\"StartTime\": 1668077070.1017873, \"EndTime\": 1668077070.1017983, \"Dimensions\": {\"Algorithm\": \"Linear Learner\", \"Host\": \"algo-1\", \"Operation\": \"training\", \"epoch\": 2, \"model\": 13}, \"Metrics\": {\"train_binary_classification_cross_entropy_objective\": {\"sum\": 0.023977938485801768, \"count\": 1, \"min\": 0.023977938485801768, \"max\": 0.023977938485801768}}}\u001b[0m\n",
      "\u001b[34m#metrics {\"StartTime\": 1668077070.101839, \"EndTime\": 1668077070.10185, \"Dimensions\": {\"Algorithm\": \"Linear Learner\", \"Host\": \"algo-1\", \"Operation\": \"training\", \"epoch\": 2, \"model\": 14}, \"Metrics\": {\"train_binary_classification_cross_entropy_objective\": {\"sum\": 0.023758342656885083, \"count\": 1, \"min\": 0.023758342656885083, \"max\": 0.023758342656885083}}}\u001b[0m\n",
      "\u001b[34m#metrics {\"StartTime\": 1668077070.1018884, \"EndTime\": 1668077070.101899, \"Dimensions\": {\"Algorithm\": \"Linear Learner\", \"Host\": \"algo-1\", \"Operation\": \"training\", \"epoch\": 2, \"model\": 15}, \"Metrics\": {\"train_binary_classification_cross_entropy_objective\": {\"sum\": 0.023977501395280938, \"count\": 1, \"min\": 0.023977501395280938, \"max\": 0.023977501395280938}}}\u001b[0m\n",
      "\u001b[34m#metrics {\"StartTime\": 1668077070.101937, \"EndTime\": 1668077070.1019473, \"Dimensions\": {\"Algorithm\": \"Linear Learner\", \"Host\": \"algo-1\", \"Operation\": \"training\", \"epoch\": 2, \"model\": 16}, \"Metrics\": {\"train_binary_classification_cross_entropy_objective\": {\"sum\": 0.38181161249376583, \"count\": 1, \"min\": 0.38181161249376583, \"max\": 0.38181161249376583}}}\u001b[0m\n",
      "\u001b[34m#metrics {\"StartTime\": 1668077070.101985, \"EndTime\": 1668077070.1020014, \"Dimensions\": {\"Algorithm\": \"Linear Learner\", \"Host\": \"algo-1\", \"Operation\": \"training\", \"epoch\": 2, \"model\": 17}, \"Metrics\": {\"train_binary_classification_cross_entropy_objective\": {\"sum\": 0.382012815469631, \"count\": 1, \"min\": 0.382012815469631, \"max\": 0.382012815469631}}}\u001b[0m\n",
      "\u001b[34m#metrics {\"StartTime\": 1668077070.1020384, \"EndTime\": 1668077070.102049, \"Dimensions\": {\"Algorithm\": \"Linear Learner\", \"Host\": \"algo-1\", \"Operation\": \"training\", \"epoch\": 2, \"model\": 18}, \"Metrics\": {\"train_binary_classification_cross_entropy_objective\": {\"sum\": 0.38181272769193036, \"count\": 1, \"min\": 0.38181272769193036, \"max\": 0.38181272769193036}}}\u001b[0m\n",
      "\u001b[34m#metrics {\"StartTime\": 1668077070.1020894, \"EndTime\": 1668077070.1021008, \"Dimensions\": {\"Algorithm\": \"Linear Learner\", \"Host\": \"algo-1\", \"Operation\": \"training\", \"epoch\": 2, \"model\": 19}, \"Metrics\": {\"train_binary_classification_cross_entropy_objective\": {\"sum\": 0.382011643342651, \"count\": 1, \"min\": 0.382011643342651, \"max\": 0.382011643342651}}}\u001b[0m\n",
      "\u001b[34m#metrics {\"StartTime\": 1668077070.1021473, \"EndTime\": 1668077070.1021626, \"Dimensions\": {\"Algorithm\": \"Linear Learner\", \"Host\": \"algo-1\", \"Operation\": \"training\", \"epoch\": 2, \"model\": 20}, \"Metrics\": {\"train_binary_classification_cross_entropy_objective\": {\"sum\": 0.3820097923395466, \"count\": 1, \"min\": 0.3820097923395466, \"max\": 0.3820097923395466}}}\u001b[0m\n",
      "\u001b[34m#metrics {\"StartTime\": 1668077070.1022172, \"EndTime\": 1668077070.102235, \"Dimensions\": {\"Algorithm\": \"Linear Learner\", \"Host\": \"algo-1\", \"Operation\": \"training\", \"epoch\": 2, \"model\": 21}, \"Metrics\": {\"train_binary_classification_cross_entropy_objective\": {\"sum\": 0.3848430780299942, \"count\": 1, \"min\": 0.3848430780299942, \"max\": 0.3848430780299942}}}\u001b[0m\n",
      "\u001b[34m#metrics {\"StartTime\": 1668077070.1022875, \"EndTime\": 1668077070.1023052, \"Dimensions\": {\"Algorithm\": \"Linear Learner\", \"Host\": \"algo-1\", \"Operation\": \"training\", \"epoch\": 2, \"model\": 22}, \"Metrics\": {\"train_binary_classification_cross_entropy_objective\": {\"sum\": 0.3820098586709492, \"count\": 1, \"min\": 0.3820098586709492, \"max\": 0.3820098586709492}}}\u001b[0m\n",
      "\u001b[34m#metrics {\"StartTime\": 1668077070.1023633, \"EndTime\": 1668077070.1023815, \"Dimensions\": {\"Algorithm\": \"Linear Learner\", \"Host\": \"algo-1\", \"Operation\": \"training\", \"epoch\": 2, \"model\": 23}, \"Metrics\": {\"train_binary_classification_cross_entropy_objective\": {\"sum\": 0.3848437187591459, \"count\": 1, \"min\": 0.3848437187591459, \"max\": 0.3848437187591459}}}\u001b[0m\n",
      "\u001b[34m#metrics {\"StartTime\": 1668077070.1024368, \"EndTime\": 1668077070.102455, \"Dimensions\": {\"Algorithm\": \"Linear Learner\", \"Host\": \"algo-1\", \"Operation\": \"training\", \"epoch\": 2, \"model\": 24}, \"Metrics\": {\"train_binary_classification_cross_entropy_objective\": {\"sum\": 0.5123423060145946, \"count\": 1, \"min\": 0.5123423060145946, \"max\": 0.5123423060145946}}}\u001b[0m\n",
      "\u001b[34m#metrics {\"StartTime\": 1668077070.1025116, \"EndTime\": 1668077070.1025288, \"Dimensions\": {\"Algorithm\": \"Linear Learner\", \"Host\": \"algo-1\", \"Operation\": \"training\", \"epoch\": 2, \"model\": 25}, \"Metrics\": {\"train_binary_classification_cross_entropy_objective\": {\"sum\": 0.5124417343372963, \"count\": 1, \"min\": 0.5124417343372963, \"max\": 0.5124417343372963}}}\u001b[0m\n",
      "\u001b[34m#metrics {\"StartTime\": 1668077070.1025817, \"EndTime\": 1668077070.1025991, \"Dimensions\": {\"Algorithm\": \"Linear Learner\", \"Host\": \"algo-1\", \"Operation\": \"training\", \"epoch\": 2, \"model\": 26}, \"Metrics\": {\"train_binary_classification_cross_entropy_objective\": {\"sum\": 0.5123421385645501, \"count\": 1, \"min\": 0.5123421385645501, \"max\": 0.5123421385645501}}}\u001b[0m\n",
      "\u001b[34m#metrics {\"StartTime\": 1668077070.102648, \"EndTime\": 1668077070.1026587, \"Dimensions\": {\"Algorithm\": \"Linear Learner\", \"Host\": \"algo-1\", \"Operation\": \"training\", \"epoch\": 2, \"model\": 27}, \"Metrics\": {\"train_binary_classification_cross_entropy_objective\": {\"sum\": 0.5124410861887334, \"count\": 1, \"min\": 0.5124410861887334, \"max\": 0.5124410861887334}}}\u001b[0m\n",
      "\u001b[34m#metrics {\"StartTime\": 1668077070.1026866, \"EndTime\": 1668077070.1026962, \"Dimensions\": {\"Algorithm\": \"Linear Learner\", \"Host\": \"algo-1\", \"Operation\": \"training\", \"epoch\": 2, \"model\": 28}, \"Metrics\": {\"train_binary_classification_cross_entropy_objective\": {\"sum\": 0.5124411914837105, \"count\": 1, \"min\": 0.5124411914837105, \"max\": 0.5124411914837105}}}\u001b[0m\n",
      "\u001b[34m#metrics {\"StartTime\": 1668077070.102745, \"EndTime\": 1668077070.1027622, \"Dimensions\": {\"Algorithm\": \"Linear Learner\", \"Host\": \"algo-1\", \"Operation\": \"training\", \"epoch\": 2, \"model\": 29}, \"Metrics\": {\"train_binary_classification_cross_entropy_objective\": {\"sum\": 0.5139886364251466, \"count\": 1, \"min\": 0.5139886364251466, \"max\": 0.5139886364251466}}}\u001b[0m\n",
      "\u001b[34m#metrics {\"StartTime\": 1668077070.1028225, \"EndTime\": 1668077070.1028345, \"Dimensions\": {\"Algorithm\": \"Linear Learner\", \"Host\": \"algo-1\", \"Operation\": \"training\", \"epoch\": 2, \"model\": 30}, \"Metrics\": {\"train_binary_classification_cross_entropy_objective\": {\"sum\": 0.5124411808912178, \"count\": 1, \"min\": 0.5124411808912178, \"max\": 0.5124411808912178}}}\u001b[0m\n",
      "\u001b[34m#metrics {\"StartTime\": 1668077070.1028757, \"EndTime\": 1668077070.102891, \"Dimensions\": {\"Algorithm\": \"Linear Learner\", \"Host\": \"algo-1\", \"Operation\": \"training\", \"epoch\": 2, \"model\": 31}, \"Metrics\": {\"train_binary_classification_cross_entropy_objective\": {\"sum\": 0.5139895497126681, \"count\": 1, \"min\": 0.5139895497126681, \"max\": 0.5139895497126681}}}\u001b[0m\n",
      "\u001b[34m[11/10/2022 10:44:30 INFO 140517880678208] #quality_metric: host=algo-1, epoch=2, train binary_classification_cross_entropy_objective <loss>=0.024662392677517114\u001b[0m\n",
      "\u001b[34m[2022-11-10 10:44:34.410] [tensorio] [info] epoch_stats={\"data_pipeline\": \"/opt/ml/input/data/validation\", \"epoch\": 8, \"duration\": 4288, \"num_examples\": 164, \"num_bytes\": 69349016}\u001b[0m\n",
      "\u001b[34m#metrics {\"StartTime\": 1668077074.4173005, \"EndTime\": 1668077074.4173548, \"Dimensions\": {\"Algorithm\": \"Linear Learner\", \"Host\": \"algo-1\", \"Operation\": \"training\", \"epoch\": 2, \"model\": 0}, \"Metrics\": {\"validation_binary_classification_cross_entropy_objective\": {\"sum\": 0.02291877884351379, \"count\": 1, \"min\": 0.02291877884351379, \"max\": 0.02291877884351379}}}\u001b[0m\n",
      "\u001b[34m#metrics {\"StartTime\": 1668077074.4174361, \"EndTime\": 1668077074.4174507, \"Dimensions\": {\"Algorithm\": \"Linear Learner\", \"Host\": \"algo-1\", \"Operation\": \"training\", \"epoch\": 2, \"model\": 1}, \"Metrics\": {\"validation_binary_classification_cross_entropy_objective\": {\"sum\": 0.003091224246769995, \"count\": 1, \"min\": 0.003091224246769995, \"max\": 0.003091224246769995}}}\u001b[0m\n",
      "\u001b[34m#metrics {\"StartTime\": 1668077074.4175098, \"EndTime\": 1668077074.4175227, \"Dimensions\": {\"Algorithm\": \"Linear Learner\", \"Host\": \"algo-1\", \"Operation\": \"training\", \"epoch\": 2, \"model\": 2}, \"Metrics\": {\"validation_binary_classification_cross_entropy_objective\": {\"sum\": 0.02352015169634499, \"count\": 1, \"min\": 0.02352015169634499, \"max\": 0.02352015169634499}}}\u001b[0m\n",
      "\u001b[34m#metrics {\"StartTime\": 1668077074.4175546, \"EndTime\": 1668077074.4175634, \"Dimensions\": {\"Algorithm\": \"Linear Learner\", \"Host\": \"algo-1\", \"Operation\": \"training\", \"epoch\": 2, \"model\": 3}, \"Metrics\": {\"validation_binary_classification_cross_entropy_objective\": {\"sum\": 0.0031451514101942996, \"count\": 1, \"min\": 0.0031451514101942996, \"max\": 0.0031451514101942996}}}\u001b[0m\n",
      "\u001b[34m#metrics {\"StartTime\": 1668077074.4176192, \"EndTime\": 1668077074.4176378, \"Dimensions\": {\"Algorithm\": \"Linear Learner\", \"Host\": \"algo-1\", \"Operation\": \"training\", \"epoch\": 2, \"model\": 4}, \"Metrics\": {\"validation_binary_classification_cross_entropy_objective\": {\"sum\": 0.0005249706593410757, \"count\": 1, \"min\": 0.0005249706593410757, \"max\": 0.0005249706593410757}}}\u001b[0m\n",
      "\u001b[34m#metrics {\"StartTime\": 1668077074.4176927, \"EndTime\": 1668077074.4177103, \"Dimensions\": {\"Algorithm\": \"Linear Learner\", \"Host\": \"algo-1\", \"Operation\": \"training\", \"epoch\": 2, \"model\": 5}, \"Metrics\": {\"validation_binary_classification_cross_entropy_objective\": {\"sum\": 0.0004932796788421609, \"count\": 1, \"min\": 0.0004932796788421609, \"max\": 0.0004932796788421609}}}\u001b[0m\n",
      "\u001b[34m#metrics {\"StartTime\": 1668077074.417764, \"EndTime\": 1668077074.4177806, \"Dimensions\": {\"Algorithm\": \"Linear Learner\", \"Host\": \"algo-1\", \"Operation\": \"training\", \"epoch\": 2, \"model\": 6}, \"Metrics\": {\"validation_binary_classification_cross_entropy_objective\": {\"sum\": 0.0005266209094414576, \"count\": 1, \"min\": 0.0005266209094414576, \"max\": 0.0005266209094414576}}}\u001b[0m\n",
      "\u001b[34m#metrics {\"StartTime\": 1668077074.4178233, \"EndTime\": 1668077074.4178388, \"Dimensions\": {\"Algorithm\": \"Linear Learner\", \"Host\": \"algo-1\", \"Operation\": \"training\", \"epoch\": 2, \"model\": 7}, \"Metrics\": {\"validation_binary_classification_cross_entropy_objective\": {\"sum\": 0.0004932706892581128, \"count\": 1, \"min\": 0.0004932706892581128, \"max\": 0.0004932706892581128}}}\u001b[0m\n",
      "\u001b[34m#metrics {\"StartTime\": 1668077074.4179037, \"EndTime\": 1668077074.4179218, \"Dimensions\": {\"Algorithm\": \"Linear Learner\", \"Host\": \"algo-1\", \"Operation\": \"training\", \"epoch\": 2, \"model\": 8}, \"Metrics\": {\"validation_binary_classification_cross_entropy_objective\": {\"sum\": 0.0329550643507707, \"count\": 1, \"min\": 0.0329550643507707, \"max\": 0.0329550643507707}}}\u001b[0m\n",
      "\u001b[34m#metrics {\"StartTime\": 1668077074.4179757, \"EndTime\": 1668077074.4179926, \"Dimensions\": {\"Algorithm\": \"Linear Learner\", \"Host\": \"algo-1\", \"Operation\": \"training\", \"epoch\": 2, \"model\": 9}, \"Metrics\": {\"validation_binary_classification_cross_entropy_objective\": {\"sum\": 0.02374705547394593, \"count\": 1, \"min\": 0.02374705547394593, \"max\": 0.02374705547394593}}}\u001b[0m\n",
      "\u001b[34m#metrics {\"StartTime\": 1668077074.4180462, \"EndTime\": 1668077074.4180617, \"Dimensions\": {\"Algorithm\": \"Linear Learner\", \"Host\": \"algo-1\", \"Operation\": \"training\", \"epoch\": 2, \"model\": 10}, \"Metrics\": {\"validation_binary_classification_cross_entropy_objective\": {\"sum\": 0.03410061195260698, \"count\": 1, \"min\": 0.03410061195260698, \"max\": 0.03410061195260698}}}\u001b[0m\n",
      "\u001b[34m#metrics {\"StartTime\": 1668077074.4181156, \"EndTime\": 1668077074.418133, \"Dimensions\": {\"Algorithm\": \"Linear Learner\", \"Host\": \"algo-1\", \"Operation\": \"training\", \"epoch\": 2, \"model\": 11}, \"Metrics\": {\"validation_binary_classification_cross_entropy_objective\": {\"sum\": 0.023747104790567873, \"count\": 1, \"min\": 0.023747104790567873, \"max\": 0.023747104790567873}}}\u001b[0m\n",
      "\u001b[34m#metrics {\"StartTime\": 1668077074.4181948, \"EndTime\": 1668077074.4182136, \"Dimensions\": {\"Algorithm\": \"Linear Learner\", \"Host\": \"algo-1\", \"Operation\": \"training\", \"epoch\": 2, \"model\": 12}, \"Metrics\": {\"validation_binary_classification_cross_entropy_objective\": {\"sum\": 0.023730978056946878, \"count\": 1, \"min\": 0.023730978056946878, \"max\": 0.023730978056946878}}}\u001b[0m\n",
      "\u001b[34m#metrics {\"StartTime\": 1668077074.4182734, \"EndTime\": 1668077074.4182916, \"Dimensions\": {\"Algorithm\": \"Linear Learner\", \"Host\": \"algo-1\", \"Operation\": \"training\", \"epoch\": 2, \"model\": 13}, \"Metrics\": {\"validation_binary_classification_cross_entropy_objective\": {\"sum\": 0.02410999859925027, \"count\": 1, \"min\": 0.02410999859925027, \"max\": 0.02410999859925027}}}\u001b[0m\n",
      "\u001b[34m#metrics {\"StartTime\": 1668077074.4183328, \"EndTime\": 1668077074.4183486, \"Dimensions\": {\"Algorithm\": \"Linear Learner\", \"Host\": \"algo-1\", \"Operation\": \"training\", \"epoch\": 2, \"model\": 14}, \"Metrics\": {\"validation_binary_classification_cross_entropy_objective\": {\"sum\": 0.023731609103298603, \"count\": 1, \"min\": 0.023731609103298603, \"max\": 0.023731609103298603}}}\u001b[0m\n",
      "\u001b[34m#metrics {\"StartTime\": 1668077074.4183993, \"EndTime\": 1668077074.418416, \"Dimensions\": {\"Algorithm\": \"Linear Learner\", \"Host\": \"algo-1\", \"Operation\": \"training\", \"epoch\": 2, \"model\": 15}, \"Metrics\": {\"validation_binary_classification_cross_entropy_objective\": {\"sum\": 0.024109585629391483, \"count\": 1, \"min\": 0.024109585629391483, \"max\": 0.024109585629391483}}}\u001b[0m\n",
      "\u001b[34m#metrics {\"StartTime\": 1668077074.418478, \"EndTime\": 1668077074.4184954, \"Dimensions\": {\"Algorithm\": \"Linear Learner\", \"Host\": \"algo-1\", \"Operation\": \"training\", \"epoch\": 2, \"model\": 16}, \"Metrics\": {\"validation_binary_classification_cross_entropy_objective\": {\"sum\": 0.38113846048070527, \"count\": 1, \"min\": 0.38113846048070527, \"max\": 0.38113846048070527}}}\u001b[0m\n",
      "\u001b[34m#metrics {\"StartTime\": 1668077074.4185438, \"EndTime\": 1668077074.4185598, \"Dimensions\": {\"Algorithm\": \"Linear Learner\", \"Host\": \"algo-1\", \"Operation\": \"training\", \"epoch\": 2, \"model\": 17}, \"Metrics\": {\"validation_binary_classification_cross_entropy_objective\": {\"sum\": 0.3824428635572279, \"count\": 1, \"min\": 0.3824428635572279, \"max\": 0.3824428635572279}}}\u001b[0m\n",
      "\u001b[34m#metrics {\"StartTime\": 1668077074.4186087, \"EndTime\": 1668077074.4186256, \"Dimensions\": {\"Algorithm\": \"Linear Learner\", \"Host\": \"algo-1\", \"Operation\": \"training\", \"epoch\": 2, \"model\": 18}, \"Metrics\": {\"validation_binary_classification_cross_entropy_objective\": {\"sum\": 0.3811315195364206, \"count\": 1, \"min\": 0.3811315195364206, \"max\": 0.3811315195364206}}}\u001b[0m\n",
      "\u001b[34m#metrics {\"StartTime\": 1668077074.4186726, \"EndTime\": 1668077074.418689, \"Dimensions\": {\"Algorithm\": \"Linear Learner\", \"Host\": \"algo-1\", \"Operation\": \"training\", \"epoch\": 2, \"model\": 19}, \"Metrics\": {\"validation_binary_classification_cross_entropy_objective\": {\"sum\": 0.38229998384595976, \"count\": 1, \"min\": 0.38229998384595976, \"max\": 0.38229998384595976}}}\u001b[0m\n",
      "\u001b[34m#metrics {\"StartTime\": 1668077074.4187515, \"EndTime\": 1668077074.4187682, \"Dimensions\": {\"Algorithm\": \"Linear Learner\", \"Host\": \"algo-1\", \"Operation\": \"training\", \"epoch\": 2, \"model\": 20}, \"Metrics\": {\"validation_binary_classification_cross_entropy_objective\": {\"sum\": 0.3818512781063762, \"count\": 1, \"min\": 0.3818512781063762, \"max\": 0.3818512781063762}}}\u001b[0m\n",
      "\u001b[34m#metrics {\"StartTime\": 1668077074.4188323, \"EndTime\": 1668077074.41885, \"Dimensions\": {\"Algorithm\": \"Linear Learner\", \"Host\": \"algo-1\", \"Operation\": \"training\", \"epoch\": 2, \"model\": 21}, \"Metrics\": {\"validation_binary_classification_cross_entropy_objective\": {\"sum\": 0.3736849463989832, \"count\": 1, \"min\": 0.3736849463989832, \"max\": 0.3736849463989832}}}\u001b[0m\n",
      "\u001b[34m#metrics {\"StartTime\": 1668077074.4189103, \"EndTime\": 1668077074.4189265, \"Dimensions\": {\"Algorithm\": \"Linear Learner\", \"Host\": \"algo-1\", \"Operation\": \"training\", \"epoch\": 2, \"model\": 22}, \"Metrics\": {\"validation_binary_classification_cross_entropy_objective\": {\"sum\": 0.38184930460186817, \"count\": 1, \"min\": 0.38184930460186817, \"max\": 0.38184930460186817}}}\u001b[0m\n",
      "\u001b[34m#metrics {\"StartTime\": 1668077074.41898, \"EndTime\": 1668077074.418998, \"Dimensions\": {\"Algorithm\": \"Linear Learner\", \"Host\": \"algo-1\", \"Operation\": \"training\", \"epoch\": 2, \"model\": 23}, \"Metrics\": {\"validation_binary_classification_cross_entropy_objective\": {\"sum\": 0.3736604338571715, \"count\": 1, \"min\": 0.3736604338571715, \"max\": 0.3736604338571715}}}\u001b[0m\n",
      "\u001b[34m#metrics {\"StartTime\": 1668077074.4190497, \"EndTime\": 1668077074.4190664, \"Dimensions\": {\"Algorithm\": \"Linear Learner\", \"Host\": \"algo-1\", \"Operation\": \"training\", \"epoch\": 2, \"model\": 24}, \"Metrics\": {\"validation_binary_classification_cross_entropy_objective\": {\"sum\": 0.5115049700355405, \"count\": 1, \"min\": 0.5115049700355405, \"max\": 0.5115049700355405}}}\u001b[0m\n",
      "\u001b[34m#metrics {\"StartTime\": 1668077074.4191184, \"EndTime\": 1668077074.4191337, \"Dimensions\": {\"Algorithm\": \"Linear Learner\", \"Host\": \"algo-1\", \"Operation\": \"training\", \"epoch\": 2, \"model\": 25}, \"Metrics\": {\"validation_binary_classification_cross_entropy_objective\": {\"sum\": 0.5115381096859782, \"count\": 1, \"min\": 0.5115381096859782, \"max\": 0.5115381096859782}}}\u001b[0m\n",
      "\u001b[34m#metrics {\"StartTime\": 1668077074.4191864, \"EndTime\": 1668077074.4192026, \"Dimensions\": {\"Algorithm\": \"Linear Learner\", \"Host\": \"algo-1\", \"Operation\": \"training\", \"epoch\": 2, \"model\": 26}, \"Metrics\": {\"validation_binary_classification_cross_entropy_objective\": {\"sum\": 0.5114883890152502, \"count\": 1, \"min\": 0.5114883890152502, \"max\": 0.5114883890152502}}}\u001b[0m\n",
      "\u001b[34m#metrics {\"StartTime\": 1668077074.419279, \"EndTime\": 1668077074.4192975, \"Dimensions\": {\"Algorithm\": \"Linear Learner\", \"Host\": \"algo-1\", \"Operation\": \"training\", \"epoch\": 2, \"model\": 27}, \"Metrics\": {\"validation_binary_classification_cross_entropy_objective\": {\"sum\": 0.5114932467433269, \"count\": 1, \"min\": 0.5114932467433269, \"max\": 0.5114932467433269}}}\u001b[0m\n",
      "\u001b[34m#metrics {\"StartTime\": 1668077074.419367, \"EndTime\": 1668077074.4193852, \"Dimensions\": {\"Algorithm\": \"Linear Learner\", \"Host\": \"algo-1\", \"Operation\": \"training\", \"epoch\": 2, \"model\": 28}, \"Metrics\": {\"validation_binary_classification_cross_entropy_objective\": {\"sum\": 0.5113305140655594, \"count\": 1, \"min\": 0.5113305140655594, \"max\": 0.5113305140655594}}}\u001b[0m\n",
      "\u001b[34m#metrics {\"StartTime\": 1668077074.4194446, \"EndTime\": 1668077074.4194627, \"Dimensions\": {\"Algorithm\": \"Linear Learner\", \"Host\": \"algo-1\", \"Operation\": \"training\", \"epoch\": 2, \"model\": 29}, \"Metrics\": {\"validation_binary_classification_cross_entropy_objective\": {\"sum\": 0.5148306423252537, \"count\": 1, \"min\": 0.5148306423252537, \"max\": 0.5148306423252537}}}\u001b[0m\n",
      "\u001b[34m#metrics {\"StartTime\": 1668077074.4195316, \"EndTime\": 1668077074.41955, \"Dimensions\": {\"Algorithm\": \"Linear Learner\", \"Host\": \"algo-1\", \"Operation\": \"training\", \"epoch\": 2, \"model\": 30}, \"Metrics\": {\"validation_binary_classification_cross_entropy_objective\": {\"sum\": 0.5113645028621648, \"count\": 1, \"min\": 0.5113645028621648, \"max\": 0.5113645028621648}}}\u001b[0m\n",
      "\u001b[34m#metrics {\"StartTime\": 1668077074.4195962, \"EndTime\": 1668077074.4196122, \"Dimensions\": {\"Algorithm\": \"Linear Learner\", \"Host\": \"algo-1\", \"Operation\": \"training\", \"epoch\": 2, \"model\": 31}, \"Metrics\": {\"validation_binary_classification_cross_entropy_objective\": {\"sum\": 0.5148060499252659, \"count\": 1, \"min\": 0.5148060499252659, \"max\": 0.5148060499252659}}}\u001b[0m\n",
      "\u001b[34m[11/10/2022 10:44:34 INFO 140517880678208] #quality_metric: host=algo-1, epoch=2, validation binary_classification_cross_entropy_objective <loss>=0.02291877884351379\u001b[0m\n",
      "\u001b[34m[11/10/2022 10:44:34 INFO 140517880678208] #early_stopping_criteria_metric: host=algo-1, epoch=2, criteria=binary_classification_cross_entropy_objective, value=0.0004932706892581128\u001b[0m\n",
      "\u001b[34m[11/10/2022 10:44:34 INFO 140517880678208] Saving model for epoch: 2\u001b[0m\n",
      "\u001b[34m[11/10/2022 10:44:34 INFO 140517880678208] Saved checkpoint to \"/tmp/tmp34or8vuw/mx-mod-0000.params\"\u001b[0m\n",
      "\u001b[34m[11/10/2022 10:44:34 INFO 140517880678208] #progress_metric: host=algo-1, completed 20.0 % of epochs\u001b[0m\n",
      "\u001b[34m#metrics {\"StartTime\": 1668077024.5845675, \"EndTime\": 1668077074.4258986, \"Dimensions\": {\"Algorithm\": \"Linear Learner\", \"Host\": \"algo-1\", \"Operation\": \"training\", \"epoch\": 2, \"Meta\": \"training_data_iter\"}, \"Metrics\": {\"Total Records Seen\": {\"sum\": 3937416.0, \"count\": 1, \"min\": 3937416, \"max\": 3937416}, \"Total Batches Seen\": {\"sum\": 3939.0, \"count\": 1, \"min\": 3939, \"max\": 3939}, \"Max Records Seen Between Resets\": {\"sum\": 1308472.0, \"count\": 1, \"min\": 1308472, \"max\": 1308472}, \"Max Batches Seen Between Resets\": {\"sum\": 1309.0, \"count\": 1, \"min\": 1309, \"max\": 1309}, \"Reset Count\": {\"sum\": 5.0, \"count\": 1, \"min\": 5, \"max\": 5}, \"Number of Records Since Last Reset\": {\"sum\": 1308472.0, \"count\": 1, \"min\": 1308472, \"max\": 1308472}, \"Number of Batches Since Last Reset\": {\"sum\": 1309.0, \"count\": 1, \"min\": 1309, \"max\": 1309}}}\u001b[0m\n",
      "\u001b[34m[11/10/2022 10:44:34 INFO 140517880678208] #throughput_metric: host=algo-1, train throughput=26252.67761427909 records/second\u001b[0m\n",
      "\u001b[34m[2022-11-10 10:45:19.924] [tensorio] [info] epoch_stats={\"data_pipeline\": \"/opt/ml/input/data/train\", \"epoch\": 9, \"duration\": 45497, \"num_examples\": 1309, \"num_bytes\": 554792128}\u001b[0m\n",
      "\u001b[34m#metrics {\"StartTime\": 1668077119.9240856, \"EndTime\": 1668077119.9241776, \"Dimensions\": {\"Algorithm\": \"Linear Learner\", \"Host\": \"algo-1\", \"Operation\": \"training\", \"epoch\": 3, \"model\": 0}, \"Metrics\": {\"train_binary_classification_cross_entropy_objective\": {\"sum\": 0.022144034608788447, \"count\": 1, \"min\": 0.022144034608788447, \"max\": 0.022144034608788447}}}\u001b[0m\n",
      "\u001b[34m#metrics {\"StartTime\": 1668077119.92427, \"EndTime\": 1668077119.9242942, \"Dimensions\": {\"Algorithm\": \"Linear Learner\", \"Host\": \"algo-1\", \"Operation\": \"training\", \"epoch\": 3, \"model\": 1}, \"Metrics\": {\"train_binary_classification_cross_entropy_objective\": {\"sum\": 0.0023084456033845195, \"count\": 1, \"min\": 0.0023084456033845195, \"max\": 0.0023084456033845195}}}\u001b[0m\n",
      "\u001b[34m#metrics {\"StartTime\": 1668077119.9243455, \"EndTime\": 1668077119.9243627, \"Dimensions\": {\"Algorithm\": \"Linear Learner\", \"Host\": \"algo-1\", \"Operation\": \"training\", \"epoch\": 3, \"model\": 2}, \"Metrics\": {\"train_binary_classification_cross_entropy_objective\": {\"sum\": 0.022303695986394853, \"count\": 1, \"min\": 0.022303695986394853, \"max\": 0.022303695986394853}}}\u001b[0m\n",
      "\u001b[34m#metrics {\"StartTime\": 1668077119.924421, \"EndTime\": 1668077119.9244409, \"Dimensions\": {\"Algorithm\": \"Linear Learner\", \"Host\": \"algo-1\", \"Operation\": \"training\", \"epoch\": 3, \"model\": 3}, \"Metrics\": {\"train_binary_classification_cross_entropy_objective\": {\"sum\": 0.002347251614755082, \"count\": 1, \"min\": 0.002347251614755082, \"max\": 0.002347251614755082}}}\u001b[0m\n",
      "\u001b[34m#metrics {\"StartTime\": 1668077119.9245024, \"EndTime\": 1668077119.9245207, \"Dimensions\": {\"Algorithm\": \"Linear Learner\", \"Host\": \"algo-1\", \"Operation\": \"training\", \"epoch\": 3, \"model\": 4}, \"Metrics\": {\"train_binary_classification_cross_entropy_objective\": {\"sum\": 0.0005207198807907032, \"count\": 1, \"min\": 0.0005207198807907032, \"max\": 0.0005207198807907032}}}\u001b[0m\n",
      "\u001b[34m#metrics {\"StartTime\": 1668077119.9245727, \"EndTime\": 1668077119.9245906, \"Dimensions\": {\"Algorithm\": \"Linear Learner\", \"Host\": \"algo-1\", \"Operation\": \"training\", \"epoch\": 3, \"model\": 5}, \"Metrics\": {\"train_binary_classification_cross_entropy_objective\": {\"sum\": 0.0004937862305466189, \"count\": 1, \"min\": 0.0004937862305466189, \"max\": 0.0004937862305466189}}}\u001b[0m\n",
      "\u001b[34m#metrics {\"StartTime\": 1668077119.924656, \"EndTime\": 1668077119.9246743, \"Dimensions\": {\"Algorithm\": \"Linear Learner\", \"Host\": \"algo-1\", \"Operation\": \"training\", \"epoch\": 3, \"model\": 6}, \"Metrics\": {\"train_binary_classification_cross_entropy_objective\": {\"sum\": 0.0005221837831928825, \"count\": 1, \"min\": 0.0005221837831928825, \"max\": 0.0005221837831928825}}}\u001b[0m\n",
      "\u001b[34m#metrics {\"StartTime\": 1668077119.9247282, \"EndTime\": 1668077119.9247446, \"Dimensions\": {\"Algorithm\": \"Linear Learner\", \"Host\": \"algo-1\", \"Operation\": \"training\", \"epoch\": 3, \"model\": 7}, \"Metrics\": {\"train_binary_classification_cross_entropy_objective\": {\"sum\": 0.0004937747359412526, \"count\": 1, \"min\": 0.0004937747359412526, \"max\": 0.0004937747359412526}}}\u001b[0m\n",
      "\u001b[34m#metrics {\"StartTime\": 1668077119.9247985, \"EndTime\": 1668077119.9248161, \"Dimensions\": {\"Algorithm\": \"Linear Learner\", \"Host\": \"algo-1\", \"Operation\": \"training\", \"epoch\": 3, \"model\": 8}, \"Metrics\": {\"train_binary_classification_cross_entropy_objective\": {\"sum\": 0.03225273004292713, \"count\": 1, \"min\": 0.03225273004292713, \"max\": 0.03225273004292713}}}\u001b[0m\n",
      "\u001b[34m#metrics {\"StartTime\": 1668077119.9248705, \"EndTime\": 1668077119.9248834, \"Dimensions\": {\"Algorithm\": \"Linear Learner\", \"Host\": \"algo-1\", \"Operation\": \"training\", \"epoch\": 3, \"model\": 9}, \"Metrics\": {\"train_binary_classification_cross_entropy_objective\": {\"sum\": 0.023757906447127688, \"count\": 1, \"min\": 0.023757906447127688, \"max\": 0.023757906447127688}}}\u001b[0m\n",
      "\u001b[34m#metrics {\"StartTime\": 1668077119.924926, \"EndTime\": 1668077119.9249423, \"Dimensions\": {\"Algorithm\": \"Linear Learner\", \"Host\": \"algo-1\", \"Operation\": \"training\", \"epoch\": 3, \"model\": 10}, \"Metrics\": {\"train_binary_classification_cross_entropy_objective\": {\"sum\": 0.032933437959863504, \"count\": 1, \"min\": 0.032933437959863504, \"max\": 0.032933437959863504}}}\u001b[0m\n",
      "\u001b[34m#metrics {\"StartTime\": 1668077119.9249964, \"EndTime\": 1668077119.9250147, \"Dimensions\": {\"Algorithm\": \"Linear Learner\", \"Host\": \"algo-1\", \"Operation\": \"training\", \"epoch\": 3, \"model\": 11}, \"Metrics\": {\"train_binary_classification_cross_entropy_objective\": {\"sum\": 0.023757898959180266, \"count\": 1, \"min\": 0.023757898959180266, \"max\": 0.023757898959180266}}}\u001b[0m\n",
      "\u001b[34m#metrics {\"StartTime\": 1668077119.925059, \"EndTime\": 1668077119.9250734, \"Dimensions\": {\"Algorithm\": \"Linear Learner\", \"Host\": \"algo-1\", \"Operation\": \"training\", \"epoch\": 3, \"model\": 12}, \"Metrics\": {\"train_binary_classification_cross_entropy_objective\": {\"sum\": 0.023748462474309704, \"count\": 1, \"min\": 0.023748462474309704, \"max\": 0.023748462474309704}}}\u001b[0m\n",
      "\u001b[34m#metrics {\"StartTime\": 1668077119.925131, \"EndTime\": 1668077119.925148, \"Dimensions\": {\"Algorithm\": \"Linear Learner\", \"Host\": \"algo-1\", \"Operation\": \"training\", \"epoch\": 3, \"model\": 13}, \"Metrics\": {\"train_binary_classification_cross_entropy_objective\": {\"sum\": 0.023961472407758054, \"count\": 1, \"min\": 0.023961472407758054, \"max\": 0.023961472407758054}}}\u001b[0m\n",
      "\u001b[34m#metrics {\"StartTime\": 1668077119.925211, \"EndTime\": 1668077119.925229, \"Dimensions\": {\"Algorithm\": \"Linear Learner\", \"Host\": \"algo-1\", \"Operation\": \"training\", \"epoch\": 3, \"model\": 14}, \"Metrics\": {\"train_binary_classification_cross_entropy_objective\": {\"sum\": 0.02374835561320687, \"count\": 1, \"min\": 0.02374835561320687, \"max\": 0.02374835561320687}}}\u001b[0m\n",
      "\u001b[34m#metrics {\"StartTime\": 1668077119.925284, \"EndTime\": 1668077119.9253006, \"Dimensions\": {\"Algorithm\": \"Linear Learner\", \"Host\": \"algo-1\", \"Operation\": \"training\", \"epoch\": 3, \"model\": 15}, \"Metrics\": {\"train_binary_classification_cross_entropy_objective\": {\"sum\": 0.02396130992731917, \"count\": 1, \"min\": 0.02396130992731917, \"max\": 0.02396130992731917}}}\u001b[0m\n",
      "\u001b[34m#metrics {\"StartTime\": 1668077119.9253519, \"EndTime\": 1668077119.9253697, \"Dimensions\": {\"Algorithm\": \"Linear Learner\", \"Host\": \"algo-1\", \"Operation\": \"training\", \"epoch\": 3, \"model\": 16}, \"Metrics\": {\"train_binary_classification_cross_entropy_objective\": {\"sum\": 0.3817866240335167, \"count\": 1, \"min\": 0.3817866240335167, \"max\": 0.3817866240335167}}}\u001b[0m\n",
      "\u001b[34m#metrics {\"StartTime\": 1668077119.9254222, \"EndTime\": 1668077119.9254386, \"Dimensions\": {\"Algorithm\": \"Linear Learner\", \"Host\": \"algo-1\", \"Operation\": \"training\", \"epoch\": 3, \"model\": 17}, \"Metrics\": {\"train_binary_classification_cross_entropy_objective\": {\"sum\": 0.38199222359380225, \"count\": 1, \"min\": 0.38199222359380225, \"max\": 0.38199222359380225}}}\u001b[0m\n",
      "\u001b[34m#metrics {\"StartTime\": 1668077119.9254918, \"EndTime\": 1668077119.925508, \"Dimensions\": {\"Algorithm\": \"Linear Learner\", \"Host\": \"algo-1\", \"Operation\": \"training\", \"epoch\": 3, \"model\": 18}, \"Metrics\": {\"train_binary_classification_cross_entropy_objective\": {\"sum\": 0.3818048085437273, \"count\": 1, \"min\": 0.3818048085437273, \"max\": 0.3818048085437273}}}\u001b[0m\n",
      "\u001b[34m#metrics {\"StartTime\": 1668077119.9255617, \"EndTime\": 1668077119.9255786, \"Dimensions\": {\"Algorithm\": \"Linear Learner\", \"Host\": \"algo-1\", \"Operation\": \"training\", \"epoch\": 3, \"model\": 19}, \"Metrics\": {\"train_binary_classification_cross_entropy_objective\": {\"sum\": 0.3819918812276391, \"count\": 1, \"min\": 0.3819918812276391, \"max\": 0.3819918812276391}}}\u001b[0m\n",
      "\u001b[34m#metrics {\"StartTime\": 1668077119.9256306, \"EndTime\": 1668077119.9256482, \"Dimensions\": {\"Algorithm\": \"Linear Learner\", \"Host\": \"algo-1\", \"Operation\": \"training\", \"epoch\": 3, \"model\": 20}, \"Metrics\": {\"train_binary_classification_cross_entropy_objective\": {\"sum\": 0.3818667074314316, \"count\": 1, \"min\": 0.3818667074314316, \"max\": 0.3818667074314316}}}\u001b[0m\n",
      "\u001b[34m#metrics {\"StartTime\": 1668077119.9257061, \"EndTime\": 1668077119.9257228, \"Dimensions\": {\"Algorithm\": \"Linear Learner\", \"Host\": \"algo-1\", \"Operation\": \"training\", \"epoch\": 3, \"model\": 21}, \"Metrics\": {\"train_binary_classification_cross_entropy_objective\": {\"sum\": 0.38446523907862673, \"count\": 1, \"min\": 0.38446523907862673, \"max\": 0.38446523907862673}}}\u001b[0m\n",
      "\u001b[34m#metrics {\"StartTime\": 1668077119.9257762, \"EndTime\": 1668077119.9257927, \"Dimensions\": {\"Algorithm\": \"Linear Learner\", \"Host\": \"algo-1\", \"Operation\": \"training\", \"epoch\": 3, \"model\": 22}, \"Metrics\": {\"train_binary_classification_cross_entropy_objective\": {\"sum\": 0.381866704981626, \"count\": 1, \"min\": 0.381866704981626, \"max\": 0.381866704981626}}}\u001b[0m\n",
      "\u001b[34m#metrics {\"StartTime\": 1668077119.9258497, \"EndTime\": 1668077119.925867, \"Dimensions\": {\"Algorithm\": \"Linear Learner\", \"Host\": \"algo-1\", \"Operation\": \"training\", \"epoch\": 3, \"model\": 23}, \"Metrics\": {\"train_binary_classification_cross_entropy_objective\": {\"sum\": 0.3844652997638107, \"count\": 1, \"min\": 0.3844652997638107, \"max\": 0.3844652997638107}}}\u001b[0m\n",
      "\u001b[34m#metrics {\"StartTime\": 1668077119.9259179, \"EndTime\": 1668077119.9259353, \"Dimensions\": {\"Algorithm\": \"Linear Learner\", \"Host\": \"algo-1\", \"Operation\": \"training\", \"epoch\": 3, \"model\": 24}, \"Metrics\": {\"train_binary_classification_cross_entropy_objective\": {\"sum\": 0.5123367256607849, \"count\": 1, \"min\": 0.5123367256607849, \"max\": 0.5123367256607849}}}\u001b[0m\n",
      "\u001b[34m#metrics {\"StartTime\": 1668077119.9259849, \"EndTime\": 1668077119.9259958, \"Dimensions\": {\"Algorithm\": \"Linear Learner\", \"Host\": \"algo-1\", \"Operation\": \"training\", \"epoch\": 3, \"model\": 25}, \"Metrics\": {\"train_binary_classification_cross_entropy_objective\": {\"sum\": 0.5124334279331593, \"count\": 1, \"min\": 0.5124334279331593, \"max\": 0.5124334279331593}}}\u001b[0m\n",
      "\u001b[34m#metrics {\"StartTime\": 1668077119.926024, \"EndTime\": 1668077119.9260345, \"Dimensions\": {\"Algorithm\": \"Linear Learner\", \"Host\": \"algo-1\", \"Operation\": \"training\", \"epoch\": 3, \"model\": 26}, \"Metrics\": {\"train_binary_classification_cross_entropy_objective\": {\"sum\": 0.5123389467245213, \"count\": 1, \"min\": 0.5123389467245213, \"max\": 0.5123389467245213}}}\u001b[0m\n",
      "\u001b[34m#metrics {\"StartTime\": 1668077119.926082, \"EndTime\": 1668077119.926098, \"Dimensions\": {\"Algorithm\": \"Linear Learner\", \"Host\": \"algo-1\", \"Operation\": \"training\", \"epoch\": 3, \"model\": 27}, \"Metrics\": {\"train_binary_classification_cross_entropy_objective\": {\"sum\": 0.512432598545646, \"count\": 1, \"min\": 0.512432598545646, \"max\": 0.512432598545646}}}\u001b[0m\n",
      "\u001b[34m#metrics {\"StartTime\": 1668077119.9261518, \"EndTime\": 1668077119.9261677, \"Dimensions\": {\"Algorithm\": \"Linear Learner\", \"Host\": \"algo-1\", \"Operation\": \"training\", \"epoch\": 3, \"model\": 28}, \"Metrics\": {\"train_binary_classification_cross_entropy_objective\": {\"sum\": 0.5123637482996016, \"count\": 1, \"min\": 0.5123637482996016, \"max\": 0.5123637482996016}}}\u001b[0m\n",
      "\u001b[34m#metrics {\"StartTime\": 1668077119.9262207, \"EndTime\": 1668077119.9262373, \"Dimensions\": {\"Algorithm\": \"Linear Learner\", \"Host\": \"algo-1\", \"Operation\": \"training\", \"epoch\": 3, \"model\": 29}, \"Metrics\": {\"train_binary_classification_cross_entropy_objective\": {\"sum\": 0.5137977912039567, \"count\": 1, \"min\": 0.5137977912039567, \"max\": 0.5137977912039567}}}\u001b[0m\n",
      "\u001b[34m#metrics {\"StartTime\": 1668077119.9262946, \"EndTime\": 1668077119.9263127, \"Dimensions\": {\"Algorithm\": \"Linear Learner\", \"Host\": \"algo-1\", \"Operation\": \"training\", \"epoch\": 3, \"model\": 30}, \"Metrics\": {\"train_binary_classification_cross_entropy_objective\": {\"sum\": 0.5123640129719306, \"count\": 1, \"min\": 0.5123640129719306, \"max\": 0.5123640129719306}}}\u001b[0m\n",
      "\u001b[34m#metrics {\"StartTime\": 1668077119.9263709, \"EndTime\": 1668077119.926388, \"Dimensions\": {\"Algorithm\": \"Linear Learner\", \"Host\": \"algo-1\", \"Operation\": \"training\", \"epoch\": 3, \"model\": 31}, \"Metrics\": {\"train_binary_classification_cross_entropy_objective\": {\"sum\": 0.5137978393134721, \"count\": 1, \"min\": 0.5137978393134721, \"max\": 0.5137978393134721}}}\u001b[0m\n",
      "\u001b[34m[11/10/2022 10:45:19 INFO 140517880678208] #quality_metric: host=algo-1, epoch=3, train binary_classification_cross_entropy_objective <loss>=0.022144034608788447\u001b[0m\n",
      "\u001b[34m[2022-11-10 10:45:24.077] [tensorio] [info] epoch_stats={\"data_pipeline\": \"/opt/ml/input/data/validation\", \"epoch\": 11, \"duration\": 4130, \"num_examples\": 164, \"num_bytes\": 69349016}\u001b[0m\n",
      "\u001b[34m#metrics {\"StartTime\": 1668077124.0865257, \"EndTime\": 1668077124.0865796, \"Dimensions\": {\"Algorithm\": \"Linear Learner\", \"Host\": \"algo-1\", \"Operation\": \"training\", \"epoch\": 3, \"model\": 0}, \"Metrics\": {\"validation_binary_classification_cross_entropy_objective\": {\"sum\": 0.021564290381826855, \"count\": 1, \"min\": 0.021564290381826855, \"max\": 0.021564290381826855}}}\u001b[0m\n",
      "\u001b[34m#metrics {\"StartTime\": 1668077124.0866585, \"EndTime\": 1668077124.0866754, \"Dimensions\": {\"Algorithm\": \"Linear Learner\", \"Host\": \"algo-1\", \"Operation\": \"training\", \"epoch\": 3, \"model\": 1}, \"Metrics\": {\"validation_binary_classification_cross_entropy_objective\": {\"sum\": 0.001705738457332054, \"count\": 1, \"min\": 0.001705738457332054, \"max\": 0.001705738457332054}}}\u001b[0m\n",
      "\u001b[34m#metrics {\"StartTime\": 1668077124.0867367, \"EndTime\": 1668077124.086752, \"Dimensions\": {\"Algorithm\": \"Linear Learner\", \"Host\": \"algo-1\", \"Operation\": \"training\", \"epoch\": 3, \"model\": 2}, \"Metrics\": {\"validation_binary_classification_cross_entropy_objective\": {\"sum\": 0.02099405173398715, \"count\": 1, \"min\": 0.02099405173398715, \"max\": 0.02099405173398715}}}\u001b[0m\n",
      "\u001b[34m#metrics {\"StartTime\": 1668077124.0868056, \"EndTime\": 1668077124.0868232, \"Dimensions\": {\"Algorithm\": \"Linear Learner\", \"Host\": \"algo-1\", \"Operation\": \"training\", \"epoch\": 3, \"model\": 3}, \"Metrics\": {\"validation_binary_classification_cross_entropy_objective\": {\"sum\": 0.0017329147486811222, \"count\": 1, \"min\": 0.0017329147486811222, \"max\": 0.0017329147486811222}}}\u001b[0m\n",
      "\u001b[34m#metrics {\"StartTime\": 1668077124.0868776, \"EndTime\": 1668077124.086896, \"Dimensions\": {\"Algorithm\": \"Linear Learner\", \"Host\": \"algo-1\", \"Operation\": \"training\", \"epoch\": 3, \"model\": 4}, \"Metrics\": {\"validation_binary_classification_cross_entropy_objective\": {\"sum\": 0.0005165509521680242, \"count\": 1, \"min\": 0.0005165509521680242, \"max\": 0.0005165509521680242}}}\u001b[0m\n",
      "\u001b[34m#metrics {\"StartTime\": 1668077124.086947, \"EndTime\": 1668077124.086963, \"Dimensions\": {\"Algorithm\": \"Linear Learner\", \"Host\": \"algo-1\", \"Operation\": \"training\", \"epoch\": 3, \"model\": 5}, \"Metrics\": {\"validation_binary_classification_cross_entropy_objective\": {\"sum\": 0.0004930397717777325, \"count\": 1, \"min\": 0.0004930397717777325, \"max\": 0.0004930397717777325}}}\u001b[0m\n",
      "\u001b[34m#metrics {\"StartTime\": 1668077124.087017, \"EndTime\": 1668077124.0870352, \"Dimensions\": {\"Algorithm\": \"Linear Learner\", \"Host\": \"algo-1\", \"Operation\": \"training\", \"epoch\": 3, \"model\": 6}, \"Metrics\": {\"validation_binary_classification_cross_entropy_objective\": {\"sum\": 0.0005178762022750811, \"count\": 1, \"min\": 0.0005178762022750811, \"max\": 0.0005178762022750811}}}\u001b[0m\n",
      "\u001b[34m#metrics {\"StartTime\": 1668077124.0870893, \"EndTime\": 1668077124.0871065, \"Dimensions\": {\"Algorithm\": \"Linear Learner\", \"Host\": \"algo-1\", \"Operation\": \"training\", \"epoch\": 3, \"model\": 7}, \"Metrics\": {\"validation_binary_classification_cross_entropy_objective\": {\"sum\": 0.0004929083718133975, \"count\": 1, \"min\": 0.0004929083718133975, \"max\": 0.0004929083718133975}}}\u001b[0m\n",
      "\u001b[34m#metrics {\"StartTime\": 1668077124.0871594, \"EndTime\": 1668077124.0871768, \"Dimensions\": {\"Algorithm\": \"Linear Learner\", \"Host\": \"algo-1\", \"Operation\": \"training\", \"epoch\": 3, \"model\": 8}, \"Metrics\": {\"validation_binary_classification_cross_entropy_objective\": {\"sum\": 0.03167562354306967, \"count\": 1, \"min\": 0.03167562354306967, \"max\": 0.03167562354306967}}}\u001b[0m\n",
      "\u001b[34m#metrics {\"StartTime\": 1668077124.0872293, \"EndTime\": 1668077124.0872726, \"Dimensions\": {\"Algorithm\": \"Linear Learner\", \"Host\": \"algo-1\", \"Operation\": \"training\", \"epoch\": 3, \"model\": 9}, \"Metrics\": {\"validation_binary_classification_cross_entropy_objective\": {\"sum\": 0.02374461781128117, \"count\": 1, \"min\": 0.02374461781128117, \"max\": 0.02374461781128117}}}\u001b[0m\n",
      "\u001b[34m#metrics {\"StartTime\": 1668077124.0873299, \"EndTime\": 1668077124.087348, \"Dimensions\": {\"Algorithm\": \"Linear Learner\", \"Host\": \"algo-1\", \"Operation\": \"training\", \"epoch\": 3, \"model\": 10}, \"Metrics\": {\"validation_binary_classification_cross_entropy_objective\": {\"sum\": 0.03161104926323414, \"count\": 1, \"min\": 0.03161104926323414, \"max\": 0.03161104926323414}}}\u001b[0m\n",
      "\u001b[34m#metrics {\"StartTime\": 1668077124.087401, \"EndTime\": 1668077124.087418, \"Dimensions\": {\"Algorithm\": \"Linear Learner\", \"Host\": \"algo-1\", \"Operation\": \"training\", \"epoch\": 3, \"model\": 11}, \"Metrics\": {\"validation_binary_classification_cross_entropy_objective\": {\"sum\": 0.02374464256871517, \"count\": 1, \"min\": 0.02374464256871517, \"max\": 0.02374464256871517}}}\u001b[0m\n",
      "\u001b[34m#metrics {\"StartTime\": 1668077124.0874817, \"EndTime\": 1668077124.0874999, \"Dimensions\": {\"Algorithm\": \"Linear Learner\", \"Host\": \"algo-1\", \"Operation\": \"training\", \"epoch\": 3, \"model\": 12}, \"Metrics\": {\"validation_binary_classification_cross_entropy_objective\": {\"sum\": 0.023727502896868403, \"count\": 1, \"min\": 0.023727502896868403, \"max\": 0.023727502896868403}}}\u001b[0m\n",
      "\u001b[34m#metrics {\"StartTime\": 1668077124.0875573, \"EndTime\": 1668077124.0875745, \"Dimensions\": {\"Algorithm\": \"Linear Learner\", \"Host\": \"algo-1\", \"Operation\": \"training\", \"epoch\": 3, \"model\": 13}, \"Metrics\": {\"validation_binary_classification_cross_entropy_objective\": {\"sum\": 0.023965542190448483, \"count\": 1, \"min\": 0.023965542190448483, \"max\": 0.023965542190448483}}}\u001b[0m\n",
      "\u001b[34m#metrics {\"StartTime\": 1668077124.0876353, \"EndTime\": 1668077124.0876524, \"Dimensions\": {\"Algorithm\": \"Linear Learner\", \"Host\": \"algo-1\", \"Operation\": \"training\", \"epoch\": 3, \"model\": 14}, \"Metrics\": {\"validation_binary_classification_cross_entropy_objective\": {\"sum\": 0.023727811799209055, \"count\": 1, \"min\": 0.023727811799209055, \"max\": 0.023727811799209055}}}\u001b[0m\n",
      "\u001b[34m#metrics {\"StartTime\": 1668077124.0877135, \"EndTime\": 1668077124.0877306, \"Dimensions\": {\"Algorithm\": \"Linear Learner\", \"Host\": \"algo-1\", \"Operation\": \"training\", \"epoch\": 3, \"model\": 15}, \"Metrics\": {\"validation_binary_classification_cross_entropy_objective\": {\"sum\": 0.023983404463340487, \"count\": 1, \"min\": 0.023983404463340487, \"max\": 0.023983404463340487}}}\u001b[0m\n",
      "\u001b[34m#metrics {\"StartTime\": 1668077124.0877945, \"EndTime\": 1668077124.0878124, \"Dimensions\": {\"Algorithm\": \"Linear Learner\", \"Host\": \"algo-1\", \"Operation\": \"training\", \"epoch\": 3, \"model\": 16}, \"Metrics\": {\"validation_binary_classification_cross_entropy_objective\": {\"sum\": 0.38120245038947387, \"count\": 1, \"min\": 0.38120245038947387, \"max\": 0.38120245038947387}}}\u001b[0m\n",
      "\u001b[34m#metrics {\"StartTime\": 1668077124.087858, \"EndTime\": 1668077124.0878747, \"Dimensions\": {\"Algorithm\": \"Linear Learner\", \"Host\": \"algo-1\", \"Operation\": \"training\", \"epoch\": 3, \"model\": 17}, \"Metrics\": {\"validation_binary_classification_cross_entropy_objective\": {\"sum\": 0.38238518029865537, \"count\": 1, \"min\": 0.38238518029865537, \"max\": 0.38238518029865537}}}\u001b[0m\n",
      "\u001b[34m#metrics {\"StartTime\": 1668077124.0879264, \"EndTime\": 1668077124.0879438, \"Dimensions\": {\"Algorithm\": \"Linear Learner\", \"Host\": \"algo-1\", \"Operation\": \"training\", \"epoch\": 3, \"model\": 18}, \"Metrics\": {\"validation_binary_classification_cross_entropy_objective\": {\"sum\": 0.3811264909902125, \"count\": 1, \"min\": 0.3811264909902125, \"max\": 0.3811264909902125}}}\u001b[0m\n",
      "\u001b[34m#metrics {\"StartTime\": 1668077124.088003, \"EndTime\": 1668077124.0880196, \"Dimensions\": {\"Algorithm\": \"Linear Learner\", \"Host\": \"algo-1\", \"Operation\": \"training\", \"epoch\": 3, \"model\": 19}, \"Metrics\": {\"validation_binary_classification_cross_entropy_objective\": {\"sum\": 0.38234552875504546, \"count\": 1, \"min\": 0.38234552875504546, \"max\": 0.38234552875504546}}}\u001b[0m\n",
      "\u001b[34m#metrics {\"StartTime\": 1668077124.0880828, \"EndTime\": 1668077124.0881011, \"Dimensions\": {\"Algorithm\": \"Linear Learner\", \"Host\": \"algo-1\", \"Operation\": \"training\", \"epoch\": 3, \"model\": 20}, \"Metrics\": {\"validation_binary_classification_cross_entropy_objective\": {\"sum\": 0.38113279577456327, \"count\": 1, \"min\": 0.38113279577456327, \"max\": 0.38113279577456327}}}\u001b[0m\n",
      "\u001b[34m#metrics {\"StartTime\": 1668077124.0881503, \"EndTime\": 1668077124.088166, \"Dimensions\": {\"Algorithm\": \"Linear Learner\", \"Host\": \"algo-1\", \"Operation\": \"training\", \"epoch\": 3, \"model\": 21}, \"Metrics\": {\"validation_binary_classification_cross_entropy_objective\": {\"sum\": 0.37843641328322153, \"count\": 1, \"min\": 0.37843641328322153, \"max\": 0.37843641328322153}}}\u001b[0m\n",
      "\u001b[34m#metrics {\"StartTime\": 1668077124.088221, \"EndTime\": 1668077124.088238, \"Dimensions\": {\"Algorithm\": \"Linear Learner\", \"Host\": \"algo-1\", \"Operation\": \"training\", \"epoch\": 3, \"model\": 22}, \"Metrics\": {\"validation_binary_classification_cross_entropy_objective\": {\"sum\": 0.3811327353211776, \"count\": 1, \"min\": 0.3811327353211776, \"max\": 0.3811327353211776}}}\u001b[0m\n",
      "\u001b[34m#metrics {\"StartTime\": 1668077124.0882826, \"EndTime\": 1668077124.088298, \"Dimensions\": {\"Algorithm\": \"Linear Learner\", \"Host\": \"algo-1\", \"Operation\": \"training\", \"epoch\": 3, \"model\": 23}, \"Metrics\": {\"validation_binary_classification_cross_entropy_objective\": {\"sum\": 0.37843161890059074, \"count\": 1, \"min\": 0.37843161890059074, \"max\": 0.37843161890059074}}}\u001b[0m\n",
      "\u001b[34m#metrics {\"StartTime\": 1668077124.0883493, \"EndTime\": 1668077124.088367, \"Dimensions\": {\"Algorithm\": \"Linear Learner\", \"Host\": \"algo-1\", \"Operation\": \"training\", \"epoch\": 3, \"model\": 24}, \"Metrics\": {\"validation_binary_classification_cross_entropy_objective\": {\"sum\": 0.5114726300863718, \"count\": 1, \"min\": 0.5114726300863718, \"max\": 0.5114726300863718}}}\u001b[0m\n",
      "\u001b[34m#metrics {\"StartTime\": 1668077124.0884194, \"EndTime\": 1668077124.0884364, \"Dimensions\": {\"Algorithm\": \"Linear Learner\", \"Host\": \"algo-1\", \"Operation\": \"training\", \"epoch\": 3, \"model\": 25}, \"Metrics\": {\"validation_binary_classification_cross_entropy_objective\": {\"sum\": 0.5114969332803477, \"count\": 1, \"min\": 0.5114969332803477, \"max\": 0.5114969332803477}}}\u001b[0m\n",
      "\u001b[34m#metrics {\"StartTime\": 1668077124.0884979, \"EndTime\": 1668077124.0885162, \"Dimensions\": {\"Algorithm\": \"Linear Learner\", \"Host\": \"algo-1\", \"Operation\": \"training\", \"epoch\": 3, \"model\": 26}, \"Metrics\": {\"validation_binary_classification_cross_entropy_objective\": {\"sum\": 0.5115013697005696, \"count\": 1, \"min\": 0.5115013697005696, \"max\": 0.5115013697005696}}}\u001b[0m\n",
      "\u001b[34m#metrics {\"StartTime\": 1668077124.088563, \"EndTime\": 1668077124.088578, \"Dimensions\": {\"Algorithm\": \"Linear Learner\", \"Host\": \"algo-1\", \"Operation\": \"training\", \"epoch\": 3, \"model\": 27}, \"Metrics\": {\"validation_binary_classification_cross_entropy_objective\": {\"sum\": 0.5114703709209578, \"count\": 1, \"min\": 0.5114703709209578, \"max\": 0.5114703709209578}}}\u001b[0m\n",
      "\u001b[34m#metrics {\"StartTime\": 1668077124.0886405, \"EndTime\": 1668077124.0886586, \"Dimensions\": {\"Algorithm\": \"Linear Learner\", \"Host\": \"algo-1\", \"Operation\": \"training\", \"epoch\": 3, \"model\": 28}, \"Metrics\": {\"validation_binary_classification_cross_entropy_objective\": {\"sum\": 0.5114672426448321, \"count\": 1, \"min\": 0.5114672426448321, \"max\": 0.5114672426448321}}}\u001b[0m\n",
      "\u001b[34m#metrics {\"StartTime\": 1668077124.088707, \"EndTime\": 1668077124.0887232, \"Dimensions\": {\"Algorithm\": \"Linear Learner\", \"Host\": \"algo-1\", \"Operation\": \"training\", \"epoch\": 3, \"model\": 29}, \"Metrics\": {\"validation_binary_classification_cross_entropy_objective\": {\"sum\": 0.5176708659046224, \"count\": 1, \"min\": 0.5176708659046224, \"max\": 0.5176708659046224}}}\u001b[0m\n",
      "\u001b[34m#metrics {\"StartTime\": 1668077124.0887756, \"EndTime\": 1668077124.0887928, \"Dimensions\": {\"Algorithm\": \"Linear Learner\", \"Host\": \"algo-1\", \"Operation\": \"training\", \"epoch\": 3, \"model\": 30}, \"Metrics\": {\"validation_binary_classification_cross_entropy_objective\": {\"sum\": 0.5114674055331213, \"count\": 1, \"min\": 0.5114674055331213, \"max\": 0.5114674055331213}}}\u001b[0m\n",
      "\u001b[34m#metrics {\"StartTime\": 1668077124.0888414, \"EndTime\": 1668077124.0888574, \"Dimensions\": {\"Algorithm\": \"Linear Learner\", \"Host\": \"algo-1\", \"Operation\": \"training\", \"epoch\": 3, \"model\": 31}, \"Metrics\": {\"validation_binary_classification_cross_entropy_objective\": {\"sum\": 0.5176708239231046, \"count\": 1, \"min\": 0.5176708239231046, \"max\": 0.5176708239231046}}}\u001b[0m\n",
      "\u001b[34m[11/10/2022 10:45:24 INFO 140517880678208] #quality_metric: host=algo-1, epoch=3, validation binary_classification_cross_entropy_objective <loss>=0.021564290381826855\u001b[0m\n",
      "\u001b[34m[11/10/2022 10:45:24 INFO 140517880678208] #early_stopping_criteria_metric: host=algo-1, epoch=3, criteria=binary_classification_cross_entropy_objective, value=0.0004929083718133975\u001b[0m\n",
      "\u001b[34m[11/10/2022 10:45:24 INFO 140517880678208] Saving model for epoch: 3\u001b[0m\n",
      "\u001b[34m[11/10/2022 10:45:24 INFO 140517880678208] Saved checkpoint to \"/tmp/tmpugr_ufgn/mx-mod-0000.params\"\u001b[0m\n",
      "\u001b[34m[11/10/2022 10:45:24 INFO 140517880678208] #progress_metric: host=algo-1, completed 26.666666666666668 % of epochs\u001b[0m\n",
      "\u001b[34m#metrics {\"StartTime\": 1668077074.4265482, \"EndTime\": 1668077124.0949419, \"Dimensions\": {\"Algorithm\": \"Linear Learner\", \"Host\": \"algo-1\", \"Operation\": \"training\", \"epoch\": 3, \"Meta\": \"training_data_iter\"}, \"Metrics\": {\"Total Records Seen\": {\"sum\": 5245888.0, \"count\": 1, \"min\": 5245888, \"max\": 5245888}, \"Total Batches Seen\": {\"sum\": 5248.0, \"count\": 1, \"min\": 5248, \"max\": 5248}, \"Max Records Seen Between Resets\": {\"sum\": 1308472.0, \"count\": 1, \"min\": 1308472, \"max\": 1308472}, \"Max Batches Seen Between Resets\": {\"sum\": 1309.0, \"count\": 1, \"min\": 1309, \"max\": 1309}, \"Reset Count\": {\"sum\": 6.0, \"count\": 1, \"min\": 6, \"max\": 6}, \"Number of Records Since Last Reset\": {\"sum\": 1308472.0, \"count\": 1, \"min\": 1308472, \"max\": 1308472}, \"Number of Batches Since Last Reset\": {\"sum\": 1309.0, \"count\": 1, \"min\": 1309, \"max\": 1309}}}\u001b[0m\n",
      "\u001b[34m[11/10/2022 10:45:24 INFO 140517880678208] #throughput_metric: host=algo-1, train throughput=26344.07309424756 records/second\u001b[0m\n",
      "\u001b[34m[2022-11-10 10:46:10.460] [tensorio] [info] epoch_stats={\"data_pipeline\": \"/opt/ml/input/data/train\", \"epoch\": 11, \"duration\": 46364, \"num_examples\": 1309, \"num_bytes\": 554792128}\u001b[0m\n",
      "\u001b[34m#metrics {\"StartTime\": 1668077170.4607377, \"EndTime\": 1668077170.4608283, \"Dimensions\": {\"Algorithm\": \"Linear Learner\", \"Host\": \"algo-1\", \"Operation\": \"training\", \"epoch\": 4, \"model\": 0}, \"Metrics\": {\"train_binary_classification_cross_entropy_objective\": {\"sum\": 0.021334107107343295, \"count\": 1, \"min\": 0.021334107107343295, \"max\": 0.021334107107343295}}}\u001b[0m\n",
      "\u001b[34m#metrics {\"StartTime\": 1668077170.460915, \"EndTime\": 1668077170.4609394, \"Dimensions\": {\"Algorithm\": \"Linear Learner\", \"Host\": \"algo-1\", \"Operation\": \"training\", \"epoch\": 4, \"model\": 1}, \"Metrics\": {\"train_binary_classification_cross_entropy_objective\": {\"sum\": 0.0013450881441434224, \"count\": 1, \"min\": 0.0013450881441434224, \"max\": 0.0013450881441434224}}}\u001b[0m\n",
      "\u001b[34m#metrics {\"StartTime\": 1668077170.4609926, \"EndTime\": 1668077170.4610112, \"Dimensions\": {\"Algorithm\": \"Linear Learner\", \"Host\": \"algo-1\", \"Operation\": \"training\", \"epoch\": 4, \"model\": 2}, \"Metrics\": {\"train_binary_classification_cross_entropy_objective\": {\"sum\": 0.01972871995482605, \"count\": 1, \"min\": 0.01972871995482605, \"max\": 0.01972871995482605}}}\u001b[0m\n",
      "\u001b[34m#metrics {\"StartTime\": 1668077170.461072, \"EndTime\": 1668077170.4610906, \"Dimensions\": {\"Algorithm\": \"Linear Learner\", \"Host\": \"algo-1\", \"Operation\": \"training\", \"epoch\": 4, \"model\": 3}, \"Metrics\": {\"train_binary_classification_cross_entropy_objective\": {\"sum\": 0.0013652263242717184, \"count\": 1, \"min\": 0.0013652263242717184, \"max\": 0.0013652263242717184}}}\u001b[0m\n",
      "\u001b[34m#metrics {\"StartTime\": 1668077170.4611468, \"EndTime\": 1668077170.4611647, \"Dimensions\": {\"Algorithm\": \"Linear Learner\", \"Host\": \"algo-1\", \"Operation\": \"training\", \"epoch\": 4, \"model\": 4}, \"Metrics\": {\"train_binary_classification_cross_entropy_objective\": {\"sum\": 0.0005152255528654892, \"count\": 1, \"min\": 0.0005152255528654892, \"max\": 0.0005152255528654892}}}\u001b[0m\n",
      "\u001b[34m#metrics {\"StartTime\": 1668077170.461216, \"EndTime\": 1668077170.4612322, \"Dimensions\": {\"Algorithm\": \"Linear Learner\", \"Host\": \"algo-1\", \"Operation\": \"training\", \"epoch\": 4, \"model\": 5}, \"Metrics\": {\"train_binary_classification_cross_entropy_objective\": {\"sum\": 0.0004939854160771458, \"count\": 1, \"min\": 0.0004939854160771458, \"max\": 0.0004939854160771458}}}\u001b[0m\n",
      "\u001b[34m#metrics {\"StartTime\": 1668077170.4612992, \"EndTime\": 1668077170.4613185, \"Dimensions\": {\"Algorithm\": \"Linear Learner\", \"Host\": \"algo-1\", \"Operation\": \"training\", \"epoch\": 4, \"model\": 6}, \"Metrics\": {\"train_binary_classification_cross_entropy_objective\": {\"sum\": 0.0005164782382342793, \"count\": 1, \"min\": 0.0005164782382342793, \"max\": 0.0005164782382342793}}}\u001b[0m\n",
      "\u001b[34m#metrics {\"StartTime\": 1668077170.4613705, \"EndTime\": 1668077170.4613872, \"Dimensions\": {\"Algorithm\": \"Linear Learner\", \"Host\": \"algo-1\", \"Operation\": \"training\", \"epoch\": 4, \"model\": 7}, \"Metrics\": {\"train_binary_classification_cross_entropy_objective\": {\"sum\": 0.0004939588868608898, \"count\": 1, \"min\": 0.0004939588868608898, \"max\": 0.0004939588868608898}}}\u001b[0m\n",
      "\u001b[34m#metrics {\"StartTime\": 1668077170.4614468, \"EndTime\": 1668077170.4614654, \"Dimensions\": {\"Algorithm\": \"Linear Learner\", \"Host\": \"algo-1\", \"Operation\": \"training\", \"epoch\": 4, \"model\": 8}, \"Metrics\": {\"train_binary_classification_cross_entropy_objective\": {\"sum\": 0.0314394198353502, \"count\": 1, \"min\": 0.0314394198353502, \"max\": 0.0314394198353502}}}\u001b[0m\n",
      "\u001b[34m#metrics {\"StartTime\": 1668077170.461522, \"EndTime\": 1668077170.4615407, \"Dimensions\": {\"Algorithm\": \"Linear Learner\", \"Host\": \"algo-1\", \"Operation\": \"training\", \"epoch\": 4, \"model\": 9}, \"Metrics\": {\"train_binary_classification_cross_entropy_objective\": {\"sum\": 0.023757420821291956, \"count\": 1, \"min\": 0.023757420821291956, \"max\": 0.023757420821291956}}}\u001b[0m\n",
      "\u001b[34m#metrics {\"StartTime\": 1668077170.4616075, \"EndTime\": 1668077170.4616265, \"Dimensions\": {\"Algorithm\": \"Linear Learner\", \"Host\": \"algo-1\", \"Operation\": \"training\", \"epoch\": 4, \"model\": 10}, \"Metrics\": {\"train_binary_classification_cross_entropy_objective\": {\"sum\": 0.03032282480916481, \"count\": 1, \"min\": 0.03032282480916481, \"max\": 0.03032282480916481}}}\u001b[0m\n",
      "\u001b[34m#metrics {\"StartTime\": 1668077170.4616723, \"EndTime\": 1668077170.461688, \"Dimensions\": {\"Algorithm\": \"Linear Learner\", \"Host\": \"algo-1\", \"Operation\": \"training\", \"epoch\": 4, \"model\": 11}, \"Metrics\": {\"train_binary_classification_cross_entropy_objective\": {\"sum\": 0.023757409138052472, \"count\": 1, \"min\": 0.023757409138052472, \"max\": 0.023757409138052472}}}\u001b[0m\n",
      "\u001b[34m#metrics {\"StartTime\": 1668077170.4617424, \"EndTime\": 1668077170.4617605, \"Dimensions\": {\"Algorithm\": \"Linear Learner\", \"Host\": \"algo-1\", \"Operation\": \"training\", \"epoch\": 4, \"model\": 12}, \"Metrics\": {\"train_binary_classification_cross_entropy_objective\": {\"sum\": 0.023745067272711237, \"count\": 1, \"min\": 0.023745067272711237, \"max\": 0.023745067272711237}}}\u001b[0m\n",
      "\u001b[34m#metrics {\"StartTime\": 1668077170.4618065, \"EndTime\": 1668077170.461823, \"Dimensions\": {\"Algorithm\": \"Linear Learner\", \"Host\": \"algo-1\", \"Operation\": \"training\", \"epoch\": 4, \"model\": 13}, \"Metrics\": {\"train_binary_classification_cross_entropy_objective\": {\"sum\": 0.02394058204061759, \"count\": 1, \"min\": 0.02394058204061759, \"max\": 0.02394058204061759}}}\u001b[0m\n",
      "\u001b[34m#metrics {\"StartTime\": 1668077170.4618785, \"EndTime\": 1668077170.461896, \"Dimensions\": {\"Algorithm\": \"Linear Learner\", \"Host\": \"algo-1\", \"Operation\": \"training\", \"epoch\": 4, \"model\": 14}, \"Metrics\": {\"train_binary_classification_cross_entropy_objective\": {\"sum\": 0.023745083011253894, \"count\": 1, \"min\": 0.023745083011253894, \"max\": 0.023745083011253894}}}\u001b[0m\n",
      "\u001b[34m#metrics {\"StartTime\": 1668077170.461952, \"EndTime\": 1668077170.4619687, \"Dimensions\": {\"Algorithm\": \"Linear Learner\", \"Host\": \"algo-1\", \"Operation\": \"training\", \"epoch\": 4, \"model\": 15}, \"Metrics\": {\"train_binary_classification_cross_entropy_objective\": {\"sum\": 0.023940558128765235, \"count\": 1, \"min\": 0.023940558128765235, \"max\": 0.023940558128765235}}}\u001b[0m\n",
      "\u001b[34m#metrics {\"StartTime\": 1668077170.4620235, \"EndTime\": 1668077170.4620411, \"Dimensions\": {\"Algorithm\": \"Linear Learner\", \"Host\": \"algo-1\", \"Operation\": \"training\", \"epoch\": 4, \"model\": 16}, \"Metrics\": {\"train_binary_classification_cross_entropy_objective\": {\"sum\": 0.3817966785255922, \"count\": 1, \"min\": 0.3817966785255922, \"max\": 0.3817966785255922}}}\u001b[0m\n",
      "\u001b[34m#metrics {\"StartTime\": 1668077170.4621036, \"EndTime\": 1668077170.4621198, \"Dimensions\": {\"Algorithm\": \"Linear Learner\", \"Host\": \"algo-1\", \"Operation\": \"training\", \"epoch\": 4, \"model\": 17}, \"Metrics\": {\"train_binary_classification_cross_entropy_objective\": {\"sum\": 0.3819703552992701, \"count\": 1, \"min\": 0.3819703552992701, \"max\": 0.3819703552992701}}}\u001b[0m\n",
      "\u001b[34m#metrics {\"StartTime\": 1668077170.4621851, \"EndTime\": 1668077170.4622126, \"Dimensions\": {\"Algorithm\": \"Linear Learner\", \"Host\": \"algo-1\", \"Operation\": \"training\", \"epoch\": 4, \"model\": 18}, \"Metrics\": {\"train_binary_classification_cross_entropy_objective\": {\"sum\": 0.3818045774920636, \"count\": 1, \"min\": 0.3818045774920636, \"max\": 0.3818045774920636}}}\u001b[0m\n",
      "\u001b[34m#metrics {\"StartTime\": 1668077170.462275, \"EndTime\": 1668077170.462293, \"Dimensions\": {\"Algorithm\": \"Linear Learner\", \"Host\": \"algo-1\", \"Operation\": \"training\", \"epoch\": 4, \"model\": 19}, \"Metrics\": {\"train_binary_classification_cross_entropy_objective\": {\"sum\": 0.38197025938354867, \"count\": 1, \"min\": 0.38197025938354867, \"max\": 0.38197025938354867}}}\u001b[0m\n",
      "\u001b[34m#metrics {\"StartTime\": 1668077170.4623327, \"EndTime\": 1668077170.4623418, \"Dimensions\": {\"Algorithm\": \"Linear Learner\", \"Host\": \"algo-1\", \"Operation\": \"training\", \"epoch\": 4, \"model\": 20}, \"Metrics\": {\"train_binary_classification_cross_entropy_objective\": {\"sum\": 0.3818230274678735, \"count\": 1, \"min\": 0.3818230274678735, \"max\": 0.3818230274678735}}}\u001b[0m\n",
      "\u001b[34m#metrics {\"StartTime\": 1668077170.4623697, \"EndTime\": 1668077170.4623847, \"Dimensions\": {\"Algorithm\": \"Linear Learner\", \"Host\": \"algo-1\", \"Operation\": \"training\", \"epoch\": 4, \"model\": 21}, \"Metrics\": {\"train_binary_classification_cross_entropy_objective\": {\"sum\": 0.38418408884404265, \"count\": 1, \"min\": 0.38418408884404265, \"max\": 0.38418408884404265}}}\u001b[0m\n",
      "\u001b[34m#metrics {\"StartTime\": 1668077170.4624379, \"EndTime\": 1668077170.4624546, \"Dimensions\": {\"Algorithm\": \"Linear Learner\", \"Host\": \"algo-1\", \"Operation\": \"training\", \"epoch\": 4, \"model\": 22}, \"Metrics\": {\"train_binary_classification_cross_entropy_objective\": {\"sum\": 0.38182301472888447, \"count\": 1, \"min\": 0.38182301472888447, \"max\": 0.38182301472888447}}}\u001b[0m\n",
      "\u001b[34m#metrics {\"StartTime\": 1668077170.4625077, \"EndTime\": 1668077170.4625256, \"Dimensions\": {\"Algorithm\": \"Linear Learner\", \"Host\": \"algo-1\", \"Operation\": \"training\", \"epoch\": 4, \"model\": 23}, \"Metrics\": {\"train_binary_classification_cross_entropy_objective\": {\"sum\": 0.384184089730639, \"count\": 1, \"min\": 0.384184089730639, \"max\": 0.384184089730639}}}\u001b[0m\n",
      "\u001b[34m#metrics {\"StartTime\": 1668077170.4625802, \"EndTime\": 1668077170.4625976, \"Dimensions\": {\"Algorithm\": \"Linear Learner\", \"Host\": \"algo-1\", \"Operation\": \"training\", \"epoch\": 4, \"model\": 24}, \"Metrics\": {\"train_binary_classification_cross_entropy_objective\": {\"sum\": 0.5123352328892512, \"count\": 1, \"min\": 0.5123352328892512, \"max\": 0.5123352328892512}}}\u001b[0m\n",
      "\u001b[34m#metrics {\"StartTime\": 1668077170.4626617, \"EndTime\": 1668077170.4626791, \"Dimensions\": {\"Algorithm\": \"Linear Learner\", \"Host\": \"algo-1\", \"Operation\": \"training\", \"epoch\": 4, \"model\": 25}, \"Metrics\": {\"train_binary_classification_cross_entropy_objective\": {\"sum\": 0.512421616230536, \"count\": 1, \"min\": 0.512421616230536, \"max\": 0.512421616230536}}}\u001b[0m\n",
      "\u001b[34m#metrics {\"StartTime\": 1668077170.4627368, \"EndTime\": 1668077170.4627545, \"Dimensions\": {\"Algorithm\": \"Linear Learner\", \"Host\": \"algo-1\", \"Operation\": \"training\", \"epoch\": 4, \"model\": 26}, \"Metrics\": {\"train_binary_classification_cross_entropy_objective\": {\"sum\": 0.5123391976779389, \"count\": 1, \"min\": 0.5123391976779389, \"max\": 0.5123391976779389}}}\u001b[0m\n",
      "\u001b[34m#metrics {\"StartTime\": 1668077170.462808, \"EndTime\": 1668077170.462821, \"Dimensions\": {\"Algorithm\": \"Linear Learner\", \"Host\": \"algo-1\", \"Operation\": \"training\", \"epoch\": 4, \"model\": 27}, \"Metrics\": {\"train_binary_classification_cross_entropy_objective\": {\"sum\": 0.5124212079296053, \"count\": 1, \"min\": 0.5124212079296053, \"max\": 0.5124212079296053}}}\u001b[0m\n",
      "\u001b[34m#metrics {\"StartTime\": 1668077170.4628866, \"EndTime\": 1668077170.4629052, \"Dimensions\": {\"Algorithm\": \"Linear Learner\", \"Host\": \"algo-1\", \"Operation\": \"training\", \"epoch\": 4, \"model\": 28}, \"Metrics\": {\"train_binary_classification_cross_entropy_objective\": {\"sum\": 0.5123460105406035, \"count\": 1, \"min\": 0.5123460105406035, \"max\": 0.5123460105406035}}}\u001b[0m\n",
      "\u001b[34m#metrics {\"StartTime\": 1668077170.4629545, \"EndTime\": 1668077170.4629707, \"Dimensions\": {\"Algorithm\": \"Linear Learner\", \"Host\": \"algo-1\", \"Operation\": \"training\", \"epoch\": 4, \"model\": 29}, \"Metrics\": {\"train_binary_classification_cross_entropy_objective\": {\"sum\": 0.5136438998301095, \"count\": 1, \"min\": 0.5136438998301095, \"max\": 0.5136438998301095}}}\u001b[0m\n",
      "\u001b[34m#metrics {\"StartTime\": 1668077170.463023, \"EndTime\": 1668077170.46304, \"Dimensions\": {\"Algorithm\": \"Linear Learner\", \"Host\": \"algo-1\", \"Operation\": \"training\", \"epoch\": 4, \"model\": 30}, \"Metrics\": {\"train_binary_classification_cross_entropy_objective\": {\"sum\": 0.5123460369051779, \"count\": 1, \"min\": 0.5123460369051779, \"max\": 0.5123460369051779}}}\u001b[0m\n",
      "\u001b[34m#metrics {\"StartTime\": 1668077170.4630947, \"EndTime\": 1668077170.4631114, \"Dimensions\": {\"Algorithm\": \"Linear Learner\", \"Host\": \"algo-1\", \"Operation\": \"training\", \"epoch\": 4, \"model\": 31}, \"Metrics\": {\"train_binary_classification_cross_entropy_objective\": {\"sum\": 0.5136438881877001, \"count\": 1, \"min\": 0.5136438881877001, \"max\": 0.5136438881877001}}}\u001b[0m\n",
      "\u001b[34m[11/10/2022 10:46:10 INFO 140517880678208] #quality_metric: host=algo-1, epoch=4, train binary_classification_cross_entropy_objective <loss>=0.021334107107343295\u001b[0m\n",
      "\u001b[34m[2022-11-10 10:46:14.630] [tensorio] [info] epoch_stats={\"data_pipeline\": \"/opt/ml/input/data/validation\", \"epoch\": 14, \"duration\": 4142, \"num_examples\": 164, \"num_bytes\": 69349016}\u001b[0m\n",
      "\u001b[34m#metrics {\"StartTime\": 1668077174.638535, \"EndTime\": 1668077174.6385875, \"Dimensions\": {\"Algorithm\": \"Linear Learner\", \"Host\": \"algo-1\", \"Operation\": \"training\", \"epoch\": 4, \"model\": 0}, \"Metrics\": {\"validation_binary_classification_cross_entropy_objective\": {\"sum\": 0.021126667139063852, \"count\": 1, \"min\": 0.021126667139063852, \"max\": 0.021126667139063852}}}\u001b[0m\n",
      "\u001b[34m#metrics {\"StartTime\": 1668077174.6386695, \"EndTime\": 1668077174.6386907, \"Dimensions\": {\"Algorithm\": \"Linear Learner\", \"Host\": \"algo-1\", \"Operation\": \"training\", \"epoch\": 4, \"model\": 1}, \"Metrics\": {\"validation_binary_classification_cross_entropy_objective\": {\"sum\": 0.0010566850015809363, \"count\": 1, \"min\": 0.0010566850015809363, \"max\": 0.0010566850015809363}}}\u001b[0m\n",
      "\u001b[34m#metrics {\"StartTime\": 1668077174.638765, \"EndTime\": 1668077174.6387866, \"Dimensions\": {\"Algorithm\": \"Linear Learner\", \"Host\": \"algo-1\", \"Operation\": \"training\", \"epoch\": 4, \"model\": 2}, \"Metrics\": {\"validation_binary_classification_cross_entropy_objective\": {\"sum\": 0.018435011066940104, \"count\": 1, \"min\": 0.018435011066940104, \"max\": 0.018435011066940104}}}\u001b[0m\n",
      "\u001b[34m#metrics {\"StartTime\": 1668077174.6388495, \"EndTime\": 1668077174.6388693, \"Dimensions\": {\"Algorithm\": \"Linear Learner\", \"Host\": \"algo-1\", \"Operation\": \"training\", \"epoch\": 4, \"model\": 3}, \"Metrics\": {\"validation_binary_classification_cross_entropy_objective\": {\"sum\": 0.0010711461585677284, \"count\": 1, \"min\": 0.0010711461585677284, \"max\": 0.0010711461585677284}}}\u001b[0m\n",
      "\u001b[34m#metrics {\"StartTime\": 1668077174.638926, \"EndTime\": 1668077174.6389446, \"Dimensions\": {\"Algorithm\": \"Linear Learner\", \"Host\": \"algo-1\", \"Operation\": \"training\", \"epoch\": 4, \"model\": 4}, \"Metrics\": {\"validation_binary_classification_cross_entropy_objective\": {\"sum\": 0.0005131250604254563, \"count\": 1, \"min\": 0.0005131250604254563, \"max\": 0.0005131250604254563}}}\u001b[0m\n",
      "\u001b[34m#metrics {\"StartTime\": 1668077174.6390014, \"EndTime\": 1668077174.6390195, \"Dimensions\": {\"Algorithm\": \"Linear Learner\", \"Host\": \"algo-1\", \"Operation\": \"training\", \"epoch\": 4, \"model\": 5}, \"Metrics\": {\"validation_binary_classification_cross_entropy_objective\": {\"sum\": 0.0004913539627486544, \"count\": 1, \"min\": 0.0004913539627486544, \"max\": 0.0004913539627486544}}}\u001b[0m\n",
      "\u001b[34m#metrics {\"StartTime\": 1668077174.639075, \"EndTime\": 1668077174.6390939, \"Dimensions\": {\"Algorithm\": \"Linear Learner\", \"Host\": \"algo-1\", \"Operation\": \"training\", \"epoch\": 4, \"model\": 6}, \"Metrics\": {\"validation_binary_classification_cross_entropy_objective\": {\"sum\": 0.0005143144070300047, \"count\": 1, \"min\": 0.0005143144070300047, \"max\": 0.0005143144070300047}}}\u001b[0m\n",
      "\u001b[34m#metrics {\"StartTime\": 1668077174.6391473, \"EndTime\": 1668077174.6391647, \"Dimensions\": {\"Algorithm\": \"Linear Learner\", \"Host\": \"algo-1\", \"Operation\": \"training\", \"epoch\": 4, \"model\": 7}, \"Metrics\": {\"validation_binary_classification_cross_entropy_objective\": {\"sum\": 0.0004914388741949476, \"count\": 1, \"min\": 0.0004914388741949476, \"max\": 0.0004914388741949476}}}\u001b[0m\n",
      "\u001b[34m#metrics {\"StartTime\": 1668077174.6392174, \"EndTime\": 1668077174.6392357, \"Dimensions\": {\"Algorithm\": \"Linear Learner\", \"Host\": \"algo-1\", \"Operation\": \"training\", \"epoch\": 4, \"model\": 8}, \"Metrics\": {\"validation_binary_classification_cross_entropy_objective\": {\"sum\": 0.031192087382401597, \"count\": 1, \"min\": 0.031192087382401597, \"max\": 0.031192087382401597}}}\u001b[0m\n",
      "\u001b[34m#metrics {\"StartTime\": 1668077174.6393235, \"EndTime\": 1668077174.6393416, \"Dimensions\": {\"Algorithm\": \"Linear Learner\", \"Host\": \"algo-1\", \"Operation\": \"training\", \"epoch\": 4, \"model\": 9}, \"Metrics\": {\"validation_binary_classification_cross_entropy_objective\": {\"sum\": 0.023737971938759365, \"count\": 1, \"min\": 0.023737971938759365, \"max\": 0.023737971938759365}}}\u001b[0m\n",
      "\u001b[34m#metrics {\"StartTime\": 1668077174.6393995, \"EndTime\": 1668077174.6394172, \"Dimensions\": {\"Algorithm\": \"Linear Learner\", \"Host\": \"algo-1\", \"Operation\": \"training\", \"epoch\": 4, \"model\": 10}, \"Metrics\": {\"validation_binary_classification_cross_entropy_objective\": {\"sum\": 0.028969473596800195, \"count\": 1, \"min\": 0.028969473596800195, \"max\": 0.028969473596800195}}}\u001b[0m\n",
      "\u001b[34m#metrics {\"StartTime\": 1668077174.6394718, \"EndTime\": 1668077174.639489, \"Dimensions\": {\"Algorithm\": \"Linear Learner\", \"Host\": \"algo-1\", \"Operation\": \"training\", \"epoch\": 4, \"model\": 11}, \"Metrics\": {\"validation_binary_classification_cross_entropy_objective\": {\"sum\": 0.02373788180094208, \"count\": 1, \"min\": 0.02373788180094208, \"max\": 0.02373788180094208}}}\u001b[0m\n",
      "\u001b[34m#metrics {\"StartTime\": 1668077174.6395473, \"EndTime\": 1668077174.6395636, \"Dimensions\": {\"Algorithm\": \"Linear Learner\", \"Host\": \"algo-1\", \"Operation\": \"training\", \"epoch\": 4, \"model\": 12}, \"Metrics\": {\"validation_binary_classification_cross_entropy_objective\": {\"sum\": 0.023721179833065036, \"count\": 1, \"min\": 0.023721179833065036, \"max\": 0.023721179833065036}}}\u001b[0m\n",
      "\u001b[34m#metrics {\"StartTime\": 1668077174.6396153, \"EndTime\": 1668077174.6396303, \"Dimensions\": {\"Algorithm\": \"Linear Learner\", \"Host\": \"algo-1\", \"Operation\": \"training\", \"epoch\": 4, \"model\": 13}, \"Metrics\": {\"validation_binary_classification_cross_entropy_objective\": {\"sum\": 0.023695321847744703, \"count\": 1, \"min\": 0.023695321847744703, \"max\": 0.023695321847744703}}}\u001b[0m\n",
      "\u001b[34m#metrics {\"StartTime\": 1668077174.6396801, \"EndTime\": 1668077174.639695, \"Dimensions\": {\"Algorithm\": \"Linear Learner\", \"Host\": \"algo-1\", \"Operation\": \"training\", \"epoch\": 4, \"model\": 14}, \"Metrics\": {\"validation_binary_classification_cross_entropy_objective\": {\"sum\": 0.023721167156978952, \"count\": 1, \"min\": 0.023721167156978952, \"max\": 0.023721167156978952}}}\u001b[0m\n",
      "\u001b[34m#metrics {\"StartTime\": 1668077174.6397448, \"EndTime\": 1668077174.6397593, \"Dimensions\": {\"Algorithm\": \"Linear Learner\", \"Host\": \"algo-1\", \"Operation\": \"training\", \"epoch\": 4, \"model\": 15}, \"Metrics\": {\"validation_binary_classification_cross_entropy_objective\": {\"sum\": 0.02370186559439357, \"count\": 1, \"min\": 0.02370186559439357, \"max\": 0.02370186559439357}}}\u001b[0m\n",
      "\u001b[34m#metrics {\"StartTime\": 1668077174.6398125, \"EndTime\": 1668077174.6398299, \"Dimensions\": {\"Algorithm\": \"Linear Learner\", \"Host\": \"algo-1\", \"Operation\": \"training\", \"epoch\": 4, \"model\": 16}, \"Metrics\": {\"validation_binary_classification_cross_entropy_objective\": {\"sum\": 0.3811887187014462, \"count\": 1, \"min\": 0.3811887187014462, \"max\": 0.3811887187014462}}}\u001b[0m\n",
      "\u001b[34m#metrics {\"StartTime\": 1668077174.6398807, \"EndTime\": 1668077174.639896, \"Dimensions\": {\"Algorithm\": \"Linear Learner\", \"Host\": \"algo-1\", \"Operation\": \"training\", \"epoch\": 4, \"model\": 17}, \"Metrics\": {\"validation_binary_classification_cross_entropy_objective\": {\"sum\": 0.3822662151258001, \"count\": 1, \"min\": 0.3822662151258001, \"max\": 0.3822662151258001}}}\u001b[0m\n",
      "\u001b[34m#metrics {\"StartTime\": 1668077174.6399455, \"EndTime\": 1668077174.63996, \"Dimensions\": {\"Algorithm\": \"Linear Learner\", \"Host\": \"algo-1\", \"Operation\": \"training\", \"epoch\": 4, \"model\": 18}, \"Metrics\": {\"validation_binary_classification_cross_entropy_objective\": {\"sum\": 0.3811243426560057, \"count\": 1, \"min\": 0.3811243426560057, \"max\": 0.3811243426560057}}}\u001b[0m\n",
      "\u001b[34m#metrics {\"StartTime\": 1668077174.640009, \"EndTime\": 1668077174.6400244, \"Dimensions\": {\"Algorithm\": \"Linear Learner\", \"Host\": \"algo-1\", \"Operation\": \"training\", \"epoch\": 4, \"model\": 19}, \"Metrics\": {\"validation_binary_classification_cross_entropy_objective\": {\"sum\": 0.3822576320511217, \"count\": 1, \"min\": 0.3822576320511217, \"max\": 0.3822576320511217}}}\u001b[0m\n",
      "\u001b[34m#metrics {\"StartTime\": 1668077174.6400714, \"EndTime\": 1668077174.6400862, \"Dimensions\": {\"Algorithm\": \"Linear Learner\", \"Host\": \"algo-1\", \"Operation\": \"training\", \"epoch\": 4, \"model\": 20}, \"Metrics\": {\"validation_binary_classification_cross_entropy_objective\": {\"sum\": 0.3810905569566544, \"count\": 1, \"min\": 0.3810905569566544, \"max\": 0.3810905569566544}}}\u001b[0m\n",
      "\u001b[34m#metrics {\"StartTime\": 1668077174.640134, \"EndTime\": 1668077174.6401498, \"Dimensions\": {\"Algorithm\": \"Linear Learner\", \"Host\": \"algo-1\", \"Operation\": \"training\", \"epoch\": 4, \"model\": 21}, \"Metrics\": {\"validation_binary_classification_cross_entropy_objective\": {\"sum\": 0.38157257904221964, \"count\": 1, \"min\": 0.38157257904221964, \"max\": 0.38157257904221964}}}\u001b[0m\n",
      "\u001b[34m#metrics {\"StartTime\": 1668077174.6402037, \"EndTime\": 1668077174.6402187, \"Dimensions\": {\"Algorithm\": \"Linear Learner\", \"Host\": \"algo-1\", \"Operation\": \"training\", \"epoch\": 4, \"model\": 22}, \"Metrics\": {\"validation_binary_classification_cross_entropy_objective\": {\"sum\": 0.38109061461127225, \"count\": 1, \"min\": 0.38109061461127225, \"max\": 0.38109061461127225}}}\u001b[0m\n",
      "\u001b[34m#metrics {\"StartTime\": 1668077174.6402688, \"EndTime\": 1668077174.6402833, \"Dimensions\": {\"Algorithm\": \"Linear Learner\", \"Host\": \"algo-1\", \"Operation\": \"training\", \"epoch\": 4, \"model\": 23}, \"Metrics\": {\"validation_binary_classification_cross_entropy_objective\": {\"sum\": 0.3815722612887757, \"count\": 1, \"min\": 0.3815722612887757, \"max\": 0.3815722612887757}}}\u001b[0m\n",
      "\u001b[34m#metrics {\"StartTime\": 1668077174.640333, \"EndTime\": 1668077174.6403484, \"Dimensions\": {\"Algorithm\": \"Linear Learner\", \"Host\": \"algo-1\", \"Operation\": \"training\", \"epoch\": 4, \"model\": 24}, \"Metrics\": {\"validation_binary_classification_cross_entropy_objective\": {\"sum\": 0.5114635596529172, \"count\": 1, \"min\": 0.5114635596529172, \"max\": 0.5114635596529172}}}\u001b[0m\n",
      "\u001b[34m#metrics {\"StartTime\": 1668077174.640398, \"EndTime\": 1668077174.6404138, \"Dimensions\": {\"Algorithm\": \"Linear Learner\", \"Host\": \"algo-1\", \"Operation\": \"training\", \"epoch\": 4, \"model\": 25}, \"Metrics\": {\"validation_binary_classification_cross_entropy_objective\": {\"sum\": 0.5115079027710853, \"count\": 1, \"min\": 0.5115079027710853, \"max\": 0.5115079027710853}}}\u001b[0m\n",
      "\u001b[34m#metrics {\"StartTime\": 1668077174.640463, \"EndTime\": 1668077174.6404805, \"Dimensions\": {\"Algorithm\": \"Linear Learner\", \"Host\": \"algo-1\", \"Operation\": \"training\", \"epoch\": 4, \"model\": 26}, \"Metrics\": {\"validation_binary_classification_cross_entropy_objective\": {\"sum\": 0.5115004483461912, \"count\": 1, \"min\": 0.5115004483461912, \"max\": 0.5115004483461912}}}\u001b[0m\n",
      "\u001b[34m#metrics {\"StartTime\": 1668077174.6405272, \"EndTime\": 1668077174.6405437, \"Dimensions\": {\"Algorithm\": \"Linear Learner\", \"Host\": \"algo-1\", \"Operation\": \"training\", \"epoch\": 4, \"model\": 27}, \"Metrics\": {\"validation_binary_classification_cross_entropy_objective\": {\"sum\": 0.5115001201440139, \"count\": 1, \"min\": 0.5115001201440139, \"max\": 0.5115001201440139}}}\u001b[0m\n",
      "\u001b[34m#metrics {\"StartTime\": 1668077174.640597, \"EndTime\": 1668077174.6406138, \"Dimensions\": {\"Algorithm\": \"Linear Learner\", \"Host\": \"algo-1\", \"Operation\": \"training\", \"epoch\": 4, \"model\": 28}, \"Metrics\": {\"validation_binary_classification_cross_entropy_objective\": {\"sum\": 0.5114969006280561, \"count\": 1, \"min\": 0.5114969006280561, \"max\": 0.5114969006280561}}}\u001b[0m\n",
      "\u001b[34m#metrics {\"StartTime\": 1668077174.6406674, \"EndTime\": 1668077174.6406848, \"Dimensions\": {\"Algorithm\": \"Linear Learner\", \"Host\": \"algo-1\", \"Operation\": \"training\", \"epoch\": 4, \"model\": 29}, \"Metrics\": {\"validation_binary_classification_cross_entropy_objective\": {\"sum\": 0.5180856908800399, \"count\": 1, \"min\": 0.5180856908800399, \"max\": 0.5180856908800399}}}\u001b[0m\n",
      "\u001b[34m#metrics {\"StartTime\": 1668077174.6407347, \"EndTime\": 1668077174.6407516, \"Dimensions\": {\"Algorithm\": \"Linear Learner\", \"Host\": \"algo-1\", \"Operation\": \"training\", \"epoch\": 4, \"model\": 30}, \"Metrics\": {\"validation_binary_classification_cross_entropy_objective\": {\"sum\": 0.5114988468912236, \"count\": 1, \"min\": 0.5114988468912236, \"max\": 0.5114988468912236}}}\u001b[0m\n",
      "\u001b[34m#metrics {\"StartTime\": 1668077174.640792, \"EndTime\": 1668077174.6408021, \"Dimensions\": {\"Algorithm\": \"Linear Learner\", \"Host\": \"algo-1\", \"Operation\": \"training\", \"epoch\": 4, \"model\": 31}, \"Metrics\": {\"validation_binary_classification_cross_entropy_objective\": {\"sum\": 0.518085688081272, \"count\": 1, \"min\": 0.518085688081272, \"max\": 0.518085688081272}}}\u001b[0m\n",
      "\u001b[34m[11/10/2022 10:46:14 INFO 140517880678208] #quality_metric: host=algo-1, epoch=4, validation binary_classification_cross_entropy_objective <loss>=0.021126667139063852\u001b[0m\n",
      "\u001b[34m[11/10/2022 10:46:14 INFO 140517880678208] #early_stopping_criteria_metric: host=algo-1, epoch=4, criteria=binary_classification_cross_entropy_objective, value=0.0004913539627486544\u001b[0m\n",
      "\u001b[34m[11/10/2022 10:46:14 INFO 140517880678208] Epoch 4: Loss improved. Updating best model\u001b[0m\n",
      "\u001b[34m[11/10/2022 10:46:14 INFO 140517880678208] Saving model for epoch: 4\u001b[0m\n",
      "\u001b[34m[11/10/2022 10:46:14 INFO 140517880678208] Saved checkpoint to \"/tmp/tmpkal4hhm9/mx-mod-0000.params\"\u001b[0m\n",
      "\u001b[34m[11/10/2022 10:46:14 INFO 140517880678208] #progress_metric: host=algo-1, completed 33.333333333333336 % of epochs\u001b[0m\n",
      "\u001b[34m#metrics {\"StartTime\": 1668077124.0957599, \"EndTime\": 1668077174.6478696, \"Dimensions\": {\"Algorithm\": \"Linear Learner\", \"Host\": \"algo-1\", \"Operation\": \"training\", \"epoch\": 4, \"Meta\": \"training_data_iter\"}, \"Metrics\": {\"Total Records Seen\": {\"sum\": 6554360.0, \"count\": 1, \"min\": 6554360, \"max\": 6554360}, \"Total Batches Seen\": {\"sum\": 6557.0, \"count\": 1, \"min\": 6557, \"max\": 6557}, \"Max Records Seen Between Resets\": {\"sum\": 1308472.0, \"count\": 1, \"min\": 1308472, \"max\": 1308472}, \"Max Batches Seen Between Resets\": {\"sum\": 1309.0, \"count\": 1, \"min\": 1309, \"max\": 1309}, \"Reset Count\": {\"sum\": 7.0, \"count\": 1, \"min\": 7, \"max\": 7}, \"Number of Records Since Last Reset\": {\"sum\": 1308472.0, \"count\": 1, \"min\": 1308472, \"max\": 1308472}, \"Number of Batches Since Last Reset\": {\"sum\": 1309.0, \"count\": 1, \"min\": 1309, \"max\": 1309}}}\u001b[0m\n",
      "\u001b[34m[11/10/2022 10:46:14 INFO 140517880678208] #throughput_metric: host=algo-1, train throughput=25883.556169502055 records/second\u001b[0m\n",
      "\u001b[34m[2022-11-10 10:46:58.874] [tensorio] [info] epoch_stats={\"data_pipeline\": \"/opt/ml/input/data/train\", \"epoch\": 13, \"duration\": 44225, \"num_examples\": 1309, \"num_bytes\": 554792128}\u001b[0m\n",
      "\u001b[34m#metrics {\"StartTime\": 1668077218.8745298, \"EndTime\": 1668077218.8746202, \"Dimensions\": {\"Algorithm\": \"Linear Learner\", \"Host\": \"algo-1\", \"Operation\": \"training\", \"epoch\": 5, \"model\": 0}, \"Metrics\": {\"train_binary_classification_cross_entropy_objective\": {\"sum\": 0.020994418545235916, \"count\": 1, \"min\": 0.020994418545235916, \"max\": 0.020994418545235916}}}\u001b[0m\n",
      "\u001b[34m#metrics {\"StartTime\": 1668077218.874703, \"EndTime\": 1668077218.874727, \"Dimensions\": {\"Algorithm\": \"Linear Learner\", \"Host\": \"algo-1\", \"Operation\": \"training\", \"epoch\": 5, \"model\": 1}, \"Metrics\": {\"train_binary_classification_cross_entropy_objective\": {\"sum\": 0.0008767909360223589, \"count\": 1, \"min\": 0.0008767909360223589, \"max\": 0.0008767909360223589}}}\u001b[0m\n",
      "\u001b[34m#metrics {\"StartTime\": 1668077218.8747804, \"EndTime\": 1668077218.874799, \"Dimensions\": {\"Algorithm\": \"Linear Learner\", \"Host\": \"algo-1\", \"Operation\": \"training\", \"epoch\": 5, \"model\": 2}, \"Metrics\": {\"train_binary_classification_cross_entropy_objective\": {\"sum\": 0.017257805282551945, \"count\": 1, \"min\": 0.017257805282551945, \"max\": 0.017257805282551945}}}\u001b[0m\n",
      "\u001b[34m#metrics {\"StartTime\": 1668077218.8748496, \"EndTime\": 1668077218.8748665, \"Dimensions\": {\"Algorithm\": \"Linear Learner\", \"Host\": \"algo-1\", \"Operation\": \"training\", \"epoch\": 5, \"model\": 3}, \"Metrics\": {\"train_binary_classification_cross_entropy_objective\": {\"sum\": 0.000887502329475289, \"count\": 1, \"min\": 0.000887502329475289, \"max\": 0.000887502329475289}}}\u001b[0m\n",
      "\u001b[34m#metrics {\"StartTime\": 1668077218.8749216, \"EndTime\": 1668077218.8749406, \"Dimensions\": {\"Algorithm\": \"Linear Learner\", \"Host\": \"algo-1\", \"Operation\": \"training\", \"epoch\": 5, \"model\": 4}, \"Metrics\": {\"train_binary_classification_cross_entropy_objective\": {\"sum\": 0.0005128565230591946, \"count\": 1, \"min\": 0.0005128565230591946, \"max\": 0.0005128565230591946}}}\u001b[0m\n",
      "\u001b[34m#metrics {\"StartTime\": 1668077218.8749955, \"EndTime\": 1668077218.8750138, \"Dimensions\": {\"Algorithm\": \"Linear Learner\", \"Host\": \"algo-1\", \"Operation\": \"training\", \"epoch\": 5, \"model\": 5}, \"Metrics\": {\"train_binary_classification_cross_entropy_objective\": {\"sum\": 0.0004942558827704611, \"count\": 1, \"min\": 0.0004942558827704611, \"max\": 0.0004942558827704611}}}\u001b[0m\n",
      "\u001b[34m#metrics {\"StartTime\": 1668077218.8750653, \"EndTime\": 1668077218.8750823, \"Dimensions\": {\"Algorithm\": \"Linear Learner\", \"Host\": \"algo-1\", \"Operation\": \"training\", \"epoch\": 5, \"model\": 6}, \"Metrics\": {\"train_binary_classification_cross_entropy_objective\": {\"sum\": 0.0005138522250754388, \"count\": 1, \"min\": 0.0005138522250754388, \"max\": 0.0005138522250754388}}}\u001b[0m\n",
      "\u001b[34m#metrics {\"StartTime\": 1668077218.8751445, \"EndTime\": 1668077218.8751616, \"Dimensions\": {\"Algorithm\": \"Linear Learner\", \"Host\": \"algo-1\", \"Operation\": \"training\", \"epoch\": 5, \"model\": 7}, \"Metrics\": {\"train_binary_classification_cross_entropy_objective\": {\"sum\": 0.000494227187349162, \"count\": 1, \"min\": 0.000494227187349162, \"max\": 0.000494227187349162}}}\u001b[0m\n",
      "\u001b[34m#metrics {\"StartTime\": 1668077218.875215, \"EndTime\": 1668077218.8752322, \"Dimensions\": {\"Algorithm\": \"Linear Learner\", \"Host\": \"algo-1\", \"Operation\": \"training\", \"epoch\": 5, \"model\": 8}, \"Metrics\": {\"train_binary_classification_cross_entropy_objective\": {\"sum\": 0.031033020973205566, \"count\": 1, \"min\": 0.031033020973205566, \"max\": 0.031033020973205566}}}\u001b[0m\n",
      "\u001b[34m#metrics {\"StartTime\": 1668077218.8753204, \"EndTime\": 1668077218.8753443, \"Dimensions\": {\"Algorithm\": \"Linear Learner\", \"Host\": \"algo-1\", \"Operation\": \"training\", \"epoch\": 5, \"model\": 9}, \"Metrics\": {\"train_binary_classification_cross_entropy_objective\": {\"sum\": 0.023756424779921133, \"count\": 1, \"min\": 0.023756424779921133, \"max\": 0.023756424779921133}}}\u001b[0m\n",
      "\u001b[34m#metrics {\"StartTime\": 1668077218.8754056, \"EndTime\": 1668077218.8754232, \"Dimensions\": {\"Algorithm\": \"Linear Learner\", \"Host\": \"algo-1\", \"Operation\": \"training\", \"epoch\": 5, \"model\": 10}, \"Metrics\": {\"train_binary_classification_cross_entropy_objective\": {\"sum\": 0.02779656928613645, \"count\": 1, \"min\": 0.02779656928613645, \"max\": 0.02779656928613645}}}\u001b[0m\n",
      "\u001b[34m#metrics {\"StartTime\": 1668077218.8754773, \"EndTime\": 1668077218.8754945, \"Dimensions\": {\"Algorithm\": \"Linear Learner\", \"Host\": \"algo-1\", \"Operation\": \"training\", \"epoch\": 5, \"model\": 11}, \"Metrics\": {\"train_binary_classification_cross_entropy_objective\": {\"sum\": 0.023756429387888776, \"count\": 1, \"min\": 0.023756429387888776, \"max\": 0.023756429387888776}}}\u001b[0m\n",
      "\u001b[34m#metrics {\"StartTime\": 1668077218.8755584, \"EndTime\": 1668077218.8755765, \"Dimensions\": {\"Algorithm\": \"Linear Learner\", \"Host\": \"algo-1\", \"Operation\": \"training\", \"epoch\": 5, \"model\": 12}, \"Metrics\": {\"train_binary_classification_cross_entropy_objective\": {\"sum\": 0.023745525155956956, \"count\": 1, \"min\": 0.023745525155956956, \"max\": 0.023745525155956956}}}\u001b[0m\n",
      "\u001b[34m#metrics {\"StartTime\": 1668077218.8756278, \"EndTime\": 1668077218.8756454, \"Dimensions\": {\"Algorithm\": \"Linear Learner\", \"Host\": \"algo-1\", \"Operation\": \"training\", \"epoch\": 5, \"model\": 13}, \"Metrics\": {\"train_binary_classification_cross_entropy_objective\": {\"sum\": 0.023921230800290356, \"count\": 1, \"min\": 0.023921230800290356, \"max\": 0.023921230800290356}}}\u001b[0m\n",
      "\u001b[34m#metrics {\"StartTime\": 1668077218.875701, \"EndTime\": 1668077218.8757188, \"Dimensions\": {\"Algorithm\": \"Linear Learner\", \"Host\": \"algo-1\", \"Operation\": \"training\", \"epoch\": 5, \"model\": 14}, \"Metrics\": {\"train_binary_classification_cross_entropy_objective\": {\"sum\": 0.023747090606514466, \"count\": 1, \"min\": 0.023747090606514466, \"max\": 0.023747090606514466}}}\u001b[0m\n",
      "\u001b[34m#metrics {\"StartTime\": 1668077218.8757803, \"EndTime\": 1668077218.8758023, \"Dimensions\": {\"Algorithm\": \"Linear Learner\", \"Host\": \"algo-1\", \"Operation\": \"training\", \"epoch\": 5, \"model\": 15}, \"Metrics\": {\"train_binary_classification_cross_entropy_objective\": {\"sum\": 0.023921188049724706, \"count\": 1, \"min\": 0.023921188049724706, \"max\": 0.023921188049724706}}}\u001b[0m\n",
      "\u001b[34m#metrics {\"StartTime\": 1668077218.87586, \"EndTime\": 1668077218.875878, \"Dimensions\": {\"Algorithm\": \"Linear Learner\", \"Host\": \"algo-1\", \"Operation\": \"training\", \"epoch\": 5, \"model\": 16}, \"Metrics\": {\"train_binary_classification_cross_entropy_objective\": {\"sum\": 0.38179290195196774, \"count\": 1, \"min\": 0.38179290195196774, \"max\": 0.38179290195196774}}}\u001b[0m\n",
      "\u001b[34m#metrics {\"StartTime\": 1668077218.8759325, \"EndTime\": 1668077218.8759503, \"Dimensions\": {\"Algorithm\": \"Linear Learner\", \"Host\": \"algo-1\", \"Operation\": \"training\", \"epoch\": 5, \"model\": 17}, \"Metrics\": {\"train_binary_classification_cross_entropy_objective\": {\"sum\": 0.3819494276367561, \"count\": 1, \"min\": 0.3819494276367561, \"max\": 0.3819494276367561}}}\u001b[0m\n",
      "\u001b[34m#metrics {\"StartTime\": 1668077218.8760037, \"EndTime\": 1668077218.8760219, \"Dimensions\": {\"Algorithm\": \"Linear Learner\", \"Host\": \"algo-1\", \"Operation\": \"training\", \"epoch\": 5, \"model\": 18}, \"Metrics\": {\"train_binary_classification_cross_entropy_objective\": {\"sum\": 0.3818044754401624, \"count\": 1, \"min\": 0.3818044754401624, \"max\": 0.3818044754401624}}}\u001b[0m\n",
      "\u001b[34m#metrics {\"StartTime\": 1668077218.876076, \"EndTime\": 1668077218.8760936, \"Dimensions\": {\"Algorithm\": \"Linear Learner\", \"Host\": \"algo-1\", \"Operation\": \"training\", \"epoch\": 5, \"model\": 19}, \"Metrics\": {\"train_binary_classification_cross_entropy_objective\": {\"sum\": 0.3819494018788002, \"count\": 1, \"min\": 0.3819494018788002, \"max\": 0.3819494018788002}}}\u001b[0m\n",
      "\u001b[34m#metrics {\"StartTime\": 1668077218.8761342, \"EndTime\": 1668077218.876149, \"Dimensions\": {\"Algorithm\": \"Linear Learner\", \"Host\": \"algo-1\", \"Operation\": \"training\", \"epoch\": 5, \"model\": 20}, \"Metrics\": {\"train_binary_classification_cross_entropy_objective\": {\"sum\": 0.3817915885062028, \"count\": 1, \"min\": 0.3817915885062028, \"max\": 0.3817915885062028}}}\u001b[0m\n",
      "\u001b[34m#metrics {\"StartTime\": 1668077218.8762002, \"EndTime\": 1668077218.8762174, \"Dimensions\": {\"Algorithm\": \"Linear Learner\", \"Host\": \"algo-1\", \"Operation\": \"training\", \"epoch\": 5, \"model\": 21}, \"Metrics\": {\"train_binary_classification_cross_entropy_objective\": {\"sum\": 0.38395962953713325, \"count\": 1, \"min\": 0.38395962953713325, \"max\": 0.38395962953713325}}}\u001b[0m\n",
      "\u001b[34m#metrics {\"StartTime\": 1668077218.8762734, \"EndTime\": 1668077218.8762918, \"Dimensions\": {\"Algorithm\": \"Linear Learner\", \"Host\": \"algo-1\", \"Operation\": \"training\", \"epoch\": 5, \"model\": 22}, \"Metrics\": {\"train_binary_classification_cross_entropy_objective\": {\"sum\": 0.38180339465593344, \"count\": 1, \"min\": 0.38180339465593344, \"max\": 0.38180339465593344}}}\u001b[0m\n",
      "\u001b[34m#metrics {\"StartTime\": 1668077218.8763452, \"EndTime\": 1668077218.8763611, \"Dimensions\": {\"Algorithm\": \"Linear Learner\", \"Host\": \"algo-1\", \"Operation\": \"training\", \"epoch\": 5, \"model\": 23}, \"Metrics\": {\"train_binary_classification_cross_entropy_objective\": {\"sum\": 0.383959628020587, \"count\": 1, \"min\": 0.383959628020587, \"max\": 0.383959628020587}}}\u001b[0m\n",
      "\u001b[34m#metrics {\"StartTime\": 1668077218.876413, \"EndTime\": 1668077218.8764303, \"Dimensions\": {\"Algorithm\": \"Linear Learner\", \"Host\": \"algo-1\", \"Operation\": \"training\", \"epoch\": 5, \"model\": 24}, \"Metrics\": {\"train_binary_classification_cross_entropy_objective\": {\"sum\": 0.5123348900797899, \"count\": 1, \"min\": 0.5123348900797899, \"max\": 0.5123348900797899}}}\u001b[0m\n",
      "\u001b[34m#metrics {\"StartTime\": 1668077218.8764906, \"EndTime\": 1668077218.8765073, \"Dimensions\": {\"Algorithm\": \"Linear Learner\", \"Host\": \"algo-1\", \"Operation\": \"training\", \"epoch\": 5, \"model\": 25}, \"Metrics\": {\"train_binary_classification_cross_entropy_objective\": {\"sum\": 0.512409064709958, \"count\": 1, \"min\": 0.512409064709958, \"max\": 0.512409064709958}}}\u001b[0m\n",
      "\u001b[34m#metrics {\"StartTime\": 1668077218.87656, \"EndTime\": 1668077218.8765771, \"Dimensions\": {\"Algorithm\": \"Linear Learner\", \"Host\": \"algo-1\", \"Operation\": \"training\", \"epoch\": 5, \"model\": 26}, \"Metrics\": {\"train_binary_classification_cross_entropy_objective\": {\"sum\": 0.5123393583385223, \"count\": 1, \"min\": 0.5123393583385223, \"max\": 0.5123393583385223}}}\u001b[0m\n",
      "\u001b[34m#metrics {\"StartTime\": 1668077218.8766353, \"EndTime\": 1668077218.8766532, \"Dimensions\": {\"Algorithm\": \"Linear Learner\", \"Host\": \"algo-1\", \"Operation\": \"training\", \"epoch\": 5, \"model\": 27}, \"Metrics\": {\"train_binary_classification_cross_entropy_objective\": {\"sum\": 0.5124089518322492, \"count\": 1, \"min\": 0.5124089518322492, \"max\": 0.5124089518322492}}}\u001b[0m\n",
      "\u001b[34m#metrics {\"StartTime\": 1668077218.8767083, \"EndTime\": 1668077218.8767266, \"Dimensions\": {\"Algorithm\": \"Linear Learner\", \"Host\": \"algo-1\", \"Operation\": \"training\", \"epoch\": 5, \"model\": 28}, \"Metrics\": {\"train_binary_classification_cross_entropy_objective\": {\"sum\": 0.5123378986976926, \"count\": 1, \"min\": 0.5123378986976926, \"max\": 0.5123378986976926}}}\u001b[0m\n",
      "\u001b[34m#metrics {\"StartTime\": 1668077218.876779, \"EndTime\": 1668077218.8767962, \"Dimensions\": {\"Algorithm\": \"Linear Learner\", \"Host\": \"algo-1\", \"Operation\": \"training\", \"epoch\": 5, \"model\": 29}, \"Metrics\": {\"train_binary_classification_cross_entropy_objective\": {\"sum\": 0.5135274804724831, \"count\": 1, \"min\": 0.5135274804724831, \"max\": 0.5135274804724831}}}\u001b[0m\n",
      "\u001b[34m#metrics {\"StartTime\": 1668077218.876848, \"EndTime\": 1668077218.8768647, \"Dimensions\": {\"Algorithm\": \"Linear Learner\", \"Host\": \"algo-1\", \"Operation\": \"training\", \"epoch\": 5, \"model\": 30}, \"Metrics\": {\"train_binary_classification_cross_entropy_objective\": {\"sum\": 0.5123392929637104, \"count\": 1, \"min\": 0.5123392929637104, \"max\": 0.5123392929637104}}}\u001b[0m\n",
      "\u001b[34m#metrics {\"StartTime\": 1668077218.8769166, \"EndTime\": 1668077218.8769333, \"Dimensions\": {\"Algorithm\": \"Linear Learner\", \"Host\": \"algo-1\", \"Operation\": \"training\", \"epoch\": 5, \"model\": 31}, \"Metrics\": {\"train_binary_classification_cross_entropy_objective\": {\"sum\": 0.5135274797958701, \"count\": 1, \"min\": 0.5135274797958701, \"max\": 0.5135274797958701}}}\u001b[0m\n",
      "\u001b[34m[11/10/2022 10:46:58 INFO 140517880678208] #quality_metric: host=algo-1, epoch=5, train binary_classification_cross_entropy_objective <loss>=0.020994418545235916\u001b[0m\n",
      "\u001b[34m[2022-11-10 10:47:02.976] [tensorio] [info] epoch_stats={\"data_pipeline\": \"/opt/ml/input/data/validation\", \"epoch\": 17, \"duration\": 4068, \"num_examples\": 164, \"num_bytes\": 69349016}\u001b[0m\n",
      "\u001b[34m#metrics {\"StartTime\": 1668077222.9862814, \"EndTime\": 1668077222.9863403, \"Dimensions\": {\"Algorithm\": \"Linear Learner\", \"Host\": \"algo-1\", \"Operation\": \"training\", \"epoch\": 5, \"model\": 0}, \"Metrics\": {\"validation_binary_classification_cross_entropy_objective\": {\"sum\": 0.020812076460174585, \"count\": 1, \"min\": 0.020812076460174585, \"max\": 0.020812076460174585}}}\u001b[0m\n",
      "\u001b[34m#metrics {\"StartTime\": 1668077222.986423, \"EndTime\": 1668077222.9864397, \"Dimensions\": {\"Algorithm\": \"Linear Learner\", \"Host\": \"algo-1\", \"Operation\": \"training\", \"epoch\": 5, \"model\": 1}, \"Metrics\": {\"validation_binary_classification_cross_entropy_objective\": {\"sum\": 0.0007316687305784122, \"count\": 1, \"min\": 0.0007316687305784122, \"max\": 0.0007316687305784122}}}\u001b[0m\n",
      "\u001b[34m#metrics {\"StartTime\": 1668077222.9865015, \"EndTime\": 1668077222.9865198, \"Dimensions\": {\"Algorithm\": \"Linear Learner\", \"Host\": \"algo-1\", \"Operation\": \"training\", \"epoch\": 5, \"model\": 2}, \"Metrics\": {\"validation_binary_classification_cross_entropy_objective\": {\"sum\": 0.01607995216379378, \"count\": 1, \"min\": 0.01607995216379378, \"max\": 0.01607995216379378}}}\u001b[0m\n",
      "\u001b[34m#metrics {\"StartTime\": 1668077222.9865727, \"EndTime\": 1668077222.9865904, \"Dimensions\": {\"Algorithm\": \"Linear Learner\", \"Host\": \"algo-1\", \"Operation\": \"training\", \"epoch\": 5, \"model\": 3}, \"Metrics\": {\"validation_binary_classification_cross_entropy_objective\": {\"sum\": 0.000739244320801943, \"count\": 1, \"min\": 0.000739244320801943, \"max\": 0.000739244320801943}}}\u001b[0m\n",
      "\u001b[34m#metrics {\"StartTime\": 1668077222.9866588, \"EndTime\": 1668077222.9866776, \"Dimensions\": {\"Algorithm\": \"Linear Learner\", \"Host\": \"algo-1\", \"Operation\": \"training\", \"epoch\": 5, \"model\": 4}, \"Metrics\": {\"validation_binary_classification_cross_entropy_objective\": {\"sum\": 0.0005115657721025318, \"count\": 1, \"min\": 0.0005115657721025318, \"max\": 0.0005115657721025318}}}\u001b[0m\n",
      "\u001b[34m#metrics {\"StartTime\": 1668077222.986742, \"EndTime\": 1668077222.9867609, \"Dimensions\": {\"Algorithm\": \"Linear Learner\", \"Host\": \"algo-1\", \"Operation\": \"training\", \"epoch\": 5, \"model\": 5}, \"Metrics\": {\"validation_binary_classification_cross_entropy_objective\": {\"sum\": 0.0004915636085000551, \"count\": 1, \"min\": 0.0004915636085000551, \"max\": 0.0004915636085000551}}}\u001b[0m\n",
      "\u001b[34m#metrics {\"StartTime\": 1668077222.9868288, \"EndTime\": 1668077222.9868474, \"Dimensions\": {\"Algorithm\": \"Linear Learner\", \"Host\": \"algo-1\", \"Operation\": \"training\", \"epoch\": 5, \"model\": 6}, \"Metrics\": {\"validation_binary_classification_cross_entropy_objective\": {\"sum\": 0.0005120447077899932, \"count\": 1, \"min\": 0.0005120447077899932, \"max\": 0.0005120447077899932}}}\u001b[0m\n",
      "\u001b[34m#metrics {\"StartTime\": 1668077222.9869053, \"EndTime\": 1668077222.9869223, \"Dimensions\": {\"Algorithm\": \"Linear Learner\", \"Host\": \"algo-1\", \"Operation\": \"training\", \"epoch\": 5, \"model\": 7}, \"Metrics\": {\"validation_binary_classification_cross_entropy_objective\": {\"sum\": 0.0004910717764328677, \"count\": 1, \"min\": 0.0004910717764328677, \"max\": 0.0004910717764328677}}}\u001b[0m\n",
      "\u001b[34m#metrics {\"StartTime\": 1668077222.9869785, \"EndTime\": 1668077222.9869955, \"Dimensions\": {\"Algorithm\": \"Linear Learner\", \"Host\": \"algo-1\", \"Operation\": \"training\", \"epoch\": 5, \"model\": 8}, \"Metrics\": {\"validation_binary_classification_cross_entropy_objective\": {\"sum\": 0.030789895636935707, \"count\": 1, \"min\": 0.030789895636935707, \"max\": 0.030789895636935707}}}\u001b[0m\n",
      "\u001b[34m#metrics {\"StartTime\": 1668077222.9870377, \"EndTime\": 1668077222.9870477, \"Dimensions\": {\"Algorithm\": \"Linear Learner\", \"Host\": \"algo-1\", \"Operation\": \"training\", \"epoch\": 5, \"model\": 9}, \"Metrics\": {\"validation_binary_classification_cross_entropy_objective\": {\"sum\": 0.023727700997155758, \"count\": 1, \"min\": 0.023727700997155758, \"max\": 0.023727700997155758}}}\u001b[0m\n",
      "\u001b[34m#metrics {\"StartTime\": 1668077222.9870903, \"EndTime\": 1668077222.9871068, \"Dimensions\": {\"Algorithm\": \"Linear Learner\", \"Host\": \"algo-1\", \"Operation\": \"training\", \"epoch\": 5, \"model\": 10}, \"Metrics\": {\"validation_binary_classification_cross_entropy_objective\": {\"sum\": 0.026630323700627914, \"count\": 1, \"min\": 0.026630323700627914, \"max\": 0.026630323700627914}}}\u001b[0m\n",
      "\u001b[34m#metrics {\"StartTime\": 1668077222.9871721, \"EndTime\": 1668077222.9871895, \"Dimensions\": {\"Algorithm\": \"Linear Learner\", \"Host\": \"algo-1\", \"Operation\": \"training\", \"epoch\": 5, \"model\": 11}, \"Metrics\": {\"validation_binary_classification_cross_entropy_objective\": {\"sum\": 0.023727614923382632, \"count\": 1, \"min\": 0.023727614923382632, \"max\": 0.023727614923382632}}}\u001b[0m\n",
      "\u001b[34m#metrics {\"StartTime\": 1668077222.9885054, \"EndTime\": 1668077222.9885356, \"Dimensions\": {\"Algorithm\": \"Linear Learner\", \"Host\": \"algo-1\", \"Operation\": \"training\", \"epoch\": 5, \"model\": 12}, \"Metrics\": {\"validation_binary_classification_cross_entropy_objective\": {\"sum\": 0.02371701429858704, \"count\": 1, \"min\": 0.02371701429858704, \"max\": 0.02371701429858704}}}\u001b[0m\n",
      "\u001b[34m#metrics {\"StartTime\": 1668077222.9885995, \"EndTime\": 1668077222.9886215, \"Dimensions\": {\"Algorithm\": \"Linear Learner\", \"Host\": \"algo-1\", \"Operation\": \"training\", \"epoch\": 5, \"model\": 13}, \"Metrics\": {\"validation_binary_classification_cross_entropy_objective\": {\"sum\": 0.023498186954544028, \"count\": 1, \"min\": 0.023498186954544028, \"max\": 0.023498186954544028}}}\u001b[0m\n",
      "\u001b[34m#metrics {\"StartTime\": 1668077222.9886901, \"EndTime\": 1668077222.9887094, \"Dimensions\": {\"Algorithm\": \"Linear Learner\", \"Host\": \"algo-1\", \"Operation\": \"training\", \"epoch\": 5, \"model\": 14}, \"Metrics\": {\"validation_binary_classification_cross_entropy_objective\": {\"sum\": 0.0237196115143427, \"count\": 1, \"min\": 0.0237196115143427, \"max\": 0.0237196115143427}}}\u001b[0m\n",
      "\u001b[34m#metrics {\"StartTime\": 1668077222.9887652, \"EndTime\": 1668077222.9887838, \"Dimensions\": {\"Algorithm\": \"Linear Learner\", \"Host\": \"algo-1\", \"Operation\": \"training\", \"epoch\": 5, \"model\": 15}, \"Metrics\": {\"validation_binary_classification_cross_entropy_objective\": {\"sum\": 0.023501068321037103, \"count\": 1, \"min\": 0.023501068321037103, \"max\": 0.023501068321037103}}}\u001b[0m\n",
      "\u001b[34m#metrics {\"StartTime\": 1668077222.9888394, \"EndTime\": 1668077222.988856, \"Dimensions\": {\"Algorithm\": \"Linear Learner\", \"Host\": \"algo-1\", \"Operation\": \"training\", \"epoch\": 5, \"model\": 16}, \"Metrics\": {\"validation_binary_classification_cross_entropy_objective\": {\"sum\": 0.38119241307501706, \"count\": 1, \"min\": 0.38119241307501706, \"max\": 0.38119241307501706}}}\u001b[0m\n",
      "\u001b[34m#metrics {\"StartTime\": 1668077222.9889228, \"EndTime\": 1668077222.9889407, \"Dimensions\": {\"Algorithm\": \"Linear Learner\", \"Host\": \"algo-1\", \"Operation\": \"training\", \"epoch\": 5, \"model\": 17}, \"Metrics\": {\"validation_binary_classification_cross_entropy_objective\": {\"sum\": 0.3821228483356326, \"count\": 1, \"min\": 0.3821228483356326, \"max\": 0.3821228483356326}}}\u001b[0m\n",
      "\u001b[34m#metrics {\"StartTime\": 1668077222.988999, \"EndTime\": 1668077222.9890172, \"Dimensions\": {\"Algorithm\": \"Linear Learner\", \"Host\": \"algo-1\", \"Operation\": \"training\", \"epoch\": 5, \"model\": 18}, \"Metrics\": {\"validation_binary_classification_cross_entropy_objective\": {\"sum\": 0.3811238087443909, \"count\": 1, \"min\": 0.3811238087443909, \"max\": 0.3811238087443909}}}\u001b[0m\n",
      "\u001b[34m#metrics {\"StartTime\": 1668077222.9890718, \"EndTime\": 1668077222.98909, \"Dimensions\": {\"Algorithm\": \"Linear Learner\", \"Host\": \"algo-1\", \"Operation\": \"training\", \"epoch\": 5, \"model\": 19}, \"Metrics\": {\"validation_binary_classification_cross_entropy_objective\": {\"sum\": 0.382121007492721, \"count\": 1, \"min\": 0.382121007492721, \"max\": 0.382121007492721}}}\u001b[0m\n",
      "\u001b[34m#metrics {\"StartTime\": 1668077222.9891474, \"EndTime\": 1668077222.9891644, \"Dimensions\": {\"Algorithm\": \"Linear Learner\", \"Host\": \"algo-1\", \"Operation\": \"training\", \"epoch\": 5, \"model\": 20}, \"Metrics\": {\"validation_binary_classification_cross_entropy_objective\": {\"sum\": 0.38119756224811985, \"count\": 1, \"min\": 0.38119756224811985, \"max\": 0.38119756224811985}}}\u001b[0m\n",
      "\u001b[34m#metrics {\"StartTime\": 1668077222.9892182, \"EndTime\": 1668077222.9892359, \"Dimensions\": {\"Algorithm\": \"Linear Learner\", \"Host\": \"algo-1\", \"Operation\": \"training\", \"epoch\": 5, \"model\": 21}, \"Metrics\": {\"validation_binary_classification_cross_entropy_objective\": {\"sum\": 0.38180944678906725, \"count\": 1, \"min\": 0.38180944678906725, \"max\": 0.38180944678906725}}}\u001b[0m\n",
      "\u001b[34m#metrics {\"StartTime\": 1668077222.9892912, \"EndTime\": 1668077222.989308, \"Dimensions\": {\"Algorithm\": \"Linear Learner\", \"Host\": \"algo-1\", \"Operation\": \"training\", \"epoch\": 5, \"model\": 22}, \"Metrics\": {\"validation_binary_classification_cross_entropy_objective\": {\"sum\": 0.3811238831916159, \"count\": 1, \"min\": 0.3811238831916159, \"max\": 0.3811238831916159}}}\u001b[0m\n",
      "\u001b[34m#metrics {\"StartTime\": 1668077222.9893715, \"EndTime\": 1668077222.9893894, \"Dimensions\": {\"Algorithm\": \"Linear Learner\", \"Host\": \"algo-1\", \"Operation\": \"training\", \"epoch\": 5, \"model\": 23}, \"Metrics\": {\"validation_binary_classification_cross_entropy_objective\": {\"sum\": 0.3818094199208958, \"count\": 1, \"min\": 0.3818094199208958, \"max\": 0.3818094199208958}}}\u001b[0m\n",
      "\u001b[34m#metrics {\"StartTime\": 1668077222.9894443, \"EndTime\": 1668077222.9894617, \"Dimensions\": {\"Algorithm\": \"Linear Learner\", \"Host\": \"algo-1\", \"Operation\": \"training\", \"epoch\": 5, \"model\": 24}, \"Metrics\": {\"validation_binary_classification_cross_entropy_objective\": {\"sum\": 0.5114641972122349, \"count\": 1, \"min\": 0.5114641972122349, \"max\": 0.5114641972122349}}}\u001b[0m\n",
      "\u001b[34m#metrics {\"StartTime\": 1668077222.9895144, \"EndTime\": 1668077222.9895318, \"Dimensions\": {\"Algorithm\": \"Linear Learner\", \"Host\": \"algo-1\", \"Operation\": \"training\", \"epoch\": 5, \"model\": 25}, \"Metrics\": {\"validation_binary_classification_cross_entropy_objective\": {\"sum\": 0.5115161018548138, \"count\": 1, \"min\": 0.5115161018548138, \"max\": 0.5115161018548138}}}\u001b[0m\n",
      "\u001b[34m#metrics {\"StartTime\": 1668077222.9895988, \"EndTime\": 1668077222.9896188, \"Dimensions\": {\"Algorithm\": \"Linear Learner\", \"Host\": \"algo-1\", \"Operation\": \"training\", \"epoch\": 5, \"model\": 26}, \"Metrics\": {\"validation_binary_classification_cross_entropy_objective\": {\"sum\": 0.5114973404077786, \"count\": 1, \"min\": 0.5114973404077786, \"max\": 0.5114973404077786}}}\u001b[0m\n",
      "\u001b[34m#metrics {\"StartTime\": 1668077222.9896734, \"EndTime\": 1668077222.9896896, \"Dimensions\": {\"Algorithm\": \"Linear Learner\", \"Host\": \"algo-1\", \"Operation\": \"training\", \"epoch\": 5, \"model\": 27}, \"Metrics\": {\"validation_binary_classification_cross_entropy_objective\": {\"sum\": 0.5115137786909082, \"count\": 1, \"min\": 0.5115137786909082, \"max\": 0.5115137786909082}}}\u001b[0m\n",
      "\u001b[34m#metrics {\"StartTime\": 1668077222.9897528, \"EndTime\": 1668077222.989771, \"Dimensions\": {\"Algorithm\": \"Linear Learner\", \"Host\": \"algo-1\", \"Operation\": \"training\", \"epoch\": 5, \"model\": 28}, \"Metrics\": {\"validation_binary_classification_cross_entropy_objective\": {\"sum\": 0.511478410288334, \"count\": 1, \"min\": 0.511478410288334, \"max\": 0.511478410288334}}}\u001b[0m\n",
      "\u001b[34m#metrics {\"StartTime\": 1668077222.9898236, \"EndTime\": 1668077222.9898403, \"Dimensions\": {\"Algorithm\": \"Linear Learner\", \"Host\": \"algo-1\", \"Operation\": \"training\", \"epoch\": 5, \"model\": 29}, \"Metrics\": {\"validation_binary_classification_cross_entropy_objective\": {\"sum\": 0.516854055581207, \"count\": 1, \"min\": 0.516854055581207, \"max\": 0.516854055581207}}}\u001b[0m\n",
      "\u001b[34m#metrics {\"StartTime\": 1668077222.9898903, \"EndTime\": 1668077222.989907, \"Dimensions\": {\"Algorithm\": \"Linear Learner\", \"Host\": \"algo-1\", \"Operation\": \"training\", \"epoch\": 5, \"model\": 30}, \"Metrics\": {\"validation_binary_classification_cross_entropy_objective\": {\"sum\": 0.5115023492693195, \"count\": 1, \"min\": 0.5115023492693195, \"max\": 0.5115023492693195}}}\u001b[0m\n",
      "\u001b[34m#metrics {\"StartTime\": 1668077222.9899604, \"EndTime\": 1668077222.9899778, \"Dimensions\": {\"Algorithm\": \"Linear Learner\", \"Host\": \"algo-1\", \"Operation\": \"training\", \"epoch\": 5, \"model\": 31}, \"Metrics\": {\"validation_binary_classification_cross_entropy_objective\": {\"sum\": 0.5168540428934594, \"count\": 1, \"min\": 0.5168540428934594, \"max\": 0.5168540428934594}}}\u001b[0m\n",
      "\u001b[34m[11/10/2022 10:47:02 INFO 140517880678208] #quality_metric: host=algo-1, epoch=5, validation binary_classification_cross_entropy_objective <loss>=0.020812076460174585\u001b[0m\n",
      "\u001b[34m[11/10/2022 10:47:02 INFO 140517880678208] #early_stopping_criteria_metric: host=algo-1, epoch=5, criteria=binary_classification_cross_entropy_objective, value=0.0004910717764328677\u001b[0m\n",
      "\u001b[34m[11/10/2022 10:47:02 INFO 140517880678208] Saving model for epoch: 5\u001b[0m\n",
      "\u001b[34m[11/10/2022 10:47:02 INFO 140517880678208] Saved checkpoint to \"/tmp/tmp7f29lcxn/mx-mod-0000.params\"\u001b[0m\n",
      "\u001b[34m[11/10/2022 10:47:02 INFO 140517880678208] #progress_metric: host=algo-1, completed 40.0 % of epochs\u001b[0m\n",
      "\u001b[34m#metrics {\"StartTime\": 1668077174.6487296, \"EndTime\": 1668077222.9995492, \"Dimensions\": {\"Algorithm\": \"Linear Learner\", \"Host\": \"algo-1\", \"Operation\": \"training\", \"epoch\": 5, \"Meta\": \"training_data_iter\"}, \"Metrics\": {\"Total Records Seen\": {\"sum\": 7862832.0, \"count\": 1, \"min\": 7862832, \"max\": 7862832}, \"Total Batches Seen\": {\"sum\": 7866.0, \"count\": 1, \"min\": 7866, \"max\": 7866}, \"Max Records Seen Between Resets\": {\"sum\": 1308472.0, \"count\": 1, \"min\": 1308472, \"max\": 1308472}, \"Max Batches Seen Between Resets\": {\"sum\": 1309.0, \"count\": 1, \"min\": 1309, \"max\": 1309}, \"Reset Count\": {\"sum\": 8.0, \"count\": 1, \"min\": 8, \"max\": 8}, \"Number of Records Since Last Reset\": {\"sum\": 1308472.0, \"count\": 1, \"min\": 1308472, \"max\": 1308472}, \"Number of Batches Since Last Reset\": {\"sum\": 1309.0, \"count\": 1, \"min\": 1309, \"max\": 1309}}}\u001b[0m\n",
      "\u001b[34m[11/10/2022 10:47:02 INFO 140517880678208] #throughput_metric: host=algo-1, train throughput=27061.95271128907 records/second\u001b[0m\n",
      "\u001b[34m[2022-11-10 10:47:48.817] [tensorio] [info] epoch_stats={\"data_pipeline\": \"/opt/ml/input/data/train\", \"epoch\": 15, \"duration\": 45817, \"num_examples\": 1309, \"num_bytes\": 554792128}\u001b[0m\n",
      "\u001b[34m#metrics {\"StartTime\": 1668077268.8179994, \"EndTime\": 1668077268.81809, \"Dimensions\": {\"Algorithm\": \"Linear Learner\", \"Host\": \"algo-1\", \"Operation\": \"training\", \"epoch\": 6, \"model\": 0}, \"Metrics\": {\"train_binary_classification_cross_entropy_objective\": {\"sum\": 0.02067706339074931, \"count\": 1, \"min\": 0.02067706339074931, \"max\": 0.02067706339074931}}}\u001b[0m\n",
      "\u001b[34m#metrics {\"StartTime\": 1668077268.8181844, \"EndTime\": 1668077268.8182073, \"Dimensions\": {\"Algorithm\": \"Linear Learner\", \"Host\": \"algo-1\", \"Operation\": \"training\", \"epoch\": 6, \"model\": 1}, \"Metrics\": {\"train_binary_classification_cross_entropy_objective\": {\"sum\": 0.0006432388584365903, \"count\": 1, \"min\": 0.0006432388584365903, \"max\": 0.0006432388584365903}}}\u001b[0m\n",
      "\u001b[34m#metrics {\"StartTime\": 1668077268.8182642, \"EndTime\": 1668077268.8182833, \"Dimensions\": {\"Algorithm\": \"Linear Learner\", \"Host\": \"algo-1\", \"Operation\": \"training\", \"epoch\": 6, \"model\": 2}, \"Metrics\": {\"train_binary_classification_cross_entropy_objective\": {\"sum\": 0.015032858536513208, \"count\": 1, \"min\": 0.015032858536513208, \"max\": 0.015032858536513208}}}\u001b[0m\n",
      "\u001b[34m#metrics {\"StartTime\": 1668077268.8183408, \"EndTime\": 1668077268.8183582, \"Dimensions\": {\"Algorithm\": \"Linear Learner\", \"Host\": \"algo-1\", \"Operation\": \"training\", \"epoch\": 6, \"model\": 3}, \"Metrics\": {\"train_binary_classification_cross_entropy_objective\": {\"sum\": 0.0006486310806205149, \"count\": 1, \"min\": 0.0006486310806205149, \"max\": 0.0006486310806205149}}}\u001b[0m\n",
      "\u001b[34m#metrics {\"StartTime\": 1668077268.818415, \"EndTime\": 1668077268.8184319, \"Dimensions\": {\"Algorithm\": \"Linear Learner\", \"Host\": \"algo-1\", \"Operation\": \"training\", \"epoch\": 6, \"model\": 4}, \"Metrics\": {\"train_binary_classification_cross_entropy_objective\": {\"sum\": 0.0005117401533079439, \"count\": 1, \"min\": 0.0005117401533079439, \"max\": 0.0005117401533079439}}}\u001b[0m\n",
      "\u001b[34m#metrics {\"StartTime\": 1668077268.8184888, \"EndTime\": 1668077268.8185062, \"Dimensions\": {\"Algorithm\": \"Linear Learner\", \"Host\": \"algo-1\", \"Operation\": \"training\", \"epoch\": 6, \"model\": 5}, \"Metrics\": {\"train_binary_classification_cross_entropy_objective\": {\"sum\": 0.0004945742453046894, \"count\": 1, \"min\": 0.0004945742453046894, \"max\": 0.0004945742453046894}}}\u001b[0m\n",
      "\u001b[34m#metrics {\"StartTime\": 1668077268.8185592, \"EndTime\": 1668077268.8185754, \"Dimensions\": {\"Algorithm\": \"Linear Learner\", \"Host\": \"algo-1\", \"Operation\": \"training\", \"epoch\": 6, \"model\": 6}, \"Metrics\": {\"train_binary_classification_cross_entropy_objective\": {\"sum\": 0.0005109988133386005, \"count\": 1, \"min\": 0.0005109988133386005, \"max\": 0.0005109988133386005}}}\u001b[0m\n",
      "\u001b[34m#metrics {\"StartTime\": 1668077268.8186302, \"EndTime\": 1668077268.8186464, \"Dimensions\": {\"Algorithm\": \"Linear Learner\", \"Host\": \"algo-1\", \"Operation\": \"training\", \"epoch\": 6, \"model\": 7}, \"Metrics\": {\"train_binary_classification_cross_entropy_objective\": {\"sum\": 0.0004945474340828186, \"count\": 1, \"min\": 0.0004945474340828186, \"max\": 0.0004945474340828186}}}\u001b[0m\n",
      "\u001b[34m#metrics {\"StartTime\": 1668077268.8187048, \"EndTime\": 1668077268.8187234, \"Dimensions\": {\"Algorithm\": \"Linear Learner\", \"Host\": \"algo-1\", \"Operation\": \"training\", \"epoch\": 6, \"model\": 8}, \"Metrics\": {\"train_binary_classification_cross_entropy_objective\": {\"sum\": 0.03061336530895408, \"count\": 1, \"min\": 0.03061336530895408, \"max\": 0.03061336530895408}}}\u001b[0m\n",
      "\u001b[34m#metrics {\"StartTime\": 1668077268.818777, \"EndTime\": 1668077268.8187947, \"Dimensions\": {\"Algorithm\": \"Linear Learner\", \"Host\": \"algo-1\", \"Operation\": \"training\", \"epoch\": 6, \"model\": 9}, \"Metrics\": {\"train_binary_classification_cross_entropy_objective\": {\"sum\": 0.02375525292708604, \"count\": 1, \"min\": 0.02375525292708604, \"max\": 0.02375525292708604}}}\u001b[0m\n",
      "\u001b[34m#metrics {\"StartTime\": 1668077268.818849, \"EndTime\": 1668077268.818866, \"Dimensions\": {\"Algorithm\": \"Linear Learner\", \"Host\": \"algo-1\", \"Operation\": \"training\", \"epoch\": 6, \"model\": 10}, \"Metrics\": {\"train_binary_classification_cross_entropy_objective\": {\"sum\": 0.02574318624490627, \"count\": 1, \"min\": 0.02574318624490627, \"max\": 0.02574318624490627}}}\u001b[0m\n",
      "\u001b[34m#metrics {\"StartTime\": 1668077268.8189197, \"EndTime\": 1668077268.8189363, \"Dimensions\": {\"Algorithm\": \"Linear Learner\", \"Host\": \"algo-1\", \"Operation\": \"training\", \"epoch\": 6, \"model\": 11}, \"Metrics\": {\"train_binary_classification_cross_entropy_objective\": {\"sum\": 0.023755251498032783, \"count\": 1, \"min\": 0.023755251498032783, \"max\": 0.023755251498032783}}}\u001b[0m\n",
      "\u001b[34m#metrics {\"StartTime\": 1668077268.8189898, \"EndTime\": 1668077268.8190072, \"Dimensions\": {\"Algorithm\": \"Linear Learner\", \"Host\": \"algo-1\", \"Operation\": \"training\", \"epoch\": 6, \"model\": 12}, \"Metrics\": {\"train_binary_classification_cross_entropy_objective\": {\"sum\": 0.02374508748944017, \"count\": 1, \"min\": 0.02374508748944017, \"max\": 0.02374508748944017}}}\u001b[0m\n",
      "\u001b[34m#metrics {\"StartTime\": 1668077268.8190699, \"EndTime\": 1668077268.8190873, \"Dimensions\": {\"Algorithm\": \"Linear Learner\", \"Host\": \"algo-1\", \"Operation\": \"training\", \"epoch\": 6, \"model\": 13}, \"Metrics\": {\"train_binary_classification_cross_entropy_objective\": {\"sum\": 0.02390275300897954, \"count\": 1, \"min\": 0.02390275300897954, \"max\": 0.02390275300897954}}}\u001b[0m\n",
      "\u001b[34m#metrics {\"StartTime\": 1668077268.8191426, \"EndTime\": 1668077268.8191595, \"Dimensions\": {\"Algorithm\": \"Linear Learner\", \"Host\": \"algo-1\", \"Operation\": \"training\", \"epoch\": 6, \"model\": 14}, \"Metrics\": {\"train_binary_classification_cross_entropy_objective\": {\"sum\": 0.02374661834670134, \"count\": 1, \"min\": 0.02374661834670134, \"max\": 0.02374661834670134}}}\u001b[0m\n",
      "\u001b[34m#metrics {\"StartTime\": 1668077268.8192158, \"EndTime\": 1668077268.8192325, \"Dimensions\": {\"Algorithm\": \"Linear Learner\", \"Host\": \"algo-1\", \"Operation\": \"training\", \"epoch\": 6, \"model\": 15}, \"Metrics\": {\"train_binary_classification_cross_entropy_objective\": {\"sum\": 0.02390274240336287, \"count\": 1, \"min\": 0.02390274240336287, \"max\": 0.02390274240336287}}}\u001b[0m\n",
      "\u001b[34m#metrics {\"StartTime\": 1668077268.8193214, \"EndTime\": 1668077268.8193407, \"Dimensions\": {\"Algorithm\": \"Linear Learner\", \"Host\": \"algo-1\", \"Operation\": \"training\", \"epoch\": 6, \"model\": 16}, \"Metrics\": {\"train_binary_classification_cross_entropy_objective\": {\"sum\": 0.3817951214524949, \"count\": 1, \"min\": 0.3817951214524949, \"max\": 0.3817951214524949}}}\u001b[0m\n",
      "\u001b[34m#metrics {\"StartTime\": 1668077268.8194027, \"EndTime\": 1668077268.8194199, \"Dimensions\": {\"Algorithm\": \"Linear Learner\", \"Host\": \"algo-1\", \"Operation\": \"training\", \"epoch\": 6, \"model\": 17}, \"Metrics\": {\"train_binary_classification_cross_entropy_objective\": {\"sum\": 0.3819308149938554, \"count\": 1, \"min\": 0.3819308149938554, \"max\": 0.3819308149938554}}}\u001b[0m\n",
      "\u001b[34m#metrics {\"StartTime\": 1668077268.8194757, \"EndTime\": 1668077268.819492, \"Dimensions\": {\"Algorithm\": \"Linear Learner\", \"Host\": \"algo-1\", \"Operation\": \"training\", \"epoch\": 6, \"model\": 18}, \"Metrics\": {\"train_binary_classification_cross_entropy_objective\": {\"sum\": 0.38180445371855287, \"count\": 1, \"min\": 0.38180445371855287, \"max\": 0.38180445371855287}}}\u001b[0m\n",
      "\u001b[34m#metrics {\"StartTime\": 1668077268.8195438, \"EndTime\": 1668077268.8195603, \"Dimensions\": {\"Algorithm\": \"Linear Learner\", \"Host\": \"algo-1\", \"Operation\": \"training\", \"epoch\": 6, \"model\": 19}, \"Metrics\": {\"train_binary_classification_cross_entropy_objective\": {\"sum\": 0.3819308070844831, \"count\": 1, \"min\": 0.3819308070844831, \"max\": 0.3819308070844831}}}\u001b[0m\n",
      "\u001b[34m#metrics {\"StartTime\": 1668077268.8196187, \"EndTime\": 1668077268.819636, \"Dimensions\": {\"Algorithm\": \"Linear Learner\", \"Host\": \"algo-1\", \"Operation\": \"training\", \"epoch\": 6, \"model\": 20}, \"Metrics\": {\"train_binary_classification_cross_entropy_objective\": {\"sum\": 0.3817931332369463, \"count\": 1, \"min\": 0.3817931332369463, \"max\": 0.3817931332369463}}}\u001b[0m\n",
      "\u001b[34m#metrics {\"StartTime\": 1668077268.8196871, \"EndTime\": 1668077268.819704, \"Dimensions\": {\"Algorithm\": \"Linear Learner\", \"Host\": \"algo-1\", \"Operation\": \"training\", \"epoch\": 6, \"model\": 21}, \"Metrics\": {\"train_binary_classification_cross_entropy_objective\": {\"sum\": 0.3837606965511217, \"count\": 1, \"min\": 0.3837606965511217, \"max\": 0.3837606965511217}}}\u001b[0m\n",
      "\u001b[34m#metrics {\"StartTime\": 1668077268.819747, \"EndTime\": 1668077268.8197625, \"Dimensions\": {\"Algorithm\": \"Linear Learner\", \"Host\": \"algo-1\", \"Operation\": \"training\", \"epoch\": 6, \"model\": 22}, \"Metrics\": {\"train_binary_classification_cross_entropy_objective\": {\"sum\": 0.38180444312606016, \"count\": 1, \"min\": 0.38180444312606016, \"max\": 0.38180444312606016}}}\u001b[0m\n",
      "\u001b[34m#metrics {\"StartTime\": 1668077268.819824, \"EndTime\": 1668077268.8198416, \"Dimensions\": {\"Algorithm\": \"Linear Learner\", \"Host\": \"algo-1\", \"Operation\": \"training\", \"epoch\": 6, \"model\": 23}, \"Metrics\": {\"train_binary_classification_cross_entropy_objective\": {\"sum\": 0.38376069701775134, \"count\": 1, \"min\": 0.38376069701775134, \"max\": 0.38376069701775134}}}\u001b[0m\n",
      "\u001b[34m#metrics {\"StartTime\": 1668077268.8198972, \"EndTime\": 1668077268.819915, \"Dimensions\": {\"Algorithm\": \"Linear Learner\", \"Host\": \"algo-1\", \"Operation\": \"training\", \"epoch\": 6, \"model\": 24}, \"Metrics\": {\"train_binary_classification_cross_entropy_objective\": {\"sum\": 0.512334901605542, \"count\": 1, \"min\": 0.512334901605542, \"max\": 0.512334901605542}}}\u001b[0m\n",
      "\u001b[34m#metrics {\"StartTime\": 1668077268.8199573, \"EndTime\": 1668077268.8199744, \"Dimensions\": {\"Algorithm\": \"Linear Learner\", \"Host\": \"algo-1\", \"Operation\": \"training\", \"epoch\": 6, \"model\": 25}, \"Metrics\": {\"train_binary_classification_cross_entropy_objective\": {\"sum\": 0.5123975118934562, \"count\": 1, \"min\": 0.5123975118934562, \"max\": 0.5123975118934562}}}\u001b[0m\n",
      "\u001b[34m#metrics {\"StartTime\": 1668077268.820034, \"EndTime\": 1668077268.820052, \"Dimensions\": {\"Algorithm\": \"Linear Learner\", \"Host\": \"algo-1\", \"Operation\": \"training\", \"epoch\": 6, \"model\": 26}, \"Metrics\": {\"train_binary_classification_cross_entropy_objective\": {\"sum\": 0.5123394343524897, \"count\": 1, \"min\": 0.5123394343524897, \"max\": 0.5123394343524897}}}\u001b[0m\n",
      "\u001b[34m#metrics {\"StartTime\": 1668077268.8201127, \"EndTime\": 1668077268.8201303, \"Dimensions\": {\"Algorithm\": \"Linear Learner\", \"Host\": \"algo-1\", \"Operation\": \"training\", \"epoch\": 6, \"model\": 27}, \"Metrics\": {\"train_binary_classification_cross_entropy_objective\": {\"sum\": 0.5123975116368098, \"count\": 1, \"min\": 0.5123975116368098, \"max\": 0.5123975116368098}}}\u001b[0m\n",
      "\u001b[34m#metrics {\"StartTime\": 1668077268.8201892, \"EndTime\": 1668077268.820206, \"Dimensions\": {\"Algorithm\": \"Linear Learner\", \"Host\": \"algo-1\", \"Operation\": \"training\", \"epoch\": 6, \"model\": 28}, \"Metrics\": {\"train_binary_classification_cross_entropy_objective\": {\"sum\": 0.5123354783131078, \"count\": 1, \"min\": 0.5123354783131078, \"max\": 0.5123354783131078}}}\u001b[0m\n",
      "\u001b[34m#metrics {\"StartTime\": 1668077268.8202562, \"EndTime\": 1668077268.8202672, \"Dimensions\": {\"Algorithm\": \"Linear Learner\", \"Host\": \"algo-1\", \"Operation\": \"training\", \"epoch\": 6, \"model\": 29}, \"Metrics\": {\"train_binary_classification_cross_entropy_objective\": {\"sum\": 0.5134372735679696, \"count\": 1, \"min\": 0.5134372735679696, \"max\": 0.5134372735679696}}}\u001b[0m\n",
      "\u001b[34m#metrics {\"StartTime\": 1668077268.8203094, \"EndTime\": 1668077268.8203242, \"Dimensions\": {\"Algorithm\": \"Linear Learner\", \"Host\": \"algo-1\", \"Operation\": \"training\", \"epoch\": 6, \"model\": 30}, \"Metrics\": {\"train_binary_classification_cross_entropy_objective\": {\"sum\": 0.5123393348203886, \"count\": 1, \"min\": 0.5123393348203886, \"max\": 0.5123393348203886}}}\u001b[0m\n",
      "\u001b[34m#metrics {\"StartTime\": 1668077268.8203745, \"EndTime\": 1668077268.8203878, \"Dimensions\": {\"Algorithm\": \"Linear Learner\", \"Host\": \"algo-1\", \"Operation\": \"training\", \"epoch\": 6, \"model\": 31}, \"Metrics\": {\"train_binary_classification_cross_entropy_objective\": {\"sum\": 0.5134372744312344, \"count\": 1, \"min\": 0.5134372744312344, \"max\": 0.5134372744312344}}}\u001b[0m\n",
      "\u001b[34m[11/10/2022 10:47:48 INFO 140517880678208] #quality_metric: host=algo-1, epoch=6, train binary_classification_cross_entropy_objective <loss>=0.02067706339074931\u001b[0m\n",
      "\u001b[34m[2022-11-10 10:47:52.819] [tensorio] [info] epoch_stats={\"data_pipeline\": \"/opt/ml/input/data/validation\", \"epoch\": 20, \"duration\": 3980, \"num_examples\": 164, \"num_bytes\": 69349016}\u001b[0m\n",
      "\u001b[34m#metrics {\"StartTime\": 1668077272.826098, \"EndTime\": 1668077272.8261514, \"Dimensions\": {\"Algorithm\": \"Linear Learner\", \"Host\": \"algo-1\", \"Operation\": \"training\", \"epoch\": 6, \"model\": 0}, \"Metrics\": {\"validation_binary_classification_cross_entropy_objective\": {\"sum\": 0.020494445841270092, \"count\": 1, \"min\": 0.020494445841270092, \"max\": 0.020494445841270092}}}\u001b[0m\n",
      "\u001b[34m#metrics {\"StartTime\": 1668077272.8262603, \"EndTime\": 1668077272.8262842, \"Dimensions\": {\"Algorithm\": \"Linear Learner\", \"Host\": \"algo-1\", \"Operation\": \"training\", \"epoch\": 6, \"model\": 1}, \"Metrics\": {\"validation_binary_classification_cross_entropy_objective\": {\"sum\": 0.0005737702601226758, \"count\": 1, \"min\": 0.0005737702601226758, \"max\": 0.0005737702601226758}}}\u001b[0m\n",
      "\u001b[34m#metrics {\"StartTime\": 1668077272.826349, \"EndTime\": 1668077272.8263674, \"Dimensions\": {\"Algorithm\": \"Linear Learner\", \"Host\": \"algo-1\", \"Operation\": \"training\", \"epoch\": 6, \"model\": 2}, \"Metrics\": {\"validation_binary_classification_cross_entropy_objective\": {\"sum\": 0.013993033582403199, \"count\": 1, \"min\": 0.013993033582403199, \"max\": 0.013993033582403199}}}\u001b[0m\n",
      "\u001b[34m#metrics {\"StartTime\": 1668077272.8264253, \"EndTime\": 1668077272.8264425, \"Dimensions\": {\"Algorithm\": \"Linear Learner\", \"Host\": \"algo-1\", \"Operation\": \"training\", \"epoch\": 6, \"model\": 3}, \"Metrics\": {\"validation_binary_classification_cross_entropy_objective\": {\"sum\": 0.000577300175470423, \"count\": 1, \"min\": 0.000577300175470423, \"max\": 0.000577300175470423}}}\u001b[0m\n",
      "\u001b[34m#metrics {\"StartTime\": 1668077272.8265107, \"EndTime\": 1668077272.82653, \"Dimensions\": {\"Algorithm\": \"Linear Learner\", \"Host\": \"algo-1\", \"Operation\": \"training\", \"epoch\": 6, \"model\": 4}, \"Metrics\": {\"validation_binary_classification_cross_entropy_objective\": {\"sum\": 0.0005108099896235854, \"count\": 1, \"min\": 0.0005108099896235854, \"max\": 0.0005108099896235854}}}\u001b[0m\n",
      "\u001b[34m#metrics {\"StartTime\": 1668077272.8265839, \"EndTime\": 1668077272.8266013, \"Dimensions\": {\"Algorithm\": \"Linear Learner\", \"Host\": \"algo-1\", \"Operation\": \"training\", \"epoch\": 6, \"model\": 5}, \"Metrics\": {\"validation_binary_classification_cross_entropy_objective\": {\"sum\": 0.0004927385877318496, \"count\": 1, \"min\": 0.0004927385877318496, \"max\": 0.0004927385877318496}}}\u001b[0m\n",
      "\u001b[34m#metrics {\"StartTime\": 1668077272.8266554, \"EndTime\": 1668077272.8266735, \"Dimensions\": {\"Algorithm\": \"Linear Learner\", \"Host\": \"algo-1\", \"Operation\": \"training\", \"epoch\": 6, \"model\": 6}, \"Metrics\": {\"validation_binary_classification_cross_entropy_objective\": {\"sum\": 0.0005084646668014707, \"count\": 1, \"min\": 0.0005084646668014707, \"max\": 0.0005084646668014707}}}\u001b[0m\n",
      "\u001b[34m#metrics {\"StartTime\": 1668077272.826733, \"EndTime\": 1668077272.8267498, \"Dimensions\": {\"Algorithm\": \"Linear Learner\", \"Host\": \"algo-1\", \"Operation\": \"training\", \"epoch\": 6, \"model\": 7}, \"Metrics\": {\"validation_binary_classification_cross_entropy_objective\": {\"sum\": 0.0004922719372869145, \"count\": 1, \"min\": 0.0004922719372869145, \"max\": 0.0004922719372869145}}}\u001b[0m\n",
      "\u001b[34m#metrics {\"StartTime\": 1668077272.8268118, \"EndTime\": 1668077272.826829, \"Dimensions\": {\"Algorithm\": \"Linear Learner\", \"Host\": \"algo-1\", \"Operation\": \"training\", \"epoch\": 6, \"model\": 8}, \"Metrics\": {\"validation_binary_classification_cross_entropy_objective\": {\"sum\": 0.030359754695960788, \"count\": 1, \"min\": 0.030359754695960788, \"max\": 0.030359754695960788}}}\u001b[0m\n",
      "\u001b[34m#metrics {\"StartTime\": 1668077272.826882, \"EndTime\": 1668077272.826898, \"Dimensions\": {\"Algorithm\": \"Linear Learner\", \"Host\": \"algo-1\", \"Operation\": \"training\", \"epoch\": 6, \"model\": 9}, \"Metrics\": {\"validation_binary_classification_cross_entropy_objective\": {\"sum\": 0.02372569475872534, \"count\": 1, \"min\": 0.02372569475872534, \"max\": 0.02372569475872534}}}\u001b[0m\n",
      "\u001b[34m#metrics {\"StartTime\": 1668077272.826942, \"EndTime\": 1668077272.8269584, \"Dimensions\": {\"Algorithm\": \"Linear Learner\", \"Host\": \"algo-1\", \"Operation\": \"training\", \"epoch\": 6, \"model\": 10}, \"Metrics\": {\"validation_binary_classification_cross_entropy_objective\": {\"sum\": 0.02491285592206979, \"count\": 1, \"min\": 0.02491285592206979, \"max\": 0.02491285592206979}}}\u001b[0m\n",
      "\u001b[34m#metrics {\"StartTime\": 1668077272.8270092, \"EndTime\": 1668077272.8270268, \"Dimensions\": {\"Algorithm\": \"Linear Learner\", \"Host\": \"algo-1\", \"Operation\": \"training\", \"epoch\": 6, \"model\": 11}, \"Metrics\": {\"validation_binary_classification_cross_entropy_objective\": {\"sum\": 0.023725711772901604, \"count\": 1, \"min\": 0.023725711772901604, \"max\": 0.023725711772901604}}}\u001b[0m\n",
      "\u001b[34m#metrics {\"StartTime\": 1668077272.8270776, \"EndTime\": 1668077272.8270946, \"Dimensions\": {\"Algorithm\": \"Linear Learner\", \"Host\": \"algo-1\", \"Operation\": \"training\", \"epoch\": 6, \"model\": 12}, \"Metrics\": {\"validation_binary_classification_cross_entropy_objective\": {\"sum\": 0.023717288321283277, \"count\": 1, \"min\": 0.023717288321283277, \"max\": 0.023717288321283277}}}\u001b[0m\n",
      "\u001b[34m#metrics {\"StartTime\": 1668077272.8271475, \"EndTime\": 1668077272.8271642, \"Dimensions\": {\"Algorithm\": \"Linear Learner\", \"Host\": \"algo-1\", \"Operation\": \"training\", \"epoch\": 6, \"model\": 13}, \"Metrics\": {\"validation_binary_classification_cross_entropy_objective\": {\"sum\": 0.02351184226536299, \"count\": 1, \"min\": 0.02351184226536299, \"max\": 0.02351184226536299}}}\u001b[0m\n",
      "\u001b[34m#metrics {\"StartTime\": 1668077272.8272154, \"EndTime\": 1668077272.8272333, \"Dimensions\": {\"Algorithm\": \"Linear Learner\", \"Host\": \"algo-1\", \"Operation\": \"training\", \"epoch\": 6, \"model\": 14}, \"Metrics\": {\"validation_binary_classification_cross_entropy_objective\": {\"sum\": 0.023719862919496192, \"count\": 1, \"min\": 0.023719862919496192, \"max\": 0.023719862919496192}}}\u001b[0m\n",
      "\u001b[34m#metrics {\"StartTime\": 1668077272.827313, \"EndTime\": 1668077272.8273304, \"Dimensions\": {\"Algorithm\": \"Linear Learner\", \"Host\": \"algo-1\", \"Operation\": \"training\", \"epoch\": 6, \"model\": 15}, \"Metrics\": {\"validation_binary_classification_cross_entropy_objective\": {\"sum\": 0.023512850748883256, \"count\": 1, \"min\": 0.023512850748883256, \"max\": 0.023512850748883256}}}\u001b[0m\n",
      "\u001b[34m#metrics {\"StartTime\": 1668077272.827384, \"EndTime\": 1668077272.8274007, \"Dimensions\": {\"Algorithm\": \"Linear Learner\", \"Host\": \"algo-1\", \"Operation\": \"training\", \"epoch\": 6, \"model\": 16}, \"Metrics\": {\"validation_binary_classification_cross_entropy_objective\": {\"sum\": 0.3811936230756538, \"count\": 1, \"min\": 0.3811936230756538, \"max\": 0.3811936230756538}}}\u001b[0m\n",
      "\u001b[34m#metrics {\"StartTime\": 1668077272.8274505, \"EndTime\": 1668077272.8274662, \"Dimensions\": {\"Algorithm\": \"Linear Learner\", \"Host\": \"algo-1\", \"Operation\": \"training\", \"epoch\": 6, \"model\": 17}, \"Metrics\": {\"validation_binary_classification_cross_entropy_objective\": {\"sum\": 0.38196863100236145, \"count\": 1, \"min\": 0.38196863100236145, \"max\": 0.38196863100236145}}}\u001b[0m\n",
      "\u001b[34m#metrics {\"StartTime\": 1668077272.8275251, \"EndTime\": 1668077272.827542, \"Dimensions\": {\"Algorithm\": \"Linear Learner\", \"Host\": \"algo-1\", \"Operation\": \"training\", \"epoch\": 6, \"model\": 18}, \"Metrics\": {\"validation_binary_classification_cross_entropy_objective\": {\"sum\": 0.38112363382139985, \"count\": 1, \"min\": 0.38112363382139985, \"max\": 0.38112363382139985}}}\u001b[0m\n",
      "\u001b[34m#metrics {\"StartTime\": 1668077272.8275907, \"EndTime\": 1668077272.8276072, \"Dimensions\": {\"Algorithm\": \"Linear Learner\", \"Host\": \"algo-1\", \"Operation\": \"training\", \"epoch\": 6, \"model\": 19}, \"Metrics\": {\"validation_binary_classification_cross_entropy_objective\": {\"sum\": 0.38196823413707937, \"count\": 1, \"min\": 0.38196823413707937, \"max\": 0.38196823413707937}}}\u001b[0m\n",
      "\u001b[34m#metrics {\"StartTime\": 1668077272.8276594, \"EndTime\": 1668077272.8276753, \"Dimensions\": {\"Algorithm\": \"Linear Learner\", \"Host\": \"algo-1\", \"Operation\": \"training\", \"epoch\": 6, \"model\": 20}, \"Metrics\": {\"validation_binary_classification_cross_entropy_objective\": {\"sum\": 0.38119527705416484, \"count\": 1, \"min\": 0.38119527705416484, \"max\": 0.38119527705416484}}}\u001b[0m\n",
      "\u001b[34m#metrics {\"StartTime\": 1668077272.8277402, \"EndTime\": 1668077272.8277555, \"Dimensions\": {\"Algorithm\": \"Linear Learner\", \"Host\": \"algo-1\", \"Operation\": \"training\", \"epoch\": 6, \"model\": 21}, \"Metrics\": {\"validation_binary_classification_cross_entropy_objective\": {\"sum\": 0.38070658727735, \"count\": 1, \"min\": 0.38070658727735, \"max\": 0.38070658727735}}}\u001b[0m\n",
      "\u001b[34m#metrics {\"StartTime\": 1668077272.8278124, \"EndTime\": 1668077272.8278306, \"Dimensions\": {\"Algorithm\": \"Linear Learner\", \"Host\": \"algo-1\", \"Operation\": \"training\", \"epoch\": 6, \"model\": 22}, \"Metrics\": {\"validation_binary_classification_cross_entropy_objective\": {\"sum\": 0.3811236475353623, \"count\": 1, \"min\": 0.3811236475353623, \"max\": 0.3811236475353623}}}\u001b[0m\n",
      "\u001b[34m#metrics {\"StartTime\": 1668077272.8278854, \"EndTime\": 1668077272.8279037, \"Dimensions\": {\"Algorithm\": \"Linear Learner\", \"Host\": \"algo-1\", \"Operation\": \"training\", \"epoch\": 6, \"model\": 23}, \"Metrics\": {\"validation_binary_classification_cross_entropy_objective\": {\"sum\": 0.38070657514935596, \"count\": 1, \"min\": 0.38070657514935596, \"max\": 0.38070657514935596}}}\u001b[0m\n",
      "\u001b[34m#metrics {\"StartTime\": 1668077272.8279567, \"EndTime\": 1668077272.8279743, \"Dimensions\": {\"Algorithm\": \"Linear Learner\", \"Host\": \"algo-1\", \"Operation\": \"training\", \"epoch\": 6, \"model\": 24}, \"Metrics\": {\"validation_binary_classification_cross_entropy_objective\": {\"sum\": 0.5114644278307063, \"count\": 1, \"min\": 0.5114644278307063, \"max\": 0.5114644278307063}}}\u001b[0m\n",
      "\u001b[34m#metrics {\"StartTime\": 1668077272.8280182, \"EndTime\": 1668077272.8280323, \"Dimensions\": {\"Algorithm\": \"Linear Learner\", \"Host\": \"algo-1\", \"Operation\": \"training\", \"epoch\": 6, \"model\": 25}, \"Metrics\": {\"validation_binary_classification_cross_entropy_objective\": {\"sum\": 0.5113860679282543, \"count\": 1, \"min\": 0.5113860679282543, \"max\": 0.5113860679282543}}}\u001b[0m\n",
      "\u001b[34m#metrics {\"StartTime\": 1668077272.8280835, \"EndTime\": 1668077272.8280966, \"Dimensions\": {\"Algorithm\": \"Linear Learner\", \"Host\": \"algo-1\", \"Operation\": \"training\", \"epoch\": 6, \"model\": 26}, \"Metrics\": {\"validation_binary_classification_cross_entropy_objective\": {\"sum\": 0.5114976508844261, \"count\": 1, \"min\": 0.5114976508844261, \"max\": 0.5114976508844261}}}\u001b[0m\n",
      "\u001b[34m#metrics {\"StartTime\": 1668077272.828126, \"EndTime\": 1668077272.8281338, \"Dimensions\": {\"Algorithm\": \"Linear Learner\", \"Host\": \"algo-1\", \"Operation\": \"training\", \"epoch\": 6, \"model\": 27}, \"Metrics\": {\"validation_binary_classification_cross_entropy_objective\": {\"sum\": 0.5113857149103354, \"count\": 1, \"min\": 0.5113857149103354, \"max\": 0.5113857149103354}}}\u001b[0m\n",
      "\u001b[34m#metrics {\"StartTime\": 1668077272.82817, \"EndTime\": 1668077272.8281853, \"Dimensions\": {\"Algorithm\": \"Linear Learner\", \"Host\": \"algo-1\", \"Operation\": \"training\", \"epoch\": 6, \"model\": 28}, \"Metrics\": {\"validation_binary_classification_cross_entropy_objective\": {\"sum\": 0.5114641294820528, \"count\": 1, \"min\": 0.5114641294820528, \"max\": 0.5114641294820528}}}\u001b[0m\n",
      "\u001b[34m#metrics {\"StartTime\": 1668077272.8282359, \"EndTime\": 1668077272.828253, \"Dimensions\": {\"Algorithm\": \"Linear Learner\", \"Host\": \"algo-1\", \"Operation\": \"training\", \"epoch\": 6, \"model\": 29}, \"Metrics\": {\"validation_binary_classification_cross_entropy_objective\": {\"sum\": 0.5136338869507119, \"count\": 1, \"min\": 0.5136338869507119, \"max\": 0.5136338869507119}}}\u001b[0m\n",
      "\u001b[34m#metrics {\"StartTime\": 1668077272.8283045, \"EndTime\": 1668077272.8283215, \"Dimensions\": {\"Algorithm\": \"Linear Learner\", \"Host\": \"algo-1\", \"Operation\": \"training\", \"epoch\": 6, \"model\": 30}, \"Metrics\": {\"validation_binary_classification_cross_entropy_objective\": {\"sum\": 0.5114992086786152, \"count\": 1, \"min\": 0.5114992086786152, \"max\": 0.5114992086786152}}}\u001b[0m\n",
      "\u001b[34m#metrics {\"StartTime\": 1668077272.828385, \"EndTime\": 1668077272.8284013, \"Dimensions\": {\"Algorithm\": \"Linear Learner\", \"Host\": \"algo-1\", \"Operation\": \"training\", \"epoch\": 6, \"model\": 31}, \"Metrics\": {\"validation_binary_classification_cross_entropy_objective\": {\"sum\": 0.5136338690385976, \"count\": 1, \"min\": 0.5136338690385976, \"max\": 0.5136338690385976}}}\u001b[0m\n",
      "\u001b[34m[11/10/2022 10:47:52 INFO 140517880678208] #quality_metric: host=algo-1, epoch=6, validation binary_classification_cross_entropy_objective <loss>=0.020494445841270092\u001b[0m\n",
      "\u001b[34m[11/10/2022 10:47:52 INFO 140517880678208] #early_stopping_criteria_metric: host=algo-1, epoch=6, criteria=binary_classification_cross_entropy_objective, value=0.0004922719372869145\u001b[0m\n",
      "\u001b[34m[11/10/2022 10:47:52 INFO 140517880678208] Saving model for epoch: 6\u001b[0m\n",
      "\u001b[34m[11/10/2022 10:47:52 INFO 140517880678208] Saved checkpoint to \"/tmp/tmpduoy5vbi/mx-mod-0000.params\"\u001b[0m\n",
      "\u001b[34m[11/10/2022 10:47:52 INFO 140517880678208] #progress_metric: host=algo-1, completed 46.666666666666664 % of epochs\u001b[0m\n",
      "\u001b[34m#metrics {\"StartTime\": 1668077222.999928, \"EndTime\": 1668077272.8344116, \"Dimensions\": {\"Algorithm\": \"Linear Learner\", \"Host\": \"algo-1\", \"Operation\": \"training\", \"epoch\": 6, \"Meta\": \"training_data_iter\"}, \"Metrics\": {\"Total Records Seen\": {\"sum\": 9171304.0, \"count\": 1, \"min\": 9171304, \"max\": 9171304}, \"Total Batches Seen\": {\"sum\": 9175.0, \"count\": 1, \"min\": 9175, \"max\": 9175}, \"Max Records Seen Between Resets\": {\"sum\": 1308472.0, \"count\": 1, \"min\": 1308472, \"max\": 1308472}, \"Max Batches Seen Between Resets\": {\"sum\": 1309.0, \"count\": 1, \"min\": 1309, \"max\": 1309}, \"Reset Count\": {\"sum\": 9.0, \"count\": 1, \"min\": 9, \"max\": 9}, \"Number of Records Since Last Reset\": {\"sum\": 1308472.0, \"count\": 1, \"min\": 1308472, \"max\": 1308472}, \"Number of Batches Since Last Reset\": {\"sum\": 1309.0, \"count\": 1, \"min\": 1309, \"max\": 1309}}}\u001b[0m\n",
      "\u001b[34m[11/10/2022 10:47:52 INFO 140517880678208] #throughput_metric: host=algo-1, train throughput=26256.28340555738 records/second\u001b[0m\n",
      "\u001b[34m[2022-11-10 10:48:38.193] [tensorio] [info] epoch_stats={\"data_pipeline\": \"/opt/ml/input/data/train\", \"epoch\": 17, \"duration\": 45357, \"num_examples\": 1309, \"num_bytes\": 554792128}\u001b[0m\n",
      "\u001b[34m#metrics {\"StartTime\": 1668077318.1938918, \"EndTime\": 1668077318.1939852, \"Dimensions\": {\"Algorithm\": \"Linear Learner\", \"Host\": \"algo-1\", \"Operation\": \"training\", \"epoch\": 7, \"model\": 0}, \"Metrics\": {\"train_binary_classification_cross_entropy_objective\": {\"sum\": 0.020360259515429857, \"count\": 1, \"min\": 0.020360259515429857, \"max\": 0.020360259515429857}}}\u001b[0m\n",
      "\u001b[34m#metrics {\"StartTime\": 1668077318.1940773, \"EndTime\": 1668077318.1940992, \"Dimensions\": {\"Algorithm\": \"Linear Learner\", \"Host\": \"algo-1\", \"Operation\": \"training\", \"epoch\": 7, \"model\": 1}, \"Metrics\": {\"train_binary_classification_cross_entropy_objective\": {\"sum\": 0.0005367401038105699, \"count\": 1, \"min\": 0.0005367401038105699, \"max\": 0.0005367401038105699}}}\u001b[0m\n",
      "\u001b[34m#metrics {\"StartTime\": 1668077318.1941547, \"EndTime\": 1668077318.1941721, \"Dimensions\": {\"Algorithm\": \"Linear Learner\", \"Host\": \"algo-1\", \"Operation\": \"training\", \"epoch\": 7, \"model\": 2}, \"Metrics\": {\"train_binary_classification_cross_entropy_objective\": {\"sum\": 0.013075905210745808, \"count\": 1, \"min\": 0.013075905210745808, \"max\": 0.013075905210745808}}}\u001b[0m\n",
      "\u001b[34m#metrics {\"StartTime\": 1668077318.194242, \"EndTime\": 1668077318.1942608, \"Dimensions\": {\"Algorithm\": \"Linear Learner\", \"Host\": \"algo-1\", \"Operation\": \"training\", \"epoch\": 7, \"model\": 3}, \"Metrics\": {\"train_binary_classification_cross_entropy_objective\": {\"sum\": 0.0005389680142203967, \"count\": 1, \"min\": 0.0005389680142203967, \"max\": 0.0005389680142203967}}}\u001b[0m\n",
      "\u001b[34m#metrics {\"StartTime\": 1668077318.1943185, \"EndTime\": 1668077318.1943374, \"Dimensions\": {\"Algorithm\": \"Linear Learner\", \"Host\": \"algo-1\", \"Operation\": \"training\", \"epoch\": 7, \"model\": 4}, \"Metrics\": {\"train_binary_classification_cross_entropy_objective\": {\"sum\": 0.0005110865460896711, \"count\": 1, \"min\": 0.0005110865460896711, \"max\": 0.0005110865460896711}}}\u001b[0m\n",
      "\u001b[34m#metrics {\"StartTime\": 1668077318.1944075, \"EndTime\": 1668077318.1944263, \"Dimensions\": {\"Algorithm\": \"Linear Learner\", \"Host\": \"algo-1\", \"Operation\": \"training\", \"epoch\": 7, \"model\": 5}, \"Metrics\": {\"train_binary_classification_cross_entropy_objective\": {\"sum\": 0.0004947567071526423, \"count\": 1, \"min\": 0.0004947567071526423, \"max\": 0.0004947567071526423}}}\u001b[0m\n",
      "\u001b[34m#metrics {\"StartTime\": 1668077318.1944857, \"EndTime\": 1668077318.1945047, \"Dimensions\": {\"Algorithm\": \"Linear Learner\", \"Host\": \"algo-1\", \"Operation\": \"training\", \"epoch\": 7, \"model\": 6}, \"Metrics\": {\"train_binary_classification_cross_entropy_objective\": {\"sum\": 0.0005066473710290882, \"count\": 1, \"min\": 0.0005066473710290882, \"max\": 0.0005066473710290882}}}\u001b[0m\n",
      "\u001b[34m#metrics {\"StartTime\": 1668077318.1945748, \"EndTime\": 1668077318.194594, \"Dimensions\": {\"Algorithm\": \"Linear Learner\", \"Host\": \"algo-1\", \"Operation\": \"training\", \"epoch\": 7, \"model\": 7}, \"Metrics\": {\"train_binary_classification_cross_entropy_objective\": {\"sum\": 0.0004947372255476607, \"count\": 1, \"min\": 0.0004947372255476607, \"max\": 0.0004947372255476607}}}\u001b[0m\n",
      "\u001b[34m#metrics {\"StartTime\": 1668077318.1946487, \"EndTime\": 1668077318.1946654, \"Dimensions\": {\"Algorithm\": \"Linear Learner\", \"Host\": \"algo-1\", \"Operation\": \"training\", \"epoch\": 7, \"model\": 8}, \"Metrics\": {\"train_binary_classification_cross_entropy_objective\": {\"sum\": 0.03017942507915905, \"count\": 1, \"min\": 0.03017942507915905, \"max\": 0.03017942507915905}}}\u001b[0m\n",
      "\u001b[34m#metrics {\"StartTime\": 1668077318.1947205, \"EndTime\": 1668077318.1947381, \"Dimensions\": {\"Algorithm\": \"Linear Learner\", \"Host\": \"algo-1\", \"Operation\": \"training\", \"epoch\": 7, \"model\": 9}, \"Metrics\": {\"train_binary_classification_cross_entropy_objective\": {\"sum\": 0.023754256649483965, \"count\": 1, \"min\": 0.023754256649483965, \"max\": 0.023754256649483965}}}\u001b[0m\n",
      "\u001b[34m#metrics {\"StartTime\": 1668077318.1947992, \"EndTime\": 1668077318.1948173, \"Dimensions\": {\"Algorithm\": \"Linear Learner\", \"Host\": \"algo-1\", \"Operation\": \"training\", \"epoch\": 7, \"model\": 10}, \"Metrics\": {\"train_binary_classification_cross_entropy_objective\": {\"sum\": 0.0244189924231363, \"count\": 1, \"min\": 0.0244189924231363, \"max\": 0.0244189924231363}}}\u001b[0m\n",
      "\u001b[34m#metrics {\"StartTime\": 1668077318.1948724, \"EndTime\": 1668077318.1948898, \"Dimensions\": {\"Algorithm\": \"Linear Learner\", \"Host\": \"algo-1\", \"Operation\": \"training\", \"epoch\": 7, \"model\": 11}, \"Metrics\": {\"train_binary_classification_cross_entropy_objective\": {\"sum\": 0.023754256388463013, \"count\": 1, \"min\": 0.023754256388463013, \"max\": 0.023754256388463013}}}\u001b[0m\n",
      "\u001b[34m#metrics {\"StartTime\": 1668077318.1949446, \"EndTime\": 1668077318.1949625, \"Dimensions\": {\"Algorithm\": \"Linear Learner\", \"Host\": \"algo-1\", \"Operation\": \"training\", \"epoch\": 7, \"model\": 12}, \"Metrics\": {\"train_binary_classification_cross_entropy_objective\": {\"sum\": 0.023745123635738268, \"count\": 1, \"min\": 0.023745123635738268, \"max\": 0.023745123635738268}}}\u001b[0m\n",
      "\u001b[34m#metrics {\"StartTime\": 1668077318.1950147, \"EndTime\": 1668077318.1950324, \"Dimensions\": {\"Algorithm\": \"Linear Learner\", \"Host\": \"algo-1\", \"Operation\": \"training\", \"epoch\": 7, \"model\": 13}, \"Metrics\": {\"train_binary_classification_cross_entropy_objective\": {\"sum\": 0.023884842818665576, \"count\": 1, \"min\": 0.023884842818665576, \"max\": 0.023884842818665576}}}\u001b[0m\n",
      "\u001b[34m#metrics {\"StartTime\": 1668077318.1950994, \"EndTime\": 1668077318.1951172, \"Dimensions\": {\"Algorithm\": \"Linear Learner\", \"Host\": \"algo-1\", \"Operation\": \"training\", \"epoch\": 7, \"model\": 14}, \"Metrics\": {\"train_binary_classification_cross_entropy_objective\": {\"sum\": 0.02374656224032061, \"count\": 1, \"min\": 0.02374656224032061, \"max\": 0.02374656224032061}}}\u001b[0m\n",
      "\u001b[34m#metrics {\"StartTime\": 1668077318.1951747, \"EndTime\": 1668077318.1951926, \"Dimensions\": {\"Algorithm\": \"Linear Learner\", \"Host\": \"algo-1\", \"Operation\": \"training\", \"epoch\": 7, \"model\": 15}, \"Metrics\": {\"train_binary_classification_cross_entropy_objective\": {\"sum\": 0.023884841741042766, \"count\": 1, \"min\": 0.023884841741042766, \"max\": 0.023884841741042766}}}\u001b[0m\n",
      "\u001b[34m#metrics {\"StartTime\": 1668077318.1953034, \"EndTime\": 1668077318.1953244, \"Dimensions\": {\"Algorithm\": \"Linear Learner\", \"Host\": \"algo-1\", \"Operation\": \"training\", \"epoch\": 7, \"model\": 16}, \"Metrics\": {\"train_binary_classification_cross_entropy_objective\": {\"sum\": 0.38179591577279093, \"count\": 1, \"min\": 0.38179591577279093, \"max\": 0.38179591577279093}}}\u001b[0m\n",
      "\u001b[34m#metrics {\"StartTime\": 1668077318.1953962, \"EndTime\": 1668077318.1954153, \"Dimensions\": {\"Algorithm\": \"Linear Learner\", \"Host\": \"algo-1\", \"Operation\": \"training\", \"epoch\": 7, \"model\": 17}, \"Metrics\": {\"train_binary_classification_cross_entropy_objective\": {\"sum\": 0.3819152654012044, \"count\": 1, \"min\": 0.3819152654012044, \"max\": 0.3819152654012044}}}\u001b[0m\n",
      "\u001b[34m#metrics {\"StartTime\": 1668077318.1954706, \"EndTime\": 1668077318.19549, \"Dimensions\": {\"Algorithm\": \"Linear Learner\", \"Host\": \"algo-1\", \"Operation\": \"training\", \"epoch\": 7, \"model\": 18}, \"Metrics\": {\"train_binary_classification_cross_entropy_objective\": {\"sum\": 0.38180444020962495, \"count\": 1, \"min\": 0.38180444020962495, \"max\": 0.38180444020962495}}}\u001b[0m\n",
      "\u001b[34m#metrics {\"StartTime\": 1668077318.1955411, \"EndTime\": 1668077318.195559, \"Dimensions\": {\"Algorithm\": \"Linear Learner\", \"Host\": \"algo-1\", \"Operation\": \"training\", \"epoch\": 7, \"model\": 19}, \"Metrics\": {\"train_binary_classification_cross_entropy_objective\": {\"sum\": 0.38191526470125997, \"count\": 1, \"min\": 0.38191526470125997, \"max\": 0.38191526470125997}}}\u001b[0m\n",
      "\u001b[34m#metrics {\"StartTime\": 1668077318.1956117, \"EndTime\": 1668077318.1956296, \"Dimensions\": {\"Algorithm\": \"Linear Learner\", \"Host\": \"algo-1\", \"Operation\": \"training\", \"epoch\": 7, \"model\": 20}, \"Metrics\": {\"train_binary_classification_cross_entropy_objective\": {\"sum\": 0.3817968205443216, \"count\": 1, \"min\": 0.3817968205443216, \"max\": 0.3817968205443216}}}\u001b[0m\n",
      "\u001b[34m#metrics {\"StartTime\": 1668077318.1956854, \"EndTime\": 1668077318.1957028, \"Dimensions\": {\"Algorithm\": \"Linear Learner\", \"Host\": \"algo-1\", \"Operation\": \"training\", \"epoch\": 7, \"model\": 21}, \"Metrics\": {\"train_binary_classification_cross_entropy_objective\": {\"sum\": 0.38358730582141004, \"count\": 1, \"min\": 0.38358730582141004, \"max\": 0.38358730582141004}}}\u001b[0m\n",
      "\u001b[34m#metrics {\"StartTime\": 1668077318.1957574, \"EndTime\": 1668077318.1957746, \"Dimensions\": {\"Algorithm\": \"Linear Learner\", \"Host\": \"algo-1\", \"Operation\": \"training\", \"epoch\": 7, \"model\": 22}, \"Metrics\": {\"train_binary_classification_cross_entropy_objective\": {\"sum\": 0.38180443673323416, \"count\": 1, \"min\": 0.38180443673323416, \"max\": 0.38180443673323416}}}\u001b[0m\n",
      "\u001b[34m#metrics {\"StartTime\": 1668077318.195828, \"EndTime\": 1668077318.1958451, \"Dimensions\": {\"Algorithm\": \"Linear Learner\", \"Host\": \"algo-1\", \"Operation\": \"training\", \"epoch\": 7, \"model\": 23}, \"Metrics\": {\"train_binary_classification_cross_entropy_objective\": {\"sum\": 0.38358730411821185, \"count\": 1, \"min\": 0.38358730411821185, \"max\": 0.38358730411821185}}}\u001b[0m\n",
      "\u001b[34m#metrics {\"StartTime\": 1668077318.1959097, \"EndTime\": 1668077318.1959271, \"Dimensions\": {\"Algorithm\": \"Linear Learner\", \"Host\": \"algo-1\", \"Operation\": \"training\", \"epoch\": 7, \"model\": 24}, \"Metrics\": {\"train_binary_classification_cross_entropy_objective\": {\"sum\": 0.5123349021188345, \"count\": 1, \"min\": 0.5123349021188345, \"max\": 0.5123349021188345}}}\u001b[0m\n",
      "\u001b[34m#metrics {\"StartTime\": 1668077318.19598, \"EndTime\": 1668077318.1959968, \"Dimensions\": {\"Algorithm\": \"Linear Learner\", \"Host\": \"algo-1\", \"Operation\": \"training\", \"epoch\": 7, \"model\": 25}, \"Metrics\": {\"train_binary_classification_cross_entropy_objective\": {\"sum\": 0.5123882913851957, \"count\": 1, \"min\": 0.5123882913851957, \"max\": 0.5123882913851957}}}\u001b[0m\n",
      "\u001b[34m#metrics {\"StartTime\": 1668077318.19605, \"EndTime\": 1668077318.1960678, \"Dimensions\": {\"Algorithm\": \"Linear Learner\", \"Host\": \"algo-1\", \"Operation\": \"training\", \"epoch\": 7, \"model\": 26}, \"Metrics\": {\"train_binary_classification_cross_entropy_objective\": {\"sum\": 0.5123394623735994, \"count\": 1, \"min\": 0.5123394623735994, \"max\": 0.5123394623735994}}}\u001b[0m\n",
      "\u001b[34m#metrics {\"StartTime\": 1668077318.1961331, \"EndTime\": 1668077318.1961508, \"Dimensions\": {\"Algorithm\": \"Linear Learner\", \"Host\": \"algo-1\", \"Operation\": \"training\", \"epoch\": 7, \"model\": 27}, \"Metrics\": {\"train_binary_classification_cross_entropy_objective\": {\"sum\": 0.5123882958648401, \"count\": 1, \"min\": 0.5123882958648401, \"max\": 0.5123882958648401}}}\u001b[0m\n",
      "\u001b[34m#metrics {\"StartTime\": 1668077318.1962194, \"EndTime\": 1668077318.196238, \"Dimensions\": {\"Algorithm\": \"Linear Learner\", \"Host\": \"algo-1\", \"Operation\": \"training\", \"epoch\": 7, \"model\": 28}, \"Metrics\": {\"train_binary_classification_cross_entropy_objective\": {\"sum\": 0.512334893952816, \"count\": 1, \"min\": 0.512334893952816, \"max\": 0.512334893952816}}}\u001b[0m\n",
      "\u001b[34m#metrics {\"StartTime\": 1668077318.1962903, \"EndTime\": 1668077318.1963027, \"Dimensions\": {\"Algorithm\": \"Linear Learner\", \"Host\": \"algo-1\", \"Operation\": \"training\", \"epoch\": 7, \"model\": 29}, \"Metrics\": {\"train_binary_classification_cross_entropy_objective\": {\"sum\": 0.5133091118255522, \"count\": 1, \"min\": 0.5133091118255522, \"max\": 0.5133091118255522}}}\u001b[0m\n",
      "\u001b[34m#metrics {\"StartTime\": 1668077318.1963654, \"EndTime\": 1668077318.196382, \"Dimensions\": {\"Algorithm\": \"Linear Learner\", \"Host\": \"algo-1\", \"Operation\": \"training\", \"epoch\": 7, \"model\": 30}, \"Metrics\": {\"train_binary_classification_cross_entropy_objective\": {\"sum\": 0.5123394364756546, \"count\": 1, \"min\": 0.5123394364756546, \"max\": 0.5123394364756546}}}\u001b[0m\n",
      "\u001b[34m#metrics {\"StartTime\": 1668077318.1964343, \"EndTime\": 1668077318.196452, \"Dimensions\": {\"Algorithm\": \"Linear Learner\", \"Host\": \"algo-1\", \"Operation\": \"training\", \"epoch\": 7, \"model\": 31}, \"Metrics\": {\"train_binary_classification_cross_entropy_objective\": {\"sum\": 0.5133091099123707, \"count\": 1, \"min\": 0.5133091099123707, \"max\": 0.5133091099123707}}}\u001b[0m\n",
      "\u001b[34m[11/10/2022 10:48:38 INFO 140517880678208] #quality_metric: host=algo-1, epoch=7, train binary_classification_cross_entropy_objective <loss>=0.020360259515429857\u001b[0m\n",
      "\u001b[34m[2022-11-10 10:48:42.160] [tensorio] [info] epoch_stats={\"data_pipeline\": \"/opt/ml/input/data/validation\", \"epoch\": 23, \"duration\": 3944, \"num_examples\": 164, \"num_bytes\": 69349016}\u001b[0m\n",
      "\u001b[34m#metrics {\"StartTime\": 1668077322.1698565, \"EndTime\": 1668077322.1699114, \"Dimensions\": {\"Algorithm\": \"Linear Learner\", \"Host\": \"algo-1\", \"Operation\": \"training\", \"epoch\": 7, \"model\": 0}, \"Metrics\": {\"validation_binary_classification_cross_entropy_objective\": {\"sum\": 0.020179550160822873, \"count\": 1, \"min\": 0.020179550160822873, \"max\": 0.020179550160822873}}}\u001b[0m\n",
      "\u001b[34m#metrics {\"StartTime\": 1668077322.169997, \"EndTime\": 1668077322.1700203, \"Dimensions\": {\"Algorithm\": \"Linear Learner\", \"Host\": \"algo-1\", \"Operation\": \"training\", \"epoch\": 7, \"model\": 1}, \"Metrics\": {\"validation_binary_classification_cross_entropy_objective\": {\"sum\": 0.0005102256697580551, \"count\": 1, \"min\": 0.0005102256697580551, \"max\": 0.0005102256697580551}}}\u001b[0m\n",
      "\u001b[34m#metrics {\"StartTime\": 1668077322.170085, \"EndTime\": 1668077322.1701038, \"Dimensions\": {\"Algorithm\": \"Linear Learner\", \"Host\": \"algo-1\", \"Operation\": \"training\", \"epoch\": 7, \"model\": 2}, \"Metrics\": {\"validation_binary_classification_cross_entropy_objective\": {\"sum\": 0.012167407317984252, \"count\": 1, \"min\": 0.012167407317984252, \"max\": 0.012167407317984252}}}\u001b[0m\n",
      "\u001b[34m#metrics {\"StartTime\": 1668077322.1701605, \"EndTime\": 1668077322.1701775, \"Dimensions\": {\"Algorithm\": \"Linear Learner\", \"Host\": \"algo-1\", \"Operation\": \"training\", \"epoch\": 7, \"model\": 3}, \"Metrics\": {\"validation_binary_classification_cross_entropy_objective\": {\"sum\": 0.0005113846602996223, \"count\": 1, \"min\": 0.0005113846602996223, \"max\": 0.0005113846602996223}}}\u001b[0m\n",
      "\u001b[34m#metrics {\"StartTime\": 1668077322.1702347, \"EndTime\": 1668077322.170254, \"Dimensions\": {\"Algorithm\": \"Linear Learner\", \"Host\": \"algo-1\", \"Operation\": \"training\", \"epoch\": 7, \"model\": 4}, \"Metrics\": {\"validation_binary_classification_cross_entropy_objective\": {\"sum\": 0.0005101110990253616, \"count\": 1, \"min\": 0.0005101110990253616, \"max\": 0.0005101110990253616}}}\u001b[0m\n",
      "\u001b[34m#metrics {\"StartTime\": 1668077322.1703222, \"EndTime\": 1668077322.1703393, \"Dimensions\": {\"Algorithm\": \"Linear Learner\", \"Host\": \"algo-1\", \"Operation\": \"training\", \"epoch\": 7, \"model\": 5}, \"Metrics\": {\"validation_binary_classification_cross_entropy_objective\": {\"sum\": 0.0004931198169028571, \"count\": 1, \"min\": 0.0004931198169028571, \"max\": 0.0004931198169028571}}}\u001b[0m\n",
      "\u001b[34m#metrics {\"StartTime\": 1668077322.1703959, \"EndTime\": 1668077322.170415, \"Dimensions\": {\"Algorithm\": \"Linear Learner\", \"Host\": \"algo-1\", \"Operation\": \"training\", \"epoch\": 7, \"model\": 6}, \"Metrics\": {\"validation_binary_classification_cross_entropy_objective\": {\"sum\": 0.0005034052596224203, \"count\": 1, \"min\": 0.0005034052596224203, \"max\": 0.0005034052596224203}}}\u001b[0m\n",
      "\u001b[34m#metrics {\"StartTime\": 1668077322.1704726, \"EndTime\": 1668077322.1704915, \"Dimensions\": {\"Algorithm\": \"Linear Learner\", \"Host\": \"algo-1\", \"Operation\": \"training\", \"epoch\": 7, \"model\": 7}, \"Metrics\": {\"validation_binary_classification_cross_entropy_objective\": {\"sum\": 0.0004930842304602322, \"count\": 1, \"min\": 0.0004930842304602322, \"max\": 0.0004930842304602322}}}\u001b[0m\n",
      "\u001b[34m#metrics {\"StartTime\": 1668077322.1705396, \"EndTime\": 1668077322.1705558, \"Dimensions\": {\"Algorithm\": \"Linear Learner\", \"Host\": \"algo-1\", \"Operation\": \"training\", \"epoch\": 7, \"model\": 8}, \"Metrics\": {\"validation_binary_classification_cross_entropy_objective\": {\"sum\": 0.02992537252549888, \"count\": 1, \"min\": 0.02992537252549888, \"max\": 0.02992537252549888}}}\u001b[0m\n",
      "\u001b[34m#metrics {\"StartTime\": 1668077322.1706083, \"EndTime\": 1668077322.1706252, \"Dimensions\": {\"Algorithm\": \"Linear Learner\", \"Host\": \"algo-1\", \"Operation\": \"training\", \"epoch\": 7, \"model\": 9}, \"Metrics\": {\"validation_binary_classification_cross_entropy_objective\": {\"sum\": 0.02373016401199269, \"count\": 1, \"min\": 0.02373016401199269, \"max\": 0.02373016401199269}}}\u001b[0m\n",
      "\u001b[34m#metrics {\"StartTime\": 1668077322.1706777, \"EndTime\": 1668077322.170695, \"Dimensions\": {\"Algorithm\": \"Linear Learner\", \"Host\": \"algo-1\", \"Operation\": \"training\", \"epoch\": 7, \"model\": 10}, \"Metrics\": {\"validation_binary_classification_cross_entropy_objective\": {\"sum\": 0.024000323160803437, \"count\": 1, \"min\": 0.024000323160803437, \"max\": 0.024000323160803437}}}\u001b[0m\n",
      "\u001b[34m#metrics {\"StartTime\": 1668077322.170749, \"EndTime\": 1668077322.1707656, \"Dimensions\": {\"Algorithm\": \"Linear Learner\", \"Host\": \"algo-1\", \"Operation\": \"training\", \"epoch\": 7, \"model\": 11}, \"Metrics\": {\"validation_binary_classification_cross_entropy_objective\": {\"sum\": 0.023730209206262808, \"count\": 1, \"min\": 0.023730209206262808, \"max\": 0.023730209206262808}}}\u001b[0m\n",
      "\u001b[34m#metrics {\"StartTime\": 1668077322.17082, \"EndTime\": 1668077322.170837, \"Dimensions\": {\"Algorithm\": \"Linear Learner\", \"Host\": \"algo-1\", \"Operation\": \"training\", \"epoch\": 7, \"model\": 12}, \"Metrics\": {\"validation_binary_classification_cross_entropy_objective\": {\"sum\": 0.02371746446873526, \"count\": 1, \"min\": 0.02371746446873526, \"max\": 0.02371746446873526}}}\u001b[0m\n",
      "\u001b[34m#metrics {\"StartTime\": 1668077322.170889, \"EndTime\": 1668077322.1709056, \"Dimensions\": {\"Algorithm\": \"Linear Learner\", \"Host\": \"algo-1\", \"Operation\": \"training\", \"epoch\": 7, \"model\": 13}, \"Metrics\": {\"validation_binary_classification_cross_entropy_objective\": {\"sum\": 0.023602963353934525, \"count\": 1, \"min\": 0.023602963353934525, \"max\": 0.023602963353934525}}}\u001b[0m\n",
      "\u001b[34m#metrics {\"StartTime\": 1668077322.1709723, \"EndTime\": 1668077322.17099, \"Dimensions\": {\"Algorithm\": \"Linear Learner\", \"Host\": \"algo-1\", \"Operation\": \"training\", \"epoch\": 7, \"model\": 14}, \"Metrics\": {\"validation_binary_classification_cross_entropy_objective\": {\"sum\": 0.023719885228008317, \"count\": 1, \"min\": 0.023719885228008317, \"max\": 0.023719885228008317}}}\u001b[0m\n",
      "\u001b[34m#metrics {\"StartTime\": 1668077322.171044, \"EndTime\": 1668077322.1710608, \"Dimensions\": {\"Algorithm\": \"Linear Learner\", \"Host\": \"algo-1\", \"Operation\": \"training\", \"epoch\": 7, \"model\": 15}, \"Metrics\": {\"validation_binary_classification_cross_entropy_objective\": {\"sum\": 0.023603205948800037, \"count\": 1, \"min\": 0.023603205948800037, \"max\": 0.023603205948800037}}}\u001b[0m\n",
      "\u001b[34m#metrics {\"StartTime\": 1668077322.1711006, \"EndTime\": 1668077322.1711109, \"Dimensions\": {\"Algorithm\": \"Linear Learner\", \"Host\": \"algo-1\", \"Operation\": \"training\", \"epoch\": 7, \"model\": 16}, \"Metrics\": {\"validation_binary_classification_cross_entropy_objective\": {\"sum\": 0.3811940321622222, \"count\": 1, \"min\": 0.3811940321622222, \"max\": 0.3811940321622222}}}\u001b[0m\n",
      "\u001b[34m#metrics {\"StartTime\": 1668077322.1711378, \"EndTime\": 1668077322.171146, \"Dimensions\": {\"Algorithm\": \"Linear Learner\", \"Host\": \"algo-1\", \"Operation\": \"training\", \"epoch\": 7, \"model\": 17}, \"Metrics\": {\"validation_binary_classification_cross_entropy_objective\": {\"sum\": 0.38181997705983584, \"count\": 1, \"min\": 0.38181997705983584, \"max\": 0.38181997705983584}}}\u001b[0m\n",
      "\u001b[34m#metrics {\"StartTime\": 1668077322.171195, \"EndTime\": 1668077322.1712103, \"Dimensions\": {\"Algorithm\": \"Linear Learner\", \"Host\": \"algo-1\", \"Operation\": \"training\", \"epoch\": 7, \"model\": 18}, \"Metrics\": {\"validation_binary_classification_cross_entropy_objective\": {\"sum\": 0.38112358876123736, \"count\": 1, \"min\": 0.38112358876123736, \"max\": 0.38112358876123736}}}\u001b[0m\n",
      "\u001b[34m#metrics {\"StartTime\": 1668077322.1712813, \"EndTime\": 1668077322.1712923, \"Dimensions\": {\"Algorithm\": \"Linear Learner\", \"Host\": \"algo-1\", \"Operation\": \"training\", \"epoch\": 7, \"model\": 19}, \"Metrics\": {\"validation_binary_classification_cross_entropy_objective\": {\"sum\": 0.38181987854320726, \"count\": 1, \"min\": 0.38181987854320726, \"max\": 0.38181987854320726}}}\u001b[0m\n",
      "\u001b[34m#metrics {\"StartTime\": 1668077322.17133, \"EndTime\": 1668077322.1713443, \"Dimensions\": {\"Algorithm\": \"Linear Learner\", \"Host\": \"algo-1\", \"Operation\": \"training\", \"epoch\": 7, \"model\": 20}, \"Metrics\": {\"validation_binary_classification_cross_entropy_objective\": {\"sum\": 0.3811943637229209, \"count\": 1, \"min\": 0.3811943637229209, \"max\": 0.3811943637229209}}}\u001b[0m\n",
      "\u001b[34m#metrics {\"StartTime\": 1668077322.1713943, \"EndTime\": 1668077322.1714065, \"Dimensions\": {\"Algorithm\": \"Linear Learner\", \"Host\": \"algo-1\", \"Operation\": \"training\", \"epoch\": 7, \"model\": 21}, \"Metrics\": {\"validation_binary_classification_cross_entropy_objective\": {\"sum\": 0.3790926753671816, \"count\": 1, \"min\": 0.3790926753671816, \"max\": 0.3790926753671816}}}\u001b[0m\n",
      "\u001b[34m#metrics {\"StartTime\": 1668077322.171449, \"EndTime\": 1668077322.171461, \"Dimensions\": {\"Algorithm\": \"Linear Learner\", \"Host\": \"algo-1\", \"Operation\": \"training\", \"epoch\": 7, \"model\": 22}, \"Metrics\": {\"validation_binary_classification_cross_entropy_objective\": {\"sum\": 0.38112358428320875, \"count\": 1, \"min\": 0.38112358428320875, \"max\": 0.38112358428320875}}}\u001b[0m\n",
      "\u001b[34m#metrics {\"StartTime\": 1668077322.1715107, \"EndTime\": 1668077322.171527, \"Dimensions\": {\"Algorithm\": \"Linear Learner\", \"Host\": \"algo-1\", \"Operation\": \"training\", \"epoch\": 7, \"model\": 23}, \"Metrics\": {\"validation_binary_classification_cross_entropy_objective\": {\"sum\": 0.37909266379894113, \"count\": 1, \"min\": 0.37909266379894113, \"max\": 0.37909266379894113}}}\u001b[0m\n",
      "\u001b[34m#metrics {\"StartTime\": 1668077322.171572, \"EndTime\": 1668077322.1715817, \"Dimensions\": {\"Algorithm\": \"Linear Learner\", \"Host\": \"algo-1\", \"Operation\": \"training\", \"epoch\": 7, \"model\": 24}, \"Metrics\": {\"validation_binary_classification_cross_entropy_objective\": {\"sum\": 0.5114644944413813, \"count\": 1, \"min\": 0.5114644944413813, \"max\": 0.5114644944413813}}}\u001b[0m\n",
      "\u001b[34m#metrics {\"StartTime\": 1668077322.1716204, \"EndTime\": 1668077322.1716352, \"Dimensions\": {\"Algorithm\": \"Linear Learner\", \"Host\": \"algo-1\", \"Operation\": \"training\", \"epoch\": 7, \"model\": 25}, \"Metrics\": {\"validation_binary_classification_cross_entropy_objective\": {\"sum\": 0.5112823228281729, \"count\": 1, \"min\": 0.5112823228281729, \"max\": 0.5112823228281729}}}\u001b[0m\n",
      "\u001b[34m#metrics {\"StartTime\": 1668077322.1716888, \"EndTime\": 1668077322.1717052, \"Dimensions\": {\"Algorithm\": \"Linear Learner\", \"Host\": \"algo-1\", \"Operation\": \"training\", \"epoch\": 7, \"model\": 26}, \"Metrics\": {\"validation_binary_classification_cross_entropy_objective\": {\"sum\": 0.511497936545332, \"count\": 1, \"min\": 0.511497936545332, \"max\": 0.511497936545332}}}\u001b[0m\n",
      "\u001b[34m#metrics {\"StartTime\": 1668077322.1717665, \"EndTime\": 1668077322.1717837, \"Dimensions\": {\"Algorithm\": \"Linear Learner\", \"Host\": \"algo-1\", \"Operation\": \"training\", \"epoch\": 7, \"model\": 27}, \"Metrics\": {\"validation_binary_classification_cross_entropy_objective\": {\"sum\": 0.5112822998782764, \"count\": 1, \"min\": 0.5112822998782764, \"max\": 0.5112822998782764}}}\u001b[0m\n",
      "\u001b[34m#metrics {\"StartTime\": 1668077322.1718395, \"EndTime\": 1668077322.1718574, \"Dimensions\": {\"Algorithm\": \"Linear Learner\", \"Host\": \"algo-1\", \"Operation\": \"training\", \"epoch\": 7, \"model\": 28}, \"Metrics\": {\"validation_binary_classification_cross_entropy_objective\": {\"sum\": 0.511464374280948, \"count\": 1, \"min\": 0.511464374280948, \"max\": 0.511464374280948}}}\u001b[0m\n",
      "\u001b[34m#metrics {\"StartTime\": 1668077322.1719246, \"EndTime\": 1668077322.1719427, \"Dimensions\": {\"Algorithm\": \"Linear Learner\", \"Host\": \"algo-1\", \"Operation\": \"training\", \"epoch\": 7, \"model\": 29}, \"Metrics\": {\"validation_binary_classification_cross_entropy_objective\": {\"sum\": 0.5122443119573584, \"count\": 1, \"min\": 0.5122443119573584, \"max\": 0.5122443119573584}}}\u001b[0m\n",
      "\u001b[34m#metrics {\"StartTime\": 1668077322.1719885, \"EndTime\": 1668077322.1719985, \"Dimensions\": {\"Algorithm\": \"Linear Learner\", \"Host\": \"algo-1\", \"Operation\": \"training\", \"epoch\": 7, \"model\": 30}, \"Metrics\": {\"validation_binary_classification_cross_entropy_objective\": {\"sum\": 0.5114983266935713, \"count\": 1, \"min\": 0.5114983266935713, \"max\": 0.5114983266935713}}}\u001b[0m\n",
      "\u001b[34m#metrics {\"StartTime\": 1668077322.1720266, \"EndTime\": 1668077322.1720402, \"Dimensions\": {\"Algorithm\": \"Linear Learner\", \"Host\": \"algo-1\", \"Operation\": \"training\", \"epoch\": 7, \"model\": 31}, \"Metrics\": {\"validation_binary_classification_cross_entropy_objective\": {\"sum\": 0.5122443084122525, \"count\": 1, \"min\": 0.5122443084122525, \"max\": 0.5122443084122525}}}\u001b[0m\n",
      "\u001b[34m[11/10/2022 10:48:42 INFO 140517880678208] #quality_metric: host=algo-1, epoch=7, validation binary_classification_cross_entropy_objective <loss>=0.020179550160822873\u001b[0m\n",
      "\u001b[34m[11/10/2022 10:48:42 INFO 140517880678208] #early_stopping_criteria_metric: host=algo-1, epoch=7, criteria=binary_classification_cross_entropy_objective, value=0.0004930842304602322\u001b[0m\n",
      "\u001b[34m[11/10/2022 10:48:42 INFO 140517880678208] Saving model for epoch: 7\u001b[0m\n",
      "\u001b[34m[11/10/2022 10:48:42 INFO 140517880678208] Saved checkpoint to \"/tmp/tmpqrdqrvw8/mx-mod-0000.params\"\u001b[0m\n",
      "\u001b[34m[11/10/2022 10:48:42 INFO 140517880678208] #progress_metric: host=algo-1, completed 53.333333333333336 % of epochs\u001b[0m\n",
      "\u001b[34m#metrics {\"StartTime\": 1668077272.8357217, \"EndTime\": 1668077322.1786764, \"Dimensions\": {\"Algorithm\": \"Linear Learner\", \"Host\": \"algo-1\", \"Operation\": \"training\", \"epoch\": 7, \"Meta\": \"training_data_iter\"}, \"Metrics\": {\"Total Records Seen\": {\"sum\": 10479776.0, \"count\": 1, \"min\": 10479776, \"max\": 10479776}, \"Total Batches Seen\": {\"sum\": 10484.0, \"count\": 1, \"min\": 10484, \"max\": 10484}, \"Max Records Seen Between Resets\": {\"sum\": 1308472.0, \"count\": 1, \"min\": 1308472, \"max\": 1308472}, \"Max Batches Seen Between Resets\": {\"sum\": 1309.0, \"count\": 1, \"min\": 1309, \"max\": 1309}, \"Reset Count\": {\"sum\": 10.0, \"count\": 1, \"min\": 10, \"max\": 10}, \"Number of Records Since Last Reset\": {\"sum\": 1308472.0, \"count\": 1, \"min\": 1308472, \"max\": 1308472}, \"Number of Batches Since Last Reset\": {\"sum\": 1309.0, \"count\": 1, \"min\": 1309, \"max\": 1309}}}\u001b[0m\n",
      "\u001b[34m[11/10/2022 10:48:42 INFO 140517880678208] #throughput_metric: host=algo-1, train throughput=26517.841095089516 records/second\u001b[0m\n",
      "\u001b[34m[2022-11-10 10:49:26.731] [tensorio] [info] epoch_stats={\"data_pipeline\": \"/opt/ml/input/data/train\", \"epoch\": 19, \"duration\": 44540, \"num_examples\": 1309, \"num_bytes\": 554792128}\u001b[0m\n",
      "\u001b[34m#metrics {\"StartTime\": 1668077366.7316697, \"EndTime\": 1668077366.7317698, \"Dimensions\": {\"Algorithm\": \"Linear Learner\", \"Host\": \"algo-1\", \"Operation\": \"training\", \"epoch\": 8, \"model\": 0}, \"Metrics\": {\"train_binary_classification_cross_entropy_objective\": {\"sum\": 0.020047004397855984, \"count\": 1, \"min\": 0.020047004397855984, \"max\": 0.020047004397855984}}}\u001b[0m\n",
      "\u001b[34m#metrics {\"StartTime\": 1668077366.7318604, \"EndTime\": 1668077366.7318833, \"Dimensions\": {\"Algorithm\": \"Linear Learner\", \"Host\": \"algo-1\", \"Operation\": \"training\", \"epoch\": 8, \"model\": 1}, \"Metrics\": {\"train_binary_classification_cross_entropy_objective\": {\"sum\": 0.0005004688937228389, \"count\": 1, \"min\": 0.0005004688937228389, \"max\": 0.0005004688937228389}}}\u001b[0m\n",
      "\u001b[34m#metrics {\"StartTime\": 1668077366.7319515, \"EndTime\": 1668077366.7319732, \"Dimensions\": {\"Algorithm\": \"Linear Learner\", \"Host\": \"algo-1\", \"Operation\": \"training\", \"epoch\": 8, \"model\": 2}, \"Metrics\": {\"train_binary_classification_cross_entropy_objective\": {\"sum\": 0.011368115968295922, \"count\": 1, \"min\": 0.011368115968295922, \"max\": 0.011368115968295922}}}\u001b[0m\n",
      "\u001b[34m#metrics {\"StartTime\": 1668077366.7320313, \"EndTime\": 1668077366.73205, \"Dimensions\": {\"Algorithm\": \"Linear Learner\", \"Host\": \"algo-1\", \"Operation\": \"training\", \"epoch\": 8, \"model\": 3}, \"Metrics\": {\"train_binary_classification_cross_entropy_objective\": {\"sum\": 0.0005010304442786296, \"count\": 1, \"min\": 0.0005010304442786296, \"max\": 0.0005010304442786296}}}\u001b[0m\n",
      "\u001b[34m#metrics {\"StartTime\": 1668077366.7321062, \"EndTime\": 1668077366.7321267, \"Dimensions\": {\"Algorithm\": \"Linear Learner\", \"Host\": \"algo-1\", \"Operation\": \"training\", \"epoch\": 8, \"model\": 4}, \"Metrics\": {\"train_binary_classification_cross_entropy_objective\": {\"sum\": 0.0005101320378095003, \"count\": 1, \"min\": 0.0005101320378095003, \"max\": 0.0005101320378095003}}}\u001b[0m\n",
      "\u001b[34m#metrics {\"StartTime\": 1668077366.7321856, \"EndTime\": 1668077366.7322042, \"Dimensions\": {\"Algorithm\": \"Linear Learner\", \"Host\": \"algo-1\", \"Operation\": \"training\", \"epoch\": 8, \"model\": 5}, \"Metrics\": {\"train_binary_classification_cross_entropy_objective\": {\"sum\": 0.0004947572220857355, \"count\": 1, \"min\": 0.0004947572220857355, \"max\": 0.0004947572220857355}}}\u001b[0m\n",
      "\u001b[34m#metrics {\"StartTime\": 1668077366.732264, \"EndTime\": 1668077366.732282, \"Dimensions\": {\"Algorithm\": \"Linear Learner\", \"Host\": \"algo-1\", \"Operation\": \"training\", \"epoch\": 8, \"model\": 6}, \"Metrics\": {\"train_binary_classification_cross_entropy_objective\": {\"sum\": 0.000501212889083664, \"count\": 1, \"min\": 0.000501212889083664, \"max\": 0.000501212889083664}}}\u001b[0m\n",
      "\u001b[34m#metrics {\"StartTime\": 1668077366.732335, \"EndTime\": 1668077366.7323527, \"Dimensions\": {\"Algorithm\": \"Linear Learner\", \"Host\": \"algo-1\", \"Operation\": \"training\", \"epoch\": 8, \"model\": 7}, \"Metrics\": {\"train_binary_classification_cross_entropy_objective\": {\"sum\": 0.0004947503388201425, \"count\": 1, \"min\": 0.0004947503388201425, \"max\": 0.0004947503388201425}}}\u001b[0m\n",
      "\u001b[34m#metrics {\"StartTime\": 1668077366.7324085, \"EndTime\": 1668077366.7324264, \"Dimensions\": {\"Algorithm\": \"Linear Learner\", \"Host\": \"algo-1\", \"Operation\": \"training\", \"epoch\": 8, \"model\": 8}, \"Metrics\": {\"train_binary_classification_cross_entropy_objective\": {\"sum\": 0.02974635830567153, \"count\": 1, \"min\": 0.02974635830567153, \"max\": 0.02974635830567153}}}\u001b[0m\n",
      "\u001b[34m#metrics {\"StartTime\": 1668077366.7324858, \"EndTime\": 1668077366.7325053, \"Dimensions\": {\"Algorithm\": \"Linear Learner\", \"Host\": \"algo-1\", \"Operation\": \"training\", \"epoch\": 8, \"model\": 9}, \"Metrics\": {\"train_binary_classification_cross_entropy_objective\": {\"sum\": 0.0237533754952457, \"count\": 1, \"min\": 0.0237533754952457, \"max\": 0.0237533754952457}}}\u001b[0m\n",
      "\u001b[34m#metrics {\"StartTime\": 1668077366.732563, \"EndTime\": 1668077366.7325811, \"Dimensions\": {\"Algorithm\": \"Linear Learner\", \"Host\": \"algo-1\", \"Operation\": \"training\", \"epoch\": 8, \"model\": 10}, \"Metrics\": {\"train_binary_classification_cross_entropy_objective\": {\"sum\": 0.023865446278808315, \"count\": 1, \"min\": 0.023865446278808315, \"max\": 0.023865446278808315}}}\u001b[0m\n",
      "\u001b[34m#metrics {\"StartTime\": 1668077366.732635, \"EndTime\": 1668077366.732654, \"Dimensions\": {\"Algorithm\": \"Linear Learner\", \"Host\": \"algo-1\", \"Operation\": \"training\", \"epoch\": 8, \"model\": 11}, \"Metrics\": {\"train_binary_classification_cross_entropy_objective\": {\"sum\": 0.0237533774084272, \"count\": 1, \"min\": 0.0237533774084272, \"max\": 0.0237533774084272}}}\u001b[0m\n",
      "\u001b[34m#metrics {\"StartTime\": 1668077366.73271, \"EndTime\": 1668077366.732728, \"Dimensions\": {\"Algorithm\": \"Linear Learner\", \"Host\": \"algo-1\", \"Operation\": \"training\", \"epoch\": 8, \"model\": 12}, \"Metrics\": {\"train_binary_classification_cross_entropy_objective\": {\"sum\": 0.023745332077737977, \"count\": 1, \"min\": 0.023745332077737977, \"max\": 0.023745332077737977}}}\u001b[0m\n",
      "\u001b[34m#metrics {\"StartTime\": 1668077366.7327847, \"EndTime\": 1668077366.7328024, \"Dimensions\": {\"Algorithm\": \"Linear Learner\", \"Host\": \"algo-1\", \"Operation\": \"training\", \"epoch\": 8, \"model\": 13}, \"Metrics\": {\"train_binary_classification_cross_entropy_objective\": {\"sum\": 0.02386945600392986, \"count\": 1, \"min\": 0.02386945600392986, \"max\": 0.02386945600392986}}}\u001b[0m\n",
      "\u001b[34m#metrics {\"StartTime\": 1668077366.7328568, \"EndTime\": 1668077366.7328753, \"Dimensions\": {\"Algorithm\": \"Linear Learner\", \"Host\": \"algo-1\", \"Operation\": \"training\", \"epoch\": 8, \"model\": 14}, \"Metrics\": {\"train_binary_classification_cross_entropy_objective\": {\"sum\": 0.023746516652063492, \"count\": 1, \"min\": 0.023746516652063492, \"max\": 0.023746516652063492}}}\u001b[0m\n",
      "\u001b[34m#metrics {\"StartTime\": 1668077366.7329304, \"EndTime\": 1668077366.7329488, \"Dimensions\": {\"Algorithm\": \"Linear Learner\", \"Host\": \"algo-1\", \"Operation\": \"training\", \"epoch\": 8, \"model\": 15}, \"Metrics\": {\"train_binary_classification_cross_entropy_objective\": {\"sum\": 0.023869456294115167, \"count\": 1, \"min\": 0.023869456294115167, \"max\": 0.023869456294115167}}}\u001b[0m\n",
      "\u001b[34m#metrics {\"StartTime\": 1668077366.733004, \"EndTime\": 1668077366.7330222, \"Dimensions\": {\"Algorithm\": \"Linear Learner\", \"Host\": \"algo-1\", \"Operation\": \"training\", \"epoch\": 8, \"model\": 16}, \"Metrics\": {\"train_binary_classification_cross_entropy_objective\": {\"sum\": 0.38179619505062745, \"count\": 1, \"min\": 0.38179619505062745, \"max\": 0.38179619505062745}}}\u001b[0m\n",
      "\u001b[34m#metrics {\"StartTime\": 1668077366.7330782, \"EndTime\": 1668077366.733096, \"Dimensions\": {\"Algorithm\": \"Linear Learner\", \"Host\": \"algo-1\", \"Operation\": \"training\", \"epoch\": 8, \"model\": 17}, \"Metrics\": {\"train_binary_classification_cross_entropy_objective\": {\"sum\": 0.38190173820472273, \"count\": 1, \"min\": 0.38190173820472273, \"max\": 0.38190173820472273}}}\u001b[0m\n",
      "\u001b[34m#metrics {\"StartTime\": 1668077366.733151, \"EndTime\": 1668077366.7331703, \"Dimensions\": {\"Algorithm\": \"Linear Learner\", \"Host\": \"algo-1\", \"Operation\": \"training\", \"epoch\": 8, \"model\": 18}, \"Metrics\": {\"train_binary_classification_cross_entropy_objective\": {\"sum\": 0.3818044255574544, \"count\": 1, \"min\": 0.3818044255574544, \"max\": 0.3818044255574544}}}\u001b[0m\n",
      "\u001b[34m#metrics {\"StartTime\": 1668077366.7332404, \"EndTime\": 1668077366.7332594, \"Dimensions\": {\"Algorithm\": \"Linear Learner\", \"Host\": \"algo-1\", \"Operation\": \"training\", \"epoch\": 8, \"model\": 19}, \"Metrics\": {\"train_binary_classification_cross_entropy_objective\": {\"sum\": 0.38190173769143015, \"count\": 1, \"min\": 0.38190173769143015, \"max\": 0.38190173769143015}}}\u001b[0m\n",
      "\u001b[34m#metrics {\"StartTime\": 1668077366.7333162, \"EndTime\": 1668077366.7333338, \"Dimensions\": {\"Algorithm\": \"Linear Learner\", \"Host\": \"algo-1\", \"Operation\": \"training\", \"epoch\": 8, \"model\": 20}, \"Metrics\": {\"train_binary_classification_cross_entropy_objective\": {\"sum\": 0.38179639049845004, \"count\": 1, \"min\": 0.38179639049845004, \"max\": 0.38179639049845004}}}\u001b[0m\n",
      "\u001b[34m#metrics {\"StartTime\": 1668077366.7333918, \"EndTime\": 1668077366.7334087, \"Dimensions\": {\"Algorithm\": \"Linear Learner\", \"Host\": \"algo-1\", \"Operation\": \"training\", \"epoch\": 8, \"model\": 21}, \"Metrics\": {\"train_binary_classification_cross_entropy_objective\": {\"sum\": 0.38339574551363603, \"count\": 1, \"min\": 0.38339574551363603, \"max\": 0.38339574551363603}}}\u001b[0m\n",
      "\u001b[34m#metrics {\"StartTime\": 1668077366.7334733, \"EndTime\": 1668077366.7334907, \"Dimensions\": {\"Algorithm\": \"Linear Learner\", \"Host\": \"algo-1\", \"Operation\": \"training\", \"epoch\": 8, \"model\": 22}, \"Metrics\": {\"train_binary_classification_cross_entropy_objective\": {\"sum\": 0.3818044456691917, \"count\": 1, \"min\": 0.3818044456691917, \"max\": 0.3818044456691917}}}\u001b[0m\n",
      "\u001b[34m#metrics {\"StartTime\": 1668077366.7335439, \"EndTime\": 1668077366.7335618, \"Dimensions\": {\"Algorithm\": \"Linear Learner\", \"Host\": \"algo-1\", \"Operation\": \"training\", \"epoch\": 8, \"model\": 23}, \"Metrics\": {\"train_binary_classification_cross_entropy_objective\": {\"sum\": 0.3833957458169453, \"count\": 1, \"min\": 0.3833957458169453, \"max\": 0.3833957458169453}}}\u001b[0m\n",
      "\u001b[34m#metrics {\"StartTime\": 1668077366.7336154, \"EndTime\": 1668077366.7336326, \"Dimensions\": {\"Algorithm\": \"Linear Learner\", \"Host\": \"algo-1\", \"Operation\": \"training\", \"epoch\": 8, \"model\": 24}, \"Metrics\": {\"train_binary_classification_cross_entropy_objective\": {\"sum\": 0.5123349037520383, \"count\": 1, \"min\": 0.5123349037520383, \"max\": 0.5123349037520383}}}\u001b[0m\n",
      "\u001b[34m#metrics {\"StartTime\": 1668077366.7336712, \"EndTime\": 1668077366.7336864, \"Dimensions\": {\"Algorithm\": \"Linear Learner\", \"Host\": \"algo-1\", \"Operation\": \"training\", \"epoch\": 8, \"model\": 25}, \"Metrics\": {\"train_binary_classification_cross_entropy_objective\": {\"sum\": 0.512380353128509, \"count\": 1, \"min\": 0.512380353128509, \"max\": 0.512380353128509}}}\u001b[0m\n",
      "\u001b[34m#metrics {\"StartTime\": 1668077366.7337384, \"EndTime\": 1668077366.7337556, \"Dimensions\": {\"Algorithm\": \"Linear Learner\", \"Host\": \"algo-1\", \"Operation\": \"training\", \"epoch\": 8, \"model\": 26}, \"Metrics\": {\"train_binary_classification_cross_entropy_objective\": {\"sum\": 0.5123394684631161, \"count\": 1, \"min\": 0.5123394684631161, \"max\": 0.5123394684631161}}}\u001b[0m\n",
      "\u001b[34m#metrics {\"StartTime\": 1668077366.7338116, \"EndTime\": 1668077366.7338293, \"Dimensions\": {\"Algorithm\": \"Linear Learner\", \"Host\": \"algo-1\", \"Operation\": \"training\", \"epoch\": 8, \"model\": 27}, \"Metrics\": {\"train_binary_classification_cross_entropy_objective\": {\"sum\": 0.5123803526152164, \"count\": 1, \"min\": 0.5123803526152164, \"max\": 0.5123803526152164}}}\u001b[0m\n",
      "\u001b[34m#metrics {\"StartTime\": 1668077366.7338963, \"EndTime\": 1668077366.7339146, \"Dimensions\": {\"Algorithm\": \"Linear Learner\", \"Host\": \"algo-1\", \"Operation\": \"training\", \"epoch\": 8, \"model\": 28}, \"Metrics\": {\"train_binary_classification_cross_entropy_objective\": {\"sum\": 0.5123348991324048, \"count\": 1, \"min\": 0.5123348991324048, \"max\": 0.5123348991324048}}}\u001b[0m\n",
      "\u001b[34m#metrics {\"StartTime\": 1668077366.7339694, \"EndTime\": 1668077366.7339845, \"Dimensions\": {\"Algorithm\": \"Linear Learner\", \"Host\": \"algo-1\", \"Operation\": \"training\", \"epoch\": 8, \"model\": 29}, \"Metrics\": {\"train_binary_classification_cross_entropy_objective\": {\"sum\": 0.5131530846412029, \"count\": 1, \"min\": 0.5131530846412029, \"max\": 0.5131530846412029}}}\u001b[0m\n",
      "\u001b[34m#metrics {\"StartTime\": 1668077366.7340322, \"EndTime\": 1668077366.7340493, \"Dimensions\": {\"Algorithm\": \"Linear Learner\", \"Host\": \"algo-1\", \"Operation\": \"training\", \"epoch\": 8, \"model\": 30}, \"Metrics\": {\"train_binary_classification_cross_entropy_objective\": {\"sum\": 0.5123394633535217, \"count\": 1, \"min\": 0.5123394633535217, \"max\": 0.5123394633535217}}}\u001b[0m\n",
      "\u001b[34m#metrics {\"StartTime\": 1668077366.7341144, \"EndTime\": 1668077366.7341316, \"Dimensions\": {\"Algorithm\": \"Linear Learner\", \"Host\": \"algo-1\", \"Operation\": \"training\", \"epoch\": 8, \"model\": 31}, \"Metrics\": {\"train_binary_classification_cross_entropy_objective\": {\"sum\": 0.5131530804648676, \"count\": 1, \"min\": 0.5131530804648676, \"max\": 0.5131530804648676}}}\u001b[0m\n",
      "\u001b[34m[11/10/2022 10:49:26 INFO 140517880678208] #quality_metric: host=algo-1, epoch=8, train binary_classification_cross_entropy_objective <loss>=0.020047004397855984\u001b[0m\n",
      "\u001b[34m[2022-11-10 10:49:30.806] [tensorio] [info] epoch_stats={\"data_pipeline\": \"/opt/ml/input/data/validation\", \"epoch\": 26, \"duration\": 4052, \"num_examples\": 164, \"num_bytes\": 69349016}\u001b[0m\n",
      "\u001b[34m#metrics {\"StartTime\": 1668077370.813067, \"EndTime\": 1668077370.8131204, \"Dimensions\": {\"Algorithm\": \"Linear Learner\", \"Host\": \"algo-1\", \"Operation\": \"training\", \"epoch\": 8, \"model\": 0}, \"Metrics\": {\"validation_binary_classification_cross_entropy_objective\": {\"sum\": 0.019868789893114594, \"count\": 1, \"min\": 0.019868789893114594, \"max\": 0.019868789893114594}}}\u001b[0m\n",
      "\u001b[34m#metrics {\"StartTime\": 1668077370.8132012, \"EndTime\": 1668077370.8132205, \"Dimensions\": {\"Algorithm\": \"Linear Learner\", \"Host\": \"algo-1\", \"Operation\": \"training\", \"epoch\": 8, \"model\": 1}, \"Metrics\": {\"validation_binary_classification_cross_entropy_objective\": {\"sum\": 0.0004946424971235621, \"count\": 1, \"min\": 0.0004946424971235621, \"max\": 0.0004946424971235621}}}\u001b[0m\n",
      "\u001b[34m#metrics {\"StartTime\": 1668077370.8132854, \"EndTime\": 1668077370.8133037, \"Dimensions\": {\"Algorithm\": \"Linear Learner\", \"Host\": \"algo-1\", \"Operation\": \"training\", \"epoch\": 8, \"model\": 2}, \"Metrics\": {\"validation_binary_classification_cross_entropy_objective\": {\"sum\": 0.010577047182183804, \"count\": 1, \"min\": 0.010577047182183804, \"max\": 0.010577047182183804}}}\u001b[0m\n",
      "\u001b[34m#metrics {\"StartTime\": 1668077370.8133705, \"EndTime\": 1668077370.813389, \"Dimensions\": {\"Algorithm\": \"Linear Learner\", \"Host\": \"algo-1\", \"Operation\": \"training\", \"epoch\": 8, \"model\": 3}, \"Metrics\": {\"validation_binary_classification_cross_entropy_objective\": {\"sum\": 0.0004948111937671824, \"count\": 1, \"min\": 0.0004948111937671824, \"max\": 0.0004948111937671824}}}\u001b[0m\n",
      "\u001b[34m#metrics {\"StartTime\": 1668077370.8134458, \"EndTime\": 1668077370.8134646, \"Dimensions\": {\"Algorithm\": \"Linear Learner\", \"Host\": \"algo-1\", \"Operation\": \"training\", \"epoch\": 8, \"model\": 4}, \"Metrics\": {\"validation_binary_classification_cross_entropy_objective\": {\"sum\": 0.0005088690104058417, \"count\": 1, \"min\": 0.0005088690104058417, \"max\": 0.0005088690104058417}}}\u001b[0m\n",
      "\u001b[34m#metrics {\"StartTime\": 1668077370.8135204, \"EndTime\": 1668077370.8135383, \"Dimensions\": {\"Algorithm\": \"Linear Learner\", \"Host\": \"algo-1\", \"Operation\": \"training\", \"epoch\": 8, \"model\": 5}, \"Metrics\": {\"validation_binary_classification_cross_entropy_objective\": {\"sum\": 0.0004956144623718538, \"count\": 1, \"min\": 0.0004956144623718538, \"max\": 0.0004956144623718538}}}\u001b[0m\n",
      "\u001b[34m#metrics {\"StartTime\": 1668077370.8135774, \"EndTime\": 1668077370.8135881, \"Dimensions\": {\"Algorithm\": \"Linear Learner\", \"Host\": \"algo-1\", \"Operation\": \"training\", \"epoch\": 8, \"model\": 6}, \"Metrics\": {\"validation_binary_classification_cross_entropy_objective\": {\"sum\": 0.0004979246453516051, \"count\": 1, \"min\": 0.0004979246453516051, \"max\": 0.0004979246453516051}}}\u001b[0m\n",
      "\u001b[34m#metrics {\"StartTime\": 1668077370.813639, \"EndTime\": 1668077370.813655, \"Dimensions\": {\"Algorithm\": \"Linear Learner\", \"Host\": \"algo-1\", \"Operation\": \"training\", \"epoch\": 8, \"model\": 7}, \"Metrics\": {\"validation_binary_classification_cross_entropy_objective\": {\"sum\": 0.0004953787875327513, \"count\": 1, \"min\": 0.0004953787875327513, \"max\": 0.0004953787875327513}}}\u001b[0m\n",
      "\u001b[34m#metrics {\"StartTime\": 1668077370.8137238, \"EndTime\": 1668077370.8137417, \"Dimensions\": {\"Algorithm\": \"Linear Learner\", \"Host\": \"algo-1\", \"Operation\": \"training\", \"epoch\": 8, \"model\": 8}, \"Metrics\": {\"validation_binary_classification_cross_entropy_objective\": {\"sum\": 0.029495519146259704, \"count\": 1, \"min\": 0.029495519146259704, \"max\": 0.029495519146259704}}}\u001b[0m\n",
      "\u001b[34m#metrics {\"StartTime\": 1668077370.8137968, \"EndTime\": 1668077370.8138146, \"Dimensions\": {\"Algorithm\": \"Linear Learner\", \"Host\": \"algo-1\", \"Operation\": \"training\", \"epoch\": 8, \"model\": 9}, \"Metrics\": {\"validation_binary_classification_cross_entropy_objective\": {\"sum\": 0.023730831518126515, \"count\": 1, \"min\": 0.023730831518126515, \"max\": 0.023730831518126515}}}\u001b[0m\n",
      "\u001b[34m#metrics {\"StartTime\": 1668077370.8138742, \"EndTime\": 1668077370.8138924, \"Dimensions\": {\"Algorithm\": \"Linear Learner\", \"Host\": \"algo-1\", \"Operation\": \"training\", \"epoch\": 8, \"model\": 10}, \"Metrics\": {\"validation_binary_classification_cross_entropy_objective\": {\"sum\": 0.02374655230796219, \"count\": 1, \"min\": 0.02374655230796219, \"max\": 0.02374655230796219}}}\u001b[0m\n",
      "\u001b[34m#metrics {\"StartTime\": 1668077370.8139467, \"EndTime\": 1668077370.8139648, \"Dimensions\": {\"Algorithm\": \"Linear Learner\", \"Host\": \"algo-1\", \"Operation\": \"training\", \"epoch\": 8, \"model\": 11}, \"Metrics\": {\"validation_binary_classification_cross_entropy_objective\": {\"sum\": 0.02373085382663864, \"count\": 1, \"min\": 0.02373085382663864, \"max\": 0.02373085382663864}}}\u001b[0m\n",
      "\u001b[34m#metrics {\"StartTime\": 1668077370.8140187, \"EndTime\": 1668077370.8140361, \"Dimensions\": {\"Algorithm\": \"Linear Learner\", \"Host\": \"algo-1\", \"Operation\": \"training\", \"epoch\": 8, \"model\": 12}, \"Metrics\": {\"validation_binary_classification_cross_entropy_objective\": {\"sum\": 0.023717693816099582, \"count\": 1, \"min\": 0.023717693816099582, \"max\": 0.023717693816099582}}}\u001b[0m\n",
      "\u001b[34m#metrics {\"StartTime\": 1668077370.814093, \"EndTime\": 1668077370.8141108, \"Dimensions\": {\"Algorithm\": \"Linear Learner\", \"Host\": \"algo-1\", \"Operation\": \"training\", \"epoch\": 8, \"model\": 13}, \"Metrics\": {\"validation_binary_classification_cross_entropy_objective\": {\"sum\": 0.023706968098042326, \"count\": 1, \"min\": 0.023706968098042326, \"max\": 0.023706968098042326}}}\u001b[0m\n",
      "\u001b[34m#metrics {\"StartTime\": 1668077370.81418, \"EndTime\": 1668077370.8141987, \"Dimensions\": {\"Algorithm\": \"Linear Learner\", \"Host\": \"algo-1\", \"Operation\": \"training\", \"epoch\": 8, \"model\": 14}, \"Metrics\": {\"validation_binary_classification_cross_entropy_objective\": {\"sum\": 0.023719884050193513, \"count\": 1, \"min\": 0.023719884050193513, \"max\": 0.023719884050193513}}}\u001b[0m\n",
      "\u001b[34m#metrics {\"StartTime\": 1668077370.8142548, \"EndTime\": 1668077370.8142776, \"Dimensions\": {\"Algorithm\": \"Linear Learner\", \"Host\": \"algo-1\", \"Operation\": \"training\", \"epoch\": 8, \"model\": 15}, \"Metrics\": {\"validation_binary_classification_cross_entropy_objective\": {\"sum\": 0.023707010394421562, \"count\": 1, \"min\": 0.023707010394421562, \"max\": 0.023707010394421562}}}\u001b[0m\n",
      "\u001b[34m#metrics {\"StartTime\": 1668077370.8143322, \"EndTime\": 1668077370.8143492, \"Dimensions\": {\"Algorithm\": \"Linear Learner\", \"Host\": \"algo-1\", \"Operation\": \"training\", \"epoch\": 8, \"model\": 16}, \"Metrics\": {\"validation_binary_classification_cross_entropy_objective\": {\"sum\": 0.3811942026071847, \"count\": 1, \"min\": 0.3811942026071847, \"max\": 0.3811942026071847}}}\u001b[0m\n",
      "\u001b[34m#metrics {\"StartTime\": 1668077370.8144176, \"EndTime\": 1668077370.8144355, \"Dimensions\": {\"Algorithm\": \"Linear Learner\", \"Host\": \"algo-1\", \"Operation\": \"training\", \"epoch\": 8, \"model\": 17}, \"Metrics\": {\"validation_binary_classification_cross_entropy_objective\": {\"sum\": 0.3816894531623169, \"count\": 1, \"min\": 0.3816894531623169, \"max\": 0.3816894531623169}}}\u001b[0m\n",
      "\u001b[34m#metrics {\"StartTime\": 1668077370.8144977, \"EndTime\": 1668077370.814516, \"Dimensions\": {\"Algorithm\": \"Linear Learner\", \"Host\": \"algo-1\", \"Operation\": \"training\", \"epoch\": 8, \"model\": 18}, \"Metrics\": {\"validation_binary_classification_cross_entropy_objective\": {\"sum\": 0.38112358754843795, \"count\": 1, \"min\": 0.38112358754843795, \"max\": 0.38112358754843795}}}\u001b[0m\n",
      "\u001b[34m#metrics {\"StartTime\": 1668077370.8145676, \"EndTime\": 1668077370.814584, \"Dimensions\": {\"Algorithm\": \"Linear Learner\", \"Host\": \"algo-1\", \"Operation\": \"training\", \"epoch\": 8, \"model\": 19}, \"Metrics\": {\"validation_binary_classification_cross_entropy_objective\": {\"sum\": 0.38168942974595915, \"count\": 1, \"min\": 0.38168942974595915, \"max\": 0.38168942974595915}}}\u001b[0m\n",
      "\u001b[34m#metrics {\"StartTime\": 1668077370.81464, \"EndTime\": 1668077370.8146577, \"Dimensions\": {\"Algorithm\": \"Linear Learner\", \"Host\": \"algo-1\", \"Operation\": \"training\", \"epoch\": 8, \"model\": 20}, \"Metrics\": {\"validation_binary_classification_cross_entropy_objective\": {\"sum\": 0.3811942695910287, \"count\": 1, \"min\": 0.3811942695910287, \"max\": 0.3811942695910287}}}\u001b[0m\n",
      "\u001b[34m#metrics {\"StartTime\": 1668077370.814712, \"EndTime\": 1668077370.81473, \"Dimensions\": {\"Algorithm\": \"Linear Learner\", \"Host\": \"algo-1\", \"Operation\": \"training\", \"epoch\": 8, \"model\": 21}, \"Metrics\": {\"validation_binary_classification_cross_entropy_objective\": {\"sum\": 0.3794513512752733, \"count\": 1, \"min\": 0.3794513512752733, \"max\": 0.3794513512752733}}}\u001b[0m\n",
      "\u001b[34m#metrics {\"StartTime\": 1668077370.8147879, \"EndTime\": 1668077370.8148048, \"Dimensions\": {\"Algorithm\": \"Linear Learner\", \"Host\": \"algo-1\", \"Operation\": \"training\", \"epoch\": 8, \"model\": 22}, \"Metrics\": {\"validation_binary_classification_cross_entropy_objective\": {\"sum\": 0.38112356525158736, \"count\": 1, \"min\": 0.38112356525158736, \"max\": 0.38112356525158736}}}\u001b[0m\n",
      "\u001b[34m#metrics {\"StartTime\": 1668077370.8148618, \"EndTime\": 1668077370.8148787, \"Dimensions\": {\"Algorithm\": \"Linear Learner\", \"Host\": \"algo-1\", \"Operation\": \"training\", \"epoch\": 8, \"model\": 23}, \"Metrics\": {\"validation_binary_classification_cross_entropy_objective\": {\"sum\": 0.37945135015576614, \"count\": 1, \"min\": 0.37945135015576614, \"max\": 0.37945135015576614}}}\u001b[0m\n",
      "\u001b[34m#metrics {\"StartTime\": 1668077370.814932, \"EndTime\": 1668077370.8149493, \"Dimensions\": {\"Algorithm\": \"Linear Learner\", \"Host\": \"algo-1\", \"Operation\": \"training\", \"epoch\": 8, \"model\": 24}, \"Metrics\": {\"validation_binary_classification_cross_entropy_objective\": {\"sum\": 0.5114645112339885, \"count\": 1, \"min\": 0.5114645112339885, \"max\": 0.5114645112339885}}}\u001b[0m\n",
      "\u001b[34m#metrics {\"StartTime\": 1668077370.8149908, \"EndTime\": 1668077370.8150067, \"Dimensions\": {\"Algorithm\": \"Linear Learner\", \"Host\": \"algo-1\", \"Operation\": \"training\", \"epoch\": 8, \"model\": 25}, \"Metrics\": {\"validation_binary_classification_cross_entropy_objective\": {\"sum\": 0.5112145710022358, \"count\": 1, \"min\": 0.5112145710022358, \"max\": 0.5112145710022358}}}\u001b[0m\n",
      "\u001b[34m#metrics {\"StartTime\": 1668077370.8150654, \"EndTime\": 1668077370.8150835, \"Dimensions\": {\"Algorithm\": \"Linear Learner\", \"Host\": \"algo-1\", \"Operation\": \"training\", \"epoch\": 8, \"model\": 26}, \"Metrics\": {\"validation_binary_classification_cross_entropy_objective\": {\"sum\": 0.5114980098730499, \"count\": 1, \"min\": 0.5114980098730499, \"max\": 0.5114980098730499}}}\u001b[0m\n",
      "\u001b[34m#metrics {\"StartTime\": 1668077370.8151388, \"EndTime\": 1668077370.8151553, \"Dimensions\": {\"Algorithm\": \"Linear Learner\", \"Host\": \"algo-1\", \"Operation\": \"training\", \"epoch\": 8, \"model\": 27}, \"Metrics\": {\"validation_binary_classification_cross_entropy_objective\": {\"sum\": 0.5112145749205108, \"count\": 1, \"min\": 0.5112145749205108, \"max\": 0.5112145749205108}}}\u001b[0m\n",
      "\u001b[34m#metrics {\"StartTime\": 1668077370.8152075, \"EndTime\": 1668077370.8152246, \"Dimensions\": {\"Algorithm\": \"Linear Learner\", \"Host\": \"algo-1\", \"Operation\": \"training\", \"epoch\": 8, \"model\": 28}, \"Metrics\": {\"validation_binary_classification_cross_entropy_objective\": {\"sum\": 0.5114644800743731, \"count\": 1, \"min\": 0.5114644800743731, \"max\": 0.5114644800743731}}}\u001b[0m\n",
      "\u001b[34m#metrics {\"StartTime\": 1668077370.81531, \"EndTime\": 1668077370.8153288, \"Dimensions\": {\"Algorithm\": \"Linear Learner\", \"Host\": \"algo-1\", \"Operation\": \"training\", \"epoch\": 8, \"model\": 29}, \"Metrics\": {\"validation_binary_classification_cross_entropy_objective\": {\"sum\": 0.5124262988518884, \"count\": 1, \"min\": 0.5124262988518884, \"max\": 0.5124262988518884}}}\u001b[0m\n",
      "\u001b[34m#metrics {\"StartTime\": 1668077370.815371, \"EndTime\": 1668077370.8153808, \"Dimensions\": {\"Algorithm\": \"Linear Learner\", \"Host\": \"algo-1\", \"Operation\": \"training\", \"epoch\": 8, \"model\": 30}, \"Metrics\": {\"validation_binary_classification_cross_entropy_objective\": {\"sum\": 0.5114981011128821, \"count\": 1, \"min\": 0.5114981011128821, \"max\": 0.5114981011128821}}}\u001b[0m\n",
      "\u001b[34m#metrics {\"StartTime\": 1668077370.8154132, \"EndTime\": 1668077370.815421, \"Dimensions\": {\"Algorithm\": \"Linear Learner\", \"Host\": \"algo-1\", \"Operation\": \"training\", \"epoch\": 8, \"model\": 31}, \"Metrics\": {\"validation_binary_classification_cross_entropy_objective\": {\"sum\": 0.5124262926945992, \"count\": 1, \"min\": 0.5124262926945992, \"max\": 0.5124262926945992}}}\u001b[0m\n",
      "\u001b[34m[11/10/2022 10:49:30 INFO 140517880678208] #quality_metric: host=algo-1, epoch=8, validation binary_classification_cross_entropy_objective <loss>=0.019868789893114594\u001b[0m\n",
      "\u001b[34m[11/10/2022 10:49:30 INFO 140517880678208] #early_stopping_criteria_metric: host=algo-1, epoch=8, criteria=binary_classification_cross_entropy_objective, value=0.0004946424971235621\u001b[0m\n",
      "\u001b[34m[11/10/2022 10:49:30 INFO 140517880678208] Saving model for epoch: 8\u001b[0m\n",
      "\u001b[34m[11/10/2022 10:49:30 INFO 140517880678208] Saved checkpoint to \"/tmp/tmp3d0eyt72/mx-mod-0000.params\"\u001b[0m\n",
      "\u001b[34m[11/10/2022 10:49:30 INFO 140517880678208] Early stop condition met. Stopping training.\u001b[0m\n",
      "\u001b[34m[11/10/2022 10:49:30 INFO 140517880678208] #progress_metric: host=algo-1, completed 100 % epochs\u001b[0m\n",
      "\u001b[34m#metrics {\"StartTime\": 1668077322.190616, \"EndTime\": 1668077370.8215673, \"Dimensions\": {\"Algorithm\": \"Linear Learner\", \"Host\": \"algo-1\", \"Operation\": \"training\", \"epoch\": 8, \"Meta\": \"training_data_iter\"}, \"Metrics\": {\"Total Records Seen\": {\"sum\": 11788248.0, \"count\": 1, \"min\": 11788248, \"max\": 11788248}, \"Total Batches Seen\": {\"sum\": 11793.0, \"count\": 1, \"min\": 11793, \"max\": 11793}, \"Max Records Seen Between Resets\": {\"sum\": 1308472.0, \"count\": 1, \"min\": 1308472, \"max\": 1308472}, \"Max Batches Seen Between Resets\": {\"sum\": 1309.0, \"count\": 1, \"min\": 1309, \"max\": 1309}, \"Reset Count\": {\"sum\": 11.0, \"count\": 1, \"min\": 11, \"max\": 11}, \"Number of Records Since Last Reset\": {\"sum\": 1308472.0, \"count\": 1, \"min\": 1308472, \"max\": 1308472}, \"Number of Batches Since Last Reset\": {\"sum\": 1309.0, \"count\": 1, \"min\": 1309, \"max\": 1309}}}\u001b[0m\n",
      "\u001b[34m[11/10/2022 10:49:30 INFO 140517880678208] #throughput_metric: host=algo-1, train throughput=26906.076520078317 records/second\u001b[0m\n",
      "\u001b[34m[11/10/2022 10:49:30 WARNING 140517880678208] wait_for_all_workers will not sync workers since the kv store is not running distributed\u001b[0m\n",
      "\u001b[34m[11/10/2022 10:49:30 WARNING 140517880678208] wait_for_all_workers will not sync workers since the kv store is not running distributed\u001b[0m\n",
      "\u001b[34m[2022-11-10 10:49:34.943] [tensorio] [info] epoch_stats={\"data_pipeline\": \"/opt/ml/input/data/validation\", \"epoch\": 29, \"duration\": 4102, \"num_examples\": 164, \"num_bytes\": 69349016}\u001b[0m\n",
      "\u001b[34m[11/10/2022 10:49:34 INFO 140517880678208] #early_stopping_criteria_metric: host=algo-1, epoch=8, criteria=binary_classification_cross_entropy_objective, value=0.0004946424971235621\u001b[0m\n",
      "\u001b[34m[2022-11-10 10:49:35.590] [tensorio] [info] epoch_stats={\"data_pipeline\": \"/opt/ml/input/data/validation\", \"epoch\": 31, \"duration\": 636, \"num_examples\": 164, \"num_bytes\": 69349016}\u001b[0m\n",
      "\u001b[34m[11/10/2022 10:49:35 INFO 140517880678208] #validation_score (algo-1) : ('binary_classification_cross_entropy_objective', 0.0004913539627486544)\u001b[0m\n",
      "\u001b[34m[11/10/2022 10:49:35 INFO 140517880678208] #validation_score (algo-1) : ('binary_classification_accuracy', 1.0)\u001b[0m\n",
      "\u001b[34m[11/10/2022 10:49:35 INFO 140517880678208] #validation_score (algo-1) : ('binary_f_1.000', 1.0)\u001b[0m\n",
      "\u001b[34m[11/10/2022 10:49:35 INFO 140517880678208] #validation_score (algo-1) : ('precision', 1.0)\u001b[0m\n",
      "\u001b[34m[11/10/2022 10:49:35 INFO 140517880678208] #validation_score (algo-1) : ('recall', 1.0)\u001b[0m\n",
      "\u001b[34m[11/10/2022 10:49:35 INFO 140517880678208] #validation_score (algo-1) : ('roc_auc_score', 1.0)\u001b[0m\n",
      "\u001b[34m[11/10/2022 10:49:35 INFO 140517880678208] #validation_score (algo-1) : ('binary_balanced_accuracy', 0.5)\u001b[0m\n",
      "\u001b[34m[11/10/2022 10:49:35 INFO 140517880678208] #validation_score (algo-1) : ('binary_log_loss', 0.6137815553773311)\u001b[0m\n",
      "\u001b[34m[11/10/2022 10:49:35 INFO 140517880678208] #quality_metric: host=algo-1, validation binary_classification_cross_entropy_objective <loss>=0.0004913539627486544\u001b[0m\n",
      "\u001b[34m[11/10/2022 10:49:35 INFO 140517880678208] #quality_metric: host=algo-1, validation binary_classification_accuracy <score>=1.0\u001b[0m\n",
      "\u001b[34m[11/10/2022 10:49:35 INFO 140517880678208] #quality_metric: host=algo-1, validation binary_f_1.000 <score>=1.0\u001b[0m\n",
      "\u001b[34m[11/10/2022 10:49:35 INFO 140517880678208] #quality_metric: host=algo-1, validation precision <score>=1.0\u001b[0m\n",
      "\u001b[34m[11/10/2022 10:49:35 INFO 140517880678208] #quality_metric: host=algo-1, validation recall <score>=1.0\u001b[0m\n",
      "\u001b[34m[11/10/2022 10:49:35 INFO 140517880678208] #quality_metric: host=algo-1, validation roc_auc_score <score>=1.0\u001b[0m\n",
      "\u001b[34m[11/10/2022 10:49:35 INFO 140517880678208] #quality_metric: host=algo-1, validation binary_balanced_accuracy <score>=0.5\u001b[0m\n",
      "\u001b[34m[11/10/2022 10:49:35 INFO 140517880678208] #quality_metric: host=algo-1, validation binary_log_loss <score>=0.6137815553773311\u001b[0m\n",
      "\u001b[34m[11/10/2022 10:49:35 INFO 140517880678208] Best model found for hyperparameters: {\"optimizer\": \"adam\", \"learning_rate\": 0.1, \"wd\": 0.0001, \"l1\": 0.0, \"lr_scheduler_step\": 100, \"lr_scheduler_factor\": 0.99, \"lr_scheduler_minimum_lr\": 1e-05}\u001b[0m\n",
      "\u001b[34m[11/10/2022 10:49:35 INFO 140517880678208] Saved checkpoint to \"/tmp/tmptefst9t2/mx-mod-0000.params\"\u001b[0m\n",
      "\u001b[34m[2022-11-10 10:49:35.839] [tensorio] [info] epoch_stats={\"data_pipeline\": \"/opt/ml/input/data/test\", \"epoch\": 0, \"duration\": 452055, \"num_examples\": 1, \"num_bytes\": 424000}\u001b[0m\n",
      "\u001b[34m[2022-11-10 10:49:36.492] [tensorio] [info] epoch_stats={\"data_pipeline\": \"/opt/ml/input/data/test\", \"epoch\": 1, \"duration\": 652, \"num_examples\": 164, \"num_bytes\": 69349016}\u001b[0m\n",
      "\u001b[34m#metrics {\"StartTime\": 1668077375.8364377, \"EndTime\": 1668077376.7326713, \"Dimensions\": {\"Algorithm\": \"Linear Learner\", \"Host\": \"algo-1\", \"Operation\": \"training\", \"Meta\": \"test_data_iter\"}, \"Metrics\": {\"Total Records Seen\": {\"sum\": 163559.0, \"count\": 1, \"min\": 163559, \"max\": 163559}, \"Total Batches Seen\": {\"sum\": 164.0, \"count\": 1, \"min\": 164, \"max\": 164}, \"Max Records Seen Between Resets\": {\"sum\": 163559.0, \"count\": 1, \"min\": 163559, \"max\": 163559}, \"Max Batches Seen Between Resets\": {\"sum\": 164.0, \"count\": 1, \"min\": 164, \"max\": 164}, \"Reset Count\": {\"sum\": 1.0, \"count\": 1, \"min\": 1, \"max\": 1}, \"Number of Records Since Last Reset\": {\"sum\": 163559.0, \"count\": 1, \"min\": 163559, \"max\": 163559}, \"Number of Batches Since Last Reset\": {\"sum\": 164.0, \"count\": 1, \"min\": 164, \"max\": 164}}}\u001b[0m\n",
      "\u001b[34m[11/10/2022 10:49:36 INFO 140517880678208] #test_score (algo-1) : ('binary_classification_cross_entropy_objective', 0.000491254809655507)\u001b[0m\n",
      "\u001b[34m[11/10/2022 10:49:36 INFO 140517880678208] #test_score (algo-1) : ('binary_classification_accuracy', 1.0)\u001b[0m\n",
      "\u001b[34m[11/10/2022 10:49:36 INFO 140517880678208] #test_score (algo-1) : ('binary_f_1.000', 1.0)\u001b[0m\n",
      "\u001b[34m[11/10/2022 10:49:36 INFO 140517880678208] #test_score (algo-1) : ('precision', 1.0)\u001b[0m\n",
      "\u001b[34m[11/10/2022 10:49:36 INFO 140517880678208] #test_score (algo-1) : ('recall', 1.0)\u001b[0m\n",
      "\u001b[34m[11/10/2022 10:49:36 INFO 140517880678208] #test_score (algo-1) : ('roc_auc_score', 1.0)\u001b[0m\n",
      "\u001b[34m[11/10/2022 10:49:36 INFO 140517880678208] #test_score (algo-1) : ('binary_balanced_accuracy', 0.5)\u001b[0m\n",
      "\u001b[34m[11/10/2022 10:49:36 INFO 140517880678208] #test_score (algo-1) : ('binary_log_loss', 0.6138814481812647)\u001b[0m\n",
      "\u001b[34m[11/10/2022 10:49:36 INFO 140517880678208] #quality_metric: host=algo-1, test binary_classification_cross_entropy_objective <loss>=0.000491254809655507\u001b[0m\n",
      "\u001b[34m[11/10/2022 10:49:36 INFO 140517880678208] #quality_metric: host=algo-1, test binary_classification_accuracy <score>=1.0\u001b[0m\n",
      "\u001b[34m[11/10/2022 10:49:36 INFO 140517880678208] #quality_metric: host=algo-1, test binary_f_1.000 <score>=1.0\u001b[0m\n",
      "\u001b[34m[11/10/2022 10:49:36 INFO 140517880678208] #quality_metric: host=algo-1, test precision <score>=1.0\u001b[0m\n",
      "\u001b[34m[11/10/2022 10:49:36 INFO 140517880678208] #quality_metric: host=algo-1, test recall <score>=1.0\u001b[0m\n",
      "\u001b[34m[11/10/2022 10:49:36 INFO 140517880678208] #quality_metric: host=algo-1, test roc_auc_score <score>=1.0\u001b[0m\n",
      "\u001b[34m[11/10/2022 10:49:36 INFO 140517880678208] #quality_metric: host=algo-1, test binary_balanced_accuracy <score>=0.5\u001b[0m\n",
      "\u001b[34m[11/10/2022 10:49:36 INFO 140517880678208] #quality_metric: host=algo-1, test binary_log_loss <score>=0.6138814481812647\u001b[0m\n",
      "\u001b[34m#metrics {\"StartTime\": 1668076923.764528, \"EndTime\": 1668077376.7401438, \"Dimensions\": {\"Algorithm\": \"Linear Learner\", \"Host\": \"algo-1\", \"Operation\": \"training\"}, \"Metrics\": {\"initialize.time\": {\"sum\": 289.2637252807617, \"count\": 1, \"min\": 289.2637252807617, \"max\": 289.2637252807617}, \"epochs\": {\"sum\": 15.0, \"count\": 1, \"min\": 15, \"max\": 15}, \"check_early_stopping.time\": {\"sum\": 4.675388336181641, \"count\": 10, \"min\": 0.22411346435546875, \"max\": 1.0216236114501953}, \"update.time\": {\"sum\": 446686.01298332214, \"count\": 9, \"min\": 48346.46534919739, \"max\": 51076.789140701294}, \"finalize.time\": {\"sum\": 5011.659383773804, \"count\": 1, \"min\": 5011.659383773804, \"max\": 5011.659383773804}, \"setuptime\": {\"sum\": 2.9349327087402344, \"count\": 1, \"min\": 2.9349327087402344, \"max\": 2.9349327087402344}, \"totaltime\": {\"sum\": 453129.257440567, \"count\": 1, \"min\": 453129.257440567, \"max\": 453129.257440567}}}\u001b[0m\n",
      "\n",
      "2022-11-10 10:49:56 Uploading - Uploading generated training model\n",
      "2022-11-10 10:49:56 Completed - Training job completed\n",
      "Training seconds: 564\n",
      "Billable seconds: 564\n"
     ]
    }
   ],
   "source": [
    "### Fit the classifier\n",
    "# Enter your code here\n",
    "\n",
    "classifier_estimator.fit([train_records, val_records, test_records])"
   ]
  },
  {
   "cell_type": "markdown",
   "metadata": {},
   "source": [
    "## Model evaluation\n",
    "In this section, you'll evaluate your trained model. First, use the `estimator.deploy` function with `initial_instance_count= 1` and `instance_type= 'ml.m4.xlarge'` to deploy your model on Amazon SageMaker."
   ]
  },
  {
   "cell_type": "code",
   "execution_count": 85,
   "metadata": {},
   "outputs": [
    {
     "name": "stdout",
     "output_type": "stream",
     "text": [
      "--------!"
     ]
    }
   ],
   "source": [
    "### Deloy an endpoint for batch prediction\n",
    "classifier_predictor = classifier_estimator.deploy(initial_instance_count=1, \n",
    "                                                   instance_type='ml.m4.xlarge') # Enter your code here"
   ]
  },
  {
   "cell_type": "markdown",
   "metadata": {},
   "source": [
    "Once your endpoint is 'InService', evaluate how your model performs on the test set. Use the `predict_batches` function to predict the metrics on your test set."
   ]
  },
  {
   "cell_type": "code",
   "execution_count": 86,
   "metadata": {},
   "outputs": [],
   "source": [
    "from sklearn.metrics import roc_auc_score\n",
    "from sklearn.metrics import precision_recall_fscore_support\n",
    "\n",
    "def predict_batches(predictor, features, labels):\n",
    "    \"\"\"\n",
    "    Return evaluation results\n",
    "    predictor : Predictor object of model\n",
    "    features: Input features to model\n",
    "    label: Ground truth target values\n",
    "    \"\"\"\n",
    "    prediction_batches = [predictor.predict(batch) for batch in np.array_split(features, 100)]\n",
    "\n",
    "    # Parse protobuf responses to extract predicted labels\n",
    "    extract_label = lambda x: x.label['predicted_label'].float32_tensor.values\n",
    "    preds = np.concatenate([np.array([extract_label(x) for x in batch]) for batch in prediction_batches])\n",
    "    preds = preds.reshape((-1,))\n",
    "\n",
    "    # Calculate accuracy\n",
    "    accuracy = (preds == labels).sum() / labels.shape[0]\n",
    "    print(f'Accuracy: {accuracy}')\n",
    "    \n",
    "    auc = roc_auc_score(labels, preds)\n",
    "    print(f'AUC     : {auc}')\n",
    "    \n",
    "    precision, recall, f1_score, _ = precision_recall_fscore_support(labels, preds, average = 'binary')\n",
    "    print(f'Precision: {precision}')\n",
    "    print(f'Recall: {recall}')\n",
    "    print(f'F1_score: {f1_score}')\n",
    "    \n",
    "    confusion_matrix = pd.crosstab(index=labels, columns=np.round(preds), rownames=['True'], colnames=['predictions']).astype(int)\n",
    "    plt.figure(figsize = (5,5))\n",
    "    sns.heatmap(confusion_matrix, annot=True, fmt='.2f', cmap=\"YlGnBu\").set_title('Confusion Matrix') "
   ]
  },
  {
   "cell_type": "markdown",
   "metadata": {},
   "source": [
    "To view the confusion matrix, run the `predict_batches` function on your test dataset."
   ]
  },
  {
   "cell_type": "code",
   "execution_count": 87,
   "metadata": {},
   "outputs": [
    {
     "name": "stdout",
     "output_type": "stream",
     "text": [
      "Accuracy: 1.0\n",
      "AUC     : 1.0\n",
      "Precision: 1.0\n",
      "Recall: 1.0\n",
      "F1_score: 1.0\n"
     ]
    },
    {
     "data": {
      "image/png": "[encoded data removed]",
      "text/plain": [
       "<Figure size 360x360 with 2 Axes>"
      ]
     },
     "metadata": {
      "needs_background": "light"
     },
     "output_type": "display_data"
    }
   ],
   "source": [
    "# Enter your code here\n",
    "predict_batches(classifier_predictor, test_features, test_labels)"
   ]
  },
  {
   "cell_type": "markdown",
   "metadata": {},
   "source": [
    "### Key questions to consider:\n",
    "1. How does your model's performance on the test set compare to the training set? What can you deduce from this comparison? \n",
    "\n",
    "2. Are there obvious differences between the outcomes of metrics like accuracy, precision, and recall? If so, why might you be seeing those differences? \n",
    "\n",
    "3. Given your business situation and goals, which metric(s) is most important for you to consider here? Why?\n",
    "\n",
    "4. Is the outcome for the metric(s) you consider most important sufficient for what you need from a business standpoint? If not, what are some things you might change in your next iteration (in the feature engineering section, which is coming up next)? \n",
    "\n",
    "Use the cells below to answer these and other questions. Insert and delete cells where needed.\n",
    "\n",
    "#### <span style=\"color: blue;\">Project presentation: Record answers to these and other similar questions you might answer in this section in your project presentations. Record key details and decisions you've made in your project presentations.</span>"
   ]
  },
  {
   "cell_type": "markdown",
   "metadata": {},
   "source": [
    "\n",
    "**Question**: What can you summarize from the confusion matrix?\n"
   ]
  },
  {
   "cell_type": "markdown",
   "metadata": {},
   "source": [
    "#### Case of class imbalance\n",
    "- When dealing with imbalanced classes, it is important to weigh in between which metric you can optimize to solve a given problem at hand.  \n",
    "- You can choose precision or recall, depending on whether only correct positive predictions matter or all positive predictions are of most importance.  \n",
    "- You can also balance between precision and recall with custom weights with F1-beta score.  \n",
    "\n",
    "- AUC measures the area under the TPR vs. FPR curve. It is the power of the model to discriminate between a positive and negative prediction.  \n",
    "- An AUC of 0.5 means the model predictions are as good as random prediction.  \n",
    "- Note that AUC is independent of threshold online precision or recall, making it easier to compare models.  \n",
    "\n",
    "For the classifier above, we see that:\n",
    "- Accuracy ~ 80% and AUC ~0.5, meaning the model does not have enough predictive power and is as good as a random choice.  \n",
    "- High false negatives resulted in a low recall value.  \n",
    "    \n",
    "To improve classifier performance, you can:\n",
    "- Add more features  \n",
    "- Optimize for a different metric/loss  \n",
    "- Try non-linear models  \n",
    "- Do ensemble modeling  \n",
    "\n",
    "For more information about customizing linear learner, see [Train Faster, More Flexible Models with Amazon SageMaker Linear Learner](https://aws.amazon.com/blogs/machine-learning/train-faster-more-flexible-models-with-amazon-sagemaker-linear-learner/)."
   ]
  },
  {
   "cell_type": "markdown",
   "metadata": {},
   "source": [
    "## <span style=\"color:red\"> End of Lab 3 </span>\n",
    "\n",
    "Save the project file to your local computer. Follow these steps:\n",
    "\n",
    "1. At the top of the page, click the **File** menu. \n",
    "\n",
    "1. Select **Download as**, and click **Notebook(.ipynb)**.  \n",
    "\n",
    "This downloads the current notebook to the default download folder on your computer."
   ]
  },
  {
   "cell_type": "markdown",
   "metadata": {},
   "source": [
    "# Iteration II"
   ]
  },
  {
   "cell_type": "markdown",
   "metadata": {},
   "source": [
    "# Step 4: Feature engineering\n",
    "\n",
    "You've now gone through one iteration of training and evaluating your model. Given that the outcome you reached for your model the first time probably wasn't sufficient for solving your business problem, what are some things you could change about your data to possibly improve model performance?\n",
    "\n",
    "### Key questions to consider:\n",
    "1. How might the balance of your two main classes (delay and no delay) impact model performance?\n",
    "2. Do you have any features that are correlated?\n",
    "3. Are there feature reduction techniques you could perform at this stage that might have a positive impact on model performance? \n",
    "4. Can you think of adding some more data/datasets?\n",
    "4. After performing some feature engineering, how does your model performance compare to the first iteration?\n",
    "\n",
    "Use the cells below to perform specific feature engineering techniques (per the questions above) that you think could improve your model performance. Insert and delete cells where needed.\n",
    "\n",
    "#### <span style=\"color: blue;\">Project presentation: Record key decisions and methods you use in this section in your project presentations, as well as any new performance metrics you obtain after evaluating your model again.</span>\n",
    "\n",
    "Before you start, think about why the precision and recall are around 80% while the accuracy is 99%."
   ]
  },
  {
   "cell_type": "markdown",
   "metadata": {},
   "source": [
    "#### Add more features\n",
    "\n",
    "1. Holidays\n",
    "2. Weather"
   ]
  },
  {
   "cell_type": "markdown",
   "metadata": {},
   "source": [
    "Because the list of holidays from 2014 to 2018 is known, you can create an indicator variable **is_holiday** to mark these.\n",
    "The hypothesis is that airplane delays could be higher during holidays compared to the rest of the days. Add a boolean variable `is_holiday` that includes the holidays for the years 2014-2018."
   ]
  },
  {
   "cell_type": "code",
   "execution_count": null,
   "metadata": {},
   "outputs": [],
   "source": [
    "# Source: http://www.calendarpedia.com/holidays/federal-holidays-2014.html\n",
    "\n",
    "holidays_14 = ['2014-01-01',  '2014-01-20', '2014-02-17', '2014-05-26', '2014-07-04', '2014-09-01', '2014-10-13', '2014-11-11', '2014-11-27', '2014-12-25' ] \n",
    "holidays_15 = ['2015-01-01',  '2015-01-19', '2015-02-16', '2015-05-25', '2015-06-03', '2015-07-04', '2015-09-07', '2015-10-12', '2015-11-11', '2015-11-26', '2015-12-25'] \n",
    "holidays_16 = ['2016-01-01',  '2016-01-18', '2016-02-15', '2016-05-30', '2016-07-04', '2016-09-05', '2016-10-10', '2016-11-11', '2016-11-24', '2016-12-25', '2016-12-26']\n",
    "holidays_17 = ['2017-01-02', '2017-01-16', '2017-02-20', '2017-05-29' , '2017-07-04', '2017-09-04' ,'2017-10-09', '2017-11-10', '2017-11-23', '2017-12-25']\n",
    "holidays_18 = ['2018-01-01', '2018-01-15', '2018-02-19', '2018-05-28' , '2018-07-04', '2018-09-03' ,'2018-10-08', '2018-11-12','2018-11-22', '2018-12-25']\n",
    "# holidays_19 = ['2019-01-01', '2019-01-21', '2019-02-18', '2019-05-27' , '2019-07-04', '2019-09-02' ,'2019-10-14', '2019-11-11','2019-11-28', '2019-12-25']\n",
    "holidays = holidays_14+ holidays_15+ holidays_16 + holidays_17+ holidays_18\n",
    "\n",
    "### Add indicator variable for holidays\n",
    "data_orig['is_holiday'] = # Enter your code here "
   ]
  },
  {
   "cell_type": "markdown",
   "metadata": {},
   "source": [
    "Weather data was fetched from https://www.ncei.noaa.gov/access/services/data/v1?dataset=daily-summaries&stations=USW00023174,USW00012960,USW00003017,USW00094846,USW00013874,USW00023234,USW00003927,USW00023183,USW00013881&dataTypes=AWND,PRCP,SNOW,SNWD,TAVG,TMIN,TMAX&startDate=2014-01-01&endDate=2018-12-31.\n",
    "<br>\n",
    "\n",
    "This dataset has information on wind speed, precipitation, snow, and temperature for cities by their airport codes.\n",
    "\n",
    "**Question**: Could bad weather due to rains, heavy winds, or snow lead to airplane delay? Let's check!"
   ]
  },
  {
   "cell_type": "code",
   "execution_count": null,
   "metadata": {
    "scrolled": true
   },
   "outputs": [],
   "source": [
    "%%bash\n",
    "\n",
    "aws s3 cp s3://aws-tc-largeobjects/ILT-TF-200-MLDWTS/flight_delay_project/daily-summaries.csv /home/ec2-user/SageMaker/project/data/\n",
    "#wget 'https://www.ncei.noaa.gov/access/services/data/v1?dataset=daily-summaries&stations=USW00023174,USW00012960,USW00003017,USW00094846,USW00013874,USW00023234,USW00003927,USW00023183,USW00013881&dataTypes=AWND,PRCP,SNOW,SNWD,TAVG,TMIN,TMAX&startDate=2014-01-01&endDate=2018-12-31' -O /home/ec2-user/SageMaker/project/data/daily-summaries.csv"
   ]
  },
  {
   "cell_type": "markdown",
   "metadata": {},
   "source": [
    "Import weather data prepared for the airport codes in our dataset. Use the stations and airports below for the analysis, and create a new column called `airport` that maps the weather station to the airport name."
   ]
  },
  {
   "cell_type": "code",
   "execution_count": null,
   "metadata": {},
   "outputs": [],
   "source": [
    "weather = pd.read_csv(<CODE>) # Enter your code here to read 'daily-summaries.csv' file\n",
    "station = ['USW00023174','USW00012960','USW00003017','USW00094846',\n",
    "           'USW00013874','USW00023234','USW00003927','USW00023183','USW00013881'] \n",
    "airports = ['LAX', 'IAH', 'DEN', 'ORD', 'ATL', 'SFO', 'DFW', 'PHX', 'CLT']\n",
    "\n",
    "### Map weather stations to airport code\n",
    "station_map = # Enter your code here \n",
    "weather['airport'] = # Enter your code here "
   ]
  },
  {
   "cell_type": "markdown",
   "metadata": {},
   "source": [
    "Create another column called `MONTH` from the `DATE` column."
   ]
  },
  {
   "cell_type": "code",
   "execution_count": null,
   "metadata": {
    "scrolled": true
   },
   "outputs": [],
   "source": [
    "weather['MONTH'] = weather[<CODE>].apply(lambda x: x.split('-')[1])# Enter your code here \n",
    "weather.head()"
   ]
  },
  {
   "cell_type": "markdown",
   "metadata": {},
   "source": [
    "### Sample output\n",
    "```\n",
    "  STATION     DATE      AWND PRCP SNOW SNWD TAVG TMAX  TMIN airport MONTH\n",
    "0 USW00023174 2014-01-01 16   0   NaN  NaN 131.0 178.0 78.0  LAX    01\n",
    "1 USW00023174 2014-01-02 22   0   NaN  NaN 159.0 256.0 100.0 LAX    01\n",
    "2 USW00023174 2014-01-03 17   0   NaN  NaN 140.0 178.0 83.0  LAX    01\n",
    "3 USW00023174 2014-01-04 18   0   NaN  NaN 136.0 183.0 100.0 LAX    01\n",
    "4 USW00023174 2014-01-05 18   0   NaN  NaN 151.0 244.0 83.0  LAX    01\n",
    "```"
   ]
  },
  {
   "cell_type": "markdown",
   "metadata": {},
   "source": [
    "Analyze and handle the `SNOW` and `SNWD` columns for missing values using `fillna()`. Use the `isna()` function to check the missing values for all the columns."
   ]
  },
  {
   "cell_type": "code",
   "execution_count": null,
   "metadata": {
    "scrolled": true
   },
   "outputs": [],
   "source": [
    "weather.SNOW.fillna(<CODE>, inplace=True)# Enter your code here\n",
    "weather.SNWD.fillna(<CODE>, inplace=True)# Enter your code here\n",
    "weather.isna().sum()"
   ]
  },
  {
   "cell_type": "markdown",
   "metadata": {},
   "source": [
    "**Question**: Print the index of the rows that have missing values for TAVG, TMAX, TMIN.\n",
    "\n",
    "**Hint**: Use the `isna()` function to find the rows that are missing, and then use the list on the idx variable to get the index."
   ]
  },
  {
   "cell_type": "code",
   "execution_count": null,
   "metadata": {},
   "outputs": [],
   "source": [
    "idx = np.array([i for i in range(len(weather))])\n",
    "TAVG_idx = # Enter your code here \n",
    "TMAX_idx = # Enter your code here \n",
    "TMIN_idx = # Enter your code here \n",
    "TAVG_idx"
   ]
  },
  {
   "cell_type": "markdown",
   "metadata": {},
   "source": [
    "### Sample output\n",
    "\n",
    "```\n",
    "array([ 3956,  3957,  3958,  3959,  3960,  3961,  3962,  3963,  3964,\n",
    "        3965,  3966,  3967,  3968,  3969,  3970,  3971,  3972,  3973,\n",
    "        3974,  3975,  3976,  3977,  3978,  3979,  3980,  3981,  3982,\n",
    "        3983,  3984,  3985,  4017,  4018,  4019,  4020,  4021,  4022,\n",
    "        4023,  4024,  4025,  4026,  4027,  4028,  4029,  4030,  4031,\n",
    "        4032,  4033,  4034,  4035,  4036,  4037,  4038,  4039,  4040,\n",
    "        4041,  4042,  4043,  4044,  4045,  4046,  4047, 13420])\n",
    "```"
   ]
  },
  {
   "cell_type": "markdown",
   "metadata": {},
   "source": [
    "You can replace the missing TAVG, TMAX, and TMIN with the average value for a particular station/airport. Because the consecutive rows of TAVG_idx are missing, replacing with a previous value would not be possible. Instead, replace it with the mean. Use the `groupby` function to aggregate the variables with a mean value."
   ]
  },
  {
   "cell_type": "code",
   "execution_count": null,
   "metadata": {},
   "outputs": [],
   "source": [
    "weather_impute = weather.groupby([<CODE>]).agg({'TAVG':'mean','TMAX':'mean', 'TMIN':'mean' }).reset_index()# Enter your code here\n",
    "weather_impute.head(2)"
   ]
  },
  {
   "cell_type": "markdown",
   "metadata": {},
   "source": [
    "Merge the mean data with the weather data."
   ]
  },
  {
   "cell_type": "code",
   "execution_count": null,
   "metadata": {},
   "outputs": [],
   "source": [
    "### get the yesterday's data\n",
    "weather = pd.merge(weather, weather_impute,  how='left', left_on=['MONTH','STATION'], right_on = ['MONTH','STATION'])\\\n",
    ".rename(columns = {'TAVG_y':'TAVG_AVG',\n",
    "                   'TMAX_y':'TMAX_AVG', \n",
    "                   'TMIN_y':'TMIN_AVG',\n",
    "                   'TAVG_x':'TAVG',\n",
    "                   'TMAX_x':'TMAX', \n",
    "                   'TMIN_x':'TMIN'})"
   ]
  },
  {
   "cell_type": "markdown",
   "metadata": {},
   "source": [
    "Check for missing values again."
   ]
  },
  {
   "cell_type": "code",
   "execution_count": null,
   "metadata": {},
   "outputs": [],
   "source": [
    "weather.TAVG[TAVG_idx] = weather.TAVG_AVG[TAVG_idx]\n",
    "weather.TMAX[TMAX_idx] = weather.TMAX_AVG[TMAX_idx]\n",
    "weather.TMIN[TMIN_idx] = weather.TMIN_AVG[TMIN_idx]\n",
    "weather.isna().sum()"
   ]
  },
  {
   "cell_type": "markdown",
   "metadata": {},
   "source": [
    "Drop `STATION,MONTH,TAVG_AVG,TMAX_AVG,TMIN_AVG,TMAX,TMIN,SNWD` from the dataset"
   ]
  },
  {
   "cell_type": "code",
   "execution_count": null,
   "metadata": {},
   "outputs": [],
   "source": [
    "weather.drop(columns=['STATION','MONTH','TAVG_AVG', 'TMAX_AVG', 'TMIN_AVG', 'TMAX' ,'TMIN', 'SNWD'],inplace=True)"
   ]
  },
  {
   "cell_type": "markdown",
   "metadata": {},
   "source": [
    "Add the origin and destination weather conditions to the dataset."
   ]
  },
  {
   "cell_type": "code",
   "execution_count": null,
   "metadata": {},
   "outputs": [],
   "source": [
    "### Add origin weather conditions\n",
    "data_orig = pd.merge(data_orig, weather,  how='left', left_on=['FlightDate','Origin'], right_on = ['DATE','airport'])\\\n",
    ".rename(columns = {'AWND':'AWND_O','PRCP':'PRCP_O', 'TAVG':'TAVG_O', 'SNOW': 'SNOW_O'})\\\n",
    ".drop(columns=['DATE','airport'])\n",
    "\n",
    "### Add destination weather conditions\n",
    "data_orig = pd.merge(data_orig, weather,  how='left', left_on=['FlightDate','Dest'], right_on = ['DATE','airport'])\\\n",
    ".rename(columns = {'AWND':'AWND_D','PRCP':'PRCP_D', 'TAVG':'TAVG_D', 'SNOW': 'SNOW_D'})\\\n",
    ".drop(columns=['DATE','airport'])"
   ]
  },
  {
   "cell_type": "markdown",
   "metadata": {},
   "source": [
    "**Note**: It is always a good practice to check nulls/NAs after joins."
   ]
  },
  {
   "cell_type": "code",
   "execution_count": null,
   "metadata": {},
   "outputs": [],
   "source": [
    "sum(data.isna().any())"
   ]
  },
  {
   "cell_type": "code",
   "execution_count": null,
   "metadata": {},
   "outputs": [],
   "source": [
    "data_orig.columns"
   ]
  },
  {
   "cell_type": "markdown",
   "metadata": {},
   "source": [
    "Convert the categorical data into numerical data using one-hot encoding."
   ]
  },
  {
   "cell_type": "code",
   "execution_count": null,
   "metadata": {},
   "outputs": [],
   "source": [
    "data = data_orig.copy()\n",
    "data = data[['Year', 'Quarter', 'Month', 'DayofMonth', 'DayOfWeek', \n",
    "       'Reporting_Airline', 'Origin', 'Dest','Distance','DepHourofDay', 'is_delay', 'is_holiday', 'AWND_O', 'PRCP_O',\n",
    "       'TAVG_O', 'AWND_D', 'PRCP_D', 'TAVG_D', 'SNOW_O', 'SNOW_D']]\n",
    "\n",
    "\n",
    "categorical_columns  = ['Year', 'Quarter', 'Month', 'DayofMonth', 'DayOfWeek', \n",
    "       'Reporting_Airline', 'Origin', 'Dest', 'is_holiday','is_delay']\n",
    "for c in categorical_columns:\n",
    "    data[c] = data[c].astype('category')"
   ]
  },
  {
   "cell_type": "code",
   "execution_count": null,
   "metadata": {},
   "outputs": [],
   "source": [
    "data_dummies = # Enter your code here"
   ]
  },
  {
   "cell_type": "markdown",
   "metadata": {},
   "source": [
    "### Sample code\n",
    "\n",
    "```\n",
    "data_dummies = pd.get_dummies(data[['Year', 'Quarter', 'Month', 'DayofMonth', 'DayOfWeek', 'Reporting_Airline', 'Origin', 'Dest', 'is_holiday']], drop_first=True)\n",
    "data = pd.concat([data, data_dummies], axis = 1)\n",
    "categorical_columns.remove('is_delay')\n",
    "data.drop(categorical_columns,axis=1, inplace=True)\n",
    "```"
   ]
  },
  {
   "cell_type": "markdown",
   "metadata": {},
   "source": [
    "Check the new columns."
   ]
  },
  {
   "cell_type": "code",
   "execution_count": null,
   "metadata": {},
   "outputs": [],
   "source": [
    "data.columns"
   ]
  },
  {
   "cell_type": "markdown",
   "metadata": {},
   "source": [
    "### Sample output\n",
    "\n",
    "```\n",
    "Index(['Distance', 'DepHourofDay', 'is_delay', 'AWND_O', 'PRCP_O', 'TAVG_O',\n",
    "       'AWND_D', 'PRCP_D', 'TAVG_D', 'SNOW_O', 'SNOW_D', 'Year_2015',\n",
    "       'Year_2016', 'Year_2017', 'Year_2018', 'Quarter_2', 'Quarter_3',\n",
    "       'Quarter_4', 'Month_2', 'Month_3', 'Month_4', 'Month_5', 'Month_6',\n",
    "       'Month_7', 'Month_8', 'Month_9', 'Month_10', 'Month_11', 'Month_12',\n",
    "       'DayofMonth_2', 'DayofMonth_3', 'DayofMonth_4', 'DayofMonth_5',\n",
    "       'DayofMonth_6', 'DayofMonth_7', 'DayofMonth_8', 'DayofMonth_9',\n",
    "       'DayofMonth_10', 'DayofMonth_11', 'DayofMonth_12', 'DayofMonth_13',\n",
    "       'DayofMonth_14', 'DayofMonth_15', 'DayofMonth_16', 'DayofMonth_17',\n",
    "       'DayofMonth_18', 'DayofMonth_19', 'DayofMonth_20', 'DayofMonth_21',\n",
    "       'DayofMonth_22', 'DayofMonth_23', 'DayofMonth_24', 'DayofMonth_25',\n",
    "       'DayofMonth_26', 'DayofMonth_27', 'DayofMonth_28', 'DayofMonth_29',\n",
    "       'DayofMonth_30', 'DayofMonth_31', 'DayOfWeek_2', 'DayOfWeek_3',\n",
    "       'DayOfWeek_4', 'DayOfWeek_5', 'DayOfWeek_6', 'DayOfWeek_7',\n",
    "       'Reporting_Airline_DL', 'Reporting_Airline_OO', 'Reporting_Airline_UA',\n",
    "       'Reporting_Airline_WN', 'Origin_CLT', 'Origin_DEN', 'Origin_DFW',\n",
    "       'Origin_IAH', 'Origin_LAX', 'Origin_ORD', 'Origin_PHX', 'Origin_SFO',\n",
    "       'Dest_CLT', 'Dest_DEN', 'Dest_DFW', 'Dest_IAH', 'Dest_LAX', 'Dest_ORD',\n",
    "       'Dest_PHX', 'Dest_SFO', 'is_holiday_1'],\n",
    "      dtype='object')\n",
    "```"
   ]
  },
  {
   "cell_type": "markdown",
   "metadata": {},
   "source": [
    "Rename the `is_delay` column to `target` again. Use the same code as before."
   ]
  },
  {
   "cell_type": "code",
   "execution_count": null,
   "metadata": {},
   "outputs": [],
   "source": [
    "data.rename(columns = {<CODE>:<CODE>}, inplace=True )# Enter your code here"
   ]
  },
  {
   "cell_type": "markdown",
   "metadata": {},
   "source": [
    "Create the training sets again."
   ]
  },
  {
   "cell_type": "code",
   "execution_count": null,
   "metadata": {},
   "outputs": [],
   "source": [
    "# Enter your code here"
   ]
  },
  {
   "cell_type": "markdown",
   "metadata": {},
   "source": [
    "### New baseline classifier\n",
    "\n",
    "Now, see if these new features add any predictive power to the model."
   ]
  },
  {
   "cell_type": "code",
   "execution_count": null,
   "metadata": {},
   "outputs": [],
   "source": [
    "# Instantiate the LinearLearner estimator object\n",
    "num_classes = # Enter your code here\n",
    "classifier_estimator = # Enter your code here"
   ]
  },
  {
   "cell_type": "markdown",
   "metadata": {},
   "source": [
    "### Sample code\n",
    "\n",
    "```\n",
    "num_classes = len(pd.unique(train_labels)) \n",
    "classifier_estimator = sagemaker.LinearLearner(role=sagemaker.get_execution_role(),\n",
    "                                               instance_count=1,\n",
    "                                               instance_type='ml.m4.xlarge',\n",
    "                                               predictor_type='binary_classifier',\n",
    "                                              binary_classifier_model_selection_criteria = 'cross_entropy_loss')\n",
    "```"
   ]
  },
  {
   "cell_type": "code",
   "execution_count": null,
   "metadata": {},
   "outputs": [],
   "source": [
    "train_records = classifier_estimator.record_set(train_features, train_labels, channel='train')\n",
    "val_records = classifier_estimator.record_set(val_features, val_labels, channel='validation')\n",
    "test_records = classifier_estimator.record_set(test_features, test_labels, channel='test')\n",
    "\n",
    "classifier_estimator.fit([train_records, val_records, test_records])"
   ]
  },
  {
   "cell_type": "code",
   "execution_count": null,
   "metadata": {},
   "outputs": [],
   "source": [
    "classifier_predictor = # Enter your code here"
   ]
  },
  {
   "cell_type": "code",
   "execution_count": null,
   "metadata": {},
   "outputs": [],
   "source": [
    "predict_batches(classifier_predictor, test_features, test_labels)"
   ]
  },
  {
   "cell_type": "markdown",
   "metadata": {},
   "source": [
    "The linear model shows only a little improvement in performance. Try a tree-based ensemble model called XGBoost with Amazon SageMaker."
   ]
  },
  {
   "cell_type": "markdown",
   "metadata": {},
   "source": [
    "### Try the XGBoost model"
   ]
  },
  {
   "cell_type": "markdown",
   "metadata": {},
   "source": [
    "Here are the steps you need to take:  \n",
    "\n",
    "1. Use the training set variables and save them as CSV files: train.csv, validation.csv and test.csv  \n",
    "2. Store the bucket name in the variable. The Amazon S3 bucket name is provided to the left of the lab instructions.  \n",
    "a. `bucket = <LabBucketName>`  \n",
    "b. `prefix = 'sagemaker/xgboost'`  \n",
    "3. Use Boto3 to upload the model to the bucket.    "
   ]
  },
  {
   "cell_type": "code",
   "execution_count": null,
   "metadata": {},
   "outputs": [],
   "source": [
    "train_data, validation_data, test_data = np.split(data.sample(frac=1, random_state=1729), [int(0.7 * len(data)), int(0.9*len(data))])  \n",
    "\n",
    "pd.concat([train_data['target'], train_data.drop(['target'], axis=1)], axis=1).to_csv('train.csv', index=False, header=False)\n",
    "pd.concat([validation_data['target'], validation_data.drop(['target'], axis=1)], axis=1).to_csv('validation.csv', index=False, header=False)\n",
    "pd.concat([test_data['target'], test_data.drop(['target'], axis=1)], axis=1).to_csv('test.csv', index=False, header=False)"
   ]
  },
  {
   "cell_type": "markdown",
   "metadata": {},
   "source": [
    "Replace **`<LabBucketName>`** with the resource name that was provided with your lab account."
   ]
  },
  {
   "cell_type": "code",
   "execution_count": null,
   "metadata": {},
   "outputs": [],
   "source": [
    "# Enter your code here to define bucket and prefix\n",
    "bucket = <LabBucketName> # Enter your code here\n",
    "prefix = 'sagemaker/xgboost'"
   ]
  },
  {
   "cell_type": "code",
   "execution_count": null,
   "metadata": {},
   "outputs": [],
   "source": [
    "### Upload data to S3\n",
    "boto3.Session().resource('s3').Bucket(bucket).Object(os.path.join(prefix, 'train/train.csv')).upload_file('train.csv')\n",
    "boto3.Session().resource('s3').Bucket(bucket).Object(os.path.join(prefix, 'validation/validation.csv')).upload_file('validation.csv')"
   ]
  },
  {
   "cell_type": "code",
   "execution_count": null,
   "metadata": {},
   "outputs": [],
   "source": [
    "from sagemaker.amazon.amazon_estimator import image_uris\n",
    "container = image_uris.retrieve('xgboost',boto3.Session().region_name, '0.90-1')"
   ]
  },
  {
   "cell_type": "markdown",
   "metadata": {},
   "source": [
    "Use the `sagemaker.s3_input` function to create a record_set for the training and validation datasets."
   ]
  },
  {
   "cell_type": "code",
   "execution_count": null,
   "metadata": {},
   "outputs": [],
   "source": [
    "s3_input_train = sagemaker.inputs.TrainingInput(s3_data='s3://{}/{}/train'.format(bucket, prefix), content_type='csv')\n",
    "s3_input_validation = sagemaker.inputs.TrainingInput(s3_data='s3://{}/{}/validation/'.format(bucket, prefix), content_type='csv')"
   ]
  },
  {
   "cell_type": "code",
   "execution_count": null,
   "metadata": {
    "scrolled": true
   },
   "outputs": [],
   "source": [
    "sess = sagemaker.Session()\n",
    "\n",
    "xgb = sagemaker.estimator.Estimator(container,\n",
    "                                    role = sagemaker.get_execution_role(), \n",
    "                                    instance_count=1, \n",
    "                                    instance_type='ml.m4.xlarge',\n",
    "                                    output_path='s3://{}/{}/output'.format(bucket, prefix),\n",
    "                                    sagemaker_session=sess)\n",
    "xgb.set_hyperparameters(max_depth=5,\n",
    "                        eta=0.2,\n",
    "                        gamma=4,\n",
    "                        min_child_weight=6,\n",
    "                        subsample=0.8,\n",
    "                        silent=0,\n",
    "                        objective='binary:logistic',\n",
    "                        eval_metric = \"auc\", \n",
    "                        num_round=100)\n",
    "\n",
    "xgb.fit({'train': s3_input_train, 'validation': s3_input_validation})"
   ]
  },
  {
   "cell_type": "markdown",
   "metadata": {},
   "source": [
    "Deploy the predictor for your new model and evaluate the model on the test dataset."
   ]
  },
  {
   "cell_type": "code",
   "execution_count": null,
   "metadata": {},
   "outputs": [],
   "source": [
    "from sagemaker.serializers import CSVSerializer\n",
    "\n",
    "xgb_predictor = xgb.deploy(initial_instance_count = <CODE>, \n",
    "                           instance_type = <CODE>,\n",
    "                          serializer=CSVSerializer())# Enter your code here"
   ]
  },
  {
   "cell_type": "code",
   "execution_count": null,
   "metadata": {},
   "outputs": [],
   "source": [
    "test_data = pd.concat([test_data['target'], test_data.drop(['target'], axis=1)], axis=1)"
   ]
  },
  {
   "cell_type": "code",
   "execution_count": null,
   "metadata": {},
   "outputs": [],
   "source": [
    "def predict(predictor , features, labels , prob_threshold = 0.5, rows=500):\n",
    "    \"\"\"\n",
    "    Return evaluation results\n",
    "    predictor : Predictor object of model\n",
    "    features: Input features to model\n",
    "    label: Ground truth target values\n",
    "    prob_threshold : Probability cut off to separate positive and negative class\n",
    "    \"\"\"\n",
    "    split_array = np.array_split(features, int(features.shape[0] / float(rows) + 1))\n",
    "    predictions = ''\n",
    "    for array in split_array:\n",
    "        predictions = ','.join([predictions, predictor.predict(array).decode('utf-8')])\n",
    "\n",
    "    preds = np.fromstring(predictions[1:], sep=',')\n",
    "    preds = preds.reshape((-1,))\n",
    "    predictions = np.where(preds > prob_threshold , 1, 0)\n",
    "    labels = labels.reshape((-1,))\n",
    "    \n",
    "    \n",
    "    # Calculate accuracy\n",
    "    accuracy = (predictions == labels).sum() / labels.shape[0]\n",
    "    print(f'Accuracy: {accuracy}')\n",
    "    \n",
    "    auc = roc_auc_score(labels, preds)\n",
    "    print(f'AUC     : {auc}')\n",
    "    \n",
    "    precision, recall, f1_score, _ = precision_recall_fscore_support(labels, predictions, average = 'binary')\n",
    "    print(f'Precision: {precision}')\n",
    "    print(f'Recall: {recall}')\n",
    "    print(f'F1_score: {f1_score}')\n",
    "    \n",
    "    \n",
    "    confusion_matrix = pd.crosstab(index=labels, columns=np.round(preds), rownames=['True'], colnames=['predictions']).astype(int)\n",
    "    plt.figure(figsize = (5,5))\n",
    "    sns.heatmap(confusion_matrix, annot=True, fmt='.2f', cmap=\"YlGnBu\").set_title('Confusion Matrix') \n",
    "    return list(preds)"
   ]
  },
  {
   "cell_type": "code",
   "execution_count": null,
   "metadata": {},
   "outputs": [],
   "source": [
    "predictions = predict(xgb_predictor, test_data.values[:, 1:] ,  test_data.iloc[:, 0:1].values, prob_threshold = 0.5)"
   ]
  },
  {
   "cell_type": "markdown",
   "metadata": {},
   "source": [
    "### Try different thresholds"
   ]
  },
  {
   "cell_type": "code",
   "execution_count": null,
   "metadata": {},
   "outputs": [],
   "source": [
    "predictions = predict(xgb_predictor, test_data.values[:, 1:] ,  test_data.iloc[:, 0:1].values, prob_threshold = 0.8)"
   ]
  },
  {
   "cell_type": "markdown",
   "metadata": {},
   "source": [
    "**Question**: What can you conclude from how the model did on the test set?"
   ]
  },
  {
   "cell_type": "code",
   "execution_count": null,
   "metadata": {},
   "outputs": [],
   "source": [
    "#Enter your answer here"
   ]
  },
  {
   "cell_type": "markdown",
   "metadata": {},
   "source": [
    "### Hyperparameter optimization (HPO)"
   ]
  },
  {
   "cell_type": "code",
   "execution_count": null,
   "metadata": {},
   "outputs": [],
   "source": [
    "from sagemaker.tuner import IntegerParameter, CategoricalParameter, ContinuousParameter, HyperparameterTuner\n",
    "\n",
    "### You can spin up multiple instances to do hyperparameter optimization in parallel\n",
    "\n",
    "xgb = sagemaker.estimator.Estimator(container,\n",
    "                                    role=sagemaker.get_execution_role(), \n",
    "                                    instance_count= 2, # make sure you have limit set for these instances\n",
    "                                    instance_type='ml.m4.xlarge', \n",
    "                                    output_path='s3://{}/{}/output'.format(bucket, prefix),\n",
    "                                    sagemaker_session=sess)\n",
    "\n",
    "xgb.set_hyperparameters(eval_metric='auc',\n",
    "                        objective='binary:logistic',\n",
    "                        num_round=100,\n",
    "                        early_stopping_rounds=50,\n",
    "                        rate_drop=0.3,\n",
    "                        tweedie_variance_power=1.4)"
   ]
  },
  {
   "cell_type": "code",
   "execution_count": null,
   "metadata": {},
   "outputs": [],
   "source": [
    "hyperparameter_ranges = {'eta': ContinuousParameter(0, 0.5),\n",
    "                        'min_child_weight': ContinuousParameter(3, 10),\n",
    "                        'alpha': ContinuousParameter(0, 2)}\n",
    "\n",
    "objective_metric_name = 'validation:auc'\n",
    "\n",
    "tuner = HyperparameterTuner(xgb,\n",
    "                            objective_metric_name,\n",
    "                            hyperparameter_ranges,\n",
    "                            max_jobs=9,\n",
    "                            max_parallel_jobs=3)"
   ]
  },
  {
   "cell_type": "code",
   "execution_count": null,
   "metadata": {},
   "outputs": [],
   "source": [
    "tuner.fit({'train': s3_input_train, 'validation': s3_input_validation})"
   ]
  },
  {
   "cell_type": "code",
   "execution_count": null,
   "metadata": {},
   "outputs": [],
   "source": [
    "boto3.client('sagemaker').describe_hyper_parameter_tuning_job(\n",
    "    HyperParameterTuningJobName=tuner.latest_tuning_job.job_name)['HyperParameterTuningJobStatus']"
   ]
  },
  {
   "cell_type": "markdown",
   "metadata": {},
   "source": [
    "<i class=\"fas fa-exclamation-triangle\" style=\"color:red\"></i> Wait until the training job is finished. It may take 25-30 minutes.\n",
    "\n",
    "**To monitor hyperparameter optimization jobs:**  \n",
    "\n",
    "1. In the AWS Management Console, on the **Services** menu, click **Amazon SageMaker**.  \n",
    "1. Click **Training** > **Hyperparameter tuning jobs**.  \n",
    "1. You can check the status of each hyperparametertuning job, its objective metric value, and its logs.  "
   ]
  },
  {
   "cell_type": "code",
   "execution_count": null,
   "metadata": {
    "scrolled": true
   },
   "outputs": [],
   "source": [
    "sage_client = boto3.Session().client('sagemaker')\n",
    "tuning_job_name = tuner.latest_tuning_job.job_name\n",
    "\n",
    "# Run this cell to check current status of hyperparameter tuning job\n",
    "tuning_job_result = sage_client.describe_hyper_parameter_tuning_job(HyperParameterTuningJobName=tuning_job_name)\n",
    "\n",
    "status = tuning_job_result['HyperParameterTuningJobStatus']\n",
    "if status != 'Completed':\n",
    "    print('Reminder: the tuning job has not been completed.')\n",
    "    \n",
    "job_count = tuning_job_result['TrainingJobStatusCounters']['Completed']\n",
    "print(\"%d training jobs have completed\" % job_count)\n",
    "    \n",
    "is_minimize = (tuning_job_result['HyperParameterTuningJobConfig']['HyperParameterTuningJobObjective']['Type'] != 'Maximize')\n",
    "objective_name = tuning_job_result['HyperParameterTuningJobConfig']['HyperParameterTuningJobObjective']['MetricName']\n",
    "\n",
    "\n",
    "from pprint import pprint\n",
    "if tuning_job_result.get('BestTrainingJob',None):\n",
    "    print(\"Best model found so far:\")\n",
    "    pprint(tuning_job_result['BestTrainingJob'])\n",
    "else:\n",
    "    print(\"No training jobs have reported results yet.\")\n",
    "    \n",
    "### Get the hyperparameter tuning job results in a dataframe\n",
    "tuner_df = sagemaker.HyperparameterTuningJobAnalytics(tuning_job_name).dataframe()\n",
    "\n",
    "if len(tuner_df) > 0:\n",
    "    df = tuner_df[tuner_df['FinalObjectiveValue'] > -float('inf')]\n",
    "    if len(df) > 0:\n",
    "        df = df.sort_values('FinalObjectiveValue', ascending=is_minimize)\n",
    "        print(\"Number of training jobs with valid objective: %d\" % len(df))\n",
    "        print({\"lowest\":min(df['FinalObjectiveValue']),\"highest\": max(df['FinalObjectiveValue'])})\n",
    "        pd.set_option('display.max_colwidth', -1)  # Don't truncate TrainingJobName        \n",
    "    else:\n",
    "        print(\"No training jobs have reported valid results yet.\")\n",
    "        \n",
    "tuner_df"
   ]
  },
  {
   "cell_type": "markdown",
   "metadata": {},
   "source": [
    "Deploy the best model from the hyperparameter optimization training."
   ]
  },
  {
   "cell_type": "code",
   "execution_count": null,
   "metadata": {},
   "outputs": [],
   "source": [
    "xgb_predictor_hpo = # Enter your code here. "
   ]
  },
  {
   "cell_type": "code",
   "execution_count": null,
   "metadata": {},
   "outputs": [],
   "source": [
    "predictions = predict(xgb_predictor_hpo, test_data.values[:, 1:] ,  test_data.iloc[:, 0:1].values, prob_threshold = 0.5)"
   ]
  },
  {
   "cell_type": "markdown",
   "metadata": {},
   "source": [
    "**Question**: Try different hyperparameters and hyperparameter ranges. Does this improve the model?"
   ]
  },
  {
   "cell_type": "markdown",
   "metadata": {},
   "source": [
    "### Feature importance\n",
    "\n",
    "The model files for all hyperparameter tuning jobs are saved by the training job name as in the table above in the folder: \"{bucket}/{prefix}/output/\". You can load the model and use it like a regular sklearn model object for interpretation."
   ]
  },
  {
   "cell_type": "code",
   "execution_count": null,
   "metadata": {},
   "outputs": [],
   "source": [
    "#best_hpo_model_path = \"s3://\" + bucket + \"/sagemaker/xgboost/output/<Best model TrainingJobName>/output/model.tar.gz\"\n",
    "best_hpo_model_path = <path-to-your-model>\n",
    "### Download best_hpo_model_path to local\n",
    "!aws s3 cp {best_hpo_model_path} ."
   ]
  },
  {
   "cell_type": "code",
   "execution_count": null,
   "metadata": {},
   "outputs": [],
   "source": [
    "# Install xgboost\n",
    "!pip install xgboost=='0.90'"
   ]
  },
  {
   "cell_type": "markdown",
   "metadata": {},
   "source": [
    "#### Load picked model file"
   ]
  },
  {
   "cell_type": "code",
   "execution_count": null,
   "metadata": {},
   "outputs": [],
   "source": [
    "import pickle\n",
    "import tarfile\n",
    "import xgboost\n",
    "\n",
    "with open('model.tar.gz', 'rb') as f:\n",
    "    with tarfile.open(fileobj=f, mode='r') as tar_f:\n",
    "        with tar_f.extractfile('xgboost-model') as extracted_f:\n",
    "            xgbooster = pickle.load(extracted_f)"
   ]
  },
  {
   "cell_type": "markdown",
   "metadata": {},
   "source": [
    "#### Map column names to XGBoost model"
   ]
  },
  {
   "cell_type": "code",
   "execution_count": null,
   "metadata": {},
   "outputs": [],
   "source": [
    "columns = list(data.columns)\n",
    "columns.remove('target')"
   ]
  },
  {
   "cell_type": "code",
   "execution_count": null,
   "metadata": {},
   "outputs": [],
   "source": [
    "feature_importance = xgbooster.get_fscore()\n",
    "feature_importance_col = {}\n",
    "\n",
    "for column, fname in zip(columns, xgbooster.feature_names):\n",
    "    try:\n",
    "         feature_importance_col[column] = feature_importance[fname]\n",
    "    except Exception:\n",
    "        pass"
   ]
  },
  {
   "cell_type": "markdown",
   "metadata": {},
   "source": [
    "#### Sort by feature importance value"
   ]
  },
  {
   "cell_type": "code",
   "execution_count": null,
   "metadata": {},
   "outputs": [],
   "source": [
    "sorted(feature_importance_col.items(), key=lambda kv: kv[1], reverse=True)"
   ]
  },
  {
   "cell_type": "markdown",
   "metadata": {},
   "source": [
    "### Sample output\n",
    "\n",
    "```\n",
    "[('AWND_O', 13851),\n",
    " ('AWND_D', 13452),\n",
    " ('DepHourofDay', 13344),\n",
    " ('TAVG_O', 13106),\n",
    " ('TAVG_D', 12800),\n",
    " ('Distance', 8478),\n",
    " ('PRCP_O', 4210),\n",
    " ('PRCP_D', 3916),\n",
    " ('Reporting_Airline_UA', 1791),\n",
    " ('Year_2016', 1290),\n",
    " ('Year_2015', 1285),\n",
    " ('Year_2018', 1157),\n",
    " ('Quarter_4', 1092),\n",
    " ('Year_2017', 1009),\n",
    " ('DayOfWeek_5', 838),\n",
    " ('DayOfWeek_4', 833),\n",
    " ('Quarter_2', 799),\n",
    " ('DayOfWeek_7', 783),\n",
    " ('Reporting_Airline_WN', 736),\n",
    " ('DayOfWeek_3', 718),\n",
    " ('Origin_ORD', 706),\n",
    " ('DayOfWeek_2', 685),\n",
    " ('Reporting_Airline_DL', 663),\n",
    " ('Dest_LAX', 627),\n",
    " ('DayOfWeek_6', 614),\n",
    " ('Reporting_Airline_OO', 596),\n",
    " ('Origin_LAX', 590),\n",
    " ('Month_11', 565),\n",
    " ('Month_5', 543),\n",
    " ('Dest_ORD', 539),\n",
    " ('SNOW_O', 506),\n",
    " ('Month_8', 497),\n",
    " ('Month_12', 495),\n",
    " ('Month_7', 484),\n",
    " ('Origin_DFW', 480),\n",
    " ('Quarter_3', 477),\n",
    " ('Dest_DFW', 462),\n",
    " ('Origin_DEN', 456),\n",
    " ('Origin_SFO', 438),\n",
    " ('Month_6', 437),\n",
    " ('Dest_SFO', 437),\n",
    " ('Month_10', 422),\n",
    " ('Month_9', 407),\n",
    " ('Month_4', 394),\n",
    " ('Dest_DEN', 379),\n",
    " ('SNOW_D', 375),\n",
    " ('Month_3', 369),\n",
    " ('Dest_IAH', 369),\n",
    " ('Origin_PHX', 347),\n",
    " ('Dest_PHX', 346),\n",
    " ('Origin_IAH', 342),\n",
    " ('DayofMonth_15', 324),\n",
    " ('DayofMonth_17', 322),\n",
    " ('DayofMonth_21', 322),\n",
    " ('Origin_CLT', 322),\n",
    " ('DayofMonth_20', 316),\n",
    " ('DayofMonth_9', 313),\n",
    " ('DayofMonth_19', 307),\n",
    " ('DayofMonth_26', 303),\n",
    " ('DayofMonth_7', 301),\n",
    " ('DayofMonth_4', 300),\n",
    " ('DayofMonth_2', 299),\n",
    " ('DayofMonth_27', 298),\n",
    " ('DayofMonth_3', 294),\n",
    " ('DayofMonth_28', 287),\n",
    " ('Month_2', 284),\n",
    " ('DayofMonth_5', 284),\n",
    " ('DayofMonth_12', 282),\n",
    " ('DayofMonth_11', 276),\n",
    " ('Dest_CLT', 276),\n",
    " ('DayofMonth_6', 275),\n",
    " ('DayofMonth_22', 274),\n",
    " ('DayofMonth_8', 273),\n",
    " ('DayofMonth_18', 273),\n",
    " ('DayofMonth_29', 267),\n",
    " ('DayofMonth_23', 266),\n",
    " ('DayofMonth_14', 263),\n",
    " ('DayofMonth_30', 260),\n",
    " ('DayofMonth_10', 259),\n",
    " ('DayofMonth_16', 257),\n",
    " ('DayofMonth_24', 255),\n",
    " ('DayofMonth_13', 245),\n",
    " ('DayofMonth_25', 237),\n",
    " ('is_holiday_1', 231),\n",
    " ('DayofMonth_31', 164)]\n",
    "```"
   ]
  },
  {
   "cell_type": "markdown",
   "metadata": {},
   "source": [
    "Based on the feature importance above, you can see that DepHourofDay, Airwind, and Temperature at both source and destination are the major influencers in deciding the flight delay.\n",
    "\n",
    "This is one way to validate what is intuitive in terms of features and what the model actually learns."
   ]
  },
  {
   "cell_type": "markdown",
   "metadata": {},
   "source": [
    "## Conclusion\n",
    "\n",
    "You've now gone through at least a couple iterations of training and evaluating your model. It's time to wrap up this project and reflect on what you've learned and what types of steps you might take moving forward (assuming you had more time). Use the cell below to answer some of these and other relevant questions:\n",
    "\n",
    "1. Does your model performance meet your business goal? If not, what are some things you'd like to do differently if you had more time for tuning?\n",
    "2. To what extent did your model improve as you made changes to your dataset, features, and hyperparameters? What types of techniques did you employ throughout this project that you felt yielded the greatest improvements in your model?\n",
    "3. What were some of the biggest challenges you encountered throughout this project?\n",
    "4. Are there outstanding questions you have about aspects of the pipeline that just didn't make sense to you?\n",
    "5. What were the three most important things you learned about machine learning while completing this project?\n",
    "\n",
    "#### <span style=\"color: blue;\">Project presentation: Summarize your answers to these questions in your project presentation as well. Pull together all of your notes for your project presentation at this point and prepare to present your findings to the class.</span>"
   ]
  },
  {
   "cell_type": "code",
   "execution_count": null,
   "metadata": {},
   "outputs": [],
   "source": []
  }
 ],
 "metadata": {
  "kernelspec": {
   "display_name": "conda_mxnet_p36",
   "language": "python",
   "name": "conda_mxnet_p36"
  },
  "language_info": {
   "codemirror_mode": {
    "name": "ipython",
    "version": 3
   },
   "file_extension": ".py",
   "mimetype": "text/x-python",
   "name": "python",
   "nbconvert_exporter": "python",
   "pygments_lexer": "ipython3",
   "version": "3.6.13"
  }
 },
 "nbformat": 4,
 "nbformat_minor": 2
}
